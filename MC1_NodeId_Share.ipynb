{
  "nbformat": 4,
  "nbformat_minor": 0,
  "metadata": {
    "colab": {
      "name": "MC1_NodeId_Share.ipynb",
      "provenance": [],
      "collapsed_sections": [],
      "authorship_tag": "ABX9TyMtYLhLDvZOodJNQhzYHp+r"
    },
    "kernelspec": {
      "name": "python3",
      "display_name": "Python 3"
    }
  },
  "cells": [
    {
      "cell_type": "markdown",
      "metadata": {
        "id": "__Kcpx22vo3F",
        "colab_type": "text"
      },
      "source": [
        "## Travel nodes to check"
      ]
    },
    {
      "cell_type": "markdown",
      "metadata": {
        "id": "ikxAU2eGu3WV",
        "colab_type": "text"
      },
      "source": [
        "1. Nodes that I found that Travelled with one of our Source Nodes from the first pair of Procurement retrieved nodes:\n"
      ]
    },
    {
      "cell_type": "markdown",
      "metadata": {
        "id": "QvYF6SUUvTu_",
        "colab_type": "text"
      },
      "source": [
        "Item: 487668\n",
        "    Sources:644830,585212 "
      ]
    },
    {
      "cell_type": "markdown",
      "metadata": {
        "id": "9pOPEodjvFoC",
        "colab_type": "text"
      },
      "source": [
        "[475195, 574889, 518314, 550474, 569775, 498027, 501111, 583598, 505404, 643353, 512759, 491352, 613772, 477102, 569998, 461129, 579110, 492212, 469138, 572724, 514271, 638684, 482646, 611846, 535029, 463277, 561612, 604870, 595190, 496486, 645755, 496041, 592770, 585212, 522187, 544085, 565019, 644179, 586365, 601268, 529049, 535347, 574525, 464175, 477422, 491923, 579271, 570859, 522181, 595111, 615069, 646548, 492936, 538340, 513299, 465345, 570939, 532750, 468754, 550645, 618814, 573603, 535478, 507656, 538540, 465111, 607160, 507330, 560899, 618893, 457634, 582592, 502823, 624755, 518223, 633472, 607147, 597418, 531158, 606484, 477306, 480366, 635458, 465373, 561603, 567214, 528352, 612840, 558922, 578601, 535275, 636142, 480557, 513918, 560455, 603824, 606698, 523968, 509364, 626959, 599441, 534034]"
      ]
    }
  ]
}