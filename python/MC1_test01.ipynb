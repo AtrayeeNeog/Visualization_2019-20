{
  "nbformat": 4,
  "nbformat_minor": 0,
  "metadata": {
    "colab": {
      "name": "MC1_test01.ipynb",
      "provenance": [],
      "machine_shape": "hm",
      "mount_file_id": "1mtMYpMxqlJgHsWyqS69LdlDhN5vWjmM4",
      "authorship_tag": "ABX9TyOYzOJeU2+6W2ixvaZcA44b"
    },
    "kernelspec": {
      "name": "python3",
      "display_name": "Python 3"
    }
  },
  "cells": [
    {
      "cell_type": "code",
      "metadata": {
        "id": "pDxF88S_1p8D",
        "colab_type": "code",
        "outputId": "5c8dc81f-70f1-452c-b16c-cb6a0555fabc",
        "colab": {
          "base_uri": "https://localhost:8080/",
          "height": 34
        }
      },
      "source": [
        "from tensorflow.python.client import device_lib\n",
        "\n",
        "def get_available_devices():\n",
        "    local_device_protos = device_lib.list_local_devices()\n",
        "    return [x.name for x in local_device_protos]\n",
        "\n",
        "print(get_available_devices())"
      ],
      "execution_count": 0,
      "outputs": [
        {
          "output_type": "stream",
          "text": [
            "['/device:CPU:0', '/device:XLA_CPU:0']\n"
          ],
          "name": "stdout"
        }
      ]
    },
    {
      "cell_type": "code",
      "metadata": {
        "id": "5qkmNa5u22_H",
        "colab_type": "code",
        "colab": {}
      },
      "source": [
        "file1 = open('drive\\My Drive\\data\\Q1-Graph1.csv', 'r')\n"
      ],
      "execution_count": 0,
      "outputs": []
    },
    {
      "cell_type": "code",
      "metadata": {
        "id": "pA4bCmCWGCk3",
        "colab_type": "code",
        "colab": {}
      },
      "source": [
        "import pandas as pd\n",
        "import numpy as np"
      ],
      "execution_count": 0,
      "outputs": []
    },
    {
      "cell_type": "code",
      "metadata": {
        "id": "6zZ9Yo_EIwH1",
        "colab_type": "code",
        "outputId": "b2787ad5-e33f-4011-fa9d-3abb98807689",
        "colab": {
          "base_uri": "https://localhost:8080/",
          "height": 284
        }
      },
      "source": [
        "dfTemplate = pd.read_csv('drive/My Drive/data/CGCS-Template.csv')\n",
        "dfTemplate.describe()"
      ],
      "execution_count": 3,
      "outputs": [
        {
          "output_type": "execute_result",
          "data": {
            "text/html": [
              "<div>\n",
              "<style scoped>\n",
              "    .dataframe tbody tr th:only-of-type {\n",
              "        vertical-align: middle;\n",
              "    }\n",
              "\n",
              "    .dataframe tbody tr th {\n",
              "        vertical-align: top;\n",
              "    }\n",
              "\n",
              "    .dataframe thead th {\n",
              "        text-align: right;\n",
              "    }\n",
              "</style>\n",
              "<table border=\"1\" class=\"dataframe\">\n",
              "  <thead>\n",
              "    <tr style=\"text-align: right;\">\n",
              "      <th></th>\n",
              "      <th>Source</th>\n",
              "      <th>eType</th>\n",
              "      <th>Target</th>\n",
              "      <th>Time</th>\n",
              "      <th>Weight</th>\n",
              "      <th>SourceLocation</th>\n",
              "      <th>TargetLocation</th>\n",
              "      <th>SourceLatitude</th>\n",
              "      <th>SourceLongitude</th>\n",
              "      <th>TargetLatitude</th>\n",
              "      <th>TargetLongitude</th>\n",
              "    </tr>\n",
              "  </thead>\n",
              "  <tbody>\n",
              "    <tr>\n",
              "      <th>count</th>\n",
              "      <td>1325.000000</td>\n",
              "      <td>1325.000000</td>\n",
              "      <td>1325.000000</td>\n",
              "      <td>1.325000e+03</td>\n",
              "      <td>1325.000000</td>\n",
              "      <td>301.000000</td>\n",
              "      <td>301.000000</td>\n",
              "      <td>0.0</td>\n",
              "      <td>0.0</td>\n",
              "      <td>0.0</td>\n",
              "      <td>0.0</td>\n",
              "    </tr>\n",
              "    <tr>\n",
              "      <th>mean</th>\n",
              "      <td>26209.531321</td>\n",
              "      <td>3.067925</td>\n",
              "      <td>274951.301132</td>\n",
              "      <td>2.366765e+07</td>\n",
              "      <td>1940.946415</td>\n",
              "      <td>3.860465</td>\n",
              "      <td>3.584718</td>\n",
              "      <td>NaN</td>\n",
              "      <td>NaN</td>\n",
              "      <td>NaN</td>\n",
              "      <td>NaN</td>\n",
              "    </tr>\n",
              "    <tr>\n",
              "      <th>std</th>\n",
              "      <td>117378.730973</td>\n",
              "      <td>2.308837</td>\n",
              "      <td>284918.246910</td>\n",
              "      <td>1.022014e+07</td>\n",
              "      <td>9884.818945</td>\n",
              "      <td>1.622898</td>\n",
              "      <td>1.692227</td>\n",
              "      <td>NaN</td>\n",
              "      <td>NaN</td>\n",
              "      <td>NaN</td>\n",
              "      <td>NaN</td>\n",
              "    </tr>\n",
              "    <tr>\n",
              "      <th>min</th>\n",
              "      <td>0.000000</td>\n",
              "      <td>0.000000</td>\n",
              "      <td>-99.000000</td>\n",
              "      <td>-9.900000e+01</td>\n",
              "      <td>-99.000000</td>\n",
              "      <td>0.000000</td>\n",
              "      <td>0.000000</td>\n",
              "      <td>NaN</td>\n",
              "      <td>NaN</td>\n",
              "      <td>NaN</td>\n",
              "      <td>NaN</td>\n",
              "    </tr>\n",
              "    <tr>\n",
              "      <th>25%</th>\n",
              "      <td>39.000000</td>\n",
              "      <td>1.000000</td>\n",
              "      <td>44.000000</td>\n",
              "      <td>1.400550e+07</td>\n",
              "      <td>1.000000</td>\n",
              "      <td>3.000000</td>\n",
              "      <td>3.000000</td>\n",
              "      <td>NaN</td>\n",
              "      <td>NaN</td>\n",
              "      <td>NaN</td>\n",
              "      <td>NaN</td>\n",
              "    </tr>\n",
              "    <tr>\n",
              "      <th>50%</th>\n",
              "      <td>45.000000</td>\n",
              "      <td>5.000000</td>\n",
              "      <td>72.000000</td>\n",
              "      <td>3.153600e+07</td>\n",
              "      <td>70.000000</td>\n",
              "      <td>5.000000</td>\n",
              "      <td>4.000000</td>\n",
              "      <td>NaN</td>\n",
              "      <td>NaN</td>\n",
              "      <td>NaN</td>\n",
              "      <td>NaN</td>\n",
              "    </tr>\n",
              "    <tr>\n",
              "      <th>75%</th>\n",
              "      <td>59.000000</td>\n",
              "      <td>5.000000</td>\n",
              "      <td>575030.000000</td>\n",
              "      <td>3.153600e+07</td>\n",
              "      <td>1000.000000</td>\n",
              "      <td>5.000000</td>\n",
              "      <td>5.000000</td>\n",
              "      <td>NaN</td>\n",
              "      <td>NaN</td>\n",
              "      <td>NaN</td>\n",
              "      <td>NaN</td>\n",
              "    </tr>\n",
              "    <tr>\n",
              "      <th>max</th>\n",
              "      <td>620120.000000</td>\n",
              "      <td>6.000000</td>\n",
              "      <td>657187.000000</td>\n",
              "      <td>3.153600e+07</td>\n",
              "      <td>200000.000000</td>\n",
              "      <td>5.000000</td>\n",
              "      <td>5.000000</td>\n",
              "      <td>NaN</td>\n",
              "      <td>NaN</td>\n",
              "      <td>NaN</td>\n",
              "      <td>NaN</td>\n",
              "    </tr>\n",
              "  </tbody>\n",
              "</table>\n",
              "</div>"
            ],
            "text/plain": [
              "              Source        eType  ...  TargetLatitude  TargetLongitude\n",
              "count    1325.000000  1325.000000  ...             0.0              0.0\n",
              "mean    26209.531321     3.067925  ...             NaN              NaN\n",
              "std    117378.730973     2.308837  ...             NaN              NaN\n",
              "min         0.000000     0.000000  ...             NaN              NaN\n",
              "25%        39.000000     1.000000  ...             NaN              NaN\n",
              "50%        45.000000     5.000000  ...             NaN              NaN\n",
              "75%        59.000000     5.000000  ...             NaN              NaN\n",
              "max    620120.000000     6.000000  ...             NaN              NaN\n",
              "\n",
              "[8 rows x 11 columns]"
            ]
          },
          "metadata": {
            "tags": []
          },
          "execution_count": 3
        }
      ]
    },
    {
      "cell_type": "code",
      "metadata": {
        "id": "_NQH5L7shVKp",
        "colab_type": "code",
        "outputId": "6668f68e-cf73-49c4-dc6c-5b238d8f0c3e",
        "colab": {
          "base_uri": "https://localhost:8080/",
          "height": 34
        }
      },
      "source": [
        "dfTemplate.index"
      ],
      "execution_count": 5,
      "outputs": [
        {
          "output_type": "execute_result",
          "data": {
            "text/plain": [
              "RangeIndex(start=0, stop=1325, step=1)"
            ]
          },
          "metadata": {
            "tags": []
          },
          "execution_count": 5
        }
      ]
    },
    {
      "cell_type": "code",
      "metadata": {
        "id": "pG4lWbDphVWb",
        "colab_type": "code",
        "outputId": "75e4758e-317e-42ea-f7bb-e91bcf1b81e0",
        "colab": {
          "base_uri": "https://localhost:8080/",
          "height": 228
        }
      },
      "source": [
        "dfTemplate.dtypes"
      ],
      "execution_count": 6,
      "outputs": [
        {
          "output_type": "execute_result",
          "data": {
            "text/plain": [
              "Source               int64\n",
              "eType                int64\n",
              "Target               int64\n",
              "Time                 int64\n",
              "Weight               int64\n",
              "SourceLocation     float64\n",
              "TargetLocation     float64\n",
              "SourceLatitude     float64\n",
              "SourceLongitude    float64\n",
              "TargetLatitude     float64\n",
              "TargetLongitude    float64\n",
              "dtype: object"
            ]
          },
          "metadata": {
            "tags": []
          },
          "execution_count": 6
        }
      ]
    },
    {
      "cell_type": "code",
      "metadata": {
        "id": "xwK0IWO8hVgI",
        "colab_type": "code",
        "outputId": "1d4610ee-4c76-45ce-f665-5ed43e7533c1",
        "colab": {
          "base_uri": "https://localhost:8080/",
          "height": 122
        }
      },
      "source": [
        "print(\"number of not na values in SourceLocation:   \", len(dfTemplate[dfTemplate[\"SourceLocation\"].notna()]))\n",
        "print(\"number of not na values in TargetLocation:   \", len(dfTemplate[dfTemplate[\"TargetLocation\"].notna()]))\n",
        "print(\"number of not na values in SourceLatitude:   \", len(dfTemplate[dfTemplate[\"SourceLatitude\"].notna()]))\n",
        "print(\"number of not na values in SourceLongitude:   \", len(dfTemplate[dfTemplate[\"SourceLongitude\"].notna()]))\n",
        "print(\"number of not na values in TargetLatitude:   \", len(dfTemplate[dfTemplate[\"TargetLatitude\"].notna()]))\n",
        "print(\"number of not na values in TargetLongitude:   \", len(dfTemplate[dfTemplate[\"TargetLongitude\"].notna()]))"
      ],
      "execution_count": 7,
      "outputs": [
        {
          "output_type": "stream",
          "text": [
            "number of not na values in SourceLocation:    301\n",
            "number of not na values in TargetLocation:    301\n",
            "number of not na values in SourceLatitude:    0\n",
            "number of not na values in SourceLongitude:    0\n",
            "number of not na values in TargetLatitude:    0\n",
            "number of not na values in TargetLongitude:    0\n"
          ],
          "name": "stdout"
        }
      ]
    },
    {
      "cell_type": "code",
      "metadata": {
        "id": "JgE8dZF9n6oN",
        "colab_type": "code",
        "colab": {
          "base_uri": "https://localhost:8080/",
          "height": 34
        },
        "outputId": "69ec3d28-2cd1-43ec-826e-ad9ae12f425d"
      },
      "source": [
        "len(dfTemplate[dfTemplate[\"eType\"] == 6])"
      ],
      "execution_count": 5,
      "outputs": [
        {
          "output_type": "execute_result",
          "data": {
            "text/plain": [
              "52"
            ]
          },
          "metadata": {
            "tags": []
          },
          "execution_count": 5
        }
      ]
    },
    {
      "cell_type": "code",
      "metadata": {
        "id": "n01W9Y86n6mi",
        "colab_type": "code",
        "colab": {
          "base_uri": "https://localhost:8080/",
          "height": 54
        },
        "outputId": "026717be-d3c5-4382-81a1-734829867ceb"
      },
      "source": [
        "for val in dfTemplate[(dfTemplate[\"eType\"] == 1)][\"Source\"]:\n",
        "  if val in list(dfTemplate[(dfTemplate[\"eType\"] == 1)][\"Target\"]):\n",
        "    print(\"A match is found\", end =\", \")"
      ],
      "execution_count": 19,
      "outputs": [
        {
          "output_type": "stream",
          "text": [
            "A match is found, A match is found, A match is found, A match is found, A match is found, A match is found, A match is found, A match is found, A match is found, A match is found, A match is found, A match is found, A match is found, A match is found, A match is found, A match is found, A match is found, A match is found, A match is found, A match is found, A match is found, A match is found, A match is found, A match is found, A match is found, A match is found, A match is found, A match is found, A match is found, A match is found, A match is found, A match is found, A match is found, A match is found, A match is found, A match is found, A match is found, A match is found, A match is found, A match is found, A match is found, A match is found, A match is found, A match is found, A match is found, A match is found, A match is found, A match is found, A match is found, A match is found, A match is found, A match is found, A match is found, A match is found, A match is found, A match is found, A match is found, A match is found, A match is found, A match is found, A match is found, A match is found, A match is found, A match is found, A match is found, A match is found, A match is found, A match is found, A match is found, A match is found, A match is found, A match is found, A match is found, A match is found, A match is found, A match is found, A match is found, A match is found, A match is found, A match is found, A match is found, A match is found, A match is found, A match is found, A match is found, A match is found, A match is found, A match is found, A match is found, A match is found, A match is found, A match is found, A match is found, A match is found, A match is found, A match is found, A match is found, A match is found, A match is found, A match is found, A match is found, A match is found, A match is found, A match is found, A match is found, A match is found, A match is found, A match is found, A match is found, A match is found, A match is found, A match is found, A match is found, A match is found, A match is found, A match is found, A match is found, A match is found, A match is found, A match is found, A match is found, A match is found, A match is found, A match is found, A match is found, A match is found, A match is found, A match is found, A match is found, A match is found, A match is found, A match is found, A match is found, A match is found, A match is found, A match is found, A match is found, A match is found, A match is found, A match is found, A match is found, A match is found, A match is found, A match is found, A match is found, A match is found, A match is found, A match is found, A match is found, A match is found, A match is found, A match is found, A match is found, A match is found, A match is found, A match is found, A match is found, A match is found, A match is found, A match is found, A match is found, A match is found, A match is found, A match is found, A match is found, A match is found, A match is found, A match is found, A match is found, A match is found, A match is found, A match is found, A match is found, A match is found, A match is found, A match is found, A match is found, A match is found, A match is found, A match is found, A match is found, A match is found, A match is found, A match is found, A match is found, A match is found, A match is found, A match is found, A match is found, A match is found, A match is found, A match is found, A match is found, A match is found, A match is found, A match is found, A match is found, A match is found, A match is found, A match is found, A match is found, A match is found, A match is found, A match is found, A match is found, A match is found, A match is found, A match is found, A match is found, A match is found, A match is found, A match is found, A match is found, A match is found, A match is found, A match is found, A match is found, A match is found, A match is found, A match is found, A match is found, A match is found, A match is found, A match is found, A match is found, A match is found, A match is found, A match is found, A match is found, A match is found, A match is found, A match is found, A match is found, A match is found, A match is found, A match is found, A match is found, A match is found, A match is found, A match is found, A match is found, A match is found, A match is found, A match is found, A match is found, A match is found, A match is found, A match is found, A match is found, "
          ],
          "name": "stdout"
        }
      ]
    },
    {
      "cell_type": "code",
      "metadata": {
        "id": "g1VZDnKMr6sL",
        "colab_type": "code",
        "colab": {}
      },
      "source": [
        "for valS, valT in zip(dfTemplate[(dfTemplate[\"eType\"] == 1)][\"Source\"], dfTemplate[(dfTemplate[\"eType\"] == 1)][\"Target\"]):\n",
        "  if valS == valT:\n",
        "    print(\"A match is found\", end =\", \")"
      ],
      "execution_count": 0,
      "outputs": []
    },
    {
      "cell_type": "code",
      "metadata": {
        "id": "6MS1XvestMIV",
        "colab_type": "code",
        "colab": {}
      },
      "source": [
        "for valS, valT in zip(dfTemplate[\"Source\"], dfTemplate[\"Target\"]):\n",
        "  if valS == valT:\n",
        "    print(\"A match is found\", end =\", \")"
      ],
      "execution_count": 0,
      "outputs": []
    },
    {
      "cell_type": "code",
      "metadata": {
        "id": "aSvfy3Gphsq7",
        "colab_type": "code",
        "colab": {}
      },
      "source": [
        "dfCategory = pd.read_csv('drive/My Drive/data/DemographicCategories.csv')\n",
        "\n"
      ],
      "execution_count": 0,
      "outputs": []
    },
    {
      "cell_type": "code",
      "metadata": {
        "id": "_iIrwWThhs23",
        "colab_type": "code",
        "outputId": "34ab2f82-973a-4e8d-d840-71773a7e971e",
        "colab": {
          "base_uri": "https://localhost:8080/",
          "height": 34
        }
      },
      "source": [
        "categoriesList = dfCategory.to_numpy()\n",
        "categoriesList.dtype"
      ],
      "execution_count": 0,
      "outputs": [
        {
          "output_type": "execute_result",
          "data": {
            "text/plain": [
              "dtype('O')"
            ]
          },
          "metadata": {
            "tags": []
          },
          "execution_count": 43
        }
      ]
    },
    {
      "cell_type": "code",
      "metadata": {
        "id": "D5LnSnrHjVvT",
        "colab_type": "code",
        "outputId": "a9ba786e-99e5-4fcf-d2d0-f99c88416cbe",
        "colab": {
          "base_uri": "https://localhost:8080/",
          "height": 527
        }
      },
      "source": [
        "categoriesList"
      ],
      "execution_count": 0,
      "outputs": [
        {
          "output_type": "execute_result",
          "data": {
            "text/plain": [
              "array([[459381, 'Water and other public services'],\n",
              "       [466907, 'Electricity'],\n",
              "       [473173, 'Household furnishings'],\n",
              "       [503218, 'Natural gas'],\n",
              "       [503701, 'Miscellaneous'],\n",
              "       [510031, 'Gifts'],\n",
              "       [520660, 'Healthcare'],\n",
              "       [523927, 'Restaurants'],\n",
              "       [527449, 'Alcohol'],\n",
              "       [536346, 'Home maintenance'],\n",
              "       [537281, 'Housekeeping supplies'],\n",
              "       [552988, 'Money income before taxes'],\n",
              "       [567195, 'Personal insurance and pensions'],\n",
              "       [571970, 'Reading'],\n",
              "       [575030, 'Transportation'],\n",
              "       [577992, 'Education'],\n",
              "       [580426, 'Telephone services'],\n",
              "       [589943, 'Lodging away from home'],\n",
              "       [595298, 'Groceries'],\n",
              "       [595581, 'Donations'],\n",
              "       [606730, 'Entertainment'],\n",
              "       [616315, 'Apparel and services'],\n",
              "       [620120, 'Personal taxes'],\n",
              "       [621924, 'Mortgage payments'],\n",
              "       [630626, 'Rented dwellings'],\n",
              "       [632961, 'Personal care products and services'],\n",
              "       [640784, 'Tobacco'],\n",
              "       [642329, 'Household operations'],\n",
              "       [644226, 'Property taxes']], dtype=object)"
            ]
          },
          "metadata": {
            "tags": []
          },
          "execution_count": 58
        }
      ]
    },
    {
      "cell_type": "code",
      "metadata": {
        "id": "lXeCC3qfjV09",
        "colab_type": "code",
        "colab": {}
      },
      "source": [
        "sourceCategories = list()\n",
        "targetCategories = list()\n",
        "for i in range(len(categoriesList)):\n",
        "  if(categoriesList[i][0] in dfBigGraph[\"Source\"]):\n",
        "    sourceCategories.append(categoriesList[i][1])\n",
        "  if(categoriesList[i][0] in dfBigGraph[\"Target\"]):\n",
        "    targetCategories.append(categoriesList[i][1])"
      ],
      "execution_count": 0,
      "outputs": []
    },
    {
      "cell_type": "code",
      "metadata": {
        "id": "nBfnH3xMjV6C",
        "colab_type": "code",
        "outputId": "223572a8-1b8a-4d4d-a8ca-c0dad0fd29d8",
        "colab": {
          "base_uri": "https://localhost:8080/",
          "height": 34
        }
      },
      "source": [
        "len(sourceCategories)"
      ],
      "execution_count": 0,
      "outputs": [
        {
          "output_type": "execute_result",
          "data": {
            "text/plain": [
              "29"
            ]
          },
          "metadata": {
            "tags": []
          },
          "execution_count": 49
        }
      ]
    },
    {
      "cell_type": "code",
      "metadata": {
        "id": "r4qxWSh-jV0I",
        "colab_type": "code",
        "outputId": "9e853915-d5fa-45c3-d2e7-f6d2865cd0a1",
        "colab": {
          "base_uri": "https://localhost:8080/",
          "height": 34
        }
      },
      "source": [
        "len(targetCategories)"
      ],
      "execution_count": 0,
      "outputs": [
        {
          "output_type": "execute_result",
          "data": {
            "text/plain": [
              "29"
            ]
          },
          "metadata": {
            "tags": []
          },
          "execution_count": 52
        }
      ]
    },
    {
      "cell_type": "code",
      "metadata": {
        "id": "nBrBZPSejVuU",
        "colab_type": "code",
        "outputId": "e772d804-99ff-4738-86db-7d937e01b174",
        "colab": {
          "base_uri": "https://localhost:8080/",
          "height": 72
        }
      },
      "source": [
        "sourceTemplate = dfTemplate[\"Source\"].to_numpy()\n",
        "targetTemplate = dfTemplate[\"Target\"].to_numpy()\n",
        "sourceCategoriesT = list()\n",
        "targetCategoriesT = list()\n",
        "for i in range(len(categoriesList)):\n",
        "  if(categoriesList[i][0] in sourceTemplate):\n",
        "    sourceCategoriesT.append(categoriesList[i][1])\n",
        "  if(categoriesList[i][0] in targetTemplate):\n",
        "    targetCategoriesT.append(categoriesList[i][1])\n",
        "print(\"sourceCategoriesT:   \", sourceCategoriesT)\n",
        "print(\"targetCategoriesT:   \", targetCategoriesT)"
      ],
      "execution_count": 0,
      "outputs": [
        {
          "output_type": "stream",
          "text": [
            "sourceCategoriesT:    ['Gifts', 'Money income before taxes', 'Personal taxes']\n",
            "targetCategoriesT:    ['Water and other public services', 'Electricity', 'Household furnishings', 'Natural gas', 'Miscellaneous', 'Healthcare', 'Restaurants', 'Alcohol', 'Home maintenance', 'Housekeeping supplies', 'Personal insurance and pensions', 'Reading', 'Transportation', 'Education', 'Telephone services', 'Lodging away from home', 'Groceries', 'Donations', 'Entertainment', 'Apparel and services', 'Personal taxes', 'Mortgage payments', 'Rented dwellings', 'Personal care products and services', 'Tobacco', 'Household operations', 'Property taxes']\n"
          ],
          "name": "stdout"
        }
      ]
    },
    {
      "cell_type": "code",
      "metadata": {
        "id": "QMI6cCVcl1Og",
        "colab_type": "code",
        "outputId": "3a59dfa1-64b2-46d3-82d4-db193a2fa869",
        "colab": {
          "base_uri": "https://localhost:8080/",
          "height": 34
        }
      },
      "source": [
        "510031 in sourceTemplate"
      ],
      "execution_count": 0,
      "outputs": [
        {
          "output_type": "execute_result",
          "data": {
            "text/plain": [
              "True"
            ]
          },
          "metadata": {
            "tags": []
          },
          "execution_count": 75
        }
      ]
    },
    {
      "cell_type": "code",
      "metadata": {
        "id": "W6dGKdVml1dj",
        "colab_type": "code",
        "outputId": "11793e7b-dd3a-448b-cbdb-f337a0db0fdb",
        "colab": {
          "base_uri": "https://localhost:8080/",
          "height": 34
        }
      },
      "source": [
        "len(targetCategoriesT)"
      ],
      "execution_count": 0,
      "outputs": [
        {
          "output_type": "execute_result",
          "data": {
            "text/plain": [
              "27"
            ]
          },
          "metadata": {
            "tags": []
          },
          "execution_count": 78
        }
      ]
    },
    {
      "cell_type": "code",
      "metadata": {
        "id": "DIwhS3EQo_PP",
        "colab_type": "code",
        "outputId": "c6bb0580-bb10-47b1-849b-5dcdea8d9701",
        "colab": {
          "base_uri": "https://localhost:8080/",
          "height": 34
        }
      },
      "source": [
        "sourceCategoriesT"
      ],
      "execution_count": 0,
      "outputs": [
        {
          "output_type": "execute_result",
          "data": {
            "text/plain": [
              "['Gifts', 'Money income before taxes', 'Personal taxes']"
            ]
          },
          "metadata": {
            "tags": []
          },
          "execution_count": 81
        }
      ]
    },
    {
      "cell_type": "code",
      "metadata": {
        "id": "JAKPEpAXn3Zz",
        "colab_type": "code",
        "outputId": "cb6b6c18-64fd-4631-9a75-26ad024fdc3c",
        "colab": {
          "base_uri": "https://localhost:8080/",
          "height": 34
        }
      },
      "source": [
        "type(dfTemplate[\"Source\"])"
      ],
      "execution_count": 26,
      "outputs": [
        {
          "output_type": "execute_result",
          "data": {
            "text/plain": [
              "pandas.core.series.Series"
            ]
          },
          "metadata": {
            "tags": []
          },
          "execution_count": 26
        }
      ]
    },
    {
      "cell_type": "markdown",
      "metadata": {
        "id": "JKajlBlieGdc",
        "colab_type": "text"
      },
      "source": [
        "## Loading the big graph with the Pandas datafarame"
      ]
    },
    {
      "cell_type": "code",
      "metadata": {
        "id": "I4lnJuVBIwCD",
        "colab_type": "code",
        "outputId": "c86261a4-249d-4b75-b038-607b626d6b87",
        "colab": {
          "base_uri": "https://localhost:8080/",
          "height": 284
        }
      },
      "source": [
        "dfBigGraph = pd.read_csv('drive/My Drive/data/CGCS-GraphData.csv')\n",
        "dfBigGraph.describe()"
      ],
      "execution_count": 2,
      "outputs": [
        {
          "output_type": "execute_result",
          "data": {
            "text/html": [
              "<div>\n",
              "<style scoped>\n",
              "    .dataframe tbody tr th:only-of-type {\n",
              "        vertical-align: middle;\n",
              "    }\n",
              "\n",
              "    .dataframe tbody tr th {\n",
              "        vertical-align: top;\n",
              "    }\n",
              "\n",
              "    .dataframe thead th {\n",
              "        text-align: right;\n",
              "    }\n",
              "</style>\n",
              "<table border=\"1\" class=\"dataframe\">\n",
              "  <thead>\n",
              "    <tr style=\"text-align: right;\">\n",
              "      <th></th>\n",
              "      <th>Source</th>\n",
              "      <th>eType</th>\n",
              "      <th>Target</th>\n",
              "      <th>Time</th>\n",
              "      <th>Weight</th>\n",
              "      <th>SourceLocation</th>\n",
              "      <th>TargetLocation</th>\n",
              "      <th>SourceLatitude</th>\n",
              "      <th>SourceLongitude</th>\n",
              "      <th>TargetLatitude</th>\n",
              "      <th>TargetLongitude</th>\n",
              "    </tr>\n",
              "  </thead>\n",
              "  <tbody>\n",
              "    <tr>\n",
              "      <th>count</th>\n",
              "      <td>1.238953e+08</td>\n",
              "      <td>1.238953e+08</td>\n",
              "      <td>1.238953e+08</td>\n",
              "      <td>1.238953e+08</td>\n",
              "      <td>1.238953e+08</td>\n",
              "      <td>7.215359e+07</td>\n",
              "      <td>7.215359e+07</td>\n",
              "      <td>7.215359e+07</td>\n",
              "      <td>7.215359e+07</td>\n",
              "      <td>7.215359e+07</td>\n",
              "      <td>7.215359e+07</td>\n",
              "    </tr>\n",
              "    <tr>\n",
              "      <th>mean</th>\n",
              "      <td>5.566990e+05</td>\n",
              "      <td>7.490687e-01</td>\n",
              "      <td>5.571470e+05</td>\n",
              "      <td>1.505715e+07</td>\n",
              "      <td>6.460121e+01</td>\n",
              "      <td>2.400772e+00</td>\n",
              "      <td>2.405289e+00</td>\n",
              "      <td>5.936289e-01</td>\n",
              "      <td>-3.621679e+01</td>\n",
              "      <td>6.262336e-01</td>\n",
              "      <td>-3.643658e+01</td>\n",
              "    </tr>\n",
              "    <tr>\n",
              "      <th>std</th>\n",
              "      <td>5.794484e+04</td>\n",
              "      <td>9.638940e-01</td>\n",
              "      <td>5.799030e+04</td>\n",
              "      <td>3.047018e+07</td>\n",
              "      <td>2.870352e+03</td>\n",
              "      <td>1.766937e+00</td>\n",
              "      <td>1.769288e+00</td>\n",
              "      <td>2.391271e+01</td>\n",
              "      <td>1.080029e+02</td>\n",
              "      <td>2.387852e+01</td>\n",
              "      <td>1.081189e+02</td>\n",
              "    </tr>\n",
              "    <tr>\n",
              "      <th>min</th>\n",
              "      <td>4.567590e+05</td>\n",
              "      <td>0.000000e+00</td>\n",
              "      <td>4.567590e+05</td>\n",
              "      <td>-2.702016e+09</td>\n",
              "      <td>-1.000000e+00</td>\n",
              "      <td>0.000000e+00</td>\n",
              "      <td>0.000000e+00</td>\n",
              "      <td>-3.789420e+01</td>\n",
              "      <td>-1.793750e+02</td>\n",
              "      <td>-3.789420e+01</td>\n",
              "      <td>-1.793750e+02</td>\n",
              "    </tr>\n",
              "    <tr>\n",
              "      <th>25%</th>\n",
              "      <td>5.066630e+05</td>\n",
              "      <td>0.000000e+00</td>\n",
              "      <td>5.071510e+05</td>\n",
              "      <td>8.212526e+06</td>\n",
              "      <td>1.000000e+00</td>\n",
              "      <td>1.000000e+00</td>\n",
              "      <td>1.000000e+00</td>\n",
              "      <td>-2.441490e+01</td>\n",
              "      <td>-1.584460e+02</td>\n",
              "      <td>-2.440350e+01</td>\n",
              "      <td>-1.588930e+02</td>\n",
              "    </tr>\n",
              "    <tr>\n",
              "      <th>50%</th>\n",
              "      <td>5.566020e+05</td>\n",
              "      <td>1.000000e+00</td>\n",
              "      <td>5.574750e+05</td>\n",
              "      <td>1.619336e+07</td>\n",
              "      <td>1.000000e+00</td>\n",
              "      <td>2.000000e+00</td>\n",
              "      <td>2.000000e+00</td>\n",
              "      <td>3.914150e-01</td>\n",
              "      <td>-4.081200e+01</td>\n",
              "      <td>4.157700e-01</td>\n",
              "      <td>-4.082980e+01</td>\n",
              "    </tr>\n",
              "    <tr>\n",
              "      <th>75%</th>\n",
              "      <td>6.065080e+05</td>\n",
              "      <td>1.000000e+00</td>\n",
              "      <td>6.073850e+05</td>\n",
              "      <td>2.410743e+07</td>\n",
              "      <td>1.000000e+00</td>\n",
              "      <td>4.000000e+00</td>\n",
              "      <td>4.000000e+00</td>\n",
              "      <td>2.379140e+01</td>\n",
              "      <td>8.754490e+01</td>\n",
              "      <td>2.374010e+01</td>\n",
              "      <td>8.736400e+01</td>\n",
              "    </tr>\n",
              "    <tr>\n",
              "      <th>max</th>\n",
              "      <td>6.576680e+05</td>\n",
              "      <td>6.000000e+00</td>\n",
              "      <td>6.576700e+05</td>\n",
              "      <td>3.153600e+07</td>\n",
              "      <td>8.166740e+06</td>\n",
              "      <td>5.000000e+00</td>\n",
              "      <td>5.000000e+00</td>\n",
              "      <td>4.983240e+01</td>\n",
              "      <td>1.633690e+02</td>\n",
              "      <td>4.983240e+01</td>\n",
              "      <td>1.633690e+02</td>\n",
              "    </tr>\n",
              "  </tbody>\n",
              "</table>\n",
              "</div>"
            ],
            "text/plain": [
              "             Source         eType  ...  TargetLatitude  TargetLongitude\n",
              "count  1.238953e+08  1.238953e+08  ...    7.215359e+07     7.215359e+07\n",
              "mean   5.566990e+05  7.490687e-01  ...    6.262336e-01    -3.643658e+01\n",
              "std    5.794484e+04  9.638940e-01  ...    2.387852e+01     1.081189e+02\n",
              "min    4.567590e+05  0.000000e+00  ...   -3.789420e+01    -1.793750e+02\n",
              "25%    5.066630e+05  0.000000e+00  ...   -2.440350e+01    -1.588930e+02\n",
              "50%    5.566020e+05  1.000000e+00  ...    4.157700e-01    -4.082980e+01\n",
              "75%    6.065080e+05  1.000000e+00  ...    2.374010e+01     8.736400e+01\n",
              "max    6.576680e+05  6.000000e+00  ...    4.983240e+01     1.633690e+02\n",
              "\n",
              "[8 rows x 11 columns]"
            ]
          },
          "metadata": {
            "tags": []
          },
          "execution_count": 2
        }
      ]
    },
    {
      "cell_type": "code",
      "metadata": {
        "id": "vtswhTaRfaUM",
        "colab_type": "code",
        "outputId": "196c7920-50dd-4351-f6ce-37f1c54983bf",
        "colab": {
          "base_uri": "https://localhost:8080/",
          "height": 34
        }
      },
      "source": [
        "type(dfBigGraph)"
      ],
      "execution_count": 0,
      "outputs": [
        {
          "output_type": "execute_result",
          "data": {
            "text/plain": [
              "pandas.core.frame.DataFrame"
            ]
          },
          "metadata": {
            "tags": []
          },
          "execution_count": 22
        }
      ]
    },
    {
      "cell_type": "code",
      "metadata": {
        "id": "Zgw3EU2Nfa_N",
        "colab_type": "code",
        "outputId": "5365a4f1-2b62-47a1-978e-5623491dd68f",
        "colab": {
          "base_uri": "https://localhost:8080/",
          "height": 34
        }
      },
      "source": [
        "dfBigGraph.index"
      ],
      "execution_count": 0,
      "outputs": [
        {
          "output_type": "execute_result",
          "data": {
            "text/plain": [
              "RangeIndex(start=0, stop=123895261, step=1)"
            ]
          },
          "metadata": {
            "tags": []
          },
          "execution_count": 23
        }
      ]
    },
    {
      "cell_type": "code",
      "metadata": {
        "id": "1vb88qWcfbFa",
        "colab_type": "code",
        "outputId": "11c73e51-dc76-4ade-ab26-0bd2c0f5a5f3",
        "colab": {
          "base_uri": "https://localhost:8080/",
          "height": 87
        }
      },
      "source": [
        "dfBigGraph.columns"
      ],
      "execution_count": 0,
      "outputs": [
        {
          "output_type": "execute_result",
          "data": {
            "text/plain": [
              "Index(['Source', 'eType', 'Target', 'Time', 'Weight', 'SourceLocation',\n",
              "       'TargetLocation', 'SourceLatitude', 'SourceLongitude', 'TargetLatitude',\n",
              "       'TargetLongitude'],\n",
              "      dtype='object')"
            ]
          },
          "metadata": {
            "tags": []
          },
          "execution_count": 25
        }
      ]
    },
    {
      "cell_type": "code",
      "metadata": {
        "id": "M5bWwseTfbEp",
        "colab_type": "code",
        "outputId": "f2cfb9f1-fa47-4c01-a9ce-60a720992f90",
        "colab": {
          "base_uri": "https://localhost:8080/",
          "height": 228
        }
      },
      "source": [
        "dfBigGraph.dtypes"
      ],
      "execution_count": 0,
      "outputs": [
        {
          "output_type": "execute_result",
          "data": {
            "text/plain": [
              "Source               int64\n",
              "eType                int64\n",
              "Target               int64\n",
              "Time                 int64\n",
              "Weight             float64\n",
              "SourceLocation     float64\n",
              "TargetLocation     float64\n",
              "SourceLatitude     float64\n",
              "SourceLongitude    float64\n",
              "TargetLatitude     float64\n",
              "TargetLongitude    float64\n",
              "dtype: object"
            ]
          },
          "metadata": {
            "tags": []
          },
          "execution_count": 26
        }
      ]
    },
    {
      "cell_type": "code",
      "metadata": {
        "id": "v6AOmFkRfa-d",
        "colab_type": "code",
        "outputId": "89b6f9d2-33be-477d-b0d8-75716ef6ffe2",
        "colab": {
          "base_uri": "https://localhost:8080/",
          "height": 122
        }
      },
      "source": [
        "print(\"number of not na values in SourceLocation:   \", len(dfBigGraph[dfBigGraph[\"SourceLocation\"].notna()]))\n",
        "print(\"number of not na values in TargetLocation:   \", len(dfBigGraph[dfBigGraph[\"TargetLocation\"].notna()]))\n",
        "print(\"number of not na values in SourceLatitude:   \", len(dfBigGraph[dfBigGraph[\"SourceLatitude\"].notna()]))\n",
        "print(\"number of not na values in SourceLongitude:   \", len(dfBigGraph[dfBigGraph[\"SourceLongitude\"].notna()]))\n",
        "print(\"number of not na values in TargetLatitude:   \", len(dfBigGraph[dfBigGraph[\"TargetLatitude\"].notna()]))\n",
        "print(\"number of not na values in TargetLongitude:   \", len(dfBigGraph[dfBigGraph[\"TargetLongitude\"].notna()]))"
      ],
      "execution_count": 0,
      "outputs": [
        {
          "output_type": "stream",
          "text": [
            "number of not na values in SourceLocation:    72153591\n",
            "number of not na values in TargetLocation:    72153591\n",
            "number of not na values in SourceLatitude:    72153591\n",
            "number of not na values in SourceLongitude:    72153591\n",
            "number of not na values in TargetLatitude:    72153591\n",
            "number of not na values in TargetLongitude:    72153591\n"
          ],
          "name": "stdout"
        }
      ]
    },
    {
      "cell_type": "code",
      "metadata": {
        "id": "gytfI1Lw23au",
        "colab_type": "code",
        "colab": {}
      },
      "source": [
        "dgBigGraph02 = dfBigGraph[dfBigGraph[]]"
      ],
      "execution_count": 0,
      "outputs": []
    },
    {
      "cell_type": "code",
      "metadata": {
        "id": "gVXgqPY8DTvi",
        "colab_type": "code",
        "outputId": "84571520-0687-4a0a-cbd0-b9df211ab982",
        "colab": {
          "base_uri": "https://localhost:8080/",
          "height": 34
        }
      },
      "source": [
        "len(dfBigGraph[dfBigGraph[\"eType\"] == 0])"
      ],
      "execution_count": 0,
      "outputs": [
        {
          "output_type": "execute_result",
          "data": {
            "text/plain": [
              "48662103"
            ]
          },
          "metadata": {
            "tags": []
          },
          "execution_count": 5
        }
      ]
    },
    {
      "cell_type": "code",
      "metadata": {
        "id": "Fxrh3zldDT4m",
        "colab_type": "code",
        "outputId": "1f4d5e77-f5cb-4029-9277-ec9d6bab2537",
        "colab": {
          "base_uri": "https://localhost:8080/",
          "height": 140
        }
      },
      "source": [
        "print(\"number of rows with eType = 0 is:\", len(dfBigGraph[dfBigGraph[\"eType\"] == 0]))\n",
        "print(\"number of rows with eType = 1 is:\", len(dfBigGraph[dfBigGraph[\"eType\"] == 1]))\n",
        "print(\"number of rows with eType = 2 is:\", len(dfBigGraph[dfBigGraph[\"eType\"] == 2]))\n",
        "print(\"number of rows with eType = 3 is:\", len(dfBigGraph[dfBigGraph[\"eType\"] == 3]))\n",
        "print(\"number of rows with eType = 4 is:\", len(dfBigGraph[dfBigGraph[\"eType\"] == 4]))\n",
        "print(\"number of rows with eType = 5 is:\", len(dfBigGraph[dfBigGraph[\"eType\"] == 5]))\n",
        "print(\"number of rows with eType = 6 is:\", len(dfBigGraph[dfBigGraph[\"eType\"] == 6]))"
      ],
      "execution_count": 0,
      "outputs": [
        {
          "output_type": "stream",
          "text": [
            "number of rows with eType = 0 is: 48662103\n",
            "number of rows with eType = 1 is: 70661593\n",
            "number of rows with eType = 2 is: 389211\n",
            "number of rows with eType = 3 is: 389211\n",
            "number of rows with eType = 4 is: 259304\n",
            "number of rows with eType = 5 is: 2041841\n",
            "number of rows with eType = 6 is: 1491998\n"
          ],
          "name": "stdout"
        }
      ]
    },
    {
      "cell_type": "code",
      "metadata": {
        "id": "dsF3VC5dDT3T",
        "colab_type": "code",
        "outputId": "501475f5-0314-47d0-a701-e289b6180ff5",
        "colab": {
          "base_uri": "https://localhost:8080/",
          "height": 175
        }
      },
      "source": [
        "dfBigGraph[\"Source\"].describe().apply(\"{0:.1f}\".format)"
      ],
      "execution_count": 0,
      "outputs": [
        {
          "output_type": "execute_result",
          "data": {
            "text/plain": [
              "count    123895261.0\n",
              "mean        556699.0\n",
              "std          57944.8\n",
              "min         456759.0\n",
              "25%         506663.0\n",
              "50%         556602.0\n",
              "75%         606508.0\n",
              "max         657668.0\n",
              "Name: Source, dtype: object"
            ]
          },
          "metadata": {
            "tags": []
          },
          "execution_count": 13
        }
      ]
    },
    {
      "cell_type": "code",
      "metadata": {
        "id": "mfcRnaf2DTui",
        "colab_type": "code",
        "outputId": "dba1f552-80d1-4e5c-ff5f-bcede9021984",
        "colab": {
          "base_uri": "https://localhost:8080/",
          "height": 122
        }
      },
      "source": [
        "print(\"Number of unique values for Source column in the whole data: \", len(dfBigGraph[\"Source\"].drop_duplicates()))\n",
        "print(\"Number of unique values for Source column in eType = 0 or 1: \", \n",
        "      len(dfBigGraph[(dfBigGraph[\"eType\"] == 0) | (dfBigGraph[\"eType\"] == 1)][\"Source\"].drop_duplicates()))\n",
        "print(\"Number of unique values for Source column in eType = 2 or 3: \", \n",
        "      len(dfBigGraph[(dfBigGraph[\"eType\"] == 2) | (dfBigGraph[\"eType\"] == 3)][\"Source\"].drop_duplicates()))\n",
        "print(\"Number of unique values for Source column in eType = 4: \", \n",
        "      len(dfBigGraph[dfBigGraph[\"eType\"] == 4][\"Source\"].drop_duplicates()))\n",
        "print(\"Number of unique values for Source column in eType = 5: \", \n",
        "      len(dfBigGraph[dfBigGraph[\"eType\"] == 5][\"Source\"].drop_duplicates()))\n",
        "print(\"Number of unique values for Source column in eType = 6: \", \n",
        "      len(dfBigGraph[dfBigGraph[\"eType\"] == 6][\"Source\"].drop_duplicates()))"
      ],
      "execution_count": 0,
      "outputs": [
        {
          "output_type": "stream",
          "text": [
            "Number of unique values for Source column in the whole data:  164537\n",
            "Number of unique values for Source column in eType = 0 or 1:  100000\n",
            "Number of unique values for Source column in eType = 2 or 3:  3814\n",
            "Number of unique values for Source column in eType = 4:  66173\n",
            "Number of unique values for Source column in eType = 5:  100003\n",
            "Number of unique values for Source column in eType = 6:  50189\n"
          ],
          "name": "stdout"
        }
      ]
    },
    {
      "cell_type": "code",
      "metadata": {
        "id": "3hbtSqd56Oc-",
        "colab_type": "code",
        "colab": {
          "base_uri": "https://localhost:8080/",
          "height": 122
        },
        "outputId": "36301446-1136-4765-9bbc-210a6e68855a"
      },
      "source": [
        "print(\"Number of unique values for Target column in the whole data: \", len(dfBigGraph[\"Target\"].drop_duplicates()))\n",
        "print(\"Number of unique values for Target column in eType = 0 or 1: \", \n",
        "      len(dfBigGraph[(dfBigGraph[\"eType\"] == 0) | (dfBigGraph[\"eType\"] == 1)][\"Target\"].drop_duplicates()))\n",
        "print(\"Number of unique values for Target column in eType = 2 or 3: \", \n",
        "      len(dfBigGraph[(dfBigGraph[\"eType\"] == 2) | (dfBigGraph[\"eType\"] == 3)][\"Target\"].drop_duplicates()))\n",
        "print(\"Number of unique values for Target column in eType = 4: \", \n",
        "      len(dfBigGraph[dfBigGraph[\"eType\"] == 4][\"Target\"].drop_duplicates()))\n",
        "print(\"Number of unique values for Target column in eType = 5: \", \n",
        "      len(dfBigGraph[dfBigGraph[\"eType\"] == 5][\"Target\"].drop_duplicates()))\n",
        "print(\"Number of unique values for Target column in eType = 6: \", \n",
        "      len(dfBigGraph[dfBigGraph[\"eType\"] == 6][\"Target\"].drop_duplicates()))"
      ],
      "execution_count": 14,
      "outputs": [
        {
          "output_type": "stream",
          "text": [
            "Number of unique values for Target column in the whole data:  136324\n",
            "Number of unique values for Target column in eType = 0 or 1:  100000\n",
            "Number of unique values for Target column in eType = 2 or 3:  2721\n",
            "Number of unique values for Target column in eType = 4:  33570\n",
            "Number of unique values for Target column in eType = 5:  100027\n",
            "Number of unique values for Target column in eType = 6:  6\n"
          ],
          "name": "stdout"
        }
      ]
    },
    {
      "cell_type": "code",
      "metadata": {
        "id": "nV_CiEmigwEz",
        "colab_type": "code",
        "colab": {
          "base_uri": "https://localhost:8080/",
          "height": 34
        },
        "outputId": "6113f2e3-8ca7-4d28-dfb5-fe21feafb8d3"
      },
      "source": [
        "print(\"The number of unique Node Id's in the whole dataset:   \", \n",
        "      len(list(dict.fromkeys((list(dfBigGraph[\"Target\"].drop_duplicates()) + list(dfBigGraph[\"Source\"].drop_duplicates()))))))"
      ],
      "execution_count": 26,
      "outputs": [
        {
          "output_type": "stream",
          "text": [
            "The number of unique Node Id's in the whole dataset:    200860\n"
          ],
          "name": "stdout"
        }
      ]
    },
    {
      "cell_type": "code",
      "metadata": {
        "id": "dPfwvVSihGsp",
        "colab_type": "code",
        "colab": {
          "base_uri": "https://localhost:8080/",
          "height": 193
        },
        "outputId": "52fc2aad-de89-4e90-98bc-1e034591da7e"
      },
      "source": [
        "list(dfBigGraph[\"Target\"][0:5]) + list(dfBigGraph[\"Source\"][0:5])"
      ],
      "execution_count": 21,
      "outputs": [
        {
          "output_type": "execute_result",
          "data": {
            "text/plain": [
              "[643327,\n",
              " 643327,\n",
              " 643327,\n",
              " 643327,\n",
              " 549896,\n",
              " 639754,\n",
              " 603100,\n",
              " 577847,\n",
              " 466246,\n",
              " 633499]"
            ]
          },
          "metadata": {
            "tags": []
          },
          "execution_count": 21
        }
      ]
    },
    {
      "cell_type": "code",
      "metadata": {
        "id": "NY3ZKwV7jOAl",
        "colab_type": "code",
        "colab": {
          "base_uri": "https://localhost:8080/",
          "height": 34
        },
        "outputId": "7983e272-9584-4d0f-ac02-60d2de43a22b"
      },
      "source": [
        "list([1,2,3]) + list([1,4,5])"
      ],
      "execution_count": 24,
      "outputs": [
        {
          "output_type": "execute_result",
          "data": {
            "text/plain": [
              "[1, 2, 3, 1, 4, 5]"
            ]
          },
          "metadata": {
            "tags": []
          },
          "execution_count": 24
        }
      ]
    },
    {
      "cell_type": "code",
      "metadata": {
        "id": "mQ4EyVoKG4UT",
        "colab_type": "code",
        "outputId": "9f20c59d-fed8-4e04-d4e4-ed4f7a8104a3",
        "colab": {
          "base_uri": "https://localhost:8080/",
          "height": 175
        }
      },
      "source": [
        "dfBigGraph[\"Target\"].describe().apply(\"{0:.1f}\".format)"
      ],
      "execution_count": 0,
      "outputs": [
        {
          "output_type": "execute_result",
          "data": {
            "text/plain": [
              "count    123895261.0\n",
              "mean        557147.0\n",
              "std          57990.3\n",
              "min         456759.0\n",
              "25%         507151.0\n",
              "50%         557475.0\n",
              "75%         607385.0\n",
              "max         657670.0\n",
              "Name: Target, dtype: object"
            ]
          },
          "metadata": {
            "tags": []
          },
          "execution_count": 17
        }
      ]
    },
    {
      "cell_type": "code",
      "metadata": {
        "id": "jEvS6QrKG4ar",
        "colab_type": "code",
        "outputId": "3e0863c8-451b-4bfb-e7d2-b84ec5cb43a8",
        "colab": {
          "base_uri": "https://localhost:8080/",
          "height": 167
        }
      },
      "source": [
        "print(\"Number of unique values for Target column: \", len(dfBigGraph[\"Target\"].drop_duplicates()))"
      ],
      "execution_count": 1,
      "outputs": [
        {
          "output_type": "error",
          "ename": "NameError",
          "evalue": "ignored",
          "traceback": [
            "\u001b[0;31m---------------------------------------------------------------------------\u001b[0m",
            "\u001b[0;31mNameError\u001b[0m                                 Traceback (most recent call last)",
            "\u001b[0;32m<ipython-input-1-b438c6f9f79a>\u001b[0m in \u001b[0;36m<module>\u001b[0;34m()\u001b[0m\n\u001b[0;32m----> 1\u001b[0;31m \u001b[0mprint\u001b[0m\u001b[0;34m(\u001b[0m\u001b[0;34m\"Number of unique values for Target column: \"\u001b[0m\u001b[0;34m,\u001b[0m \u001b[0mlen\u001b[0m\u001b[0;34m(\u001b[0m\u001b[0mdfBigGraph\u001b[0m\u001b[0;34m[\u001b[0m\u001b[0;34m\"Target\"\u001b[0m\u001b[0;34m]\u001b[0m\u001b[0;34m.\u001b[0m\u001b[0mdrop_duplicates\u001b[0m\u001b[0;34m(\u001b[0m\u001b[0;34m)\u001b[0m\u001b[0;34m)\u001b[0m\u001b[0;34m)\u001b[0m\u001b[0;34m\u001b[0m\u001b[0;34m\u001b[0m\u001b[0m\n\u001b[0m",
            "\u001b[0;31mNameError\u001b[0m: name 'dfBigGraph' is not defined"
          ]
        }
      ]
    },
    {
      "cell_type": "code",
      "metadata": {
        "id": "Aon02E-fG4iB",
        "colab_type": "code",
        "outputId": "76af0c7d-18c4-45f3-83ed-ea9d92820229",
        "colab": {
          "base_uri": "https://localhost:8080/",
          "height": 34
        }
      },
      "source": [
        "# Difference between the maximum id number and minimun id number in the Target column\n",
        "657670 - 456759"
      ],
      "execution_count": 0,
      "outputs": [
        {
          "output_type": "execute_result",
          "data": {
            "text/plain": [
              "200911"
            ]
          },
          "metadata": {
            "tags": []
          },
          "execution_count": 19
        }
      ]
    },
    {
      "cell_type": "code",
      "metadata": {
        "id": "9XnfxMpvG4hG",
        "colab_type": "code",
        "colab": {}
      },
      "source": [
        "dfBigGraph[dfBigGraph[\"eType\"] == 6].to_csv(r'drive/My Drive/data/eType6.csv', index = False)"
      ],
      "execution_count": 0,
      "outputs": []
    },
    {
      "cell_type": "code",
      "metadata": {
        "id": "JayH_8CdG4Zn",
        "colab_type": "code",
        "outputId": "54824416-0071-4f5b-ca65-a3332bb842ee",
        "colab": {
          "base_uri": "https://localhost:8080/",
          "height": 34
        }
      },
      "source": [
        "dfBigGraph[dfBigGraph[\"eType\"] == 5][[\"Source\", \"Target\", \"eType\"]].size"
      ],
      "execution_count": 0,
      "outputs": [
        {
          "output_type": "execute_result",
          "data": {
            "text/plain": [
              "6125523"
            ]
          },
          "metadata": {
            "tags": []
          },
          "execution_count": 26
        }
      ]
    },
    {
      "cell_type": "code",
      "metadata": {
        "id": "rhh39y9cG4TU",
        "colab_type": "code",
        "colab": {}
      },
      "source": [
        "dfBigGraph[dfBigGraph[\"eType\"] <= 1].to_csv(r'drive/My Drive/data/eType01.csv', index = False)"
      ],
      "execution_count": 0,
      "outputs": []
    },
    {
      "cell_type": "code",
      "metadata": {
        "id": "_oKWRfS5a-Lc",
        "colab_type": "code",
        "colab": {}
      },
      "source": [
        "dfBigGraph[dfBigGraph[\"eType\"] == 5].to_csv(r'drive/My Drive/data/eType5.csv', index = False)"
      ],
      "execution_count": 0,
      "outputs": []
    },
    {
      "cell_type": "code",
      "metadata": {
        "id": "IKWtWAFGa-Rw",
        "colab_type": "code",
        "colab": {}
      },
      "source": [
        "dfBigGraph[dfBigGraph[\"eType\"] == 4].to_csv(r'drive/My Drive/data/eType4.csv', index = False)"
      ],
      "execution_count": 0,
      "outputs": []
    },
    {
      "cell_type": "code",
      "metadata": {
        "id": "ch8QfdZVa-lL",
        "colab_type": "code",
        "colab": {}
      },
      "source": [
        "dfBigGraph[(dfBigGraph[\"eType\"] == 2) & (dfBigGraph[\"eType\"] == 3)].to_csv(r'drive/My Drive/data/eType23.csv', index = False)"
      ],
      "execution_count": 0,
      "outputs": []
    },
    {
      "cell_type": "code",
      "metadata": {
        "id": "kp9AEn5Ma-KY",
        "colab_type": "code",
        "colab": {}
      },
      "source": [
        "import numpy as np"
      ],
      "execution_count": 0,
      "outputs": []
    },
    {
      "cell_type": "code",
      "metadata": {
        "id": "6nRIMih_LFn7",
        "colab_type": "code",
        "outputId": "6b158b8f-c185-405b-9c4c-0b03835fbbbc",
        "colab": {
          "base_uri": "https://localhost:8080/",
          "height": 52
        }
      },
      "source": [
        "print(len(dfBigGraph[(dfBigGraph[\"Source\"] == 456759)]))\n",
        "print(len(dfBigGraph[(dfBigGraph[\"Target\"] == 456759)]))"
      ],
      "execution_count": 0,
      "outputs": [
        {
          "output_type": "stream",
          "text": [
            "649\n",
            "857\n"
          ],
          "name": "stdout"
        }
      ]
    },
    {
      "cell_type": "code",
      "metadata": {
        "id": "o3OEj9mOvyUO",
        "colab_type": "code",
        "colab": {}
      },
      "source": [
        "TargetListUnique = "
      ],
      "execution_count": 0,
      "outputs": []
    },
    {
      "cell_type": "code",
      "metadata": {
        "id": "LeQLtM0cdQU7",
        "colab_type": "code",
        "outputId": "8ef195c9-251a-4cf1-e0f5-9fb0a3c29433",
        "colab": {
          "base_uri": "https://localhost:8080/",
          "height": 34
        }
      },
      "source": [
        "len(dfBigGraph[(dfBigGraph[\"eType\"] == 2) | (dfBigGraph[\"eType\"] == 3)])"
      ],
      "execution_count": 0,
      "outputs": [
        {
          "output_type": "execute_result",
          "data": {
            "text/plain": [
              "778422"
            ]
          },
          "metadata": {
            "tags": []
          },
          "execution_count": 16
        }
      ]
    },
    {
      "cell_type": "code",
      "metadata": {
        "id": "d75vciZOvJuD",
        "colab_type": "code",
        "outputId": "8a3f28ea-94e3-4c18-8aed-9cb90d58c6e6",
        "colab": {
          "base_uri": "https://localhost:8080/",
          "height": 284
        }
      },
      "source": [
        "dfGraph1 = pd.read_csv('drive/My Drive/data/Q1-Graph1.csv')\n",
        "dfGraph1.describe()"
      ],
      "execution_count": 25,
      "outputs": [
        {
          "output_type": "execute_result",
          "data": {
            "text/html": [
              "<div>\n",
              "<style scoped>\n",
              "    .dataframe tbody tr th:only-of-type {\n",
              "        vertical-align: middle;\n",
              "    }\n",
              "\n",
              "    .dataframe tbody tr th {\n",
              "        vertical-align: top;\n",
              "    }\n",
              "\n",
              "    .dataframe thead th {\n",
              "        text-align: right;\n",
              "    }\n",
              "</style>\n",
              "<table border=\"1\" class=\"dataframe\">\n",
              "  <thead>\n",
              "    <tr style=\"text-align: right;\">\n",
              "      <th></th>\n",
              "      <th>Source</th>\n",
              "      <th>eType</th>\n",
              "      <th>Target</th>\n",
              "      <th>Time</th>\n",
              "      <th>Weight</th>\n",
              "      <th>SourceLocation</th>\n",
              "      <th>TargetLocation</th>\n",
              "      <th>SourceLatitude</th>\n",
              "      <th>SourceLongitude</th>\n",
              "      <th>TargetLatitude</th>\n",
              "      <th>TargetLongitude</th>\n",
              "    </tr>\n",
              "  </thead>\n",
              "  <tbody>\n",
              "    <tr>\n",
              "      <th>count</th>\n",
              "      <td>1216.000000</td>\n",
              "      <td>1216.000000</td>\n",
              "      <td>1216.000000</td>\n",
              "      <td>1.216000e+03</td>\n",
              "      <td>1216.000000</td>\n",
              "      <td>168.000000</td>\n",
              "      <td>168.000000</td>\n",
              "      <td>168.000000</td>\n",
              "      <td>168.000000</td>\n",
              "      <td>168.000000</td>\n",
              "      <td>168.000000</td>\n",
              "    </tr>\n",
              "    <tr>\n",
              "      <th>mean</th>\n",
              "      <td>566372.039474</td>\n",
              "      <td>3.800987</td>\n",
              "      <td>566665.756579</td>\n",
              "      <td>2.582598e+07</td>\n",
              "      <td>5441.277440</td>\n",
              "      <td>1.321429</td>\n",
              "      <td>1.363095</td>\n",
              "      <td>6.367095</td>\n",
              "      <td>-31.987527</td>\n",
              "      <td>4.170833</td>\n",
              "      <td>-17.573504</td>\n",
              "    </tr>\n",
              "    <tr>\n",
              "      <th>std</th>\n",
              "      <td>54790.757705</td>\n",
              "      <td>2.059174</td>\n",
              "      <td>57964.828278</td>\n",
              "      <td>2.169591e+07</td>\n",
              "      <td>39348.326934</td>\n",
              "      <td>1.461364</td>\n",
              "      <td>1.416014</td>\n",
              "      <td>27.973519</td>\n",
              "      <td>74.766545</td>\n",
              "      <td>26.369127</td>\n",
              "      <td>81.208493</td>\n",
              "    </tr>\n",
              "    <tr>\n",
              "      <th>min</th>\n",
              "      <td>463777.000000</td>\n",
              "      <td>0.000000</td>\n",
              "      <td>459381.000000</td>\n",
              "      <td>-6.620413e+08</td>\n",
              "      <td>0.166667</td>\n",
              "      <td>0.000000</td>\n",
              "      <td>0.000000</td>\n",
              "      <td>-29.000000</td>\n",
              "      <td>-165.000000</td>\n",
              "      <td>-29.000000</td>\n",
              "      <td>-165.000000</td>\n",
              "    </tr>\n",
              "    <tr>\n",
              "      <th>25%</th>\n",
              "      <td>512397.000000</td>\n",
              "      <td>1.000000</td>\n",
              "      <td>523927.000000</td>\n",
              "      <td>2.283846e+07</td>\n",
              "      <td>1.000000</td>\n",
              "      <td>0.000000</td>\n",
              "      <td>0.000000</td>\n",
              "      <td>-24.565700</td>\n",
              "      <td>-110.650000</td>\n",
              "      <td>-22.000000</td>\n",
              "      <td>-48.670100</td>\n",
              "    </tr>\n",
              "    <tr>\n",
              "      <th>50%</th>\n",
              "      <td>570411.000000</td>\n",
              "      <td>5.000000</td>\n",
              "      <td>577992.000000</td>\n",
              "      <td>3.153600e+07</td>\n",
              "      <td>655.195000</td>\n",
              "      <td>0.000000</td>\n",
              "      <td>2.000000</td>\n",
              "      <td>27.202500</td>\n",
              "      <td>-39.026000</td>\n",
              "      <td>1.000000</td>\n",
              "      <td>-37.807600</td>\n",
              "    </tr>\n",
              "    <tr>\n",
              "      <th>75%</th>\n",
              "      <td>616050.000000</td>\n",
              "      <td>5.000000</td>\n",
              "      <td>620120.000000</td>\n",
              "      <td>3.153600e+07</td>\n",
              "      <td>2474.707500</td>\n",
              "      <td>3.000000</td>\n",
              "      <td>2.000000</td>\n",
              "      <td>34.295800</td>\n",
              "      <td>-34.537200</td>\n",
              "      <td>30.448300</td>\n",
              "      <td>89.421700</td>\n",
              "    </tr>\n",
              "    <tr>\n",
              "      <th>max</th>\n",
              "      <td>654981.000000</td>\n",
              "      <td>6.000000</td>\n",
              "      <td>657187.000000</td>\n",
              "      <td>3.153600e+07</td>\n",
              "      <td>900735.000000</td>\n",
              "      <td>5.000000</td>\n",
              "      <td>5.000000</td>\n",
              "      <td>35.880600</td>\n",
              "      <td>156.000000</td>\n",
              "      <td>35.880600</td>\n",
              "      <td>156.000000</td>\n",
              "    </tr>\n",
              "  </tbody>\n",
              "</table>\n",
              "</div>"
            ],
            "text/plain": [
              "              Source        eType  ...  TargetLatitude  TargetLongitude\n",
              "count    1216.000000  1216.000000  ...      168.000000       168.000000\n",
              "mean   566372.039474     3.800987  ...        4.170833       -17.573504\n",
              "std     54790.757705     2.059174  ...       26.369127        81.208493\n",
              "min    463777.000000     0.000000  ...      -29.000000      -165.000000\n",
              "25%    512397.000000     1.000000  ...      -22.000000       -48.670100\n",
              "50%    570411.000000     5.000000  ...        1.000000       -37.807600\n",
              "75%    616050.000000     5.000000  ...       30.448300        89.421700\n",
              "max    654981.000000     6.000000  ...       35.880600       156.000000\n",
              "\n",
              "[8 rows x 11 columns]"
            ]
          },
          "metadata": {
            "tags": []
          },
          "execution_count": 25
        }
      ]
    },
    {
      "cell_type": "code",
      "metadata": {
        "id": "6PnZNC-kv2Mz",
        "colab_type": "code",
        "colab": {}
      },
      "source": [
        ""
      ],
      "execution_count": 0,
      "outputs": []
    },
    {
      "cell_type": "code",
      "metadata": {
        "id": "nehPWXHjvJ-E",
        "colab_type": "code",
        "outputId": "c2e9cd2e-1d87-43e1-e2f5-223f3c5f56a0",
        "colab": {
          "base_uri": "https://localhost:8080/",
          "height": 284
        }
      },
      "source": [
        "dfGraph2 = pd.read_csv('drive/My Drive/data/Q1-Graph2.csv')\n",
        "dfGraph2.describe()"
      ],
      "execution_count": 28,
      "outputs": [
        {
          "output_type": "execute_result",
          "data": {
            "text/html": [
              "<div>\n",
              "<style scoped>\n",
              "    .dataframe tbody tr th:only-of-type {\n",
              "        vertical-align: middle;\n",
              "    }\n",
              "\n",
              "    .dataframe tbody tr th {\n",
              "        vertical-align: top;\n",
              "    }\n",
              "\n",
              "    .dataframe thead th {\n",
              "        text-align: right;\n",
              "    }\n",
              "</style>\n",
              "<table border=\"1\" class=\"dataframe\">\n",
              "  <thead>\n",
              "    <tr style=\"text-align: right;\">\n",
              "      <th></th>\n",
              "      <th>Source</th>\n",
              "      <th>eType</th>\n",
              "      <th>Target</th>\n",
              "      <th>Time</th>\n",
              "      <th>Weight</th>\n",
              "      <th>SourceLocation</th>\n",
              "      <th>TargetLocation</th>\n",
              "      <th>SourceLatitude</th>\n",
              "      <th>SourceLongitude</th>\n",
              "      <th>TargetLatitude</th>\n",
              "      <th>TargetLongitude</th>\n",
              "    </tr>\n",
              "  </thead>\n",
              "  <tbody>\n",
              "    <tr>\n",
              "      <th>count</th>\n",
              "      <td>1300.000000</td>\n",
              "      <td>1300.000000</td>\n",
              "      <td>1300.000000</td>\n",
              "      <td>1.300000e+03</td>\n",
              "      <td>1300.000000</td>\n",
              "      <td>201.000000</td>\n",
              "      <td>201.000000</td>\n",
              "      <td>201.000000</td>\n",
              "      <td>201.000000</td>\n",
              "      <td>201.000000</td>\n",
              "      <td>201.000000</td>\n",
              "    </tr>\n",
              "    <tr>\n",
              "      <th>mean</th>\n",
              "      <td>560520.766154</td>\n",
              "      <td>3.451538</td>\n",
              "      <td>562980.933846</td>\n",
              "      <td>2.417665e+07</td>\n",
              "      <td>1207.345301</td>\n",
              "      <td>2.910448</td>\n",
              "      <td>2.930348</td>\n",
              "      <td>-12.048256</td>\n",
              "      <td>-91.897215</td>\n",
              "      <td>-12.701554</td>\n",
              "      <td>-85.900864</td>\n",
              "    </tr>\n",
              "    <tr>\n",
              "      <th>std</th>\n",
              "      <td>51698.445422</td>\n",
              "      <td>2.199438</td>\n",
              "      <td>57359.193017</td>\n",
              "      <td>2.862774e+07</td>\n",
              "      <td>6359.973484</td>\n",
              "      <td>1.265678</td>\n",
              "      <td>1.210423</td>\n",
              "      <td>14.429280</td>\n",
              "      <td>89.174134</td>\n",
              "      <td>13.219904</td>\n",
              "      <td>95.522699</td>\n",
              "    </tr>\n",
              "    <tr>\n",
              "      <th>min</th>\n",
              "      <td>464459.000000</td>\n",
              "      <td>0.000000</td>\n",
              "      <td>459381.000000</td>\n",
              "      <td>-7.327279e+08</td>\n",
              "      <td>0.018868</td>\n",
              "      <td>0.000000</td>\n",
              "      <td>1.000000</td>\n",
              "      <td>-29.452400</td>\n",
              "      <td>-166.186000</td>\n",
              "      <td>-29.452400</td>\n",
              "      <td>-168.472000</td>\n",
              "    </tr>\n",
              "    <tr>\n",
              "      <th>25%</th>\n",
              "      <td>527597.000000</td>\n",
              "      <td>1.000000</td>\n",
              "      <td>515794.000000</td>\n",
              "      <td>2.273466e+07</td>\n",
              "      <td>1.000000</td>\n",
              "      <td>2.000000</td>\n",
              "      <td>2.000000</td>\n",
              "      <td>-25.422000</td>\n",
              "      <td>-162.983000</td>\n",
              "      <td>-25.422000</td>\n",
              "      <td>-162.983000</td>\n",
              "    </tr>\n",
              "    <tr>\n",
              "      <th>50%</th>\n",
              "      <td>552988.000000</td>\n",
              "      <td>5.000000</td>\n",
              "      <td>575030.000000</td>\n",
              "      <td>3.153600e+07</td>\n",
              "      <td>216.695000</td>\n",
              "      <td>3.000000</td>\n",
              "      <td>3.000000</td>\n",
              "      <td>-3.886060</td>\n",
              "      <td>-111.678000</td>\n",
              "      <td>-20.656500</td>\n",
              "      <td>-111.678000</td>\n",
              "    </tr>\n",
              "    <tr>\n",
              "      <th>75%</th>\n",
              "      <td>602912.000000</td>\n",
              "      <td>5.000000</td>\n",
              "      <td>620120.000000</td>\n",
              "      <td>3.153600e+07</td>\n",
              "      <td>754.660000</td>\n",
              "      <td>4.000000</td>\n",
              "      <td>4.000000</td>\n",
              "      <td>-1.160670</td>\n",
              "      <td>-13.373000</td>\n",
              "      <td>-1.160670</td>\n",
              "      <td>-9.461840</td>\n",
              "    </tr>\n",
              "    <tr>\n",
              "      <th>max</th>\n",
              "      <td>656156.000000</td>\n",
              "      <td>6.000000</td>\n",
              "      <td>657173.000000</td>\n",
              "      <td>3.153600e+07</td>\n",
              "      <td>196567.000000</td>\n",
              "      <td>4.000000</td>\n",
              "      <td>4.000000</td>\n",
              "      <td>33.000000</td>\n",
              "      <td>91.000000</td>\n",
              "      <td>6.715180</td>\n",
              "      <td>91.784100</td>\n",
              "    </tr>\n",
              "  </tbody>\n",
              "</table>\n",
              "</div>"
            ],
            "text/plain": [
              "              Source        eType  ...  TargetLatitude  TargetLongitude\n",
              "count    1300.000000  1300.000000  ...      201.000000       201.000000\n",
              "mean   560520.766154     3.451538  ...      -12.701554       -85.900864\n",
              "std     51698.445422     2.199438  ...       13.219904        95.522699\n",
              "min    464459.000000     0.000000  ...      -29.452400      -168.472000\n",
              "25%    527597.000000     1.000000  ...      -25.422000      -162.983000\n",
              "50%    552988.000000     5.000000  ...      -20.656500      -111.678000\n",
              "75%    602912.000000     5.000000  ...       -1.160670        -9.461840\n",
              "max    656156.000000     6.000000  ...        6.715180        91.784100\n",
              "\n",
              "[8 rows x 11 columns]"
            ]
          },
          "metadata": {
            "tags": []
          },
          "execution_count": 28
        }
      ]
    },
    {
      "cell_type": "code",
      "metadata": {
        "id": "GIKRdbDrvKKF",
        "colab_type": "code",
        "outputId": "1fde4b90-d461-48d1-8630-f04d27bfadcf",
        "colab": {
          "base_uri": "https://localhost:8080/",
          "height": 304
        }
      },
      "source": [
        "dfGraph3 = pd.read_csv('drive/My Drive/data/Q1-Graph3.csv')\n",
        "dfGraph3.describe()"
      ],
      "execution_count": 0,
      "outputs": [
        {
          "output_type": "execute_result",
          "data": {
            "text/html": [
              "<div>\n",
              "<style scoped>\n",
              "    .dataframe tbody tr th:only-of-type {\n",
              "        vertical-align: middle;\n",
              "    }\n",
              "\n",
              "    .dataframe tbody tr th {\n",
              "        vertical-align: top;\n",
              "    }\n",
              "\n",
              "    .dataframe thead th {\n",
              "        text-align: right;\n",
              "    }\n",
              "</style>\n",
              "<table border=\"1\" class=\"dataframe\">\n",
              "  <thead>\n",
              "    <tr style=\"text-align: right;\">\n",
              "      <th></th>\n",
              "      <th>Source</th>\n",
              "      <th>eType</th>\n",
              "      <th>Target</th>\n",
              "      <th>Time</th>\n",
              "      <th>Weight</th>\n",
              "      <th>SourceLocation</th>\n",
              "      <th>TargetLocation</th>\n",
              "      <th>SourceLatitude</th>\n",
              "      <th>SourceLongitude</th>\n",
              "      <th>TargetLatitude</th>\n",
              "      <th>TargetLongitude</th>\n",
              "    </tr>\n",
              "  </thead>\n",
              "  <tbody>\n",
              "    <tr>\n",
              "      <th>count</th>\n",
              "      <td>729.000000</td>\n",
              "      <td>729.000000</td>\n",
              "      <td>729.000000</td>\n",
              "      <td>7.290000e+02</td>\n",
              "      <td>729.000000</td>\n",
              "      <td>88.000000</td>\n",
              "      <td>88.000000</td>\n",
              "      <td>88.000000</td>\n",
              "      <td>88.000000</td>\n",
              "      <td>88.000000</td>\n",
              "      <td>88.000000</td>\n",
              "    </tr>\n",
              "    <tr>\n",
              "      <th>mean</th>\n",
              "      <td>549315.914952</td>\n",
              "      <td>3.980796</td>\n",
              "      <td>556662.437586</td>\n",
              "      <td>2.567313e+07</td>\n",
              "      <td>3725.984499</td>\n",
              "      <td>2.579545</td>\n",
              "      <td>2.250000</td>\n",
              "      <td>-7.726644</td>\n",
              "      <td>-23.875210</td>\n",
              "      <td>-6.859568</td>\n",
              "      <td>-20.845032</td>\n",
              "    </tr>\n",
              "    <tr>\n",
              "      <th>std</th>\n",
              "      <td>45556.232718</td>\n",
              "      <td>1.995782</td>\n",
              "      <td>53774.796932</td>\n",
              "      <td>1.288329e+07</td>\n",
              "      <td>13582.721364</td>\n",
              "      <td>1.566324</td>\n",
              "      <td>1.440386</td>\n",
              "      <td>21.339780</td>\n",
              "      <td>111.798051</td>\n",
              "      <td>22.110683</td>\n",
              "      <td>106.346714</td>\n",
              "    </tr>\n",
              "    <tr>\n",
              "      <th>min</th>\n",
              "      <td>464459.000000</td>\n",
              "      <td>0.000000</td>\n",
              "      <td>459381.000000</td>\n",
              "      <td>-2.097426e+08</td>\n",
              "      <td>0.100000</td>\n",
              "      <td>0.000000</td>\n",
              "      <td>0.000000</td>\n",
              "      <td>-29.171400</td>\n",
              "      <td>-165.000000</td>\n",
              "      <td>-29.171400</td>\n",
              "      <td>-165.000000</td>\n",
              "    </tr>\n",
              "    <tr>\n",
              "      <th>25%</th>\n",
              "      <td>516236.000000</td>\n",
              "      <td>5.000000</td>\n",
              "      <td>520084.000000</td>\n",
              "      <td>1.988484e+07</td>\n",
              "      <td>3.000000</td>\n",
              "      <td>1.000000</td>\n",
              "      <td>1.000000</td>\n",
              "      <td>-25.000000</td>\n",
              "      <td>-161.276000</td>\n",
              "      <td>-23.595300</td>\n",
              "      <td>-111.000000</td>\n",
              "    </tr>\n",
              "    <tr>\n",
              "      <th>50%</th>\n",
              "      <td>542649.000000</td>\n",
              "      <td>5.000000</td>\n",
              "      <td>567195.000000</td>\n",
              "      <td>3.153600e+07</td>\n",
              "      <td>507.470000</td>\n",
              "      <td>2.000000</td>\n",
              "      <td>2.000000</td>\n",
              "      <td>-22.000000</td>\n",
              "      <td>-13.000000</td>\n",
              "      <td>-21.141100</td>\n",
              "      <td>-26.695200</td>\n",
              "    </tr>\n",
              "    <tr>\n",
              "      <th>75%</th>\n",
              "      <td>578531.000000</td>\n",
              "      <td>5.000000</td>\n",
              "      <td>595581.000000</td>\n",
              "      <td>3.153600e+07</td>\n",
              "      <td>2277.900000</td>\n",
              "      <td>4.000000</td>\n",
              "      <td>4.000000</td>\n",
              "      <td>2.351660</td>\n",
              "      <td>91.000000</td>\n",
              "      <td>5.911780</td>\n",
              "      <td>91.000000</td>\n",
              "    </tr>\n",
              "    <tr>\n",
              "      <th>max</th>\n",
              "      <td>657076.000000</td>\n",
              "      <td>6.000000</td>\n",
              "      <td>657173.000000</td>\n",
              "      <td>3.153600e+07</td>\n",
              "      <td>159997.000000</td>\n",
              "      <td>5.000000</td>\n",
              "      <td>5.000000</td>\n",
              "      <td>33.000000</td>\n",
              "      <td>156.000000</td>\n",
              "      <td>33.574100</td>\n",
              "      <td>156.000000</td>\n",
              "    </tr>\n",
              "  </tbody>\n",
              "</table>\n",
              "</div>"
            ],
            "text/plain": [
              "              Source       eType  ...  TargetLatitude  TargetLongitude\n",
              "count     729.000000  729.000000  ...       88.000000        88.000000\n",
              "mean   549315.914952    3.980796  ...       -6.859568       -20.845032\n",
              "std     45556.232718    1.995782  ...       22.110683       106.346714\n",
              "min    464459.000000    0.000000  ...      -29.171400      -165.000000\n",
              "25%    516236.000000    5.000000  ...      -23.595300      -111.000000\n",
              "50%    542649.000000    5.000000  ...      -21.141100       -26.695200\n",
              "75%    578531.000000    5.000000  ...        5.911780        91.000000\n",
              "max    657076.000000    6.000000  ...       33.574100       156.000000\n",
              "\n",
              "[8 rows x 11 columns]"
            ]
          },
          "metadata": {
            "tags": []
          },
          "execution_count": 90
        }
      ]
    },
    {
      "cell_type": "code",
      "metadata": {
        "id": "cRMBJRqkvKVU",
        "colab_type": "code",
        "outputId": "c4c22479-7db5-4feb-922f-b68a27153ff4",
        "colab": {
          "base_uri": "https://localhost:8080/",
          "height": 304
        }
      },
      "source": [
        "dfGraph4 = pd.read_csv('drive/My Drive/data/Q1-Graph4.csv')\n",
        "dfGraph4.describe()"
      ],
      "execution_count": 0,
      "outputs": [
        {
          "output_type": "execute_result",
          "data": {
            "text/html": [
              "<div>\n",
              "<style scoped>\n",
              "    .dataframe tbody tr th:only-of-type {\n",
              "        vertical-align: middle;\n",
              "    }\n",
              "\n",
              "    .dataframe tbody tr th {\n",
              "        vertical-align: top;\n",
              "    }\n",
              "\n",
              "    .dataframe thead th {\n",
              "        text-align: right;\n",
              "    }\n",
              "</style>\n",
              "<table border=\"1\" class=\"dataframe\">\n",
              "  <thead>\n",
              "    <tr style=\"text-align: right;\">\n",
              "      <th></th>\n",
              "      <th>Source</th>\n",
              "      <th>eType</th>\n",
              "      <th>Target</th>\n",
              "      <th>Time</th>\n",
              "      <th>Weight</th>\n",
              "      <th>SourceLocation</th>\n",
              "      <th>TargetLocation</th>\n",
              "      <th>SourceLatitude</th>\n",
              "      <th>SourceLongitude</th>\n",
              "      <th>TargetLatitude</th>\n",
              "      <th>TargetLongitude</th>\n",
              "    </tr>\n",
              "  </thead>\n",
              "  <tbody>\n",
              "    <tr>\n",
              "      <th>count</th>\n",
              "      <td>732.000000</td>\n",
              "      <td>732.000000</td>\n",
              "      <td>732.000000</td>\n",
              "      <td>7.320000e+02</td>\n",
              "      <td>732.000000</td>\n",
              "      <td>176.000000</td>\n",
              "      <td>176.000000</td>\n",
              "      <td>176.000000</td>\n",
              "      <td>176.000000</td>\n",
              "      <td>176.000000</td>\n",
              "      <td>176.000000</td>\n",
              "    </tr>\n",
              "    <tr>\n",
              "      <th>mean</th>\n",
              "      <td>557659.424863</td>\n",
              "      <td>4.463115</td>\n",
              "      <td>568696.844262</td>\n",
              "      <td>2.647806e+07</td>\n",
              "      <td>2154.421899</td>\n",
              "      <td>2.085227</td>\n",
              "      <td>2.534091</td>\n",
              "      <td>3.742113</td>\n",
              "      <td>-23.205082</td>\n",
              "      <td>0.518587</td>\n",
              "      <td>-35.924931</td>\n",
              "    </tr>\n",
              "    <tr>\n",
              "      <th>std</th>\n",
              "      <td>55986.115278</td>\n",
              "      <td>1.694121</td>\n",
              "      <td>56402.324558</td>\n",
              "      <td>8.937597e+06</td>\n",
              "      <td>8797.584281</td>\n",
              "      <td>1.829475</td>\n",
              "      <td>1.766021</td>\n",
              "      <td>26.361056</td>\n",
              "      <td>99.451602</td>\n",
              "      <td>25.551081</td>\n",
              "      <td>106.740120</td>\n",
              "    </tr>\n",
              "    <tr>\n",
              "      <th>min</th>\n",
              "      <td>464579.000000</td>\n",
              "      <td>0.000000</td>\n",
              "      <td>459381.000000</td>\n",
              "      <td>9.858600e+04</td>\n",
              "      <td>-1.000000</td>\n",
              "      <td>0.000000</td>\n",
              "      <td>0.000000</td>\n",
              "      <td>-29.676400</td>\n",
              "      <td>-165.000000</td>\n",
              "      <td>-35.603400</td>\n",
              "      <td>-168.957000</td>\n",
              "    </tr>\n",
              "    <tr>\n",
              "      <th>25%</th>\n",
              "      <td>510031.000000</td>\n",
              "      <td>5.000000</td>\n",
              "      <td>527449.000000</td>\n",
              "      <td>2.642541e+07</td>\n",
              "      <td>3.000000</td>\n",
              "      <td>0.000000</td>\n",
              "      <td>1.000000</td>\n",
              "      <td>-24.992800</td>\n",
              "      <td>-111.000000</td>\n",
              "      <td>-25.000000</td>\n",
              "      <td>-111.000000</td>\n",
              "    </tr>\n",
              "    <tr>\n",
              "      <th>50%</th>\n",
              "      <td>566580.000000</td>\n",
              "      <td>5.000000</td>\n",
              "      <td>577992.000000</td>\n",
              "      <td>3.153600e+07</td>\n",
              "      <td>337.480000</td>\n",
              "      <td>2.000000</td>\n",
              "      <td>3.000000</td>\n",
              "      <td>2.400530</td>\n",
              "      <td>-41.000000</td>\n",
              "      <td>1.000000</td>\n",
              "      <td>-41.778000</td>\n",
              "    </tr>\n",
              "    <tr>\n",
              "      <th>75%</th>\n",
              "      <td>585606.000000</td>\n",
              "      <td>5.000000</td>\n",
              "      <td>620120.000000</td>\n",
              "      <td>3.153600e+07</td>\n",
              "      <td>1370.210000</td>\n",
              "      <td>3.250000</td>\n",
              "      <td>4.000000</td>\n",
              "      <td>33.000000</td>\n",
              "      <td>91.000000</td>\n",
              "      <td>22.107250</td>\n",
              "      <td>-11.437250</td>\n",
              "    </tr>\n",
              "    <tr>\n",
              "      <th>max</th>\n",
              "      <td>657526.000000</td>\n",
              "      <td>6.000000</td>\n",
              "      <td>657526.000000</td>\n",
              "      <td>3.153600e+07</td>\n",
              "      <td>141744.000000</td>\n",
              "      <td>5.000000</td>\n",
              "      <td>5.000000</td>\n",
              "      <td>39.888600</td>\n",
              "      <td>156.000000</td>\n",
              "      <td>39.888600</td>\n",
              "      <td>156.256000</td>\n",
              "    </tr>\n",
              "  </tbody>\n",
              "</table>\n",
              "</div>"
            ],
            "text/plain": [
              "              Source       eType  ...  TargetLatitude  TargetLongitude\n",
              "count     732.000000  732.000000  ...      176.000000       176.000000\n",
              "mean   557659.424863    4.463115  ...        0.518587       -35.924931\n",
              "std     55986.115278    1.694121  ...       25.551081       106.740120\n",
              "min    464579.000000    0.000000  ...      -35.603400      -168.957000\n",
              "25%    510031.000000    5.000000  ...      -25.000000      -111.000000\n",
              "50%    566580.000000    5.000000  ...        1.000000       -41.778000\n",
              "75%    585606.000000    5.000000  ...       22.107250       -11.437250\n",
              "max    657526.000000    6.000000  ...       39.888600       156.256000\n",
              "\n",
              "[8 rows x 11 columns]"
            ]
          },
          "metadata": {
            "tags": []
          },
          "execution_count": 91
        }
      ]
    },
    {
      "cell_type": "code",
      "metadata": {
        "id": "KAl6TqWwvKju",
        "colab_type": "code",
        "outputId": "ee0f7350-9726-4978-d10f-5a1f204d5fac",
        "colab": {
          "base_uri": "https://localhost:8080/",
          "height": 304
        }
      },
      "source": [
        "dfGraph5 = pd.read_csv('drive/My Drive/data/Q1-Graph5.csv')\n",
        "dfGraph5.describe()"
      ],
      "execution_count": 0,
      "outputs": [
        {
          "output_type": "execute_result",
          "data": {
            "text/html": [
              "<div>\n",
              "<style scoped>\n",
              "    .dataframe tbody tr th:only-of-type {\n",
              "        vertical-align: middle;\n",
              "    }\n",
              "\n",
              "    .dataframe tbody tr th {\n",
              "        vertical-align: top;\n",
              "    }\n",
              "\n",
              "    .dataframe thead th {\n",
              "        text-align: right;\n",
              "    }\n",
              "</style>\n",
              "<table border=\"1\" class=\"dataframe\">\n",
              "  <thead>\n",
              "    <tr style=\"text-align: right;\">\n",
              "      <th></th>\n",
              "      <th>Source</th>\n",
              "      <th>eType</th>\n",
              "      <th>Target</th>\n",
              "      <th>Time</th>\n",
              "      <th>Weight</th>\n",
              "      <th>SourceLocation</th>\n",
              "      <th>TargetLocation</th>\n",
              "      <th>SourceLatitude</th>\n",
              "      <th>SourceLongitude</th>\n",
              "      <th>TargetLatitude</th>\n",
              "      <th>TargetLongitude</th>\n",
              "    </tr>\n",
              "  </thead>\n",
              "  <tbody>\n",
              "    <tr>\n",
              "      <th>count</th>\n",
              "      <td>395.000000</td>\n",
              "      <td>395.000000</td>\n",
              "      <td>395.000000</td>\n",
              "      <td>3.950000e+02</td>\n",
              "      <td>395.000000</td>\n",
              "      <td>124.000000</td>\n",
              "      <td>124.000000</td>\n",
              "      <td>124.000000</td>\n",
              "      <td>124.000000</td>\n",
              "      <td>124.000000</td>\n",
              "      <td>124.000000</td>\n",
              "    </tr>\n",
              "    <tr>\n",
              "      <th>mean</th>\n",
              "      <td>553140.425316</td>\n",
              "      <td>4.635443</td>\n",
              "      <td>566074.437975</td>\n",
              "      <td>2.345357e+07</td>\n",
              "      <td>2758.468684</td>\n",
              "      <td>2.354839</td>\n",
              "      <td>2.717742</td>\n",
              "      <td>-6.986791</td>\n",
              "      <td>-37.910244</td>\n",
              "      <td>6.701998</td>\n",
              "      <td>-13.750998</td>\n",
              "    </tr>\n",
              "    <tr>\n",
              "      <th>std</th>\n",
              "      <td>52601.721710</td>\n",
              "      <td>1.565413</td>\n",
              "      <td>55398.542187</td>\n",
              "      <td>1.037842e+07</td>\n",
              "      <td>22597.362966</td>\n",
              "      <td>1.432455</td>\n",
              "      <td>1.990059</td>\n",
              "      <td>22.733813</td>\n",
              "      <td>103.415153</td>\n",
              "      <td>23.400234</td>\n",
              "      <td>119.389382</td>\n",
              "    </tr>\n",
              "    <tr>\n",
              "      <th>min</th>\n",
              "      <td>477657.000000</td>\n",
              "      <td>0.000000</td>\n",
              "      <td>459381.000000</td>\n",
              "      <td>9.634600e+04</td>\n",
              "      <td>-1.000000</td>\n",
              "      <td>0.000000</td>\n",
              "      <td>0.000000</td>\n",
              "      <td>-29.000000</td>\n",
              "      <td>-170.646000</td>\n",
              "      <td>-29.000000</td>\n",
              "      <td>-170.646000</td>\n",
              "    </tr>\n",
              "    <tr>\n",
              "      <th>25%</th>\n",
              "      <td>510031.000000</td>\n",
              "      <td>5.000000</td>\n",
              "      <td>523927.000000</td>\n",
              "      <td>1.494720e+07</td>\n",
              "      <td>1.000000</td>\n",
              "      <td>2.000000</td>\n",
              "      <td>1.000000</td>\n",
              "      <td>-25.000000</td>\n",
              "      <td>-111.000000</td>\n",
              "      <td>-22.000000</td>\n",
              "      <td>-111.000000</td>\n",
              "    </tr>\n",
              "    <tr>\n",
              "      <th>50%</th>\n",
              "      <td>552988.000000</td>\n",
              "      <td>5.000000</td>\n",
              "      <td>567195.000000</td>\n",
              "      <td>3.153600e+07</td>\n",
              "      <td>198.000000</td>\n",
              "      <td>2.500000</td>\n",
              "      <td>3.000000</td>\n",
              "      <td>-22.000000</td>\n",
              "      <td>-41.000000</td>\n",
              "      <td>22.000000</td>\n",
              "      <td>-41.000000</td>\n",
              "    </tr>\n",
              "    <tr>\n",
              "      <th>75%</th>\n",
              "      <td>594308.000000</td>\n",
              "      <td>6.000000</td>\n",
              "      <td>616453.000000</td>\n",
              "      <td>3.153600e+07</td>\n",
              "      <td>983.360000</td>\n",
              "      <td>3.000000</td>\n",
              "      <td>5.000000</td>\n",
              "      <td>1.000000</td>\n",
              "      <td>91.000000</td>\n",
              "      <td>23.280775</td>\n",
              "      <td>152.200000</td>\n",
              "    </tr>\n",
              "    <tr>\n",
              "      <th>max</th>\n",
              "      <td>631903.000000</td>\n",
              "      <td>6.000000</td>\n",
              "      <td>657173.000000</td>\n",
              "      <td>3.153600e+07</td>\n",
              "      <td>441206.000000</td>\n",
              "      <td>5.000000</td>\n",
              "      <td>5.000000</td>\n",
              "      <td>33.000000</td>\n",
              "      <td>156.000000</td>\n",
              "      <td>33.000000</td>\n",
              "      <td>156.000000</td>\n",
              "    </tr>\n",
              "  </tbody>\n",
              "</table>\n",
              "</div>"
            ],
            "text/plain": [
              "              Source       eType  ...  TargetLatitude  TargetLongitude\n",
              "count     395.000000  395.000000  ...      124.000000       124.000000\n",
              "mean   553140.425316    4.635443  ...        6.701998       -13.750998\n",
              "std     52601.721710    1.565413  ...       23.400234       119.389382\n",
              "min    477657.000000    0.000000  ...      -29.000000      -170.646000\n",
              "25%    510031.000000    5.000000  ...      -22.000000      -111.000000\n",
              "50%    552988.000000    5.000000  ...       22.000000       -41.000000\n",
              "75%    594308.000000    6.000000  ...       23.280775       152.200000\n",
              "max    631903.000000    6.000000  ...       33.000000       156.000000\n",
              "\n",
              "[8 rows x 11 columns]"
            ]
          },
          "metadata": {
            "tags": []
          },
          "execution_count": 92
        }
      ]
    },
    {
      "cell_type": "code",
      "metadata": {
        "id": "1wFYT3N1v4fD",
        "colab_type": "code",
        "outputId": "181ba439-2e58-4a54-a133-1dadebc2106b",
        "colab": {
          "base_uri": "https://localhost:8080/",
          "height": 72
        }
      },
      "source": [
        "sourceG1 = dfGraph1[\"Source\"].to_numpy()\n",
        "targetG1 = dfGraph1[\"Target\"].to_numpy()\n",
        "sourceCategoriesG1 = list()\n",
        "targetCategoriesG1 = list()\n",
        "for i in range(len(categoriesList)):\n",
        "  if(categoriesList[i][0] in sourceG1):\n",
        "    sourceCategoriesG1.append(categoriesList[i][1])\n",
        "  if(categoriesList[i][0] in targetG1):\n",
        "    targetCategoriesG1.append(categoriesList[i][1])\n",
        "print(\"sourceCategoriesG1:   \", len(sourceCategoriesG1), sourceCategoriesG1)\n",
        "print(\"targetCategoriesG1:   \", len(targetCategoriesG1), targetCategoriesG1)"
      ],
      "execution_count": 0,
      "outputs": [
        {
          "output_type": "stream",
          "text": [
            "sourceCategoriesG1:    3 ['Gifts', 'Money income before taxes', 'Personal taxes']\n",
            "targetCategoriesG1:    27 ['Water and other public services', 'Electricity', 'Household furnishings', 'Natural gas', 'Miscellaneous', 'Healthcare', 'Restaurants', 'Alcohol', 'Home maintenance', 'Housekeeping supplies', 'Personal insurance and pensions', 'Reading', 'Transportation', 'Education', 'Telephone services', 'Lodging away from home', 'Groceries', 'Donations', 'Entertainment', 'Apparel and services', 'Personal taxes', 'Mortgage payments', 'Rented dwellings', 'Personal care products and services', 'Tobacco', 'Household operations', 'Property taxes']\n"
          ],
          "name": "stdout"
        }
      ]
    },
    {
      "cell_type": "code",
      "metadata": {
        "id": "XkGmuGZN5buD",
        "colab_type": "code",
        "outputId": "dfb92f8f-942c-40ce-f88a-97c9a54c327c",
        "colab": {
          "base_uri": "https://localhost:8080/",
          "height": 72
        }
      },
      "source": [
        "sourceG1 = dfGraph2[\"Source\"].to_numpy()\n",
        "targetG1 = dfGraph2[\"Target\"].to_numpy()\n",
        "sourceCategoriesG1 = list()\n",
        "targetCategoriesG1 = list()\n",
        "for i in range(len(categoriesList)):\n",
        "  if(categoriesList[i][0] in sourceG1):\n",
        "    sourceCategoriesG1.append(categoriesList[i][1])\n",
        "  if(categoriesList[i][0] in targetG1):\n",
        "    targetCategoriesG1.append(categoriesList[i][1])\n",
        "print(\"sourceCategoriesG1:   \", len(sourceCategoriesG1), sourceCategoriesG1)\n",
        "print(\"targetCategoriesG1:   \", len(targetCategoriesG1), targetCategoriesG1)"
      ],
      "execution_count": 0,
      "outputs": [
        {
          "output_type": "stream",
          "text": [
            "sourceCategoriesG1:    3 ['Gifts', 'Money income before taxes', 'Personal taxes']\n",
            "targetCategoriesG1:    27 ['Water and other public services', 'Electricity', 'Household furnishings', 'Natural gas', 'Miscellaneous', 'Healthcare', 'Restaurants', 'Alcohol', 'Home maintenance', 'Housekeeping supplies', 'Personal insurance and pensions', 'Reading', 'Transportation', 'Education', 'Telephone services', 'Lodging away from home', 'Groceries', 'Donations', 'Entertainment', 'Apparel and services', 'Personal taxes', 'Mortgage payments', 'Rented dwellings', 'Personal care products and services', 'Tobacco', 'Household operations', 'Property taxes']\n"
          ],
          "name": "stdout"
        }
      ]
    },
    {
      "cell_type": "code",
      "metadata": {
        "id": "zhpcDmYL5iJe",
        "colab_type": "code",
        "outputId": "dc60c77d-6ec2-47c7-fe44-facdc6b5c314",
        "colab": {
          "base_uri": "https://localhost:8080/",
          "height": 72
        }
      },
      "source": [
        "sourceG1 = dfGraph3[\"Source\"].to_numpy()\n",
        "targetG1 = dfGraph3[\"Target\"].to_numpy()\n",
        "sourceCategoriesG1 = list()\n",
        "targetCategoriesG1 = list()\n",
        "for i in range(len(categoriesList)):\n",
        "  if(categoriesList[i][0] in sourceG1):\n",
        "    sourceCategoriesG1.append(categoriesList[i][1])\n",
        "  if(categoriesList[i][0] in targetG1):\n",
        "    targetCategoriesG1.append(categoriesList[i][1])\n",
        "print(\"sourceCategoriesG1:   \", len(sourceCategoriesG1), sourceCategoriesG1)\n",
        "print(\"targetCategoriesG1:   \", len(targetCategoriesG1), targetCategoriesG1)"
      ],
      "execution_count": 0,
      "outputs": [
        {
          "output_type": "stream",
          "text": [
            "sourceCategoriesG1:    3 ['Gifts', 'Money income before taxes', 'Personal taxes']\n",
            "targetCategoriesG1:    27 ['Water and other public services', 'Electricity', 'Household furnishings', 'Natural gas', 'Miscellaneous', 'Healthcare', 'Restaurants', 'Alcohol', 'Home maintenance', 'Housekeeping supplies', 'Personal insurance and pensions', 'Reading', 'Transportation', 'Education', 'Telephone services', 'Lodging away from home', 'Groceries', 'Donations', 'Entertainment', 'Apparel and services', 'Personal taxes', 'Mortgage payments', 'Rented dwellings', 'Personal care products and services', 'Tobacco', 'Household operations', 'Property taxes']\n"
          ],
          "name": "stdout"
        }
      ]
    },
    {
      "cell_type": "code",
      "metadata": {
        "id": "JOl2hS4y5mxA",
        "colab_type": "code",
        "outputId": "1983d6bf-09e4-4aa1-be19-d25c3a5c0983",
        "colab": {
          "base_uri": "https://localhost:8080/",
          "height": 72
        }
      },
      "source": [
        "sourceG1 = dfGraph4[\"Source\"].to_numpy()\n",
        "targetG1 = dfGraph4[\"Target\"].to_numpy()\n",
        "sourceCategoriesG1 = list()\n",
        "targetCategoriesG1 = list()\n",
        "for i in range(len(categoriesList)):\n",
        "  if(categoriesList[i][0] in sourceG1):\n",
        "    sourceCategoriesG1.append(categoriesList[i][1])\n",
        "  if(categoriesList[i][0] in targetG1):\n",
        "    targetCategoriesG1.append(categoriesList[i][1])\n",
        "print(\"sourceCategoriesG1:   \", len(sourceCategoriesG1), sourceCategoriesG1)\n",
        "print(\"targetCategoriesG1:   \", len(targetCategoriesG1), targetCategoriesG1)"
      ],
      "execution_count": 0,
      "outputs": [
        {
          "output_type": "stream",
          "text": [
            "sourceCategoriesG1:    3 ['Gifts', 'Money income before taxes', 'Personal taxes']\n",
            "targetCategoriesG1:    27 ['Water and other public services', 'Electricity', 'Household furnishings', 'Natural gas', 'Miscellaneous', 'Healthcare', 'Restaurants', 'Alcohol', 'Home maintenance', 'Housekeeping supplies', 'Personal insurance and pensions', 'Reading', 'Transportation', 'Education', 'Telephone services', 'Lodging away from home', 'Groceries', 'Donations', 'Entertainment', 'Apparel and services', 'Personal taxes', 'Mortgage payments', 'Rented dwellings', 'Personal care products and services', 'Tobacco', 'Household operations', 'Property taxes']\n"
          ],
          "name": "stdout"
        }
      ]
    },
    {
      "cell_type": "code",
      "metadata": {
        "id": "nrgXsrVo5m-J",
        "colab_type": "code",
        "outputId": "611a154a-f362-4090-bd3a-8fdcdc62a518",
        "colab": {
          "base_uri": "https://localhost:8080/",
          "height": 72
        }
      },
      "source": [
        "sourceG1 = dfGraph5[\"Source\"].to_numpy()\n",
        "targetG1 = dfGraph5[\"Target\"].to_numpy()\n",
        "sourceCategoriesG1 = list()\n",
        "targetCategoriesG1 = list()\n",
        "for i in range(len(categoriesList)):\n",
        "  if(categoriesList[i][0] in sourceG1):\n",
        "    sourceCategoriesG1.append(categoriesList[i][0])\n",
        "  if(categoriesList[i][0] in targetG1):\n",
        "    targetCategoriesG1.append(categoriesList[i][0])\n",
        "print(\"sourceCategoriesG1:   \", len(sourceCategoriesG1), sourceCategoriesG1)\n",
        "print(\"targetCategoriesG1:   \", len(targetCategoriesG1), targetCategoriesG1)"
      ],
      "execution_count": 0,
      "outputs": [
        {
          "output_type": "stream",
          "text": [
            "sourceCategoriesG1:    3 [510031, 552988, 620120]\n",
            "targetCategoriesG1:    27 [459381, 466907, 473173, 503218, 503701, 520660, 523927, 527449, 536346, 537281, 567195, 571970, 575030, 577992, 580426, 589943, 595298, 595581, 606730, 616315, 620120, 621924, 630626, 632961, 640784, 642329, 644226]\n"
          ],
          "name": "stdout"
        }
      ]
    },
    {
      "cell_type": "code",
      "metadata": {
        "id": "ZK79q2QVSrgc",
        "colab_type": "code",
        "colab": {}
      },
      "source": [
        "for val in dfGraph1[(dfGraph1[\"eType\"] == 6)][\"Source\"]:\n",
        "  if val in list(dfGraph1[(dfGraph1[\"eType\"] == 6)][\"Target\"]):\n",
        "    print(\"A match is found\", end =\", \")"
      ],
      "execution_count": 0,
      "outputs": []
    },
    {
      "cell_type": "code",
      "metadata": {
        "id": "bGGasZ8TvzVX",
        "colab_type": "code",
        "colab": {
          "base_uri": "https://localhost:8080/",
          "height": 54
        },
        "outputId": "7e4b6087-0b99-499a-c2ab-2c6bba7c7df7"
      },
      "source": [
        "for val in dfGraph2[(dfGraph2[\"eType\"] == 0) | (dfGraph2[\"eType\"] == 1)][\"Source\"]:\n",
        "  if val in list(dfGraph2[(dfGraph2[\"eType\"] == 0)][\"Target\"]):\n",
        "    print(\"A match is found\", end =\", \")"
      ],
      "execution_count": 30,
      "outputs": [
        {
          "output_type": "stream",
          "text": [
            "A match is found, A match is found, A match is found, A match is found, A match is found, A match is found, A match is found, A match is found, A match is found, A match is found, A match is found, A match is found, A match is found, A match is found, A match is found, A match is found, A match is found, A match is found, A match is found, A match is found, A match is found, A match is found, A match is found, A match is found, A match is found, A match is found, A match is found, A match is found, A match is found, A match is found, A match is found, A match is found, A match is found, A match is found, A match is found, A match is found, A match is found, A match is found, A match is found, A match is found, A match is found, A match is found, A match is found, A match is found, A match is found, A match is found, A match is found, A match is found, A match is found, A match is found, A match is found, A match is found, A match is found, A match is found, A match is found, A match is found, A match is found, A match is found, A match is found, A match is found, A match is found, A match is found, A match is found, A match is found, A match is found, A match is found, A match is found, A match is found, A match is found, A match is found, A match is found, A match is found, A match is found, A match is found, A match is found, A match is found, A match is found, A match is found, A match is found, A match is found, A match is found, A match is found, A match is found, A match is found, A match is found, A match is found, A match is found, A match is found, A match is found, A match is found, A match is found, A match is found, A match is found, A match is found, A match is found, A match is found, A match is found, A match is found, A match is found, A match is found, A match is found, A match is found, A match is found, A match is found, A match is found, A match is found, A match is found, A match is found, A match is found, A match is found, A match is found, A match is found, A match is found, A match is found, A match is found, A match is found, A match is found, A match is found, A match is found, A match is found, A match is found, A match is found, A match is found, A match is found, A match is found, A match is found, A match is found, A match is found, A match is found, A match is found, A match is found, A match is found, A match is found, A match is found, A match is found, A match is found, A match is found, A match is found, A match is found, A match is found, A match is found, A match is found, A match is found, A match is found, A match is found, A match is found, A match is found, A match is found, A match is found, A match is found, A match is found, A match is found, A match is found, A match is found, A match is found, A match is found, A match is found, A match is found, A match is found, A match is found, A match is found, A match is found, A match is found, A match is found, A match is found, A match is found, A match is found, A match is found, A match is found, A match is found, A match is found, A match is found, A match is found, A match is found, A match is found, A match is found, A match is found, A match is found, A match is found, A match is found, A match is found, A match is found, A match is found, A match is found, A match is found, A match is found, A match is found, A match is found, A match is found, A match is found, A match is found, A match is found, A match is found, A match is found, A match is found, A match is found, A match is found, A match is found, A match is found, A match is found, A match is found, A match is found, A match is found, A match is found, A match is found, A match is found, A match is found, A match is found, A match is found, A match is found, A match is found, A match is found, A match is found, A match is found, A match is found, A match is found, A match is found, A match is found, A match is found, A match is found, A match is found, A match is found, A match is found, A match is found, A match is found, A match is found, A match is found, A match is found, A match is found, A match is found, A match is found, A match is found, A match is found, A match is found, A match is found, A match is found, A match is found, A match is found, A match is found, A match is found, A match is found, A match is found, A match is found, A match is found, A match is found, A match is found, A match is found, A match is found, A match is found, A match is found, A match is found, A match is found, A match is found, A match is found, A match is found, A match is found, A match is found, A match is found, A match is found, A match is found, A match is found, A match is found, A match is found, A match is found, A match is found, A match is found, A match is found, A match is found, A match is found, A match is found, A match is found, A match is found, A match is found, A match is found, A match is found, A match is found, A match is found, A match is found, A match is found, A match is found, A match is found, A match is found, A match is found, A match is found, A match is found, A match is found, A match is found, A match is found, A match is found, A match is found, A match is found, A match is found, A match is found, A match is found, A match is found, A match is found, A match is found, A match is found, A match is found, A match is found, A match is found, A match is found, A match is found, A match is found, A match is found, A match is found, A match is found, A match is found, A match is found, A match is found, A match is found, A match is found, A match is found, A match is found, A match is found, A match is found, A match is found, A match is found, A match is found, A match is found, A match is found, A match is found, A match is found, A match is found, A match is found, A match is found, A match is found, A match is found, A match is found, A match is found, A match is found, A match is found, A match is found, A match is found, A match is found, A match is found, A match is found, A match is found, A match is found, A match is found, A match is found, A match is found, A match is found, A match is found, A match is found, A match is found, A match is found, A match is found, A match is found, A match is found, A match is found, A match is found, A match is found, A match is found, A match is found, A match is found, A match is found, A match is found, A match is found, A match is found, A match is found, A match is found, A match is found, A match is found, A match is found, A match is found, A match is found, A match is found, A match is found, A match is found, A match is found, A match is found, A match is found, A match is found, A match is found, A match is found, A match is found, A match is found, A match is found, A match is found, A match is found, A match is found, A match is found, A match is found, A match is found, A match is found, A match is found, A match is found, A match is found, A match is found, A match is found, A match is found, A match is found, A match is found, A match is found, A match is found, "
          ],
          "name": "stdout"
        }
      ]
    },
    {
      "cell_type": "code",
      "metadata": {
        "id": "4li28vS9vzbf",
        "colab_type": "code",
        "colab": {}
      },
      "source": [
        ""
      ],
      "execution_count": 0,
      "outputs": []
    },
    {
      "cell_type": "code",
      "metadata": {
        "id": "8w3C6njBvzaa",
        "colab_type": "code",
        "colab": {}
      },
      "source": [
        ""
      ],
      "execution_count": 0,
      "outputs": []
    },
    {
      "cell_type": "code",
      "metadata": {
        "id": "IkXjuBh-vzUA",
        "colab_type": "code",
        "colab": {}
      },
      "source": [
        ""
      ],
      "execution_count": 0,
      "outputs": []
    },
    {
      "cell_type": "code",
      "metadata": {
        "id": "X7qXq6mdSrrl",
        "colab_type": "code",
        "colab": {}
      },
      "source": [
        "import networkx as nx"
      ],
      "execution_count": 0,
      "outputs": []
    },
    {
      "cell_type": "code",
      "metadata": {
        "id": "8L_dssCwSryn",
        "colab_type": "code",
        "colab": {}
      },
      "source": [
        "G = nx.Graph()"
      ],
      "execution_count": 0,
      "outputs": []
    },
    {
      "cell_type": "code",
      "metadata": {
        "id": "qY65KjlmSrw3",
        "colab_type": "code",
        "colab": {
          "base_uri": "https://localhost:8080/",
          "height": 34
        },
        "outputId": "0e171f47-2db7-4983-ce1e-3476da361389"
      },
      "source": [
        "G.number_of_nodes()"
      ],
      "execution_count": 5,
      "outputs": [
        {
          "output_type": "execute_result",
          "data": {
            "text/plain": [
              "0"
            ]
          },
          "metadata": {
            "tags": []
          },
          "execution_count": 5
        }
      ]
    },
    {
      "cell_type": "code",
      "metadata": {
        "id": "t5CyhiyJSrqq",
        "colab_type": "code",
        "colab": {
          "base_uri": "https://localhost:8080/",
          "height": 34
        },
        "outputId": "69d95250-4724-4f82-dfe3-d90b253571de"
      },
      "source": [
        "G.number_of_edges()"
      ],
      "execution_count": 13,
      "outputs": [
        {
          "output_type": "execute_result",
          "data": {
            "text/plain": [
              "969311"
            ]
          },
          "metadata": {
            "tags": []
          },
          "execution_count": 13
        }
      ]
    },
    {
      "cell_type": "code",
      "metadata": {
        "id": "gCGYWo72TPqp",
        "colab_type": "code",
        "colab": {
          "base_uri": "https://localhost:8080/",
          "height": 402
        },
        "outputId": "1facdde5-288d-4c52-bbe0-ff9871a18259"
      },
      "source": [
        "sampleFromBigGraph01 = dfBigGraph.iloc[0:10000000,[0,2]]\n",
        "sampleFromBigGraph01"
      ],
      "execution_count": 6,
      "outputs": [
        {
          "output_type": "execute_result",
          "data": {
            "text/html": [
              "<div>\n",
              "<style scoped>\n",
              "    .dataframe tbody tr th:only-of-type {\n",
              "        vertical-align: middle;\n",
              "    }\n",
              "\n",
              "    .dataframe tbody tr th {\n",
              "        vertical-align: top;\n",
              "    }\n",
              "\n",
              "    .dataframe thead th {\n",
              "        text-align: right;\n",
              "    }\n",
              "</style>\n",
              "<table border=\"1\" class=\"dataframe\">\n",
              "  <thead>\n",
              "    <tr style=\"text-align: right;\">\n",
              "      <th></th>\n",
              "      <th>Source</th>\n",
              "      <th>Target</th>\n",
              "    </tr>\n",
              "  </thead>\n",
              "  <tbody>\n",
              "    <tr>\n",
              "      <th>0</th>\n",
              "      <td>639754</td>\n",
              "      <td>643327</td>\n",
              "    </tr>\n",
              "    <tr>\n",
              "      <th>1</th>\n",
              "      <td>603100</td>\n",
              "      <td>643327</td>\n",
              "    </tr>\n",
              "    <tr>\n",
              "      <th>2</th>\n",
              "      <td>577847</td>\n",
              "      <td>643327</td>\n",
              "    </tr>\n",
              "    <tr>\n",
              "      <th>3</th>\n",
              "      <td>466246</td>\n",
              "      <td>643327</td>\n",
              "    </tr>\n",
              "    <tr>\n",
              "      <th>4</th>\n",
              "      <td>633499</td>\n",
              "      <td>549896</td>\n",
              "    </tr>\n",
              "    <tr>\n",
              "      <th>...</th>\n",
              "      <td>...</td>\n",
              "      <td>...</td>\n",
              "    </tr>\n",
              "    <tr>\n",
              "      <th>9999995</th>\n",
              "      <td>590886</td>\n",
              "      <td>646983</td>\n",
              "    </tr>\n",
              "    <tr>\n",
              "      <th>9999996</th>\n",
              "      <td>646983</td>\n",
              "      <td>544934</td>\n",
              "    </tr>\n",
              "    <tr>\n",
              "      <th>9999997</th>\n",
              "      <td>544934</td>\n",
              "      <td>590886</td>\n",
              "    </tr>\n",
              "    <tr>\n",
              "      <th>9999998</th>\n",
              "      <td>590886</td>\n",
              "      <td>642119</td>\n",
              "    </tr>\n",
              "    <tr>\n",
              "      <th>9999999</th>\n",
              "      <td>642119</td>\n",
              "      <td>460726</td>\n",
              "    </tr>\n",
              "  </tbody>\n",
              "</table>\n",
              "<p>10000000 rows × 2 columns</p>\n",
              "</div>"
            ],
            "text/plain": [
              "         Source  Target\n",
              "0        639754  643327\n",
              "1        603100  643327\n",
              "2        577847  643327\n",
              "3        466246  643327\n",
              "4        633499  549896\n",
              "...         ...     ...\n",
              "9999995  590886  646983\n",
              "9999996  646983  544934\n",
              "9999997  544934  590886\n",
              "9999998  590886  642119\n",
              "9999999  642119  460726\n",
              "\n",
              "[10000000 rows x 2 columns]"
            ]
          },
          "metadata": {
            "tags": []
          },
          "execution_count": 6
        }
      ]
    },
    {
      "cell_type": "code",
      "metadata": {
        "id": "7yxA0u6OTPxJ",
        "colab_type": "code",
        "colab": {}
      },
      "source": [
        "sampleFromBigGraph01Tuple = [tuple([x, y]) for x, y in zip(sampleFromBigGraph01[\"Source\"], sampleFromBigGraph01[\"Target\"])]"
      ],
      "execution_count": 0,
      "outputs": []
    },
    {
      "cell_type": "code",
      "metadata": {
        "id": "e5l1SEcMTP2Q",
        "colab_type": "code",
        "colab": {}
      },
      "source": [
        "G.add_edges_from(sampleFromBigGraph01Tuple)"
      ],
      "execution_count": 0,
      "outputs": []
    },
    {
      "cell_type": "code",
      "metadata": {
        "id": "G6_xtagxj4bK",
        "colab_type": "code",
        "colab": {
          "base_uri": "https://localhost:8080/",
          "height": 167
        },
        "outputId": "08380078-16c3-4440-9e04-8496ddffb670"
      },
      "source": [
        "G.add_edges_from([tuple([x, y]) for x, y in zip(sampleFromBigGraph01[\"Source\"], sampleFromBigGraph01[\"Target\"])])"
      ],
      "execution_count": 1,
      "outputs": [
        {
          "output_type": "error",
          "ename": "NameError",
          "evalue": "ignored",
          "traceback": [
            "\u001b[0;31m---------------------------------------------------------------------------\u001b[0m",
            "\u001b[0;31mNameError\u001b[0m                                 Traceback (most recent call last)",
            "\u001b[0;32m<ipython-input-1-c5de6a65ede6>\u001b[0m in \u001b[0;36m<module>\u001b[0;34m()\u001b[0m\n\u001b[0;32m----> 1\u001b[0;31m \u001b[0mG\u001b[0m\u001b[0;34m.\u001b[0m\u001b[0madd_edges_from\u001b[0m\u001b[0;34m(\u001b[0m\u001b[0;34m[\u001b[0m\u001b[0mtuple\u001b[0m\u001b[0;34m(\u001b[0m\u001b[0;34m[\u001b[0m\u001b[0mx\u001b[0m\u001b[0;34m,\u001b[0m \u001b[0my\u001b[0m\u001b[0;34m]\u001b[0m\u001b[0;34m)\u001b[0m \u001b[0;32mfor\u001b[0m \u001b[0mx\u001b[0m\u001b[0;34m,\u001b[0m \u001b[0my\u001b[0m \u001b[0;32min\u001b[0m \u001b[0mzip\u001b[0m\u001b[0;34m(\u001b[0m\u001b[0msampleFromBigGraph01\u001b[0m\u001b[0;34m[\u001b[0m\u001b[0;34m\"Source\"\u001b[0m\u001b[0;34m]\u001b[0m\u001b[0;34m,\u001b[0m \u001b[0msampleFromBigGraph01\u001b[0m\u001b[0;34m[\u001b[0m\u001b[0;34m\"Target\"\u001b[0m\u001b[0;34m]\u001b[0m\u001b[0;34m)\u001b[0m\u001b[0;34m]\u001b[0m\u001b[0;34m)\u001b[0m\u001b[0;34m\u001b[0m\u001b[0;34m\u001b[0m\u001b[0m\n\u001b[0m",
            "\u001b[0;31mNameError\u001b[0m: name 'G' is not defined"
          ]
        }
      ]
    },
    {
      "cell_type": "code",
      "metadata": {
        "id": "nSiaxoRhTPwY",
        "colab_type": "code",
        "colab": {}
      },
      "source": [
        "import matplotlib.pyplot as plt"
      ],
      "execution_count": 0,
      "outputs": []
    },
    {
      "cell_type": "code",
      "metadata": {
        "id": "Kx7xld--TPpu",
        "colab_type": "code",
        "colab": {}
      },
      "source": [
        "plt.subplot(111)\n",
        "nx.draw(G, with_labels=True, font_weight='bold')"
      ],
      "execution_count": 0,
      "outputs": []
    },
    {
      "cell_type": "code",
      "metadata": {
        "id": "e_DzJKF5bc3v",
        "colab_type": "code",
        "colab": {}
      },
      "source": [
        "nx.clustering(G)"
      ],
      "execution_count": 0,
      "outputs": []
    },
    {
      "cell_type": "code",
      "metadata": {
        "id": "07g4XmzKbdGH",
        "colab_type": "code",
        "colab": {}
      },
      "source": [
        ""
      ],
      "execution_count": 0,
      "outputs": []
    },
    {
      "cell_type": "code",
      "metadata": {
        "id": "DxLi83KRbdTK",
        "colab_type": "code",
        "colab": {}
      },
      "source": [
        ""
      ],
      "execution_count": 0,
      "outputs": []
    }
  ]
}