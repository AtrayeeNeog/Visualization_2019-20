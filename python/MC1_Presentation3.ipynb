{
  "nbformat": 4,
  "nbformat_minor": 0,
  "metadata": {
    "colab": {
      "name": "MC1_Presentation3.ipynb",
      "provenance": [],
      "toc_visible": true,
      "mount_file_id": "1SJwG5e93bg6cep2Vvx9oDDhzetaiHos1",
      "authorship_tag": "ABX9TyPIjcPoGFkOfvkLsjYMbYiB"
    },
    "kernelspec": {
      "name": "python3",
      "display_name": "Python 3"
    }
  },
  "cells": [
    {
      "cell_type": "markdown",
      "metadata": {
        "id": "RA4aKTq29ZPy",
        "colab_type": "text"
      },
      "source": [
        "# Importing necessary libraries"
      ]
    },
    {
      "cell_type": "code",
      "metadata": {
        "id": "TpJT-fdsPIdf",
        "colab_type": "code",
        "outputId": "8b39e0c5-dbcf-418b-fabc-a310e8ac0355",
        "colab": {
          "base_uri": "https://localhost:8080/",
          "height": 105
        }
      },
      "source": [
        "import pandas as pd\n",
        "import numpy as np\n",
        "import matplotlib.pyplot as plt\n",
        "import networkx as nx\n",
        "import plotly.express as px\n",
        "import plotly.graph_objects as go\n",
        "import seaborn as sns\n",
        "from plotly.subplots import make_subplots\n",
        "import matplotlib.cm as cm\n",
        "print()"
      ],
      "execution_count": 2,
      "outputs": [
        {
          "output_type": "stream",
          "text": [
            "\n"
          ],
          "name": "stdout"
        },
        {
          "output_type": "stream",
          "text": [
            "/usr/local/lib/python3.6/dist-packages/statsmodels/tools/_testing.py:19: FutureWarning:\n",
            "\n",
            "pandas.util.testing is deprecated. Use the functions in the public API at pandas.testing instead.\n",
            "\n"
          ],
          "name": "stderr"
        }
      ]
    },
    {
      "cell_type": "markdown",
      "metadata": {
        "id": "YPnnLaD-9MxE",
        "colab_type": "text"
      },
      "source": [
        "# Analyzing quantitive measures for the Template and Graphs of question 1"
      ]
    },
    {
      "cell_type": "markdown",
      "metadata": {
        "id": "RN1eZJSj_jgQ",
        "colab_type": "text"
      },
      "source": [
        "## loading the graphs into pandas dataframes"
      ]
    },
    {
      "cell_type": "code",
      "metadata": {
        "id": "PQ5Vq6zH_RFJ",
        "colab_type": "code",
        "colab": {}
      },
      "source": [
        "# csv files are read from the drive connected to the notebook\n",
        "dfTemplate = pd.read_csv('drive/My Drive/data/CGCS-Template.csv')\n",
        "dfGraph1 = pd.read_csv('drive/My Drive/data/Q1-Graph1.csv')\n",
        "dfGraph2 = pd.read_csv('drive/My Drive/data/Q1-Graph2.csv')\n",
        "dfGraph3 = pd.read_csv('drive/My Drive/data/Q1-Graph3.csv')\n",
        "dfGraph4 = pd.read_csv('drive/My Drive/data/Q1-Graph4.csv')\n",
        "dfGraph5 = pd.read_csv('drive/My Drive/data/Q1-Graph5.csv')"
      ],
      "execution_count": 0,
      "outputs": []
    },
    {
      "cell_type": "markdown",
      "metadata": {
        "id": "CoAxE21tGq4J",
        "colab_type": "text"
      },
      "source": [
        "### Numerical data for question 1 graphs"
      ]
    },
    {
      "cell_type": "markdown",
      "metadata": {
        "id": "7v8L5KVMlrPk",
        "colab_type": "text"
      },
      "source": [
        "#### Creating the graphs"
      ]
    },
    {
      "cell_type": "code",
      "metadata": {
        "id": "0nX8WtHnp0SB",
        "colab_type": "code",
        "colab": {}
      },
      "source": [
        "# Creating empty Directed graphs for each of the graphs\n",
        "templateG = nx.DiGraph()\n",
        "graph1G = nx.DiGraph()\n",
        "graph2G = nx.DiGraph()\n",
        "graph3G = nx.DiGraph()\n",
        "graph4G = nx.DiGraph()\n",
        "graph5G = nx.DiGraph()"
      ],
      "execution_count": 0,
      "outputs": []
    },
    {
      "cell_type": "code",
      "metadata": {
        "id": "fZDD1bmBG4Ec",
        "colab_type": "code",
        "colab": {}
      },
      "source": [
        "# Creating empty Multi-way Directed graphs(repeated edges are considered) for each of the graphs\n",
        "templateG = nx.MultiDiGraph()\n",
        "graph1G = nx.MultiDiGraph()\n",
        "graph2G = nx.MultiDiGraph()\n",
        "graph3G = nx.MultiDiGraph()\n",
        "graph4G = nx.MultiDiGraph()\n",
        "graph5G = nx.MultiDiGraph()"
      ],
      "execution_count": 0,
      "outputs": []
    },
    {
      "cell_type": "code",
      "metadata": {
        "id": "G1nrjJmAsS5v",
        "colab_type": "code",
        "colab": {}
      },
      "source": [
        ""
      ],
      "execution_count": 0,
      "outputs": []
    },
    {
      "cell_type": "code",
      "metadata": {
        "id": "uV-fgJ8LkARz",
        "colab_type": "code",
        "colab": {}
      },
      "source": [
        "# Putting the Source and Target values in tuples for each corresponding graph All channels\n",
        "# for adding the edges into the graphs we first need to create a list of tuples of those edges\n",
        "templateNodesTuple = [tuple([x, y]) for x, y in zip(dfTemplate[\"Source\"], dfTemplate[\"Target\"])]\n",
        "graph1NodesTuple = [tuple([x, y]) for x, y in zip(dfGraph1[\"Source\"], dfGraph1[\"Target\"])]\n",
        "graph2NodesTuple = [tuple([x, y]) for x, y in zip(dfGraph2[\"Source\"], dfGraph2[\"Target\"])]\n",
        "graph3NodesTuple = [tuple([x, y]) for x, y in zip(dfGraph3[\"Source\"], dfGraph3[\"Target\"])]\n",
        "graph4NodesTuple = [tuple([x, y]) for x, y in zip(dfGraph4[\"Source\"], dfGraph4[\"Target\"])]\n",
        "graph5NodesTuple = [tuple([x, y]) for x, y in zip(dfGraph5[\"Source\"], dfGraph5[\"Target\"])]"
      ],
      "execution_count": 0,
      "outputs": []
    },
    {
      "cell_type": "code",
      "metadata": {
        "colab_type": "code",
        "id": "DyCqFds6TTwf",
        "colab": {}
      },
      "source": [
        "# Putting the Source and Target values in tuples for each corresponding graph All channels\n",
        "# for adding the edges into the graphs we first need to create a list of tuples of those edges\n",
        "# Time added as a weight\n",
        "templateNodesTuple = [tuple([x, y, z]) for x, y, z in zip(dfTemplate[\"Source\"], dfTemplate[\"Target\"], dfTemplate[\"Time\"])]\n",
        "graph1NodesTuple = [tuple([x, y, z]) for x, y, z in zip(dfGraph1[\"Source\"], dfGraph1[\"Target\"], dfGraph1[\"Time\"])]\n",
        "graph2NodesTuple = [tuple([x, y, z]) for x, y, z in zip(dfGraph2[\"Source\"], dfGraph2[\"Target\"], dfGraph2[\"Time\"])]\n",
        "graph3NodesTuple = [tuple([x, y, z]) for x, y, z in zip(dfGraph3[\"Source\"], dfGraph3[\"Target\"], dfGraph3[\"Time\"])]\n",
        "graph4NodesTuple = [tuple([x, y, z]) for x, y, z in zip(dfGraph4[\"Source\"], dfGraph4[\"Target\"], dfGraph4[\"Time\"])]\n",
        "graph5NodesTuple = [tuple([x, y, z]) for x, y, z in zip(dfGraph5[\"Source\"], dfGraph5[\"Target\"], dfGraph5[\"Time\"])]"
      ],
      "execution_count": 0,
      "outputs": []
    },
    {
      "cell_type": "code",
      "metadata": {
        "id": "iFe-3VA3G6xt",
        "colab_type": "code",
        "colab": {}
      },
      "source": [
        "# Putting the Source and Target values in tuples for each corresponding graph Communication channel\n",
        "templateNodesTuple = [tuple([x, y]) for x, y in zip(dfTemplate[(dfTemplate[\"eType\"] == 0) | (dfTemplate[\"eType\"] == 1)][\"Source\"],\n",
        "                      dfTemplate[(dfTemplate[\"eType\"] == 0) | (dfTemplate[\"eType\"] == 1)][\"Target\"])]\n",
        "graph1NodesTuple = [tuple([x, y]) for x, y in zip(dfGraph1[(dfGraph1[\"eType\"] == 0) | (dfGraph1[\"eType\"] == 1)][\"Source\"], \n",
        "                                                  dfGraph1[(dfGraph1[\"eType\"] == 0) | (dfGraph1[\"eType\"] == 1)][\"Target\"])]\n",
        "graph2NodesTuple = [tuple([x, y]) for x, y in zip(dfGraph2[(dfGraph2[\"eType\"] == 0) | (dfGraph2[\"eType\"] == 1)][\"Source\"], \n",
        "                                                  dfGraph2[(dfGraph2[\"eType\"] == 0) | (dfGraph2[\"eType\"] == 1)][\"Target\"])]\n",
        "graph3NodesTuple = [tuple([x, y]) for x, y in zip(dfGraph3[(dfGraph3[\"eType\"] == 0) | (dfGraph3[\"eType\"] == 1)][\"Source\"], \n",
        "                                                  dfGraph3[(dfGraph3[\"eType\"] == 0) | (dfGraph3[\"eType\"] == 1)][\"Target\"])]\n",
        "graph4NodesTuple = [tuple([x, y]) for x, y in zip(dfGraph4[(dfGraph4[\"eType\"] == 0) | (dfGraph4[\"eType\"] == 1)][\"Source\"], \n",
        "                                                  dfGraph4[(dfGraph4[\"eType\"] == 0) | (dfGraph4[\"eType\"] == 1)][\"Target\"])]\n",
        "graph5NodesTuple = [tuple([x, y]) for x, y in zip(dfGraph5[(dfGraph5[\"eType\"] == 0) | (dfGraph5[\"eType\"] == 1)][\"Source\"], \n",
        "                                                  dfGraph5[(dfGraph5[\"eType\"] == 0) | (dfGraph5[\"eType\"] == 1)][\"Target\"])]"
      ],
      "execution_count": 0,
      "outputs": []
    },
    {
      "cell_type": "code",
      "metadata": {
        "id": "V6zq6HgRG6tW",
        "colab_type": "code",
        "outputId": "a6951f17-c3ab-4a3b-f434-6c17fd0ac978",
        "colab": {
          "base_uri": "https://localhost:8080/",
          "height": 34
        }
      },
      "source": [
        "# Creating graph objects from the tuples\n",
        "templateG.add_edges_from(templateNodesTuple)\n",
        "graph1G.add_edges_from(graph1NodesTuple)\n",
        "graph2G.add_edges_from(graph2NodesTuple)\n",
        "graph3G.add_edges_from(graph3NodesTuple)\n",
        "graph4G.add_edges_from(graph4NodesTuple)\n",
        "graph5G.add_edges_from(graph5NodesTuple)\n",
        "print(\"\")"
      ],
      "execution_count": 64,
      "outputs": [
        {
          "output_type": "stream",
          "text": [
            "\n"
          ],
          "name": "stdout"
        }
      ]
    },
    {
      "cell_type": "code",
      "metadata": {
        "colab_type": "code",
        "outputId": "eeef2942-529d-43e3-e7ab-c66105cbb611",
        "id": "4uGpygdjXe3U",
        "colab": {
          "base_uri": "https://localhost:8080/",
          "height": 34
        }
      },
      "source": [
        "# Creating graph objects from the tuples \n",
        "# with a weight\n",
        "templateG.add_weighted_edges_from(templateNodesTuple)\n",
        "graph1G.add_weighted_edges_from(graph1NodesTuple)\n",
        "graph2G.add_weighted_edges_from(graph2NodesTuple)\n",
        "graph3G.add_weighted_edges_from(graph3NodesTuple)\n",
        "graph4G.add_weighted_edges_from(graph4NodesTuple)\n",
        "graph5G.add_weighted_edges_from(graph5NodesTuple)\n",
        "print(\"\")"
      ],
      "execution_count": 0,
      "outputs": [
        {
          "output_type": "stream",
          "text": [
            "\n"
          ],
          "name": "stdout"
        }
      ]
    },
    {
      "cell_type": "markdown",
      "metadata": {
        "id": "FoyYpfDwUjA3",
        "colab_type": "text"
      },
      "source": [
        "##### Graph info"
      ]
    },
    {
      "cell_type": "code",
      "metadata": {
        "id": "Onk9Eo93ULjX",
        "colab_type": "code",
        "colab": {
          "base_uri": "https://localhost:8080/",
          "height": 122
        },
        "outputId": "696ff8c3-89b7-44b4-ab96-e292f41061e7"
      },
      "source": [
        "print(nx.info(templateG))"
      ],
      "execution_count": 46,
      "outputs": [
        {
          "output_type": "stream",
          "text": [
            "Name: \n",
            "Type: MultiDiGraph\n",
            "Number of nodes: 88\n",
            "Number of edges: 1325\n",
            "Average in degree:  15.0568\n",
            "Average out degree:  15.0568\n"
          ],
          "name": "stdout"
        }
      ]
    },
    {
      "cell_type": "code",
      "metadata": {
        "id": "nXpfWpW-URPU",
        "colab_type": "code",
        "colab": {
          "base_uri": "https://localhost:8080/",
          "height": 122
        },
        "outputId": "3d6eb76b-0cdc-47ed-c23a-e8cb8baf3a28"
      },
      "source": [
        "print(nx.info(graph1G))"
      ],
      "execution_count": 47,
      "outputs": [
        {
          "output_type": "stream",
          "text": [
            "Name: \n",
            "Type: MultiDiGraph\n",
            "Number of nodes: 93\n",
            "Number of edges: 1216\n",
            "Average in degree:  13.0753\n",
            "Average out degree:  13.0753\n"
          ],
          "name": "stdout"
        }
      ]
    },
    {
      "cell_type": "code",
      "metadata": {
        "id": "-92-FZc0UUkq",
        "colab_type": "code",
        "colab": {
          "base_uri": "https://localhost:8080/",
          "height": 122
        },
        "outputId": "3d147f1e-80b8-4d82-c3dc-7fb765346523"
      },
      "source": [
        "print(nx.info(graph2G))"
      ],
      "execution_count": 48,
      "outputs": [
        {
          "output_type": "stream",
          "text": [
            "Name: \n",
            "Type: MultiDiGraph\n",
            "Number of nodes: 87\n",
            "Number of edges: 1300\n",
            "Average in degree:  14.9425\n",
            "Average out degree:  14.9425\n"
          ],
          "name": "stdout"
        }
      ]
    },
    {
      "cell_type": "code",
      "metadata": {
        "id": "RC7GMlcUUUqf",
        "colab_type": "code",
        "colab": {
          "base_uri": "https://localhost:8080/",
          "height": 122
        },
        "outputId": "36dfb63d-0eee-4a9c-fbf4-0421df9d7df6"
      },
      "source": [
        "print(nx.info(graph3G))"
      ],
      "execution_count": 49,
      "outputs": [
        {
          "output_type": "stream",
          "text": [
            "Name: \n",
            "Type: MultiDiGraph\n",
            "Number of nodes: 79\n",
            "Number of edges: 729\n",
            "Average in degree:   9.2278\n",
            "Average out degree:   9.2278\n"
          ],
          "name": "stdout"
        }
      ]
    },
    {
      "cell_type": "code",
      "metadata": {
        "id": "cr1LST3tUVcC",
        "colab_type": "code",
        "colab": {
          "base_uri": "https://localhost:8080/",
          "height": 122
        },
        "outputId": "e776ba7a-eb6f-43fb-96d7-42e02366c626"
      },
      "source": [
        "print(nx.info(graph4G))"
      ],
      "execution_count": 50,
      "outputs": [
        {
          "output_type": "stream",
          "text": [
            "Name: \n",
            "Type: MultiDiGraph\n",
            "Number of nodes: 87\n",
            "Number of edges: 732\n",
            "Average in degree:   8.4138\n",
            "Average out degree:   8.4138\n"
          ],
          "name": "stdout"
        }
      ]
    },
    {
      "cell_type": "code",
      "metadata": {
        "id": "3tR0GzonUUjl",
        "colab_type": "code",
        "colab": {
          "base_uri": "https://localhost:8080/",
          "height": 122
        },
        "outputId": "0f6c22d5-b491-45fa-9705-32a21ab96e1a"
      },
      "source": [
        "print(nx.info(graph5G))"
      ],
      "execution_count": 51,
      "outputs": [
        {
          "output_type": "stream",
          "text": [
            "Name: \n",
            "Type: MultiDiGraph\n",
            "Number of nodes: 86\n",
            "Number of edges: 395\n",
            "Average in degree:   4.5930\n",
            "Average out degree:   4.5930\n"
          ],
          "name": "stdout"
        }
      ]
    },
    {
      "cell_type": "code",
      "metadata": {
        "id": "lZpseGNQlwhl",
        "colab_type": "code",
        "colab": {}
      },
      "source": [
        "testG = nx.MultiDiGraph()"
      ],
      "execution_count": 0,
      "outputs": []
    },
    {
      "cell_type": "code",
      "metadata": {
        "id": "1FwBiPeAT04a",
        "colab_type": "code",
        "colab": {
          "base_uri": "https://localhost:8080/",
          "height": 351
        },
        "outputId": "c80dd229-6cae-4458-d895-9fb3032a0b63"
      },
      "source": [
        "templateNodesTuple[1:20]"
      ],
      "execution_count": 46,
      "outputs": [
        {
          "output_type": "execute_result",
          "data": {
            "text/plain": [
              "[(41, 34),\n",
              " (37, 27),\n",
              " (34, 27),\n",
              " (41, 37),\n",
              " (34, 37),\n",
              " (27, 41),\n",
              " (27, 41),\n",
              " (41, 37),\n",
              " (37, 34),\n",
              " (41, 34),\n",
              " (27, 37),\n",
              " (37, 41),\n",
              " (41, 27),\n",
              " (34, 41),\n",
              " (41, 27),\n",
              " (41, 37),\n",
              " (34, 41),\n",
              " (41, 37),\n",
              " (37, 27)]"
            ]
          },
          "metadata": {
            "tags": []
          },
          "execution_count": 46
        }
      ]
    },
    {
      "cell_type": "code",
      "metadata": {
        "id": "okt3uCr-S4YV",
        "colab_type": "code",
        "colab": {}
      },
      "source": [
        "templateNodesTuple = [tuple([x, y, z]) for x, y, z in zip(dfTemplate[\"Source\"], dfTemplate[\"Target\"], dfTemplate[\"Time\"])]"
      ],
      "execution_count": 0,
      "outputs": []
    },
    {
      "cell_type": "code",
      "metadata": {
        "id": "WAEtQq6VS_gK",
        "colab_type": "code",
        "colab": {
          "base_uri": "https://localhost:8080/",
          "height": 34
        },
        "outputId": "c69ed776-b072-4415-bee1-56f5bbfdd2bb"
      },
      "source": [
        "zip(range(5), range(6), range(2))"
      ],
      "execution_count": 24,
      "outputs": [
        {
          "output_type": "execute_result",
          "data": {
            "text/plain": [
              "<zip at 0x7f96ead56508>"
            ]
          },
          "metadata": {
            "tags": []
          },
          "execution_count": 24
        }
      ]
    },
    {
      "cell_type": "code",
      "metadata": {
        "id": "ABz3W-QRW4lE",
        "colab_type": "code",
        "outputId": "a94c2024-d508-4c75-add3-42e51ea39365",
        "colab": {
          "base_uri": "https://localhost:8080/",
          "height": 34
        }
      },
      "source": [
        "max([x for x, y, z in zip(dfTemplate[\"Source\"], dfTemplate[\"Target\"], dfTemplate[\"Time\"])])"
      ],
      "execution_count": 0,
      "outputs": [
        {
          "output_type": "execute_result",
          "data": {
            "text/plain": [
              "620120"
            ]
          },
          "metadata": {
            "tags": []
          },
          "execution_count": 16
        }
      ]
    },
    {
      "cell_type": "code",
      "metadata": {
        "id": "yMvFYE45VxM1",
        "colab_type": "code",
        "colab": {}
      },
      "source": [
        "a = [testG.add_edge(x, y,time = z) for x, y, z in zip(dfTemplate[\"Source\"], dfTemplate[\"Target\"], dfTemplate[\"Time\"])]"
      ],
      "execution_count": 0,
      "outputs": []
    },
    {
      "cell_type": "code",
      "metadata": {
        "id": "HHpPgQXSWBav",
        "colab_type": "code",
        "outputId": "ba4ab977-2880-4c9a-b360-5a35737e43bd",
        "colab": {
          "base_uri": "https://localhost:8080/",
          "height": 34
        }
      },
      "source": [
        "print(min([x for y, x in list(testG.in_degree())]),\n",
        "      max([x for y, x in list(testG.in_degree())]))"
      ],
      "execution_count": 0,
      "outputs": [
        {
          "output_type": "stream",
          "text": [
            "0 72\n"
          ],
          "name": "stdout"
        }
      ]
    },
    {
      "cell_type": "code",
      "metadata": {
        "id": "mTtsgVh7Z7Gz",
        "colab_type": "code",
        "outputId": "0be61f06-98d8-4fbe-c61d-2ebc99724a06",
        "colab": {
          "base_uri": "https://localhost:8080/",
          "height": 54
        }
      },
      "source": [
        "testG.degree()"
      ],
      "execution_count": 0,
      "outputs": [
        {
          "output_type": "execute_result",
          "data": {
            "text/plain": [
              "DiMultiDegreeView({0: 38, -99: 1, 41: 208, 34: 93, 37: 102, 27: 98, 40: 55, 39: 116, 65: 56, 67: 54, 47: 105, 66: 5, 657187: 18, 78: 4, 81: 7, 80: 4, 70: 13, 43: 74, 56: 85, 57: 64, 58: 95, 63: 120, 77: 4, 79: 4, 45: 76, 69: 10, 76: 7, 82: 1, 83: 1, 84: 1, 73: 3, 75: 3, 74: 3, 71: 9, 72: 6, 87: 4, 85: 4, 86: 4, 2: 24, 630626: 24, 536346: 13, 510031: 18, 520660: 10, 552988: 36, 567195: 30, 527449: 36, 459381: 36, 595298: 36, 466907: 33, 589943: 27, 577992: 19, 537281: 22, 523927: 28, 580426: 24, 595581: 23, 642329: 25, 503701: 33, 571970: 25, 644226: 13, 632961: 26, 473173: 36, 620120: 36, 621924: 23, 616315: 25, 29: 21, 575030: 26, 31: 23, 503218: 4, 33: 21, 35: 17, 36: 20, 38: 19, 42: 18, 44: 17, 46: 21, 48: 17, 49: 26, 640784: 1, 606730: 3, 52: 20, 53: 16, 54: 19, 55: 14, 59: 16, 60: 17, 61: 20, 62: 19, 64: 19})"
            ]
          },
          "metadata": {
            "tags": []
          },
          "execution_count": 19
        }
      ]
    },
    {
      "cell_type": "code",
      "metadata": {
        "id": "FqWMi8woaA74",
        "colab_type": "code",
        "outputId": "11c89b3b-0de4-40e8-9c53-10dfff0ccaf8",
        "colab": {
          "base_uri": "https://localhost:8080/",
          "height": 54
        }
      },
      "source": [
        "graph1G.degree()"
      ],
      "execution_count": 0,
      "outputs": [
        {
          "output_type": "execute_result",
          "data": {
            "text/plain": [
              "DiMultiDegreeView({599956: 74, 635665: 115, 490041: 55, 589639: 35, 533140: 20, 591682: 6, 568093: 12, 616050: 15, 632150: 16, 464459: 9, 512397: 19, 550287: 12, 559657: 5, 623295: 54, 492777: 59, 570411: 20, 550361: 35, 493044: 24, 596193: 30, 640464: 21})"
            ]
          },
          "metadata": {
            "tags": []
          },
          "execution_count": 22
        }
      ]
    },
    {
      "cell_type": "code",
      "metadata": {
        "id": "nr57mV5IYYmf",
        "colab_type": "code",
        "colab": {}
      },
      "source": [
        "testG2 = nx.MultiDiGraph()\n",
        "testTuple = [tuple([x, y]) for x, y in zip(dfTemplate[\"Source\"], dfTemplate[\"Target\"])]"
      ],
      "execution_count": 0,
      "outputs": []
    },
    {
      "cell_type": "code",
      "metadata": {
        "id": "haqpoxFxYhAz",
        "colab_type": "code",
        "colab": {}
      },
      "source": [
        "a = testG2.add_edges_from(testTuple)"
      ],
      "execution_count": 0,
      "outputs": []
    },
    {
      "cell_type": "code",
      "metadata": {
        "id": "QmRbp4HhYon_",
        "colab_type": "code",
        "outputId": "67e448f2-fd2d-47dc-8349-bc1cfd5bb683",
        "colab": {
          "base_uri": "https://localhost:8080/",
          "height": 34
        }
      },
      "source": [
        "print(min([x for y, x in list(testG2.in_degree())]),\n",
        "      max([x for y, x in list(testG2.in_degree())]))"
      ],
      "execution_count": 0,
      "outputs": [
        {
          "output_type": "stream",
          "text": [
            "0 72\n"
          ],
          "name": "stdout"
        }
      ]
    },
    {
      "cell_type": "code",
      "metadata": {
        "id": "zGTfFGAYZMfd",
        "colab_type": "code",
        "colab": {
          "base_uri": "https://localhost:8080/",
          "height": 34
        },
        "outputId": "73696fbb-63c8-4eee-9fdb-fb470c27a1c3"
      },
      "source": [
        "np.size(a,0)"
      ],
      "execution_count": 19,
      "outputs": [
        {
          "output_type": "execute_result",
          "data": {
            "text/plain": [
              "86"
            ]
          },
          "metadata": {
            "tags": []
          },
          "execution_count": 19
        }
      ]
    },
    {
      "cell_type": "markdown",
      "metadata": {
        "id": "HwPdJF7Ol261",
        "colab_type": "text"
      },
      "source": [
        "#### heatmap"
      ]
    },
    {
      "cell_type": "code",
      "metadata": {
        "id": "JoSVu8_PGxUs",
        "colab_type": "code",
        "outputId": "f236a4c1-2ee7-4378-cabc-bef46818446c",
        "colab": {
          "base_uri": "https://localhost:8080/",
          "height": 1000
        }
      },
      "source": [
        "# nx.to_numpy_matrix(graph1G)\n",
        "\n",
        "\n",
        "# Make an array with ones in the shape of an 'X'\n",
        "\n",
        "fig = plt.figure(figsize=(20, 20)) \n",
        "\n",
        "a = nx.to_numpy_matrix(templateG)\n",
        "ax1 = fig.add_subplot(321)\n",
        "ax1.imshow(a, interpolation=None, cmap=cm.Blues)\n",
        "\n",
        "a = nx.to_numpy_matrix(graph1G)\n",
        "ax1 = fig.add_subplot(322)\n",
        "ax1.imshow(a, interpolation=None, cmap=cm.Blues)\n",
        "\n",
        "a = nx.to_numpy_matrix(graph2G)\n",
        "ax1 = fig.add_subplot(323)\n",
        "ax1.imshow(a, interpolation=None, cmap=cm.Blues)\n",
        "\n",
        "a = nx.to_numpy_matrix(graph3G)\n",
        "ax1 = fig.add_subplot(324)\n",
        "ax1.imshow(a, interpolation=None, cmap=cm.Blues)\n",
        "\n",
        "a = nx.to_numpy_matrix(graph4G)\n",
        "ax1 = fig.add_subplot(325)\n",
        "ax1.imshow(a, interpolation=None, cmap=cm.Blues)\n",
        "\n",
        "a = nx.to_numpy_matrix(graph5G)\n",
        "ax1 = fig.add_subplot(326)\n",
        "ax1.imshow(a, interpolation=None, cmap=cm.Blues)\n",
        "\n",
        "\n",
        "plt.show()"
      ],
      "execution_count": 8,
      "outputs": [
        {
          "output_type": "display_data",
          "data": {
            "image/png": "[encoded data removed]",
            "text/plain": [
              "<Figure size 1440x1440 with 6 Axes>"
            ]
          },
          "metadata": {
            "tags": [],
            "needs_background": "light"
          }
        }
      ]
    },
    {
      "cell_type": "code",
      "metadata": {
        "id": "ySi-BKSmTxII",
        "colab_type": "code",
        "colab": {
          "base_uri": "https://localhost:8080/",
          "height": 1000
        },
        "outputId": "21ee6b6d-3df4-49d9-d620-aaf7b3d83929"
      },
      "source": [
        "#fig = plt.figure(figsize=(20, 20)) \n",
        "fig, ax = plt.subplots(1, 1, figsize=(20, 20))\n",
        "im = ax.imshow(a)\n",
        "\n",
        "# We want to show all ticks...\n",
        "ax.set_xticks(np.arange(np.size(a, 0)))\n",
        "ax.set_yticks(np.arange(np.size(a, 1)))\n",
        "# ... and label them with the respective list entries\n",
        "#ax.set_xticklabels(np.matrix(graph1G.nodes()))\n",
        "#ax.set_yticklabels(np.matrix(graph1G.nodes()))\n",
        "\n",
        "# Rotate the tick labels and set their alignment.\n",
        "plt.setp(ax.get_xticklabels(), rotation=45, ha=\"right\",\n",
        "         rotation_mode=\"anchor\")\n",
        "\n",
        "# Loop over data dimensions and create text annotations.\n",
        "for i in range(np.size(a, 0)):\n",
        "    for j in range(np.size(a, 1)):\n",
        "        text = ax.text(j, i, a[i, j],\n",
        "                       ha=\"center\", va=\"center\", color=\"w\")\n",
        "\n",
        "ax.set_title(\"Graph 5\")\n",
        "fig.tight_layout()\n",
        "plt.show()\n"
      ],
      "execution_count": 12,
      "outputs": [
        {
          "output_type": "display_data",
          "data": {
            "image/png": "[encoded data removed]",
            "text/plain": [
              "<Figure size 1440x1440 with 1 Axes>"
            ]
          },
          "metadata": {
            "tags": [],
            "needs_background": "light"
          }
        }
      ]
    },
    {
      "cell_type": "code",
      "metadata": {
        "id": "6oybSvSYUXmQ",
        "colab_type": "code",
        "colab": {
          "base_uri": "https://localhost:8080/",
          "height": 228
        },
        "outputId": "f73143d5-d09c-44b1-fdd5-b9e0ed80591b"
      },
      "source": [
        "np.matrix(graph1G.nodes())"
      ],
      "execution_count": 23,
      "outputs": [
        {
          "output_type": "execute_result",
          "data": {
            "text/plain": [
              "matrix([[616050, 590502, 599956, 635665, 490041, 589639, 533140, 591682,\n",
              "         568093, 632150, 464459, 512397, 550287, 559657, 623295, 492777,\n",
              "         570411, 550361, 493044, 596193, 640464, 657187, 629627, 625756,\n",
              "         657173, 599441, 534034, 585212, 509607, 499467, 538892, 542965,\n",
              "         572391, 561157, 649553, 570284, 643925, 616453, 608827, 630626,\n",
              "         552988, 567195, 527449, 459381, 595298, 466907, 589943, 537281,\n",
              "         580426, 595581, 616315, 642329, 503701, 632961, 473173, 620120,\n",
              "         575030, 621924, 536346, 510031, 520660, 577992, 571970, 644226,\n",
              "         530528, 523927, 635706, 554431, 566342, 548513, 599057, 640784,\n",
              "         474199, 475130, 576641, 463777, 654763, 503218, 529922, 599063,\n",
              "         606730, 622296, 592414, 575704, 654981, 575859, 505722, 517273,\n",
              "         492286, 636961, 629717, 502591, 569820]])"
            ]
          },
          "metadata": {
            "tags": []
          },
          "execution_count": 23
        }
      ]
    },
    {
      "cell_type": "markdown",
      "metadata": {
        "id": "1jwWJV6Uph1l",
        "colab_type": "text"
      },
      "source": [
        "#### degree"
      ]
    },
    {
      "cell_type": "code",
      "metadata": {
        "id": "UB8dW2pspjmo",
        "colab_type": "code",
        "colab": {}
      },
      "source": [
        "degreeTemplate = nx.degree(templateG)\n",
        "degreeGraph1 = nx.degree(graph1G)\n",
        "degreeGraph2 = nx.degree(graph2G)\n",
        "degreeGraph3 = nx.degree(graph3G)\n",
        "degreeGraph4 = nx.degree(graph4G)\n",
        "degreeGraph5 = nx.degree(graph5G)"
      ],
      "execution_count": 0,
      "outputs": []
    },
    {
      "cell_type": "code",
      "metadata": {
        "id": "UQMNHq-v_7n_",
        "colab_type": "code",
        "outputId": "21ac687b-aa46-4fb2-8094-5585a9d402aa",
        "colab": {
          "base_uri": "https://localhost:8080/",
          "height": 54
        }
      },
      "source": [
        "print(dict((y, x) for x, y in degreeTemplate))"
      ],
      "execution_count": 14,
      "outputs": [
        {
          "output_type": "stream",
          "text": [
            "{38: 0, 1: 640784, 208: 41, 93: 34, 102: 37, 98: 27, 55: 40, 116: 39, 56: 65, 54: 67, 105: 47, 5: 66, 18: 42, 4: 503218, 7: 76, 13: 644226, 74: 43, 85: 56, 64: 57, 95: 58, 120: 63, 76: 45, 10: 520660, 3: 606730, 9: 71, 6: 72, 24: 580426, 36: 620120, 30: 567195, 33: 503701, 27: 589943, 19: 64, 22: 537281, 28: 523927, 23: 31, 25: 616315, 26: 49, 21: 46, 17: 60, 20: 61, 16: 59, 14: 55}\n"
          ],
          "name": "stdout"
        }
      ]
    },
    {
      "cell_type": "code",
      "metadata": {
        "id": "K0zv1bCCw36x",
        "colab_type": "code",
        "outputId": "ac0bcdb5-f225-422f-9ad4-627f36a20247",
        "colab": {
          "base_uri": "https://localhost:8080/",
          "height": 122
        }
      },
      "source": [
        "print(\"degre erange for All channel in Template: \",\n",
        "      min(list(dict((x, y) for x, y in degreeTemplate).values())), \n",
        "      max(list(dict((x, y) for x, y in degreeTemplate).values())))\n",
        "\n",
        "print(\"degree range for All channel in graph 1: \",\n",
        "      min(list(dict((x, y) for x, y in degreeGraph1).values())), \n",
        "      max(list(dict((x, y) for x, y in degreeGraph1).values())))\n",
        "\n",
        "print(\"degree range for All channel in graph 2: \",\n",
        "      min(list(dict((x, y) for x, y in degreeGraph2).values())), \n",
        "      max(list(dict((x, y) for x, y in degreeGraph2).values())))\n",
        "\n",
        "print(\"degree range for All channel in graph 3: \",\n",
        "      min(list(dict((x, y) for x, y in degreeGraph3).values())), \n",
        "      max(list(dict((x, y) for x, y in degreeGraph3).values())))\n",
        "\n",
        "print(\"degree range for All channel in graph 4: \",\n",
        "      min(list(dict((x, y) for x, y in degreeGraph4).values())), \n",
        "      max(list(dict((x, y) for x, y in degreeGraph4).values())))\n",
        "\n",
        "print(\"degree range for All channel in graph 5: \",\n",
        "      min(list(dict((x, y) for x, y in degreeGraph5).values())), \n",
        "      max(list(dict((x, y) for x, y in degreeGraph5).values())))"
      ],
      "execution_count": 35,
      "outputs": [
        {
          "output_type": "stream",
          "text": [
            "degre erange for All channel in Template:  1 208\n",
            "degree range for All channel in graph 1:  1 135\n",
            "degree range for All channel in graph 2:  1 192\n",
            "degree range for All channel in graph 3:  1 68\n",
            "degree range for All channel in graph 4:  1 64\n",
            "degree range for All channel in graph 5:  1 72\n"
          ],
          "name": "stdout"
        }
      ]
    },
    {
      "cell_type": "code",
      "metadata": {
        "id": "xQh_facJujRs",
        "colab_type": "code",
        "colab": {}
      },
      "source": [
        "fig = make_subplots(rows=3, cols=2)\n",
        "\n",
        "# autobinx=True\n",
        "\n",
        "df = pd.DataFrame(list(zip([y for x, y in degreeTemplate], [x for x, y in degreeTemplate])))\n",
        "x = df[0]\n",
        "trace0 = go.Histogram(x=x, nbinsx=12)\n",
        "\n",
        "df = pd.DataFrame(list(zip([y for x, y in degreeGraph1], [x for x, y in degreeGraph1])))\n",
        "x = df[0]\n",
        "trace1 = go.Histogram(x=x, nbinsx = 12)\n",
        "\n",
        "df = pd.DataFrame(list(zip([y for x, y in degreeGraph2], [x for x, y in degreeGraph2])))\n",
        "x = df[0]\n",
        "trace2 = go.Histogram(x=x, nbinsx = 12)\n",
        "\n",
        "df = pd.DataFrame(list(zip([y for x, y in degreeGraph3], [x for x, y in degreeGraph3])))\n",
        "x = df[0]\n",
        "trace3 = go.Histogram(x=x, nbinsx=12)\n",
        "\n",
        "df = pd.DataFrame(list(zip([y for x, y in degreeGraph4], [x for x, y in degreeGraph4])))\n",
        "x = df[0]\n",
        "trace4 = go.Histogram(x=x, nbinsx=12)\n",
        "\n",
        "df = pd.DataFrame(list(zip([y for x, y in degreeGraph5], [x for x, y in degreeGraph5])))\n",
        "x = df[0]\n",
        "trace5 = go.Histogram(x=x, nbinsx=12)\n",
        "\n",
        "fig.append_trace(trace0, 1, 1)\n",
        "fig.append_trace(trace1, 1, 2)\n",
        "fig.append_trace(trace2, 2, 1)\n",
        "fig.append_trace(trace3, 2, 2)\n",
        "fig.append_trace(trace4, 3, 1)\n",
        "fig.append_trace(trace5, 3, 2)\n",
        "\n",
        "fig.update_layout(barmode='overlay')\n",
        "fig.show()"
      ],
      "execution_count": 0,
      "outputs": []
    },
    {
      "cell_type": "code",
      "metadata": {
        "id": "VqN71fuOzR_e",
        "colab_type": "code",
        "colab": {}
      },
      "source": [
        "\n",
        "fig = go.Figure()\n",
        "\n",
        "df = pd.DataFrame(list(zip([y for x, y in degreeTemplate], [x for x, y in degreeTemplate])))\n",
        "x = df[0]\n",
        "fig.add_trace(go.Histogram(x=x, xbins=dict(start=0, end=208, size=208/8)))\n",
        "\n",
        "df = pd.DataFrame(list(zip([y for x, y in degreeGraph1], [x for x, y in degreeGraph1])))\n",
        "x = df[0]\n",
        "fig.add_trace(go.Histogram(x=x, xbins=dict(start=0, end=208, size=208/8)))\n",
        "\n",
        "df = pd.DataFrame(list(zip([y for x, y in degreeGraph2], [x for x, y in degreeGraph2])))\n",
        "x = df[0]\n",
        "fig.add_trace(go.Histogram(x=x, xbins=dict(start=0, end=208, size=208/8)))\n",
        "\n",
        "df = pd.DataFrame(list(zip([y for x, y in degreeGraph3], [x for x, y in degreeGraph3])))\n",
        "x = df[0]\n",
        "fig.add_trace(go.Histogram(x=x, xbins=dict(start=0, end=208, size=208/8)))\n",
        "\n",
        "df = pd.DataFrame(list(zip([y for x, y in degreeGraph4], [x for x, y in degreeGraph4])))\n",
        "x = df[0]\n",
        "fig.add_trace(go.Histogram(x=x, xbins=dict(start=0, end=208, size=208/8)))\n",
        "\n",
        "df = pd.DataFrame(list(zip([y for x, y in degreeGraph5], [x for x, y in degreeGraph5])))\n",
        "x = df[0]\n",
        "fig.add_trace(go.Histogram(x=x, xbins=dict(start=0, end=208, size=208/8)))\n",
        "\n",
        "\n",
        "# Overlay both histograms\n",
        "fig.update_layout(barmode='overlay')\n",
        "# Reduce opacity to see both histograms\n",
        "fig.update_traces(opacity=0.75)\n",
        "fig.show()"
      ],
      "execution_count": 0,
      "outputs": []
    },
    {
      "cell_type": "markdown",
      "metadata": {
        "id": "hK-OMXOlU6Xf",
        "colab_type": "text"
      },
      "source": [
        "#### sort the data"
      ]
    },
    {
      "cell_type": "code",
      "metadata": {
        "id": "5s79qkFnU4lB",
        "colab_type": "code",
        "colab": {
          "base_uri": "https://localhost:8080/",
          "height": 54
        },
        "outputId": "df09d363-f7c4-4cf6-f80e-1219148c421b"
      },
      "source": [
        "centrality = sorted(nx.degree_centrality(graph1G).items(), key=lambda e: e[1], reverse=True)\n",
        "print(centrality)"
      ],
      "execution_count": 53,
      "outputs": [
        {
          "output_type": "stream",
          "text": [
            "[(635665, 1.467391304347826), (599956, 1.0326086956521738), (492777, 0.8369565217391304), (490041, 0.8260869565217391), (623295, 0.7608695652173912), (589639, 0.6195652173913043), (550361, 0.5978260869565217), (512397, 0.5434782608695652), (596193, 0.5), (493044, 0.4891304347826087), (552988, 0.4782608695652174), (527449, 0.4782608695652174), (459381, 0.4782608695652174), (595298, 0.4782608695652174), (473173, 0.4782608695652174), (620120, 0.4782608695652174), (570411, 0.43478260869565216), (640464, 0.43478260869565216), (533140, 0.40217391304347827), (503701, 0.40217391304347827), (567195, 0.3913043478260869), (466907, 0.3913043478260869), (616050, 0.3804347826086956), (621924, 0.3804347826086956), (589943, 0.358695652173913), (595581, 0.358695652173913), (632150, 0.34782608695652173), (630626, 0.33695652173913043), (523927, 0.33695652173913043), (568093, 0.32608695652173914), (464459, 0.32608695652173914), (580426, 0.32608695652173914), (537281, 0.31521739130434784), (632961, 0.31521739130434784), (591682, 0.30434782608695654), (642329, 0.30434782608695654), (575030, 0.30434782608695654), (510031, 0.30434782608695654), (571970, 0.2934782608695652), (577992, 0.2826086956521739), (616315, 0.2717391304347826), (463777, 0.2608695652173913), (529922, 0.2608695652173913), (569820, 0.25), (502591, 0.2391304347826087), (530528, 0.22826086956521738), (599057, 0.22826086956521738), (599063, 0.22826086956521738), (622296, 0.22826086956521738), (517273, 0.22826086956521738), (554431, 0.21739130434782608), (654763, 0.21739130434782608), (636961, 0.21739130434782608), (629717, 0.21739130434782608), (550287, 0.20652173913043478), (608827, 0.20652173913043478), (475130, 0.20652173913043478), (505722, 0.20652173913043478), (492286, 0.20652173913043478), (566342, 0.19565217391304346), (592414, 0.19565217391304346), (536346, 0.18478260869565216), (644226, 0.18478260869565216), (635706, 0.18478260869565216), (548513, 0.18478260869565216), (654981, 0.18478260869565216), (474199, 0.17391304347826086), (576641, 0.17391304347826086), (575859, 0.17391304347826086), (520660, 0.16304347826086957), (575704, 0.16304347826086957), (657187, 0.15217391304347827), (625756, 0.09782608695652173), (509607, 0.08695652173913043), (499467, 0.07608695652173914), (561157, 0.06521739130434782), (559657, 0.05434782608695652), (657173, 0.043478260869565216), (599441, 0.043478260869565216), (585212, 0.043478260869565216), (649553, 0.043478260869565216), (643925, 0.043478260869565216), (640784, 0.043478260869565216), (606730, 0.043478260869565216), (629627, 0.03260869565217391), (534034, 0.03260869565217391), (570284, 0.03260869565217391), (616453, 0.03260869565217391), (503218, 0.03260869565217391), (590502, 0.010869565217391304), (538892, 0.010869565217391304), (542965, 0.010869565217391304), (572391, 0.010869565217391304)]\n"
          ],
          "name": "stdout"
        }
      ]
    },
    {
      "cell_type": "code",
      "metadata": {
        "id": "5PwTfMTrV_nN",
        "colab_type": "code",
        "colab": {}
      },
      "source": [
        "sorted(nx.assortativity.average_neighbor_degree(graph).items(),key=lambda e: e[1], reverse=True"
      ],
      "execution_count": 0,
      "outputs": []
    },
    {
      "cell_type": "markdown",
      "metadata": {
        "id": "JDfyoYsQV5Gw",
        "colab_type": "text"
      },
      "source": [
        "#### save for Gephi"
      ]
    },
    {
      "cell_type": "code",
      "metadata": {
        "id": "RZUZQbNXV7hF",
        "colab_type": "code",
        "colab": {}
      },
      "source": [
        "nx.write_graphml(graph, “…/graph.graphml”)"
      ],
      "execution_count": 0,
      "outputs": []
    },
    {
      "cell_type": "markdown",
      "metadata": {
        "colab_type": "text",
        "id": "lUwUjp_8MDOU"
      },
      "source": [
        "#### in-degree"
      ]
    },
    {
      "cell_type": "code",
      "metadata": {
        "colab_type": "code",
        "id": "fVUjuIrIMDOa",
        "colab": {}
      },
      "source": [
        "inDegreeTemplate = templateG.in_degree()\n",
        "inDegreeGraph1 = graph1G.in_degree()\n",
        "inDegreeGraph2 = graph2G.in_degree()\n",
        "inDegreeGraph3 = graph3G.in_degree()\n",
        "inDegreeGraph4 = graph4G.in_degree()\n",
        "inDegreeGraph5 = graph5G.in_degree()"
      ],
      "execution_count": 0,
      "outputs": []
    },
    {
      "cell_type": "code",
      "metadata": {
        "colab_type": "code",
        "outputId": "44f59b5a-6410-4ad3-e11b-cf9dafb32b34",
        "id": "GgO0fnygMDOm",
        "colab": {
          "base_uri": "https://localhost:8080/",
          "height": 54
        }
      },
      "source": [
        "print(dict((x, y) for x, y in inDegreeTemplate))"
      ],
      "execution_count": 22,
      "outputs": [
        {
          "output_type": "stream",
          "text": [
            "{0: 19, -99: 0, 41: 136, 34: 55, 37: 56, 27: 58, 40: 44, 39: 57, 65: 39, 67: 34, 47: 63, 66: 0, 657187: 0, 78: 4, 81: 0, 80: 4, 70: 0, 43: 43, 56: 53, 57: 39, 58: 45, 63: 77, 77: 4, 79: 4, 45: 37, 69: 0, 76: 0, 82: 1, 83: 1, 84: 1, 73: 3, 75: 3, 74: 3, 71: 0, 72: 0, 87: 4, 85: 4, 86: 4, 2: 22, 630626: 0, 536346: 0, 510031: 18, 520660: 0, 552988: 36, 567195: 0, 527449: 0, 459381: 0, 595298: 0, 466907: 0, 589943: 0, 577992: 0, 537281: 0, 523927: 0, 580426: 0, 595581: 0, 642329: 0, 503701: 0, 571970: 0, 644226: 0, 632961: 0, 473173: 0, 620120: 9, 621924: 0, 616315: 0, 29: 20, 575030: 0, 31: 22, 503218: 0, 33: 19, 35: 16, 36: 17, 38: 16, 42: 17, 44: 16, 46: 20, 48: 16, 49: 24, 640784: 0, 606730: 0, 52: 19, 53: 14, 54: 17, 55: 11, 59: 15, 60: 14, 61: 18, 62: 17, 64: 17}\n"
          ],
          "name": "stdout"
        }
      ]
    },
    {
      "cell_type": "code",
      "metadata": {
        "colab_type": "code",
        "outputId": "cb73632e-d819-46c1-918b-2ae049409d82",
        "id": "kOIFKMd5MDOr",
        "colab": {
          "base_uri": "https://localhost:8080/",
          "height": 122
        }
      },
      "source": [
        "print(\"in degree range for All channel in Template: \",\n",
        "      min(list(dict((x, y) for x, y in inDegreeTemplate).values())), \n",
        "      max(list(dict((x, y) for x, y in inDegreeTemplate).values())))\n",
        "\n",
        "print(\"in degree range for All channel in graph 1: \",\n",
        "      min(list(dict((x, y) for x, y in inDegreeGraph1).values())), \n",
        "      max(list(dict((x, y) for x, y in inDegreeGraph1).values())))\n",
        "\n",
        "print(\"in degree range for All channel in graph 2: \",\n",
        "      min(list(dict((x, y) for x, y in inDegreeGraph2).values())), \n",
        "      max(list(dict((x, y) for x, y in inDegreeGraph2).values())))\n",
        "\n",
        "print(\"in degree range for All channel in graph 3: \",\n",
        "      min(list(dict((x, y) for x, y in inDegreeGraph3).values())), \n",
        "      max(list(dict((x, y) for x, y in inDegreeGraph3).values())))\n",
        "\n",
        "print(\"in degree range for All channel in graph 4: \",\n",
        "      min(list(dict((x, y) for x, y in inDegreeGraph4).values())), \n",
        "      max(list(dict((x, y) for x, y in inDegreeGraph4).values())))\n",
        "\n",
        "print(\"in degree range for All channel in graph 5: \",\n",
        "      min(list(dict((x, y) for x, y in inDegreeGraph5).values())), \n",
        "      max(list(dict((x, y) for x, y in inDegreeGraph5).values())))"
      ],
      "execution_count": 27,
      "outputs": [
        {
          "output_type": "stream",
          "text": [
            "in degree range for All channel in Template:  0 72\n",
            "in degree range for All channel in graph 1:  0 64\n",
            "in degree range for All channel in graph 2:  0 96\n",
            "in degree range for All channel in graph 3:  0 36\n",
            "in degree range for All channel in graph 4:  0 35\n",
            "in degree range for All channel in graph 5:  0 30\n"
          ],
          "name": "stdout"
        }
      ]
    },
    {
      "cell_type": "code",
      "metadata": {
        "colab_type": "code",
        "id": "m2kSrPnTMDOx",
        "colab": {}
      },
      "source": [
        "fig = make_subplots(rows=3, cols=2)\n",
        "\n",
        "# autobinx=True\n",
        "\n",
        "df = pd.DataFrame(list(zip([y for x, y in degreeTemplate], [x for x, y in degreeTemplate])))\n",
        "x = df[0]\n",
        "trace0 = go.Histogram(x=x, nbinsx=12)\n",
        "\n",
        "df = pd.DataFrame(list(zip([y for x, y in inDegreeGraph1], [x for x, y in inDegreeGraph1])))\n",
        "x = df[0]\n",
        "trace1 = go.Histogram(x=x, nbinsx = 12)\n",
        "\n",
        "df = pd.DataFrame(list(zip([y for x, y in inDegreeGraph2], [x for x, y in inDegreeGraph2])))\n",
        "x = df[0]\n",
        "trace2 = go.Histogram(x=x, nbinsx = 12)\n",
        "\n",
        "df = pd.DataFrame(list(zip([y for x, y in inDegreeGraph3], [x for x, y in inDegreeGraph3])))\n",
        "x = df[0]\n",
        "trace3 = go.Histogram(x=x, nbinsx=12)\n",
        "\n",
        "df = pd.DataFrame(list(zip([y for x, y in inDegreeGraph4], [x for x, y in inDegreeGraph4])))\n",
        "x = df[0]\n",
        "trace4 = go.Histogram(x=x, nbinsx=12)\n",
        "\n",
        "df = pd.DataFrame(list(zip([y for x, y in inDegreeGraph5], [x for x, y in inDegreeGraph5])))\n",
        "x = df[0]\n",
        "trace5 = go.Histogram(x=x, nbinsx=12)\n",
        "\n",
        "fig.append_trace(trace0, 1, 1)\n",
        "fig.append_trace(trace1, 1, 2)\n",
        "fig.append_trace(trace2, 2, 1)\n",
        "fig.append_trace(trace3, 2, 2)\n",
        "fig.append_trace(trace4, 3, 1)\n",
        "fig.append_trace(trace5, 3, 2)\n",
        "\n",
        "fig.update_layout(barmode='overlay')\n",
        "fig.show()"
      ],
      "execution_count": 0,
      "outputs": []
    },
    {
      "cell_type": "code",
      "metadata": {
        "colab_type": "code",
        "id": "BqXbpvrEMDOz",
        "colab": {}
      },
      "source": [
        "\n",
        "fig = go.Figure()\n",
        "\n",
        "df = pd.DataFrame(list(zip([y for x, y in degreeTemplate], [x for x, y in degreeTemplate])))\n",
        "x = df[0]\n",
        "fig.add_trace(go.Histogram(x=x, xbins=dict(start=0, end=208, size=208/8)))\n",
        "\n",
        "df = pd.DataFrame(list(zip([y for x, y in inDegreeGraph1], [x for x, y in inDegreeGraph1])))\n",
        "x = df[0]\n",
        "fig.add_trace(go.Histogram(x=x, xbins=dict(start=0, end=208, size=208/8)))\n",
        "\n",
        "df = pd.DataFrame(list(zip([y for x, y in inDegreeGraph2], [x for x, y in inDegreeGraph2])))\n",
        "x = df[0]\n",
        "fig.add_trace(go.Histogram(x=x, xbins=dict(start=0, end=208, size=208/8)))\n",
        "\n",
        "df = pd.DataFrame(list(zip([y for x, y in inDegreeGraph3], [x for x, y in inDegreeGraph3])))\n",
        "x = df[0]\n",
        "fig.add_trace(go.Histogram(x=x, xbins=dict(start=0, end=208, size=208/8)))\n",
        "\n",
        "df = pd.DataFrame(list(zip([y for x, y in inDegreeGraph4], [x for x, y in inDegreeGraph4])))\n",
        "x = df[0]\n",
        "fig.add_trace(go.Histogram(x=x, xbins=dict(start=0, end=208, size=208/8)))\n",
        "\n",
        "df = pd.DataFrame(list(zip([y for x, y in inDegreeGraph5], [x for x, y in inDegreeGraph5])))\n",
        "x = df[0]\n",
        "fig.add_trace(go.Histogram(x=x, xbins=dict(start=0, end=208, size=208/8)))\n",
        "\n",
        "\n",
        "# Overlay both histograms\n",
        "fig.update_layout(barmode='overlay')\n",
        "# Reduce opacity to see both histograms\n",
        "fig.update_traces(opacity=0.75)\n",
        "fig.show()"
      ],
      "execution_count": 0,
      "outputs": []
    },
    {
      "cell_type": "markdown",
      "metadata": {
        "colab_type": "text",
        "id": "IL3wTdxWOMTx"
      },
      "source": [
        "#### out-degree"
      ]
    },
    {
      "cell_type": "code",
      "metadata": {
        "colab_type": "code",
        "id": "ZV2ZDv9yOMT3",
        "colab": {}
      },
      "source": [
        "outDegreeTemplate = templateG.out_degree()\n",
        "outDegreeGraph1 = graph1G.out_degree()\n",
        "outDegreeGraph2 = graph2G.out_degree()\n",
        "outDegreeGraph3 = graph3G.out_degree()\n",
        "outDegreeGraph4 = graph4G.out_degree()\n",
        "outDegreeGraph5 = graph5G.out_degree()"
      ],
      "execution_count": 0,
      "outputs": []
    },
    {
      "cell_type": "code",
      "metadata": {
        "colab_type": "code",
        "outputId": "f1b5a978-c1fa-4483-d95b-a6705e5bce1a",
        "id": "0rX5RHOjOMUB",
        "colab": {
          "base_uri": "https://localhost:8080/",
          "height": 54
        }
      },
      "source": [
        "print(dict((x, y) for x, y in outDegreeTemplate))"
      ],
      "execution_count": 30,
      "outputs": [
        {
          "output_type": "stream",
          "text": [
            "{0: 19, -99: 0, 41: 136, 34: 55, 37: 56, 27: 58, 40: 44, 39: 57, 65: 39, 67: 34, 47: 63, 66: 0, 657187: 0, 78: 4, 81: 0, 80: 4, 70: 0, 43: 43, 56: 53, 57: 39, 58: 45, 63: 77, 77: 4, 79: 4, 45: 37, 69: 0, 76: 0, 82: 1, 83: 1, 84: 1, 73: 3, 75: 3, 74: 3, 71: 0, 72: 0, 87: 4, 85: 4, 86: 4, 2: 22, 630626: 0, 536346: 0, 510031: 18, 520660: 0, 552988: 36, 567195: 0, 527449: 0, 459381: 0, 595298: 0, 466907: 0, 589943: 0, 577992: 0, 537281: 0, 523927: 0, 580426: 0, 595581: 0, 642329: 0, 503701: 0, 571970: 0, 644226: 0, 632961: 0, 473173: 0, 620120: 9, 621924: 0, 616315: 0, 29: 20, 575030: 0, 31: 22, 503218: 0, 33: 19, 35: 16, 36: 17, 38: 16, 42: 17, 44: 16, 46: 20, 48: 16, 49: 24, 640784: 0, 606730: 0, 52: 19, 53: 14, 54: 17, 55: 11, 59: 15, 60: 14, 61: 18, 62: 17, 64: 17}\n"
          ],
          "name": "stdout"
        }
      ]
    },
    {
      "cell_type": "code",
      "metadata": {
        "colab_type": "code",
        "outputId": "11658d34-298d-4534-ef1e-fd991d22366d",
        "id": "VW5UyX42OMUE",
        "colab": {
          "base_uri": "https://localhost:8080/",
          "height": 122
        }
      },
      "source": [
        "print(\"out degree range for All channel in Template: \",\n",
        "      min(list(dict((x, y) for x, y in outDegreeTemplate).values())), \n",
        "      max(list(dict((x, y) for x, y in outDegreeTemplate).values())))\n",
        "\n",
        "print(\"out degree range for All channel in graph 1: \",\n",
        "      min(list(dict((x, y) for x, y in outDegreeGraph1).values())), \n",
        "      max(list(dict((x, y) for x, y in outDegreeGraph1).values())))\n",
        "\n",
        "print(\"out degree range for All channel in graph 2: \",\n",
        "      min(list(dict((x, y) for x, y in outDegreeGraph2).values())), \n",
        "      max(list(dict((x, y) for x, y in outDegreeGraph2).values())))\n",
        "\n",
        "print(\"out degree range for All channel in graph 3: \",\n",
        "      min(list(dict((x, y) for x, y in outDegreeGraph3).values())), \n",
        "      max(list(dict((x, y) for x, y in outDegreeGraph3).values())))\n",
        "\n",
        "print(\"out degree range for All channel in graph 4: \",\n",
        "      min(list(dict((x, y) for x, y in outDegreeGraph4).values())), \n",
        "      max(list(dict((x, y) for x, y in outDegreeGraph4).values())))\n",
        "\n",
        "print(\"out degree range for All channel in graph 5: \",\n",
        "      min(list(dict((x, y) for x, y in outDegreeGraph5).values())), \n",
        "      max(list(dict((x, y) for x, y in outDegreeGraph5).values())))"
      ],
      "execution_count": 31,
      "outputs": [
        {
          "output_type": "stream",
          "text": [
            "out degree range for All channel in Template:  0 136\n",
            "out degree range for All channel in graph 1:  0 77\n",
            "out degree range for All channel in graph 2:  0 96\n",
            "out degree range for All channel in graph 3:  0 50\n",
            "out degree range for All channel in graph 4:  0 59\n",
            "out degree range for All channel in graph 5:  0 67\n"
          ],
          "name": "stdout"
        }
      ]
    },
    {
      "cell_type": "code",
      "metadata": {
        "colab_type": "code",
        "id": "aajjbuotOMUI",
        "colab": {}
      },
      "source": [
        "fig = make_subplots(rows=3, cols=2)\n",
        "\n",
        "# autobinx=True\n",
        "\n",
        "df = pd.DataFrame(list(zip([y for x, y in degreeTemplate], [x for x, y in degreeTemplate])))\n",
        "x = df[0]\n",
        "trace0 = go.Histogram(x=x, nbinsx=12)\n",
        "\n",
        "df = pd.DataFrame(list(zip([y for x, y in outDegreeGraph1], [x for x, y in outDegreeGraph1])))\n",
        "x = df[0]\n",
        "trace1 = go.Histogram(x=x, nbinsx = 12)\n",
        "\n",
        "df = pd.DataFrame(list(zip([y for x, y in outDegreeGraph2], [x for x, y in outDegreeGraph2])))\n",
        "x = df[0]\n",
        "trace2 = go.Histogram(x=x, nbinsx = 12)\n",
        "\n",
        "df = pd.DataFrame(list(zip([y for x, y in outDegreeGraph3], [x for x, y in outDegreeGraph3])))\n",
        "x = df[0]\n",
        "trace3 = go.Histogram(x=x, nbinsx=12)\n",
        "\n",
        "df = pd.DataFrame(list(zip([y for x, y in outDegreeGraph4], [x for x, y in outDegreeGraph4])))\n",
        "x = df[0]\n",
        "trace4 = go.Histogram(x=x, nbinsx=12)\n",
        "\n",
        "df = pd.DataFrame(list(zip([y for x, y in outDegreeGraph5], [x for x, y in outDegreeGraph5])))\n",
        "x = df[0]\n",
        "trace5 = go.Histogram(x=x, nbinsx=12)\n",
        "\n",
        "fig.append_trace(trace0, 1, 1)\n",
        "fig.append_trace(trace1, 1, 2)\n",
        "fig.append_trace(trace2, 2, 1)\n",
        "fig.append_trace(trace3, 2, 2)\n",
        "fig.append_trace(trace4, 3, 1)\n",
        "fig.append_trace(trace5, 3, 2)\n",
        "\n",
        "fig.update_layout(barmode='overlay')\n",
        "fig.show()"
      ],
      "execution_count": 0,
      "outputs": []
    },
    {
      "cell_type": "code",
      "metadata": {
        "colab_type": "code",
        "id": "bg7_EH1vOMUK",
        "colab": {}
      },
      "source": [
        "\n",
        "fig = go.Figure()\n",
        "\n",
        "df = pd.DataFrame(list(zip([y for x, y in degreeTemplate], [x for x, y in degreeTemplate])))\n",
        "x = df[0]\n",
        "fig.add_trace(go.Histogram(x=x, xbins=dict(start=0, end=208, size=208/8)))\n",
        "\n",
        "df = pd.DataFrame(list(zip([y for x, y in outDegreeGraph1], [x for x, y in outDegreeGraph1])))\n",
        "x = df[0]\n",
        "fig.add_trace(go.Histogram(x=x, xbins=dict(start=0, end=208, size=208/8)))\n",
        "\n",
        "df = pd.DataFrame(list(zip([y for x, y in outDegreeGraph2], [x for x, y in outDegreeGraph2])))\n",
        "x = df[0]\n",
        "fig.add_trace(go.Histogram(x=x, xbins=dict(start=0, end=208, size=208/8)))\n",
        "\n",
        "df = pd.DataFrame(list(zip([y for x, y in outDegreeGraph3], [x for x, y in outDegreeGraph3])))\n",
        "x = df[0]\n",
        "fig.add_trace(go.Histogram(x=x, xbins=dict(start=0, end=208, size=208/8)))\n",
        "\n",
        "df = pd.DataFrame(list(zip([y for x, y in outDegreeGraph4], [x for x, y in outDegreeGraph4])))\n",
        "x = df[0]\n",
        "fig.add_trace(go.Histogram(x=x, xbins=dict(start=0, end=208, size=208/8)))\n",
        "\n",
        "df = pd.DataFrame(list(zip([y for x, y in outDegreeGraph5], [x for x, y in outDegreeGraph5])))\n",
        "x = df[0]\n",
        "fig.add_trace(go.Histogram(x=x, xbins=dict(start=0, end=208, size=208/8)))\n",
        "\n",
        "\n",
        "# Overlay both histograms\n",
        "fig.update_layout(barmode='overlay')\n",
        "# Reduce opacity to see both histograms\n",
        "fig.update_traces(opacity=0.75)\n",
        "fig.show()"
      ],
      "execution_count": 0,
      "outputs": []
    },
    {
      "cell_type": "markdown",
      "metadata": {
        "id": "DE79TxN-2Gif",
        "colab_type": "text"
      },
      "source": [
        "#### Ego Network: \n",
        "  * represent the network of the node with the largest degree in the network "
      ]
    },
    {
      "cell_type": "code",
      "metadata": {
        "id": "cAjp8G6b2KSR",
        "colab_type": "code",
        "outputId": "2bc765da-6a5f-4ca7-ae58-f83cdd266dc2",
        "colab": {
          "base_uri": "https://localhost:8080/",
          "height": 354
        }
      },
      "source": [
        "ego_net = nx.ego_graph(templateG, n=0)\n",
        "print(nx.info(ego_net))\n",
        "fig = plt.Figure(figsize=(30,30))\n",
        "pos=nx.shell_layout(ego_net)\n",
        "\n",
        "nx.draw_networkx(ego_net, pos, node_size=500, node_color='magenta')"
      ],
      "execution_count": 0,
      "outputs": [
        {
          "output_type": "stream",
          "text": [
            "Name: \n",
            "Type: DiGraph\n",
            "Number of nodes: 20\n",
            "Number of edges: 19\n",
            "Average in degree:   0.9500\n",
            "Average out degree:   0.9500\n"
          ],
          "name": "stdout"
        },
        {
          "output_type": "display_data",
          "data": {
            "image/png": "[encoded data removed]",
            "text/plain": [
              "<Figure size 432x288 with 1 Axes>"
            ]
          },
          "metadata": {
            "tags": []
          }
        }
      ]
    },
    {
      "cell_type": "code",
      "metadata": {
        "id": "QBOUYyxf3fEO",
        "colab_type": "code",
        "outputId": "df1604ac-eab6-4135-eec1-b3d292ce948f",
        "colab": {
          "base_uri": "https://localhost:8080/",
          "height": 656
        }
      },
      "source": [
        "fig = plt.Figure(figsize=(30,30))\n",
        "# Copy a graph model\n",
        "G = templateG\n",
        "# Let's draw the graph\n",
        "pos= nx.spring_layout(G)\n",
        "nx.draw(G, pos, node_color='c', node_size=60 ,with_labels=False)\n",
        "plt.show()\n",
        "# find node with largest degree\n",
        "node_degree = G.degree()\n",
        "# calculate number of nodes\n",
        "print(\"number of nodes: \", G.order())\n",
        "# calculate number of edges\n",
        "print(\"number of edges: \", G.size())\n",
        "# find node with the largest degree\n",
        "node_degree= G.degree()\n",
        "series = pd.Series(dict(node_degree))\n",
        "largest_deg = series.idxmax()\n",
        "degree = series.max()\n",
        "# Create ego graph of node with the largest degree\n",
        "node_ego= nx.ego_graph(G,largest_deg)\n",
        "# Draw ego graph\n",
        "pos= nx.spring_layout(node_ego)\n",
        "nx.draw(node_ego, pos, node_color='c', node_size=120, with_labels=False)\n",
        "plt.show()"
      ],
      "execution_count": 0,
      "outputs": [
        {
          "output_type": "display_data",
          "data": {
            "image/png": "[encoded data removed]",
            "text/plain": [
              "<Figure size 432x288 with 1 Axes>"
            ]
          },
          "metadata": {
            "tags": []
          }
        },
        {
          "output_type": "stream",
          "text": [
            "number of nodes:  88\n",
            "number of edges:  859\n"
          ],
          "name": "stdout"
        },
        {
          "output_type": "display_data",
          "data": {
            "image/png": "[encoded data removed]",
            "text/plain": [
              "<Figure size 432x288 with 1 Axes>"
            ]
          },
          "metadata": {
            "tags": []
          }
        }
      ]
    },
    {
      "cell_type": "code",
      "metadata": {
        "id": "azPgE9UJ8Biw",
        "colab_type": "code",
        "colab": {}
      },
      "source": [
        "#TODO\n",
        "#Add the Ego Network with two hops"
      ],
      "execution_count": 0,
      "outputs": []
    },
    {
      "cell_type": "markdown",
      "metadata": {
        "id": "ktHZ2Cta8Ie5",
        "colab_type": "text"
      },
      "source": [
        "#### "
      ]
    },
    {
      "cell_type": "code",
      "metadata": {
        "id": "JDgCFb3A4pJk",
        "colab_type": "code",
        "outputId": "a5c52d60-97b6-49b6-fc4c-0d941935ec1e",
        "colab": {
          "base_uri": "https://localhost:8080/",
          "height": 34
        }
      },
      "source": [
        "max([y for x, y in node_degree])"
      ],
      "execution_count": 0,
      "outputs": [
        {
          "output_type": "execute_result",
          "data": {
            "text/plain": [
              "47"
            ]
          },
          "metadata": {
            "tags": []
          },
          "execution_count": 98
        }
      ]
    },
    {
      "cell_type": "code",
      "metadata": {
        "id": "Uby6--oe2KWr",
        "colab_type": "code",
        "outputId": "8cc1a884-c210-4822-f827-6fd398ef569c",
        "colab": {
          "base_uri": "https://localhost:8080/",
          "height": 34
        }
      },
      "source": [
        "series = pd.Series(dict(node_degree))\n",
        "series.idxmax()\n",
        "series.max()"
      ],
      "execution_count": 0,
      "outputs": [
        {
          "output_type": "execute_result",
          "data": {
            "text/plain": [
              "47"
            ]
          },
          "metadata": {
            "tags": []
          },
          "execution_count": 104
        }
      ]
    },
    {
      "cell_type": "code",
      "metadata": {
        "id": "sFVE3TpQ2KPO",
        "colab_type": "code",
        "outputId": "d72d8ff9-1ca2-4ed8-bbde-9a7e39ab2568",
        "colab": {
          "base_uri": "https://localhost:8080/",
          "height": 54
        }
      },
      "source": [
        "node_degree"
      ],
      "execution_count": 0,
      "outputs": [
        {
          "output_type": "execute_result",
          "data": {
            "text/plain": [
              "DiDegreeView({0: 23, -99: 1, 41: 47, 34: 34, 37: 35, 27: 38, 40: 31, 39: 29, 65: 30, 67: 5, 47: 37, 66: 1, 657187: 2, 78: 4, 81: 7, 80: 4, 70: 13, 43: 36, 56: 36, 57: 35, 58: 34, 63: 37, 77: 4, 79: 4, 45: 40, 69: 10, 76: 7, 82: 1, 83: 1, 84: 1, 73: 3, 75: 3, 74: 3, 71: 9, 72: 6, 87: 4, 85: 4, 86: 4, 2: 24, 630626: 24, 536346: 13, 510031: 18, 520660: 10, 552988: 36, 567195: 30, 527449: 36, 459381: 36, 595298: 36, 466907: 33, 589943: 27, 577992: 19, 537281: 22, 523927: 28, 580426: 24, 595581: 23, 642329: 25, 503701: 33, 571970: 25, 644226: 13, 632961: 26, 473173: 36, 620120: 36, 621924: 23, 616315: 25, 29: 21, 575030: 26, 31: 23, 503218: 4, 33: 21, 35: 17, 36: 20, 38: 19, 42: 18, 44: 17, 46: 21, 48: 17, 49: 26, 640784: 1, 606730: 3, 52: 20, 53: 16, 54: 19, 55: 14, 59: 16, 60: 17, 61: 20, 62: 19, 64: 19})"
            ]
          },
          "metadata": {
            "tags": []
          },
          "execution_count": 102
        }
      ]
    },
    {
      "cell_type": "markdown",
      "metadata": {
        "id": "-1zWGbY1l5Rm",
        "colab_type": "text"
      },
      "source": [
        "#### Degree Centrality"
      ]
    },
    {
      "cell_type": "code",
      "metadata": {
        "id": "EDv19FoiGxfD",
        "colab_type": "code",
        "colab": {}
      },
      "source": [
        "degree_centralityTemplate = nx.degree_centrality(templateG)\n",
        "degree_centralityGraph1 = nx.degree_centrality(graph1G)\n",
        "degree_centralityGraph2 = nx.degree_centrality(graph2G)\n",
        "degree_centralityGraph3 = nx.degree_centrality(graph3G)\n",
        "degree_centralityGraph4 = nx.degree_centrality(graph4G)\n",
        "degree_centralityGraph5 = nx.degree_centrality(graph5G)"
      ],
      "execution_count": 0,
      "outputs": []
    },
    {
      "cell_type": "code",
      "metadata": {
        "id": "SJosACxiBGDC",
        "colab_type": "code",
        "outputId": "5a9fa311-54d4-4aab-b639-2d5b4d71a4b2",
        "colab": {
          "base_uri": "https://localhost:8080/",
          "height": 54
        }
      },
      "source": [
        "print(degree_centralityGraph5)"
      ],
      "execution_count": 37,
      "outputs": [
        {
          "output_type": "stream",
          "text": [
            "{619322: 0.8470588235294118, 590442: 0.011764705882352941, 594308: 0.5882352941176471, 549840: 0.32941176470588235, 524153: 0.6235294117647059, 629769: 0.011764705882352941, 461577: 0.011764705882352941, 547205: 0.011764705882352941, 483784: 0.5764705882352941, 631903: 0.32941176470588235, 549891: 0.047058823529411764, 632485: 0.011764705882352941, 657173: 0.11764705882352941, 477657: 0.6235294117647059, 620947: 0.011764705882352941, 492039: 0.023529411764705882, 616453: 0.3529411764705882, 483999: 0.023529411764705882, 644754: 0.011764705882352941, 525263: 0.011764705882352941, 532852: 0.011764705882352941, 625756: 0.11764705882352941, 517649: 0.011764705882352941, 509607: 0.29411764705882354, 587437: 0.011764705882352941, 623736: 0.011764705882352941, 493358: 0.03529411764705882, 561819: 0.38823529411764707, 561157: 0.3529411764705882, 530990: 0.32941176470588235, 643087: 0.011764705882352941, 569044: 0.011764705882352941, 556592: 0.011764705882352941, 585589: 0.011764705882352941, 579218: 0.011764705882352941, 573137: 0.3764705882352941, 567281: 0.011764705882352941, 624532: 0.011764705882352941, 499177: 0.03529411764705882, 605235: 0.011764705882352941, 641131: 0.023529411764705882, 499467: 0.058823529411764705, 654641: 0.011764705882352941, 620076: 0.011764705882352941, 652996: 0.011764705882352941, 558930: 0.011764705882352941, 469675: 0.011764705882352941, 657035: 0.011764705882352941, 590595: 0.011764705882352941, 529694: 0.011764705882352941, 528019: 0.011764705882352941, 472749: 0.011764705882352941, 550251: 0.011764705882352941, 619245: 0.011764705882352941, 584229: 0.011764705882352941, 544444: 0.011764705882352941, 555931: 0.011764705882352941, 503218: 0.011764705882352941, 536346: 0.08235294117647059, 520660: 0.023529411764705882, 567195: 0.09411764705882353, 527449: 0.11764705882352941, 459381: 0.11764705882352941, 595298: 0.11764705882352941, 466907: 0.11764705882352941, 589943: 0.10588235294117647, 577992: 0.058823529411764705, 537281: 0.09411764705882353, 523927: 0.058823529411764705, 580426: 0.07058823529411765, 595581: 0.10588235294117647, 616315: 0.09411764705882353, 642329: 0.058823529411764705, 503701: 0.11764705882352941, 571970: 0.058823529411764705, 644226: 0.08235294117647059, 632961: 0.08235294117647059, 473173: 0.11764705882352941, 510031: 0.07058823529411765, 552988: 0.11764705882352941, 620120: 0.11764705882352941, 575030: 0.09411764705882353, 621924: 0.07058823529411765, 640784: 0.08235294117647059, 630626: 0.03529411764705882, 606730: 0.011764705882352941}\n"
          ],
          "name": "stdout"
        }
      ]
    },
    {
      "cell_type": "code",
      "metadata": {
        "id": "JLYr3I8rj2oW",
        "colab_type": "code",
        "outputId": "250db9af-4396-4bcd-c805-c6b56e6a6c4b",
        "colab": {
          "base_uri": "https://localhost:8080/",
          "height": 122
        }
      },
      "source": [
        "print(\"degree centrality range for All channel in Template: \",\n",
        "      min(list(degree_centralityTemplate.values())), \n",
        "      max(list(degree_centralityTemplate.values())))\n",
        "\n",
        "print(\"degree centrality range for All channel in graph 1: \",\n",
        "      min(list(degree_centralityGraph1.values())), \n",
        "      max(list(degree_centralityGraph1.values())))\n",
        "\n",
        "print(\"degree centrality range for All channel in graph 2: \",\n",
        "      min(list(degree_centralityGraph2.values())), \n",
        "      max(list(degree_centralityGraph2.values())))\n",
        "\n",
        "print(\"degree centrality range for All channel in graph 3: \",\n",
        "      min(list(degree_centralityGraph3.values())), \n",
        "      max(list(degree_centralityGraph3.values())))\n",
        "\n",
        "print(\"degree centrality range for All channel in graph 4: \",\n",
        "      min(list(degree_centralityGraph4.values())), \n",
        "      max(list(degree_centralityGraph4.values())))\n",
        "\n",
        "print(\"degree centrality range for All channel in graph 5: \",\n",
        "      min(list(degree_centralityGraph5.values())), \n",
        "      max(list(degree_centralityGraph5.values())))"
      ],
      "execution_count": 41,
      "outputs": [
        {
          "output_type": "stream",
          "text": [
            "degree centrality range for All channel in Template:  0.011494252873563218 2.390804597701149\n",
            "degree centrality range for All channel in graph 1:  0.010869565217391304 1.467391304347826\n",
            "degree centrality range for All channel in graph 2:  0.011627906976744186 2.2325581395348837\n",
            "degree centrality range for All channel in graph 3:  0.01282051282051282 0.8717948717948718\n",
            "degree centrality range for All channel in graph 4:  0.011627906976744186 0.7441860465116279\n",
            "degree centrality range for All channel in graph 5:  0.011764705882352941 0.8470588235294118\n"
          ],
          "name": "stdout"
        }
      ]
    },
    {
      "cell_type": "code",
      "metadata": {
        "id": "hSDdQcuU8pRl",
        "colab_type": "code",
        "colab": {}
      },
      "source": [
        "#pd.DataFrame(list(zip([y for x, y in degree_centralityTemplate], [x for x, y in degree_centralityTemplate])))\n",
        "#[y for x, y in degree_centralityTemplate.items()]\n",
        "#pd.DataFrame(list(zip([y for x, y in degree_centralityTemplate.items()], [x for x, y in degree_centralityTemplate.items()])))"
      ],
      "execution_count": 0,
      "outputs": []
    },
    {
      "cell_type": "code",
      "metadata": {
        "colab_type": "code",
        "id": "J7xiPkX58w0o",
        "colab": {}
      },
      "source": [
        "fig = make_subplots(rows=3, cols=2)\n",
        "\n",
        "numberOfBins = 6\n",
        "# autobinx=True\n",
        "df = pd.DataFrame(list(zip([y for x, y in degree_centralityTemplate.items()], [x for x, y in degree_centralityTemplate.items()])))\n",
        "x = df[0]\n",
        "trace0 = go.Histogram(x=x, nbinsx=numberOfBins)\n",
        "\n",
        "df = pd.DataFrame(list(zip([y for x, y in degree_centralityGraph1.items()], [x for x, y in degree_centralityGraph1.items()])))\n",
        "x = df[0]\n",
        "trace1 = go.Histogram(x=x, nbinsx = numberOfBins)\n",
        "\n",
        "df = pd.DataFrame(list(zip([y for x, y in degree_centralityGraph2.items()], [x for x, y in degree_centralityGraph2.items()])))\n",
        "x = df[0]\n",
        "trace2 = go.Histogram(x=x, nbinsx = numberOfBins)\n",
        "\n",
        "df = pd.DataFrame(list(zip([y for x, y in degree_centralityGraph3.items()], [x for x, y in degree_centralityGraph3.items()])))\n",
        "x = df[0]\n",
        "trace3 = go.Histogram(x=x, nbinsx=numberOfBins)\n",
        "\n",
        "df = pd.DataFrame(list(zip([y for x, y in degree_centralityGraph4.items()], [x for x, y in degree_centralityGraph4.items()])))\n",
        "x = df[0]\n",
        "trace4 = go.Histogram(x=x, nbinsx=numberOfBins)\n",
        "\n",
        "df = pd.DataFrame(list(zip([y for x, y in degree_centralityGraph5.items()], [x for x, y in degree_centralityGraph5.items()])))\n",
        "x = df[0]\n",
        "trace5 = go.Histogram(x=x, nbinsx=numberOfBins)\n",
        "\n",
        "fig.append_trace(trace0, 1, 1)\n",
        "fig.append_trace(trace1, 1, 2)\n",
        "fig.append_trace(trace2, 2, 1)\n",
        "fig.append_trace(trace3, 2, 2)\n",
        "fig.append_trace(trace4, 3, 1)\n",
        "fig.append_trace(trace5, 3, 2)\n",
        "\n",
        "fig.update_layout(barmode='overlay')\n",
        "fig.show()"
      ],
      "execution_count": 0,
      "outputs": []
    },
    {
      "cell_type": "code",
      "metadata": {
        "colab_type": "code",
        "id": "jNTqJy358w0s",
        "colab": {}
      },
      "source": [
        "\n",
        "fig = go.Figure()\n",
        "\n",
        "numberOfBins = 6\n",
        "\n",
        "df = pd.DataFrame(list(zip([y for x, y in degree_centralityTemplate.items()], [x for x, y in degree_centralityTemplate.items()])))\n",
        "x = df[0]\n",
        "fig.add_trace(go.Histogram(x=x, nbinsx=numberOfBins))\n",
        "\n",
        "df = pd.DataFrame(list(zip([y for x, y in degree_centralityGraph1.items()], [x for x, y in degree_centralityGraph1.items()])))\n",
        "x = df[0]\n",
        "fig.add_trace(go.Histogram(x=x, nbinsx=numberOfBins))\n",
        "\n",
        "df = pd.DataFrame(list(zip([y for x, y in degree_centralityGraph2.items()], [x for x, y in degree_centralityGraph2.items()])))\n",
        "x = df[0]\n",
        "fig.add_trace(go.Histogram(x=x, nbinsx=numberOfBins))\n",
        "\n",
        "df = pd.DataFrame(list(zip([y for x, y in degree_centralityGraph3.items()], [x for x, y in degree_centralityGraph3.items()])))\n",
        "x = df[0]\n",
        "fig.add_trace(go.Histogram(x=x, nbinsx=numberOfBins))\n",
        "\n",
        "df = pd.DataFrame(list(zip([y for x, y in degree_centralityGraph4.items()], [x for x, y in degree_centralityGraph4.items()])))\n",
        "x = df[0]\n",
        "fig.add_trace(go.Histogram(x=x, nbinsx=numberOfBins))\n",
        "\n",
        "df = pd.DataFrame(list(zip([y for x, y in degree_centralityGraph5.items()], [x for x, y in degree_centralityGraph5.items()])))\n",
        "x = df[0]\n",
        "fig.add_trace(go.Histogram(x=x, nbinsx=numberOfBins))\n",
        "\n",
        "\n",
        "# Overlay both histograms\n",
        "fig.update_layout(barmode='overlay')\n",
        "# Reduce opacity to see both histograms\n",
        "fig.update_traces(opacity=0.75)\n",
        "fig.show()"
      ],
      "execution_count": 0,
      "outputs": []
    },
    {
      "cell_type": "markdown",
      "metadata": {
        "id": "jlJ1v3VZl91c",
        "colab_type": "text"
      },
      "source": [
        "#### Closeness Centrality"
      ]
    },
    {
      "cell_type": "code",
      "metadata": {
        "colab_type": "code",
        "id": "LcoSxHMcChGK",
        "colab": {}
      },
      "source": [
        "closeness_centralityTemplate = nx.closeness_centrality(templateG)\n",
        "closeness_centralityGraph1 = nx.closeness_centrality(graph1G)\n",
        "closeness_centralityGraph2 = nx.closeness_centrality(graph2G)\n",
        "closeness_centralityGraph3 = nx.closeness_centrality(graph3G)\n",
        "closeness_centralityGraph4 = nx.closeness_centrality(graph4G)\n",
        "closeness_centralityGraph5 = nx.closeness_centrality(graph5G)"
      ],
      "execution_count": 0,
      "outputs": []
    },
    {
      "cell_type": "code",
      "metadata": {
        "colab_type": "code",
        "outputId": "ccc0261a-21c6-40ef-aaee-381021cfa0dd",
        "id": "wRFayEtsChGO",
        "colab": {
          "base_uri": "https://localhost:8080/",
          "height": 72
        }
      },
      "source": [
        "print(closeness_centralityGraph5)\n",
        "sum(list(closeness_centralityTemplate.values()))"
      ],
      "execution_count": 40,
      "outputs": [
        {
          "output_type": "stream",
          "text": [
            "{619322: 0.08067226890756302, 590442: 0.05847750865051903, 594308: 0.05841784989858012, 549840: 0.06776470588235294, 524153: 0.06515837104072399, 629769: 0.050980392156862744, 461577: 0.050980392156862744, 547205: 0.05847750865051903, 483784: 0.08067226890756302, 631903: 0.08067226890756302, 549891: 0.05847750865051903, 632485: 0.050980392156862744, 657173: 0.05847750865051903, 477657: 0.07365728900255754, 620947: 0.050980392156862744, 492039: 0.06855983772819474, 616453: 0.08284313725490196, 483999: 0.06855983772819474, 644754: 0.050980392156862744, 525263: 0.050980392156862744, 532852: 0.05847750865051903, 625756: 0.07100840336134455, 517649: 0.050980392156862744, 509607: 0.07647058823529412, 587437: 0.050980392156862744, 623736: 0.050980392156862744, 493358: 0.05847750865051903, 561819: 0.08916408668730649, 561157: 0.07647058823529412, 530990: 0.08916408668730649, 643087: 0.050980392156862744, 569044: 0.05847750865051903, 556592: 0.050980392156862744, 585589: 0.050980392156862744, 579218: 0.05847750865051903, 573137: 0.052941176470588235, 567281: 0.050980392156862744, 624532: 0.05847750865051903, 499177: 0.06213235294117647, 605235: 0.050980392156862744, 641131: 0.050980392156862744, 499467: 0.055228758169934646, 654641: 0.050980392156862744, 620076: 0.050980392156862744, 652996: 0.050980392156862744, 558930: 0.050980392156862744, 469675: 0.06213235294117647, 657035: 0.050980392156862744, 590595: 0.050980392156862744, 529694: 0.050980392156862744, 528019: 0.050980392156862744, 472749: 0.05847750865051903, 550251: 0.050980392156862744, 619245: 0.05847750865051903, 584229: 0.050980392156862744, 544444: 0.06213235294117647, 555931: 0.050980392156862744, 503218: 0.05847750865051903, 536346: 0.10464396284829723, 520660: 0.06627450980392158, 567195: 0.11045751633986929, 527449: 0.12426470588235294, 459381: 0.12426470588235294, 595298: 0.12426470588235294, 466907: 0.12426470588235294, 589943: 0.11695501730103806, 577992: 0.08644501278772379, 537281: 0.11045751633986929, 523927: 0.0946778711484594, 580426: 0.09941176470588237, 595581: 0.11695501730103806, 616315: 0.11045751633986929, 642329: 0.0946778711484594, 503701: 0.12426470588235294, 571970: 0.08644501278772379, 644226: 0.10464396284829723, 632961: 0.10464396284829723, 473173: 0.12426470588235294, 510031: 0.0, 552988: 0.0, 620120: 0.11294117647058824, 575030: 0.10464396284829723, 621924: 0.0946778711484594, 640784: 0.09941176470588237, 630626: 0.07100840336134455, 606730: 0.05847750865051903}\n"
          ],
          "name": "stdout"
        },
        {
          "output_type": "execute_result",
          "data": {
            "text/plain": [
              "13.462339002338013"
            ]
          },
          "metadata": {
            "tags": []
          },
          "execution_count": 40
        }
      ]
    },
    {
      "cell_type": "code",
      "metadata": {
        "colab_type": "code",
        "outputId": "0eaf99c2-222c-44ff-edbb-7e12f94fdd68",
        "id": "tlyf06IJChGR",
        "colab": {
          "base_uri": "https://localhost:8080/",
          "height": 122
        }
      },
      "source": [
        "print(\"centrality closeness range for All channel in Template: \",\n",
        "      min(list(closeness_centralityTemplate.values())), \n",
        "      max(list(closeness_centralityTemplate.values())))\n",
        "\n",
        "print(\"centrality closeness range for All channel in graph 1: \",\n",
        "      min(list(closeness_centralityGraph1.values())), \n",
        "      max(list(closeness_centralityGraph1.values())))\n",
        "\n",
        "print(\"centrality closeness range for All channel in graph 2: \",\n",
        "      min(list(closeness_centralityGraph2.values())), \n",
        "      max(list(closeness_centralityGraph2.values())))\n",
        "\n",
        "print(\"centrality closeness range for All channel in graph 3: \",\n",
        "      min(list(closeness_centralityGraph3.values())), \n",
        "      max(list(closeness_centralityGraph3.values())))\n",
        "\n",
        "print(\"centrality closeness range for All channel in graph 4: \",\n",
        "      min(list(closeness_centralityGraph4.values())), \n",
        "      max(list(closeness_centralityGraph4.values())))\n",
        "\n",
        "print(\"centrality closeness range for All channel in graph 5: \",\n",
        "      min(list(closeness_centralityGraph5.values())), \n",
        "      max(list(closeness_centralityGraph5.values())))"
      ],
      "execution_count": 42,
      "outputs": [
        {
          "output_type": "stream",
          "text": [
            "centrality closeness range for All channel in Template:  0.0 0.4179728317659352\n",
            "centrality closeness range for All channel in graph 1:  0.0 0.4816053511705686\n",
            "centrality closeness range for All channel in graph 2:  0.0 0.49209302325581394\n",
            "centrality closeness range for All channel in graph 3:  0.0 0.34547908232118757\n",
            "centrality closeness range for All channel in graph 4:  0.0 0.2940735183795949\n",
            "centrality closeness range for All channel in graph 5:  0.0 0.12426470588235294\n"
          ],
          "name": "stdout"
        }
      ]
    },
    {
      "cell_type": "code",
      "metadata": {
        "colab_type": "code",
        "id": "CUbWbP8vChGV",
        "colab": {}
      },
      "source": [
        "#pd.DataFrame(list(zip([y for x, y in degree_centralityTemplate], [x for x, y in degree_centralityTemplate])))\n",
        "#[y for x, y in degree_centralityTemplate.items()]\n",
        "#pd.DataFrame(list(zip([y for x, y in degree_centralityTemplate.items()], [x for x, y in degree_centralityTemplate.items()])))"
      ],
      "execution_count": 0,
      "outputs": []
    },
    {
      "cell_type": "code",
      "metadata": {
        "colab_type": "code",
        "id": "epzz-FZzChGY",
        "colab": {}
      },
      "source": [
        "fig = make_subplots(rows=3, cols=2)\n",
        "\n",
        "# autobinx=True\n",
        "df = pd.DataFrame(list(zip([y for x, y in closeness_centralityTemplate.items()], [x for x, y in closeness_centralityTemplate.items()])))\n",
        "x = df[0]\n",
        "trace0 = go.Histogram(x=x, nbinsx=12)\n",
        "\n",
        "df = pd.DataFrame(list(zip([y for x, y in closeness_centralityGraph1.items()], [x for x, y in closeness_centralityGraph1.items()])))\n",
        "x = df[0]\n",
        "trace1 = go.Histogram(x=x, nbinsx = 12)\n",
        "\n",
        "df = pd.DataFrame(list(zip([y for x, y in closeness_centralityGraph2.items()], [x for x, y in closeness_centralityGraph2.items()])))\n",
        "x = df[0]\n",
        "trace2 = go.Histogram(x=x, nbinsx = 12)\n",
        "\n",
        "df = pd.DataFrame(list(zip([y for x, y in closeness_centralityGraph3.items()], [x for x, y in closeness_centralityGraph3.items()])))\n",
        "x = df[0]\n",
        "trace3 = go.Histogram(x=x, nbinsx=12)\n",
        "\n",
        "df = pd.DataFrame(list(zip([y for x, y in closeness_centralityGraph4.items()], [x for x, y in closeness_centralityGraph4.items()])))\n",
        "x = df[0]\n",
        "trace4 = go.Histogram(x=x, nbinsx=12)\n",
        "\n",
        "df = pd.DataFrame(list(zip([y for x, y in closeness_centralityGraph5.items()], [x for x, y in closeness_centralityGraph5.items()])))\n",
        "x = df[0]\n",
        "trace5 = go.Histogram(x=x, nbinsx=12)\n",
        "\n",
        "fig.append_trace(trace0, 1, 1)\n",
        "fig.append_trace(trace1, 1, 2)\n",
        "fig.append_trace(trace2, 2, 1)\n",
        "fig.append_trace(trace3, 2, 2)\n",
        "fig.append_trace(trace4, 3, 1)\n",
        "fig.append_trace(trace5, 3, 2)\n",
        "\n",
        "fig.update_layout(barmode='overlay')\n",
        "fig.show()"
      ],
      "execution_count": 0,
      "outputs": []
    },
    {
      "cell_type": "code",
      "metadata": {
        "colab_type": "code",
        "id": "DsrL2TAKChGc",
        "colab": {}
      },
      "source": [
        "\n",
        "fig = go.Figure()\n",
        "\n",
        "df = pd.DataFrame(list(zip([y for x, y in closeness_centralityTemplate.items()], [x for x, y in closeness_centralityTemplate.items()])))\n",
        "x = df[0]\n",
        "fig.add_trace(go.Histogram(x=x))\n",
        "\n",
        "df = pd.DataFrame(list(zip([y for x, y in closeness_centralityGraph1.items()], [x for x, y in closeness_centralityGraph1.items()])))\n",
        "x = df[0]\n",
        "fig.add_trace(go.Histogram(x=x))\n",
        "\n",
        "df = pd.DataFrame(list(zip([y for x, y in closeness_centralityGraph2.items()], [x for x, y in closeness_centralityGraph2.items()])))\n",
        "x = df[0]\n",
        "fig.add_trace(go.Histogram(x=x))\n",
        "\n",
        "df = pd.DataFrame(list(zip([y for x, y in closeness_centralityGraph3.items()], [x for x, y in closeness_centralityGraph3.items()])))\n",
        "x = df[0]\n",
        "fig.add_trace(go.Histogram(x=x))\n",
        "\n",
        "df = pd.DataFrame(list(zip([y for x, y in closeness_centralityGraph4.items()], [x for x, y in closeness_centralityGraph4.items()])))\n",
        "x = df[0]\n",
        "fig.add_trace(go.Histogram(x=x))\n",
        "\n",
        "df = pd.DataFrame(list(zip([y for x, y in closeness_centralityGraph5.items()], [x for x, y in closeness_centralityGraph5.items()])))\n",
        "x = df[0]\n",
        "fig.add_trace(go.Histogram(x=x))\n",
        "\n",
        "\n",
        "# Overlay both histograms\n",
        "fig.update_layout(barmode='overlay')\n",
        "# Reduce opacity to see both histograms\n",
        "fig.update_traces(opacity=0.75)\n",
        "fig.show()"
      ],
      "execution_count": 0,
      "outputs": []
    },
    {
      "cell_type": "markdown",
      "metadata": {
        "id": "UgL05RDsFZ28",
        "colab_type": "text"
      },
      "source": [
        "#### Betweenness Centrality\n",
        "not for multi-graph"
      ]
    },
    {
      "cell_type": "code",
      "metadata": {
        "colab_type": "code",
        "id": "b0chvDbYFuvJ",
        "colab": {
          "base_uri": "https://localhost:8080/",
          "height": 455
        },
        "outputId": "1674c833-5db7-4939-d591-309743425340"
      },
      "source": [
        "betweenness_centralityTemplate = nx.betweenness_centrality(templateG, normalized=False)\n",
        "betweenness_centralityGraph1 = nx.betweenness_centrality(graph1G, normalized=False)\n",
        "betweenness_centralityGraph2 = nx.betweenness_centrality(graph2G, normalized=False)\n",
        "betweenness_centralityGraph3 = nx.betweenness_centrality(graph3G, normalized=False)\n",
        "betweenness_centralityGraph4 = nx.betweenness_centrality(graph4G, normalized=False)\n",
        "betweenness_centralityGraph5 = nx.betweenness_centrality(graph5G, normalized=False)"
      ],
      "execution_count": 43,
      "outputs": [
        {
          "output_type": "error",
          "ename": "NetworkXNotImplemented",
          "evalue": "ignored",
          "traceback": [
            "\u001b[0;31m---------------------------------------------------------------------------\u001b[0m",
            "\u001b[0;31mNetworkXNotImplemented\u001b[0m                    Traceback (most recent call last)",
            "\u001b[0;32m<ipython-input-43-8c06eddd4880>\u001b[0m in \u001b[0;36m<module>\u001b[0;34m()\u001b[0m\n\u001b[0;32m----> 1\u001b[0;31m \u001b[0mbetweenness_centralityTemplate\u001b[0m \u001b[0;34m=\u001b[0m \u001b[0mnx\u001b[0m\u001b[0;34m.\u001b[0m\u001b[0mbetweenness_centrality\u001b[0m\u001b[0;34m(\u001b[0m\u001b[0mtemplateG\u001b[0m\u001b[0;34m,\u001b[0m \u001b[0mnormalized\u001b[0m\u001b[0;34m=\u001b[0m\u001b[0;32mFalse\u001b[0m\u001b[0;34m)\u001b[0m\u001b[0;34m\u001b[0m\u001b[0;34m\u001b[0m\u001b[0m\n\u001b[0m\u001b[1;32m      2\u001b[0m \u001b[0mbetweenness_centralityGraph1\u001b[0m \u001b[0;34m=\u001b[0m \u001b[0mnx\u001b[0m\u001b[0;34m.\u001b[0m\u001b[0mbetweenness_centrality\u001b[0m\u001b[0;34m(\u001b[0m\u001b[0mgraph1G\u001b[0m\u001b[0;34m,\u001b[0m \u001b[0mnormalized\u001b[0m\u001b[0;34m=\u001b[0m\u001b[0;32mFalse\u001b[0m\u001b[0;34m)\u001b[0m\u001b[0;34m\u001b[0m\u001b[0;34m\u001b[0m\u001b[0m\n\u001b[1;32m      3\u001b[0m \u001b[0mbetweenness_centralityGraph2\u001b[0m \u001b[0;34m=\u001b[0m \u001b[0mnx\u001b[0m\u001b[0;34m.\u001b[0m\u001b[0mbetweenness_centrality\u001b[0m\u001b[0;34m(\u001b[0m\u001b[0mgraph2G\u001b[0m\u001b[0;34m,\u001b[0m \u001b[0mnormalized\u001b[0m\u001b[0;34m=\u001b[0m\u001b[0;32mFalse\u001b[0m\u001b[0;34m)\u001b[0m\u001b[0;34m\u001b[0m\u001b[0;34m\u001b[0m\u001b[0m\n\u001b[1;32m      4\u001b[0m \u001b[0mbetweenness_centralityGraph3\u001b[0m \u001b[0;34m=\u001b[0m \u001b[0mnx\u001b[0m\u001b[0;34m.\u001b[0m\u001b[0mbetweenness_centrality\u001b[0m\u001b[0;34m(\u001b[0m\u001b[0mgraph3G\u001b[0m\u001b[0;34m,\u001b[0m \u001b[0mnormalized\u001b[0m\u001b[0;34m=\u001b[0m\u001b[0;32mFalse\u001b[0m\u001b[0;34m)\u001b[0m\u001b[0;34m\u001b[0m\u001b[0;34m\u001b[0m\u001b[0m\n\u001b[1;32m      5\u001b[0m \u001b[0mbetweenness_centralityGraph4\u001b[0m \u001b[0;34m=\u001b[0m \u001b[0mnx\u001b[0m\u001b[0;34m.\u001b[0m\u001b[0mbetweenness_centrality\u001b[0m\u001b[0;34m(\u001b[0m\u001b[0mgraph4G\u001b[0m\u001b[0;34m,\u001b[0m \u001b[0mnormalized\u001b[0m\u001b[0;34m=\u001b[0m\u001b[0;32mFalse\u001b[0m\u001b[0;34m)\u001b[0m\u001b[0;34m\u001b[0m\u001b[0;34m\u001b[0m\u001b[0m\n",
            "\u001b[0;32m<decorator-gen-246>\u001b[0m in \u001b[0;36mbetweenness_centrality\u001b[0;34m(G, k, normalized, weight, endpoints, seed)\u001b[0m\n",
            "\u001b[0;32m/usr/local/lib/python3.6/dist-packages/networkx/utils/decorators.py\u001b[0m in \u001b[0;36m_random_state\u001b[0;34m(func, *args, **kwargs)\u001b[0m\n\u001b[1;32m    462\u001b[0m         \u001b[0mnew_args\u001b[0m \u001b[0;34m=\u001b[0m \u001b[0mlist\u001b[0m\u001b[0;34m(\u001b[0m\u001b[0margs\u001b[0m\u001b[0;34m)\u001b[0m\u001b[0;34m\u001b[0m\u001b[0;34m\u001b[0m\u001b[0m\n\u001b[1;32m    463\u001b[0m         \u001b[0mnew_args\u001b[0m\u001b[0;34m[\u001b[0m\u001b[0mrandom_state_index\u001b[0m\u001b[0;34m]\u001b[0m \u001b[0;34m=\u001b[0m \u001b[0mrandom_state\u001b[0m\u001b[0;34m\u001b[0m\u001b[0;34m\u001b[0m\u001b[0m\n\u001b[0;32m--> 464\u001b[0;31m         \u001b[0;32mreturn\u001b[0m \u001b[0mfunc\u001b[0m\u001b[0;34m(\u001b[0m\u001b[0;34m*\u001b[0m\u001b[0mnew_args\u001b[0m\u001b[0;34m,\u001b[0m \u001b[0;34m**\u001b[0m\u001b[0mkwargs\u001b[0m\u001b[0;34m)\u001b[0m\u001b[0;34m\u001b[0m\u001b[0;34m\u001b[0m\u001b[0m\n\u001b[0m\u001b[1;32m    465\u001b[0m     \u001b[0;32mreturn\u001b[0m \u001b[0m_random_state\u001b[0m\u001b[0;34m\u001b[0m\u001b[0;34m\u001b[0m\u001b[0m\n",
            "\u001b[0;32m<decorator-gen-245>\u001b[0m in \u001b[0;36mbetweenness_centrality\u001b[0;34m(G, k, normalized, weight, endpoints, seed)\u001b[0m\n",
            "\u001b[0;32m/usr/local/lib/python3.6/dist-packages/networkx/utils/decorators.py\u001b[0m in \u001b[0;36m_not_implemented_for\u001b[0;34m(not_implement_for_func, *args, **kwargs)\u001b[0m\n\u001b[1;32m     78\u001b[0m         \u001b[0;32mif\u001b[0m \u001b[0mmatch\u001b[0m\u001b[0;34m:\u001b[0m\u001b[0;34m\u001b[0m\u001b[0;34m\u001b[0m\u001b[0m\n\u001b[1;32m     79\u001b[0m             \u001b[0mmsg\u001b[0m \u001b[0;34m=\u001b[0m \u001b[0;34m'not implemented for %s type'\u001b[0m \u001b[0;34m%\u001b[0m \u001b[0;34m' '\u001b[0m\u001b[0;34m.\u001b[0m\u001b[0mjoin\u001b[0m\u001b[0;34m(\u001b[0m\u001b[0mgraph_types\u001b[0m\u001b[0;34m)\u001b[0m\u001b[0;34m\u001b[0m\u001b[0;34m\u001b[0m\u001b[0m\n\u001b[0;32m---> 80\u001b[0;31m             \u001b[0;32mraise\u001b[0m \u001b[0mnx\u001b[0m\u001b[0;34m.\u001b[0m\u001b[0mNetworkXNotImplemented\u001b[0m\u001b[0;34m(\u001b[0m\u001b[0mmsg\u001b[0m\u001b[0;34m)\u001b[0m\u001b[0;34m\u001b[0m\u001b[0;34m\u001b[0m\u001b[0m\n\u001b[0m\u001b[1;32m     81\u001b[0m         \u001b[0;32melse\u001b[0m\u001b[0;34m:\u001b[0m\u001b[0;34m\u001b[0m\u001b[0;34m\u001b[0m\u001b[0m\n\u001b[1;32m     82\u001b[0m             \u001b[0;32mreturn\u001b[0m \u001b[0mnot_implement_for_func\u001b[0m\u001b[0;34m(\u001b[0m\u001b[0;34m*\u001b[0m\u001b[0margs\u001b[0m\u001b[0;34m,\u001b[0m \u001b[0;34m**\u001b[0m\u001b[0mkwargs\u001b[0m\u001b[0;34m)\u001b[0m\u001b[0;34m\u001b[0m\u001b[0;34m\u001b[0m\u001b[0m\n",
            "\u001b[0;31mNetworkXNotImplemented\u001b[0m: not implemented for multigraph type"
          ]
        }
      ]
    },
    {
      "cell_type": "code",
      "metadata": {
        "colab_type": "code",
        "outputId": "70f3a658-e681-413a-a59f-a5da955b42c5",
        "id": "vGb4sJ-XFuvO",
        "colab": {
          "base_uri": "https://localhost:8080/",
          "height": 54
        }
      },
      "source": [
        "print(betweenness_centralityGraph5)"
      ],
      "execution_count": 0,
      "outputs": [
        {
          "output_type": "stream",
          "text": [
            "{619322: 0.034644802365390595, 590442: 0.0, 594308: 0.012670234760570895, 549840: 0.012859254813036323, 524153: 0.047526844070961714, 629769: 0.0, 461577: 0.0, 547205: 0.0, 483784: 0.020662209328175713, 631903: 0.029154328398025873, 549891: 0.0, 632485: 0.0, 657173: 0.0, 477657: 0.010570061357876484, 620947: 0.0, 492039: 0.0, 616453: 0.0, 483999: 0.0, 644754: 0.0, 525263: 0.0, 532852: 0.0, 625756: 0.0, 517649: 0.0, 509607: 0.0, 587437: 0.0, 623736: 0.0, 493358: 0.0, 561819: 0.0128921568627451, 561157: 0.0, 530990: 0.004027611044417767, 643087: 0.0, 569044: 0.0, 556592: 0.0, 585589: 0.0, 579218: 0.0, 573137: 0.0011779711884753901, 567281: 0.0, 624532: 0.0, 499177: 0.0, 605235: 0.0, 641131: 0.0, 499467: 0.0, 654641: 0.0, 620076: 0.0, 652996: 0.0, 558930: 0.0, 469675: 0.0, 657035: 0.0, 590595: 0.0, 529694: 0.0, 528019: 0.0, 472749: 0.0, 550251: 0.0, 619245: 0.0, 584229: 0.0, 544444: 0.0, 555931: 0.0, 503218: 0.0, 536346: 0.0, 520660: 0.0, 567195: 0.0, 527449: 0.0, 459381: 0.0, 595298: 0.0, 466907: 0.0, 589943: 0.0, 577992: 0.0, 537281: 0.0, 523927: 0.0, 580426: 0.0, 595581: 0.0, 616315: 0.0, 642329: 0.0, 503701: 0.0, 571970: 0.0, 644226: 0.0, 632961: 0.0, 473173: 0.0, 510031: 0.0, 552988: 0.0, 620120: 0.008072228891556621, 575030: 0.0, 621924: 0.0, 640784: 0.0, 630626: 0.0, 606730: 0.0}\n"
          ],
          "name": "stdout"
        }
      ]
    },
    {
      "cell_type": "code",
      "metadata": {
        "colab_type": "code",
        "outputId": "0f4048b6-af96-487b-acd4-4b868e56c487",
        "id": "kqiWPuT1FuvQ",
        "colab": {
          "base_uri": "https://localhost:8080/",
          "height": 122
        }
      },
      "source": [
        "print(\"centrality betweenness range for All channel in Template: \",\n",
        "      min(list(betweenness_centralityTemplate.values())), \n",
        "      max(list(betweenness_centralityTemplate.values())))\n",
        "\n",
        "print(\"centrality betweenness range for All channel in graph 1: \",\n",
        "      min(list(betweenness_centralityGraph1.values())), \n",
        "      max(list(betweenness_centralityGraph1.values())))\n",
        "\n",
        "print(\"centrality betweenness range for All channel in graph 2: \",\n",
        "      min(list(betweenness_centralityGraph2.values())), \n",
        "      max(list(betweenness_centralityGraph2.values())))\n",
        "\n",
        "print(\"centrality betweenness range for All channel in graph 3: \",\n",
        "      min(list(betweenness_centralityGraph3.values())), \n",
        "      max(list(betweenness_centralityGraph3.values())))\n",
        "\n",
        "print(\"centrality betweenness range for All channel in graph 4: \",\n",
        "      min(list(betweenness_centralityGraph4.values())), \n",
        "      max(list(betweenness_centralityGraph4.values())))\n",
        "\n",
        "print(\"centrality betweenness range for All channel in graph 5: \",\n",
        "      min(list(betweenness_centralityGraph5.values())), \n",
        "      max(list(betweenness_centralityGraph5.values())))"
      ],
      "execution_count": 0,
      "outputs": [
        {
          "output_type": "stream",
          "text": [
            "centrality betweenness range for All channel in Template:  0.0 690.9019841269841\n",
            "centrality betweenness range for All channel in graph 1:  0.0 1021.3388888888888\n",
            "centrality betweenness range for All channel in graph 2:  0.0 907.0600950906678\n",
            "centrality betweenness range for All channel in graph 3:  0.0 476.9\n",
            "centrality betweenness range for All channel in graph 4:  0.0 918.0972312001725\n",
            "centrality betweenness range for All channel in graph 5:  0.0 339.34166666666664\n"
          ],
          "name": "stdout"
        }
      ]
    },
    {
      "cell_type": "code",
      "metadata": {
        "colab_type": "code",
        "id": "dy7I_naDFuvW",
        "colab": {}
      },
      "source": [
        "fig = make_subplots(rows=3, cols=2)\n",
        "\n",
        "# autobinx=True\n",
        "df = pd.DataFrame(list(zip([y for x, y in betweenness_centralityTemplate.items()], [x for x, y in betweenness_centralityTemplate.items()])))\n",
        "x = df[0]\n",
        "trace0 = go.Histogram(x=x, nbinsx=12)\n",
        "\n",
        "df = pd.DataFrame(list(zip([y for x, y in betweenness_centralityGraph1.items()], [x for x, y in betweenness_centralityGraph1.items()])))\n",
        "x = df[0]\n",
        "trace1 = go.Histogram(x=x, nbinsx = 12)\n",
        "\n",
        "df = pd.DataFrame(list(zip([y for x, y in betweenness_centralityGraph2.items()], [x for x, y in betweenness_centralityGraph2.items()])))\n",
        "x = df[0]\n",
        "trace2 = go.Histogram(x=x, nbinsx = 12)\n",
        "\n",
        "df = pd.DataFrame(list(zip([y for x, y in betweenness_centralityGraph3.items()], [x for x, y in betweenness_centralityGraph3.items()])))\n",
        "x = df[0]\n",
        "trace3 = go.Histogram(x=x, nbinsx=12)\n",
        "\n",
        "df = pd.DataFrame(list(zip([y for x, y in betweenness_centralityGraph4.items()], [x for x, y in betweenness_centralityGraph4.items()])))\n",
        "x = df[0]\n",
        "trace4 = go.Histogram(x=x, nbinsx=12)\n",
        "\n",
        "df = pd.DataFrame(list(zip([y for x, y in betweenness_centralityGraph5.items()], [x for x, y in betweenness_centralityGraph5.items()])))\n",
        "x = df[0]\n",
        "trace5 = go.Histogram(x=x, nbinsx=12)\n",
        "\n",
        "fig.append_trace(trace0, 1, 1)\n",
        "fig.append_trace(trace1, 1, 2)\n",
        "fig.append_trace(trace2, 2, 1)\n",
        "fig.append_trace(trace3, 2, 2)\n",
        "fig.append_trace(trace4, 3, 1)\n",
        "fig.append_trace(trace5, 3, 2)\n",
        "\n",
        "fig.update_layout(barmode='overlay')\n",
        "fig.show()"
      ],
      "execution_count": 0,
      "outputs": []
    },
    {
      "cell_type": "code",
      "metadata": {
        "colab_type": "code",
        "id": "pl0K0bN3FuvZ",
        "colab": {}
      },
      "source": [
        "fig = go.Figure()\n",
        "\n",
        "df = pd.DataFrame(list(zip([y for x, y in betweenness_centralityTemplate.items()], [x for x, y in betweenness_centralityTemplate.items()])))\n",
        "x = df[0]\n",
        "fig.add_trace(go.Histogram(x=x))\n",
        "\n",
        "df = pd.DataFrame(list(zip([y for x, y in betweenness_centralityGraph1.items()], [x for x, y in betweenness_centralityGraph1.items()])))\n",
        "x = df[0]\n",
        "fig.add_trace(go.Histogram(x=x))\n",
        "\n",
        "df = pd.DataFrame(list(zip([y for x, y in betweenness_centralityGraph2.items()], [x for x, y in betweenness_centralityGraph2.items()])))\n",
        "x = df[0]\n",
        "fig.add_trace(go.Histogram(x=x))\n",
        "\n",
        "df = pd.DataFrame(list(zip([y for x, y in betweenness_centralityGraph3.items()], [x for x, y in betweenness_centralityGraph3.items()])))\n",
        "x = df[0]\n",
        "fig.add_trace(go.Histogram(x=x))\n",
        "\n",
        "df = pd.DataFrame(list(zip([y for x, y in betweenness_centralityGraph4.items()], [x for x, y in betweenness_centralityGraph4.items()])))\n",
        "x = df[0]\n",
        "fig.add_trace(go.Histogram(x=x))\n",
        "\n",
        "df = pd.DataFrame(list(zip([y for x, y in betweenness_centralityGraph5.items()], [x for x, y in betweenness_centralityGraph5.items()])))\n",
        "x = df[0]\n",
        "fig.add_trace(go.Histogram(x=x))\n",
        "\n",
        "\n",
        "# Overlay both histograms\n",
        "fig.update_layout(barmode='overlay')\n",
        "# Reduce opacity to see both histograms\n",
        "fig.update_traces(opacity=0.75, nbinsx=12)\n",
        "fig.show()\n"
      ],
      "execution_count": 0,
      "outputs": []
    },
    {
      "cell_type": "code",
      "metadata": {
        "id": "oe6YnodjCXpu",
        "colab_type": "code",
        "colab": {}
      },
      "source": [
        ""
      ],
      "execution_count": 0,
      "outputs": []
    },
    {
      "cell_type": "markdown",
      "metadata": {
        "colab_type": "text",
        "id": "KHdpm1RZSXR8"
      },
      "source": [
        "#### Eigenvector Centrality\n",
        "not for multi-graph"
      ]
    },
    {
      "cell_type": "code",
      "metadata": {
        "colab_type": "code",
        "id": "xP6Ta3wqSXR_",
        "colab": {}
      },
      "source": [
        "eigenvector_centralityTemplate = nx.eigenvector_centrality(templateG)\n",
        "eigenvector_centralityGraph1 = nx.eigenvector_centrality(graph1G)\n",
        "eigenvector_centralityGraph2 = nx.eigenvector_centrality(graph2G)\n",
        "eigenvector_centralityGraph3 = nx.eigenvector_centrality(graph3G)\n",
        "eigenvector_centralityGraph4 = nx.eigenvector_centrality(graph4G)\n",
        "eigenvector_centralityGraph5 = nx.eigenvector_centrality(graph5G)"
      ],
      "execution_count": 0,
      "outputs": []
    },
    {
      "cell_type": "code",
      "metadata": {
        "colab_type": "code",
        "outputId": "70f3a658-e681-413a-a59f-a5da955b42c5",
        "id": "ywSfSyYvSXSF",
        "colab": {
          "base_uri": "https://localhost:8080/",
          "height": 54
        }
      },
      "source": [
        "print(eigenvector_centralityGraph5)"
      ],
      "execution_count": 0,
      "outputs": [
        {
          "output_type": "stream",
          "text": [
            "{619322: 0.034644802365390595, 590442: 0.0, 594308: 0.012670234760570895, 549840: 0.012859254813036323, 524153: 0.047526844070961714, 629769: 0.0, 461577: 0.0, 547205: 0.0, 483784: 0.020662209328175713, 631903: 0.029154328398025873, 549891: 0.0, 632485: 0.0, 657173: 0.0, 477657: 0.010570061357876484, 620947: 0.0, 492039: 0.0, 616453: 0.0, 483999: 0.0, 644754: 0.0, 525263: 0.0, 532852: 0.0, 625756: 0.0, 517649: 0.0, 509607: 0.0, 587437: 0.0, 623736: 0.0, 493358: 0.0, 561819: 0.0128921568627451, 561157: 0.0, 530990: 0.004027611044417767, 643087: 0.0, 569044: 0.0, 556592: 0.0, 585589: 0.0, 579218: 0.0, 573137: 0.0011779711884753901, 567281: 0.0, 624532: 0.0, 499177: 0.0, 605235: 0.0, 641131: 0.0, 499467: 0.0, 654641: 0.0, 620076: 0.0, 652996: 0.0, 558930: 0.0, 469675: 0.0, 657035: 0.0, 590595: 0.0, 529694: 0.0, 528019: 0.0, 472749: 0.0, 550251: 0.0, 619245: 0.0, 584229: 0.0, 544444: 0.0, 555931: 0.0, 503218: 0.0, 536346: 0.0, 520660: 0.0, 567195: 0.0, 527449: 0.0, 459381: 0.0, 595298: 0.0, 466907: 0.0, 589943: 0.0, 577992: 0.0, 537281: 0.0, 523927: 0.0, 580426: 0.0, 595581: 0.0, 616315: 0.0, 642329: 0.0, 503701: 0.0, 571970: 0.0, 644226: 0.0, 632961: 0.0, 473173: 0.0, 510031: 0.0, 552988: 0.0, 620120: 0.008072228891556621, 575030: 0.0, 621924: 0.0, 640784: 0.0, 630626: 0.0, 606730: 0.0}\n"
          ],
          "name": "stdout"
        }
      ]
    },
    {
      "cell_type": "code",
      "metadata": {
        "colab_type": "code",
        "id": "Or1yy04NSXSJ",
        "colab": {}
      },
      "source": [
        "print(\"centrality eigenvector range for All channel in Template: \",\n",
        "      min(list(eigenvector_centralityTemplate.values())), \n",
        "      max(list(eigenvector_centralityTemplate.values())))\n",
        "\n",
        "print(\"centrality eigenvector range for All channel in graph 1: \",\n",
        "      min(list(eigenvector_centralityGraph1.values())), \n",
        "      max(list(eigenvector_centralityGraph1.values())))\n",
        "\n",
        "print(\"centrality eigenvector range for All channel in graph 2: \",\n",
        "      min(list(eigenvector_centralityGraph2.values())), \n",
        "      max(list(eigenvector_centralityGraph2.values())))\n",
        "\n",
        "print(\"centrality eigenvector range for All channel in graph 3: \",\n",
        "      min(list(eigenvector_centralityGraph3.values())), \n",
        "      max(list(eigenvector_centralityGraph3.values())))\n",
        "\n",
        "print(\"centrality eigenvector range for All channel in graph 4: \",\n",
        "      min(list(eigenvector_centralityGraph4.values())), \n",
        "      max(list(eigenvector_centralityGraph4.values())))\n",
        "\n",
        "print(\"centrality eigenvector range for All channel in graph 5: \",\n",
        "      min(list(eigenvector_centralityGraph5.values())), \n",
        "      max(list(eigenvector_centralityGraph5.values())))"
      ],
      "execution_count": 0,
      "outputs": []
    },
    {
      "cell_type": "code",
      "metadata": {
        "colab_type": "code",
        "id": "WtuOxwyoSXSO",
        "colab": {}
      },
      "source": [
        "fig = make_subplots(rows=3, cols=2)\n",
        "\n",
        "# autobinx=True\n",
        "df = pd.DataFrame(list(zip([y for x, y in eigenvector_centralityTemplate.items()], [x for x, y in eigenvector_centralityTemplate.items()])))\n",
        "x = df[0]\n",
        "trace0 = go.Histogram(x=x, nbinsx=12)\n",
        "\n",
        "df = pd.DataFrame(list(zip([y for x, y in eigenvector_centralityGraph1.items()], [x for x, y in eigenvector_centralityGraph1.items()])))\n",
        "x = df[0]\n",
        "trace1 = go.Histogram(x=x, nbinsx = 12)\n",
        "\n",
        "df = pd.DataFrame(list(zip([y for x, y in eigenvector_centralityGraph2.items()], [x for x, y in eigenvector_centralityGraph2.items()])))\n",
        "x = df[0]\n",
        "trace2 = go.Histogram(x=x, nbinsx = 12)\n",
        "\n",
        "df = pd.DataFrame(list(zip([y for x, y in eigenvector_centralityGraph3.items()], [x for x, y in eigenvector_centralityGraph3.items()])))\n",
        "x = df[0]\n",
        "trace3 = go.Histogram(x=x, nbinsx=12)\n",
        "\n",
        "df = pd.DataFrame(list(zip([y for x, y in eigenvector_centralityGraph4.items()], [x for x, y in eigenvector_centralityGraph4.items()])))\n",
        "x = df[0]\n",
        "trace4 = go.Histogram(x=x, nbinsx=12)\n",
        "\n",
        "df = pd.DataFrame(list(zip([y for x, y in eigenvector_centralityGraph5.items()], [x for x, y in eigenvector_centralityGraph5.items()])))\n",
        "x = df[0]\n",
        "trace5 = go.Histogram(x=x, nbinsx=12)\n",
        "\n",
        "fig.append_trace(trace0, 1, 1)\n",
        "fig.append_trace(trace1, 1, 2)\n",
        "fig.append_trace(trace2, 2, 1)\n",
        "fig.append_trace(trace3, 2, 2)\n",
        "fig.append_trace(trace4, 3, 1)\n",
        "fig.append_trace(trace5, 3, 2)\n",
        "\n",
        "fig.update_layout(barmode='overlay')\n",
        "fig.show()"
      ],
      "execution_count": 0,
      "outputs": []
    },
    {
      "cell_type": "code",
      "metadata": {
        "colab_type": "code",
        "id": "_KsMwx4ZSXSR",
        "colab": {}
      },
      "source": [
        "fig = go.Figure()\n",
        "\n",
        "df = pd.DataFrame(list(zip([y for x, y in eigenvector_centralityTemplate.items()], [x for x, y in eigenvector_centralityTemplate.items()])))\n",
        "x = df[0]\n",
        "fig.add_trace(go.Histogram(x=x))\n",
        "\n",
        "df = pd.DataFrame(list(zip([y for x, y in eigenvector_centralityGraph1.items()], [x for x, y in eigenvector_centralityGraph1.items()])))\n",
        "x = df[0]\n",
        "fig.add_trace(go.Histogram(x=x))\n",
        "\n",
        "df = pd.DataFrame(list(zip([y for x, y in eigenvector_centralityGraph2.items()], [x for x, y in eigenvector_centralityGraph2.items()])))\n",
        "x = df[0]\n",
        "fig.add_trace(go.Histogram(x=x))\n",
        "\n",
        "df = pd.DataFrame(list(zip([y for x, y in eigenvector_centralityGraph3.items()], [x for x, y in eigenvector_centralityGraph3.items()])))\n",
        "x = df[0]\n",
        "fig.add_trace(go.Histogram(x=x))\n",
        "\n",
        "df = pd.DataFrame(list(zip([y for x, y in eigenvector_centralityGraph4.items()], [x for x, y in eigenvector_centralityGraph4.items()])))\n",
        "x = df[0]\n",
        "fig.add_trace(go.Histogram(x=x))\n",
        "\n",
        "df = pd.DataFrame(list(zip([y for x, y in eigenvector_centralityGraph5.items()], [x for x, y in eigenvector_centralityGraph5.items()])))\n",
        "x = df[0]\n",
        "fig.add_trace(go.Histogram(x=x))\n",
        "\n",
        "\n",
        "# Overlay both histograms\n",
        "fig.update_layout(barmode='overlay')\n",
        "# Reduce opacity to see both histograms\n",
        "fig.update_traces(opacity=0.75, nbinsx=12)\n",
        "fig.show()\n"
      ],
      "execution_count": 0,
      "outputs": []
    },
    {
      "cell_type": "code",
      "metadata": {
        "colab_type": "code",
        "id": "rLDMxWuxSXST",
        "colab": {}
      },
      "source": [
        ""
      ],
      "execution_count": 0,
      "outputs": []
    },
    {
      "cell_type": "markdown",
      "metadata": {
        "id": "lhg7aLXWWWCM",
        "colab_type": "text"
      },
      "source": [
        "#### PageRank\n",
        "not for multi-graph"
      ]
    },
    {
      "cell_type": "code",
      "metadata": {
        "colab_type": "code",
        "id": "BDsS6vAgWeAO",
        "colab": {}
      },
      "source": [
        "pagerankTemplate = nx.pagerank(templateG)\n",
        "pagerankGraph1 = nx.pagerank(graph1G)\n",
        "pagerankGraph2 = nx.pagerank(graph2G)\n",
        "pagerankGraph3 = nx.pagerank(graph3G)\n",
        "pagerankGraph4 = nx.pagerank(graph4G)\n",
        "pagerankGraph5 = nx.pagerank(graph5G)"
      ],
      "execution_count": 0,
      "outputs": []
    },
    {
      "cell_type": "code",
      "metadata": {
        "colab_type": "code",
        "outputId": "7bd9b771-1922-419d-af69-92e40dd2170a",
        "id": "rtWuK7b3WeAa",
        "colab": {
          "base_uri": "https://localhost:8080/",
          "height": 54
        }
      },
      "source": [
        "print(pagerankGraph5)"
      ],
      "execution_count": 67,
      "outputs": [
        {
          "output_type": "stream",
          "text": [
            "{619322: 0.013038596887807473, 590442: 0.010209402779011036, 594308: 0.012824841904623062, 549840: 0.013343307274971718, 524153: 0.01316702031388485, 629769: 0.010142997842042633, 461577: 0.010142997842042633, 547205: 0.010209402779011036, 483784: 0.02396121680202285, 631903: 0.012238996817302603, 549891: 0.010209402779011036, 632485: 0.010142997842042633, 657173: 0.010209402779011036, 477657: 0.013570744420576836, 620947: 0.010142997842042633, 492039: 0.0104425496029522, 616453: 0.011573071866712317, 483999: 0.0104425496029522, 644754: 0.010142997842042633, 525263: 0.010142997842042633, 532852: 0.010209402779011036, 625756: 0.010733683247165792, 517649: 0.010142997842042633, 509607: 0.01104879139855756, 587437: 0.010142997842042633, 623736: 0.010142997842042633, 493358: 0.010405275524305972, 561819: 0.013072990439243913, 561157: 0.011621408193400583, 530990: 0.013619818171737132, 643087: 0.010142997842042633, 569044: 0.010209402779011036, 556592: 0.010142997842042633, 585589: 0.010142997842042633, 579218: 0.010209402779011036, 573137: 0.011276448817403435, 567281: 0.010142997842042633, 624532: 0.010209402779011036, 499177: 0.010372881248200148, 605235: 0.010142997842042633, 641131: 0.010142997842042633, 499467: 0.010434131486256226, 654641: 0.010142997842042633, 620076: 0.010142997842042633, 652996: 0.010142997842042633, 558930: 0.010142997842042633, 469675: 0.010372881248200148, 657035: 0.010142997842042633, 590595: 0.010142997842042633, 529694: 0.010142997842042633, 528019: 0.010142997842042633, 472749: 0.010209402779011036, 550251: 0.010142997842042633, 619245: 0.010209402779011036, 584229: 0.010142997842042633, 544444: 0.010372881248200148, 555931: 0.010142997842042633, 503218: 0.01069340361855384, 536346: 0.013217686694744345, 520660: 0.011097127725245827, 567195: 0.013944484851812478, 527449: 0.014673056181958143, 459381: 0.014673056181958143, 595298: 0.014673056181958143, 466907: 0.014673056181958143, 589943: 0.014373504421048577, 577992: 0.012407215362269613, 537281: 0.013745051607111402, 523927: 0.012571147701401997, 580426: 0.012937033419910558, 595581: 0.014157490942105158, 616315: 0.013741967162899101, 642329: 0.012092856540195238, 503701: 0.014673056181958143, 571970: 0.012245807177763832, 644226: 0.013217686694744345, 632961: 0.013420204383657722, 473173: 0.014673056181958143, 510031: 0.009909851018101469, 552988: 0.009909851018101469, 620120: 0.013889503581505772, 575030: 0.013589951820596205, 621924: 0.012260533692450391, 640784: 0.013022749244715106, 630626: 0.011365220505315268, 606730: 0.010405275524305972}\n"
          ],
          "name": "stdout"
        }
      ]
    },
    {
      "cell_type": "code",
      "metadata": {
        "colab_type": "code",
        "id": "-wXclQzGWeAk",
        "colab": {
          "base_uri": "https://localhost:8080/",
          "height": 122
        },
        "outputId": "ac6c2da8-7cba-4d8b-cb7f-611ef76c97ba"
      },
      "source": [
        "print(\"pagerank range for All channel in Template: \",\n",
        "      min(list(pagerankTemplate.values())), \n",
        "      max(list(pagerankTemplate.values())))\n",
        "\n",
        "print(\"pagerank range for All channel in graph 1: \",\n",
        "      min(list(pagerankGraph1.values())), \n",
        "      max(list(pagerankGraph1.values())))\n",
        "\n",
        "print(\"pagerank range for All channel in graph 2: \",\n",
        "      min(list(pagerankGraph2.values())), \n",
        "      max(list(pagerankGraph2.values())))\n",
        "\n",
        "print(\"pagerank range for All channel in graph 3: \",\n",
        "      min(list(pagerankGraph3.values())), \n",
        "      max(list(pagerankGraph3.values())))\n",
        "\n",
        "print(\"pagerank range for All channel in graph 4: \",\n",
        "      min(list(pagerankGraph4.values())), \n",
        "      max(list(pagerankGraph4.values())))\n",
        "\n",
        "print(\"pagerank range for All channel in graph 5: \",\n",
        "      min(list(pagerankGraph5.values())), \n",
        "      max(list(pagerankGraph5.values())))"
      ],
      "execution_count": 68,
      "outputs": [
        {
          "output_type": "stream",
          "text": [
            "pagerank range for All channel in Template:  0.007015210702652491 0.03190918634421748\n",
            "pagerank range for All channel in graph 1:  0.00662065714427669 0.031003826075076443\n",
            "pagerank range for All channel in graph 2:  0.007137587339172741 0.026615098184428358\n",
            "pagerank range for All channel in graph 3:  0.007972166980176493 0.03338617874644276\n",
            "pagerank range for All channel in graph 4:  0.00852150325700428 0.019003082021513164\n",
            "pagerank range for All channel in graph 5:  0.009909851018101469 0.02396121680202285\n"
          ],
          "name": "stdout"
        }
      ]
    },
    {
      "cell_type": "code",
      "metadata": {
        "colab_type": "code",
        "id": "oGQT8G0ZWeAs",
        "colab": {}
      },
      "source": [
        "fig = make_subplots(rows=3, cols=2)\n",
        "\n",
        "# autobinx=True\n",
        "df = pd.DataFrame(list(zip([y for x, y in pagerankTemplate.items()], [x for x, y in pagerankTemplate.items()])))\n",
        "x = df[0]\n",
        "trace0 = go.Histogram(x=x, nbinsx=12)\n",
        "\n",
        "df = pd.DataFrame(list(zip([y for x, y in pagerankGraph1.items()], [x for x, y in pagerankGraph1.items()])))\n",
        "x = df[0]\n",
        "trace1 = go.Histogram(x=x, nbinsx = 12)\n",
        "\n",
        "df = pd.DataFrame(list(zip([y for x, y in pagerankGraph2.items()], [x for x, y in pagerankGraph2.items()])))\n",
        "x = df[0]\n",
        "trace2 = go.Histogram(x=x, nbinsx = 12)\n",
        "\n",
        "df = pd.DataFrame(list(zip([y for x, y in pagerankGraph3.items()], [x for x, y in pagerankGraph3.items()])))\n",
        "x = df[0]\n",
        "trace3 = go.Histogram(x=x, nbinsx=12)\n",
        "\n",
        "df = pd.DataFrame(list(zip([y for x, y in pagerankGraph4.items()], [x for x, y in pagerankGraph4.items()])))\n",
        "x = df[0]\n",
        "trace4 = go.Histogram(x=x, nbinsx=12)\n",
        "\n",
        "df = pd.DataFrame(list(zip([y for x, y in pagerankGraph5.items()], [x for x, y in pagerankGraph5.items()])))\n",
        "x = df[0]\n",
        "trace5 = go.Histogram(x=x, nbinsx=12)\n",
        "\n",
        "fig.append_trace(trace0, 1, 1)\n",
        "fig.append_trace(trace1, 1, 2)\n",
        "fig.append_trace(trace2, 2, 1)\n",
        "fig.append_trace(trace3, 2, 2)\n",
        "fig.append_trace(trace4, 3, 1)\n",
        "fig.append_trace(trace5, 3, 2)\n",
        "\n",
        "fig.update_layout(barmode='overlay')\n",
        "fig.show()"
      ],
      "execution_count": 0,
      "outputs": []
    },
    {
      "cell_type": "code",
      "metadata": {
        "colab_type": "code",
        "id": "ff--SgwhWeAw",
        "colab": {}
      },
      "source": [
        "fig = go.Figure()\n",
        "\n",
        "df = pd.DataFrame(list(zip([y for x, y in pagerankTemplate.items()], [x for x, y in pagerankTemplate.items()])))\n",
        "x = df[0]\n",
        "fig.add_trace(go.Histogram(x=x, xbins=dict(start=0, end=.034, size=.034/8)))\n",
        "\n",
        "df = pd.DataFrame(list(zip([y for x, y in pagerankGraph1.items()], [x for x, y in pagerankGraph1.items()])))\n",
        "x = df[0]\n",
        "fig.add_trace(go.Histogram(x=x, xbins=dict(start=0, end=.034, size=.034/8)))\n",
        "\n",
        "df = pd.DataFrame(list(zip([y for x, y in pagerankGraph2.items()], [x for x, y in pagerankGraph2.items()])))\n",
        "x = df[0]\n",
        "fig.add_trace(go.Histogram(x=x, xbins=dict(start=0, end=.034, size=.034/8)))\n",
        "\n",
        "df = pd.DataFrame(list(zip([y for x, y in pagerankGraph3.items()], [x for x, y in pagerankGraph3.items()])))\n",
        "x = df[0]\n",
        "fig.add_trace(go.Histogram(x=x, xbins=dict(start=0, end=.034, size=.034/8)))\n",
        "\n",
        "df = pd.DataFrame(list(zip([y for x, y in pagerankGraph4.items()], [x for x, y in pagerankGraph4.items()])))\n",
        "x = df[0]\n",
        "fig.add_trace(go.Histogram(x=x, xbins=dict(start=0, end=.034, size=.034/8)))\n",
        "\n",
        "df = pd.DataFrame(list(zip([y for x, y in pagerankGraph5.items()], [x for x, y in pagerankGraph5.items()])))\n",
        "x = df[0]\n",
        "fig.add_trace(go.Histogram(x=x, xbins=dict(start=0, end=.034, size=.034/8)))\n",
        "\n",
        "\n",
        "# Overlay both histograms\n",
        "fig.update_layout(barmode='overlay')\n",
        "# Reduce opacity to see both histograms\n",
        "fig.update_traces(opacity=0.75, nbinsx=12)\n",
        "fig.show()\n"
      ],
      "execution_count": 0,
      "outputs": []
    },
    {
      "cell_type": "code",
      "metadata": {
        "id": "1FHLlovtZZ4G",
        "colab_type": "code",
        "colab": {
          "base_uri": "https://localhost:8080/",
          "height": 34
        },
        "outputId": "70a082dd-5714-454a-e2db-8f231d6180fb"
      },
      "source": [
        "print(templateG.neighbors(0))"
      ],
      "execution_count": 79,
      "outputs": [
        {
          "output_type": "stream",
          "text": [
            "<dict_keyiterator object at 0x7f8c4e1dc458>\n"
          ],
          "name": "stdout"
        }
      ]
    },
    {
      "cell_type": "markdown",
      "metadata": {
        "id": "HYwBmtmKd8BA",
        "colab_type": "text"
      },
      "source": [
        "#### Group level analysis"
      ]
    },
    {
      "cell_type": "markdown",
      "metadata": {
        "colab_type": "text",
        "id": "AKPQNHoLaYk8"
      },
      "source": [
        "##### Clustering\n",
        "check for multi-graph"
      ]
    },
    {
      "cell_type": "code",
      "metadata": {
        "colab_type": "code",
        "id": "7wNrpXX6aYlB",
        "colab": {}
      },
      "source": [
        "clusteringTemplate = nx.clustering(templateG)\n",
        "clusteringGraph1 = nx.clustering(graph1G)\n",
        "clusteringGraph2 = nx.clustering(graph2G)\n",
        "clusteringGraph3 = nx.clustering(graph3G)\n",
        "clusteringGraph4 = nx.clustering(graph4G)\n",
        "clusteringGraph5 = nx.clustering(graph5G)"
      ],
      "execution_count": 0,
      "outputs": []
    },
    {
      "cell_type": "code",
      "metadata": {
        "colab_type": "code",
        "outputId": "262b8dd7-cc05-4ddd-9695-907a69ac51e6",
        "id": "W3_6HK-9aYlK",
        "colab": {
          "base_uri": "https://localhost:8080/",
          "height": 54
        }
      },
      "source": [
        "print(clusteringGraph5)"
      ],
      "execution_count": 81,
      "outputs": [
        {
          "output_type": "stream",
          "text": [
            "{619322: 0.062137049941927994, 590442: 0, 594308: 0.11397849462365592, 549840: 0.13538461538461538, 524153: 0.02564102564102564, 629769: 0, 461577: 0, 547205: 0, 483784: 0.08990147783251232, 631903: 0.14666666666666667, 549891: 0, 632485: 0, 657173: 0, 477657: 0.1339031339031339, 620947: 0, 492039: 0, 616453: 0.3333333333333333, 483999: 0, 644754: 0, 525263: 0, 532852: 0, 625756: 0.5, 517649: 0, 509607: 0.16666666666666666, 587437: 0, 623736: 0, 493358: 0, 561819: 0.11083743842364532, 561157: 0.16666666666666666, 530990: 0.14, 643087: 0, 569044: 0, 556592: 0, 585589: 0, 579218: 0, 573137: 0.08876811594202899, 567281: 0, 624532: 0, 499177: 0, 605235: 0, 641131: 0, 499467: 0, 654641: 0, 620076: 0, 652996: 0, 558930: 0, 469675: 0, 657035: 0, 590595: 0, 529694: 0, 528019: 0, 472749: 0, 550251: 0, 619245: 0, 584229: 0, 544444: 0, 555931: 0, 503218: 0, 536346: 0.2857142857142857, 520660: 0, 567195: 0.2857142857142857, 527449: 0.2777777777777778, 459381: 0.2777777777777778, 595298: 0.2777777777777778, 466907: 0.2777777777777778, 589943: 0.2638888888888889, 577992: 0.25, 537281: 0.25, 523927: 0.3, 580426: 0.26666666666666666, 595581: 0.2777777777777778, 616315: 0.2857142857142857, 642329: 0.25, 503701: 0.2777777777777778, 571970: 0.3, 644226: 0.2857142857142857, 632961: 0.2619047619047619, 473173: 0.2777777777777778, 510031: 0.23333333333333334, 552988: 0.2777777777777778, 620120: 0.2777777777777778, 575030: 0.2857142857142857, 621924: 0.23333333333333334, 640784: 0.2857142857142857, 630626: 0.3333333333333333, 606730: 0}\n"
          ],
          "name": "stdout"
        }
      ]
    },
    {
      "cell_type": "code",
      "metadata": {
        "colab_type": "code",
        "outputId": "510cafb0-07b6-4016-d998-62c84b737ce4",
        "id": "JewBwDWMaYlR",
        "colab": {
          "base_uri": "https://localhost:8080/",
          "height": 122
        }
      },
      "source": [
        "print(\"clustering range for All channel in Template: \",\n",
        "      min(list(clusteringTemplate.values())), \n",
        "      max(list(clusteringTemplate.values())))\n",
        "\n",
        "print(\"clustering range for All channel in graph 1: \",\n",
        "      min(list(clusteringGraph1.values())), \n",
        "      max(list(clusteringGraph1.values())))\n",
        "\n",
        "print(\"clustering range for All channel in graph 2: \",\n",
        "      min(list(clusteringGraph2.values())), \n",
        "      max(list(clusteringGraph2.values())))\n",
        "\n",
        "print(\"clustering range for All channel in graph 3: \",\n",
        "      min(list(clusteringGraph3.values())), \n",
        "      max(list(clusteringGraph3.values())))\n",
        "\n",
        "print(\"clustering range for All channel in graph 4: \",\n",
        "      min(list(clusteringGraph4.values())), \n",
        "      max(list(clusteringGraph4.values())))\n",
        "\n",
        "print(\"clustering range for All channel in graph 5: \",\n",
        "      min(list(clusteringGraph5.values())), \n",
        "      max(list(clusteringGraph5.values())))"
      ],
      "execution_count": 82,
      "outputs": [
        {
          "output_type": "stream",
          "text": [
            "clustering range for All channel in Template:  0 1.0\n",
            "clustering range for All channel in graph 1:  0 1.0\n",
            "clustering range for All channel in graph 2:  0 1.0\n",
            "clustering range for All channel in graph 3:  0 1.0\n",
            "clustering range for All channel in graph 4:  0 0.5\n",
            "clustering range for All channel in graph 5:  0 0.5\n"
          ],
          "name": "stdout"
        }
      ]
    },
    {
      "cell_type": "code",
      "metadata": {
        "colab_type": "code",
        "id": "L4VNYzDeaYlZ",
        "colab": {}
      },
      "source": [
        "fig = make_subplots(rows=3, cols=2)\n",
        "\n",
        "# autobinx=True\n",
        "df = pd.DataFrame(list(zip([y for x, y in clusteringTemplate.items()], [x for x, y in clusteringTemplate.items()])))\n",
        "x = df[0]\n",
        "trace0 = go.Histogram(x=x, nbinsx=12)\n",
        "\n",
        "df = pd.DataFrame(list(zip([y for x, y in clusteringGraph1.items()], [x for x, y in clusteringGraph1.items()])))\n",
        "x = df[0]\n",
        "trace1 = go.Histogram(x=x, nbinsx = 12)\n",
        "\n",
        "df = pd.DataFrame(list(zip([y for x, y in clusteringGraph2.items()], [x for x, y in clusteringGraph2.items()])))\n",
        "x = df[0]\n",
        "trace2 = go.Histogram(x=x, nbinsx = 12)\n",
        "\n",
        "df = pd.DataFrame(list(zip([y for x, y in clusteringGraph3.items()], [x for x, y in clusteringGraph3.items()])))\n",
        "x = df[0]\n",
        "trace3 = go.Histogram(x=x, nbinsx=12)\n",
        "\n",
        "df = pd.DataFrame(list(zip([y for x, y in clusteringGraph4.items()], [x for x, y in clusteringGraph4.items()])))\n",
        "x = df[0]\n",
        "trace4 = go.Histogram(x=x, nbinsx=12)\n",
        "\n",
        "df = pd.DataFrame(list(zip([y for x, y in clusteringGraph5.items()], [x for x, y in clusteringGraph5.items()])))\n",
        "x = df[0]\n",
        "trace5 = go.Histogram(x=x, nbinsx=12)\n",
        "\n",
        "fig.append_trace(trace0, 1, 1)\n",
        "fig.append_trace(trace1, 1, 2)\n",
        "fig.append_trace(trace2, 2, 1)\n",
        "fig.append_trace(trace3, 2, 2)\n",
        "fig.append_trace(trace4, 3, 1)\n",
        "fig.append_trace(trace5, 3, 2)\n",
        "\n",
        "fig.update_layout(barmode='overlay')\n",
        "fig.show()"
      ],
      "execution_count": 0,
      "outputs": []
    },
    {
      "cell_type": "code",
      "metadata": {
        "colab_type": "code",
        "id": "XiyFM066aYle",
        "colab": {}
      },
      "source": [
        "fig = go.Figure()\n",
        "\n",
        "df = pd.DataFrame(list(zip([y for x, y in clusteringTemplate.items()], [x for x, y in clusteringTemplate.items()])))\n",
        "x = df[0]\n",
        "fig.add_trace(go.Histogram(x=x, xbins=dict(start=0, end=1, size=1/8)))\n",
        "\n",
        "df = pd.DataFrame(list(zip([y for x, y in clusteringGraph1.items()], [x for x, y in clusteringGraph1.items()])))\n",
        "x = df[0]\n",
        "fig.add_trace(go.Histogram(x=x, xbins=dict(start=0, end=1, size=1/8)))\n",
        "\n",
        "df = pd.DataFrame(list(zip([y for x, y in clusteringGraph2.items()], [x for x, y in clusteringGraph2.items()])))\n",
        "x = df[0]\n",
        "fig.add_trace(go.Histogram(x=x, xbins=dict(start=0, end=1, size=1/8)))\n",
        "\n",
        "df = pd.DataFrame(list(zip([y for x, y in clusteringGraph3.items()], [x for x, y in clusteringGraph3.items()])))\n",
        "x = df[0]\n",
        "fig.add_trace(go.Histogram(x=x, xbins=dict(start=0, end=1, size=1/8)))\n",
        "\n",
        "df = pd.DataFrame(list(zip([y for x, y in clusteringGraph4.items()], [x for x, y in clusteringGraph4.items()])))\n",
        "x = df[0]\n",
        "fig.add_trace(go.Histogram(x=x, xbins=dict(start=0, end=1, size=1/8)))\n",
        "\n",
        "df = pd.DataFrame(list(zip([y for x, y in clusteringGraph5.items()], [x for x, y in clusteringGraph5.items()])))\n",
        "x = df[0]\n",
        "fig.add_trace(go.Histogram(x=x, xbins=dict(start=0, end=1, size=1/8)))\n",
        "\n",
        "\n",
        "# Overlay both histograms\n",
        "fig.update_layout(barmode='overlay')\n",
        "# Reduce opacity to see both histograms\n",
        "fig.update_traces(opacity=0.75, nbinsx=12)\n",
        "fig.show()\n"
      ],
      "execution_count": 0,
      "outputs": []
    },
    {
      "cell_type": "markdown",
      "metadata": {
        "id": "R0SCbTehdVD0",
        "colab_type": "text"
      },
      "source": [
        "Average clustering"
      ]
    },
    {
      "cell_type": "code",
      "metadata": {
        "id": "g5oYLv-_bkMt",
        "colab_type": "code",
        "colab": {
          "base_uri": "https://localhost:8080/",
          "height": 122
        },
        "outputId": "8d9b124a-09d2-4cc0-89c3-d411258f2250"
      },
      "source": [
        "print(nx.average_clustering(templateG))\n",
        "print(nx.average_clustering(graph1G))\n",
        "print(nx.average_clustering(graph2G))\n",
        "print(nx.average_clustering(graph3G))\n",
        "print(nx.average_clustering(graph4G))\n",
        "print(nx.average_clustering(graph5G))"
      ],
      "execution_count": 86,
      "outputs": [
        {
          "output_type": "stream",
          "text": [
            "0.09660577088748222\n",
            "0.07515346862229869\n",
            "0.10101392769159073\n",
            "0.08972339314191981\n",
            "0.09074576781084649\n",
            "0.10896082228804548\n"
          ],
          "name": "stdout"
        }
      ]
    },
    {
      "cell_type": "markdown",
      "metadata": {
        "id": "JDnX87CXdYPO",
        "colab_type": "text"
      },
      "source": [
        "triadic census"
      ]
    },
    {
      "cell_type": "code",
      "metadata": {
        "id": "lKOCaT3GdaPX",
        "colab_type": "code",
        "colab": {
          "base_uri": "https://localhost:8080/",
          "height": 142
        },
        "outputId": "b4c7c100-8efd-4472-af82-41a613f99455"
      },
      "source": [
        "print(nx.triadic_census(templateG))\n",
        "print(nx.triadic_census(graph1G))\n",
        "print(nx.triadic_census(graph2G))\n",
        "print(nx.triadic_census(graph3G))\n",
        "print(nx.triadic_census(graph4G))\n",
        "print(nx.triadic_census(graph5G))"
      ],
      "execution_count": 88,
      "outputs": [
        {
          "output_type": "stream",
          "text": [
            "{'003': 58208, '012': 31861, '102': 2372, '021D': 6462, '021U': 7746, '021C': 1433, '111D': 31, '111U': 488, '030T': 294, '030C': 9, '201': 40, '120D': 72, '120U': 565, '120C': 27, '210': 63, '300': 65}\n",
            "{'003': 67416, '012': 37620, '102': 1661, '021D': 8092, '021U': 11647, '021C': 1928, '111D': 26, '111U': 389, '030T': 446, '030C': 2, '201': 47, '120D': 48, '120U': 385, '120C': 11, '210': 28, '300': 20}\n",
            "{'003': 51420, '012': 30543, '102': 1831, '021D': 8057, '021U': 10915, '021C': 1714, '111D': 44, '111U': 411, '030T': 358, '030C': 2, '201': 61, '120D': 59, '120U': 497, '120C': 10, '210': 48, '300': 25}\n",
            "{'003': 44925, '012': 22554, '102': 774, '021D': 4728, '021U': 4511, '021C': 957, '111D': 24, '111U': 147, '030T': 201, '030C': 2, '201': 9, '120D': 20, '120U': 201, '120C': 12, '210': 6, '300': 8}\n",
            "{'003': 67141, '012': 26975, '102': 395, '021D': 5632, '021U': 3212, '021C': 1501, '111D': 25, '111U': 104, '030T': 843, '030C': 19, '201': 8, '120D': 21, '120U': 113, '120C': 6, '210': 0, '300': 0}\n",
            "{'003': 83732, '012': 13692, '102': 0, '021D': 3473, '021U': 329, '021C': 698, '111D': 0, '111U': 0, '030T': 407, '030C': 9, '201': 0, '120D': 0, '120U': 0, '120C': 0, '210': 0, '300': 0}\n"
          ],
          "name": "stdout"
        }
      ]
    },
    {
      "cell_type": "markdown",
      "metadata": {
        "id": "it7NxG5NeMgw",
        "colab_type": "text"
      },
      "source": [
        "transitivity"
      ]
    },
    {
      "cell_type": "code",
      "metadata": {
        "id": "bCiEG4aHeY8M",
        "colab_type": "code",
        "colab": {
          "base_uri": "https://localhost:8080/",
          "height": 122
        },
        "outputId": "9d3d0d66-aaf8-4758-f176-eb2908fb8944"
      },
      "source": [
        "print(nx.transitivity(templateG))\n",
        "print(nx.transitivity(graph1G))\n",
        "print(nx.transitivity(graph2G))\n",
        "print(nx.transitivity(graph3G))\n",
        "print(nx.transitivity(graph4G))\n",
        "print(nx.transitivity(graph5G))"
      ],
      "execution_count": 89,
      "outputs": [
        {
          "output_type": "stream",
          "text": [
            "0.12304731718360878\n",
            "0.07697348523036597\n",
            "0.08763956130817113\n",
            "0.0648964896489649\n",
            "0.08165204678362573\n",
            "0.052448453608247424\n"
          ],
          "name": "stdout"
        }
      ]
    },
    {
      "cell_type": "markdown",
      "metadata": {
        "id": "_YLhnDtVelSP",
        "colab_type": "text"
      },
      "source": [
        "Radius (not aplicable)"
      ]
    },
    {
      "cell_type": "code",
      "metadata": {
        "id": "I54pZekzenqc",
        "colab_type": "code",
        "colab": {}
      },
      "source": [
        "print(nx.radius(graph1G))"
      ],
      "execution_count": 0,
      "outputs": []
    },
    {
      "cell_type": "markdown",
      "metadata": {
        "id": "fjtCGsdGeyPR",
        "colab_type": "text"
      },
      "source": [
        "Diameter (not aplicable)"
      ]
    },
    {
      "cell_type": "code",
      "metadata": {
        "id": "wU5lzFt_ezfy",
        "colab_type": "code",
        "colab": {}
      },
      "source": [
        "print(nx.diameter(graph1G))"
      ],
      "execution_count": 0,
      "outputs": []
    },
    {
      "cell_type": "markdown",
      "metadata": {
        "id": "RL58t6ypfQpw",
        "colab_type": "text"
      },
      "source": [
        "eccentricity (not aplicable)"
      ]
    },
    {
      "cell_type": "code",
      "metadata": {
        "id": "b_XKha94fRKM",
        "colab_type": "code",
        "colab": {}
      },
      "source": [
        "print(nx.eccentricity(graph5G))"
      ],
      "execution_count": 0,
      "outputs": []
    },
    {
      "cell_type": "markdown",
      "metadata": {
        "id": "4ITBZPFfgOZi",
        "colab_type": "text"
      },
      "source": [
        "reciptory"
      ]
    },
    {
      "cell_type": "code",
      "metadata": {
        "id": "PzDTZIv6gO8h",
        "colab_type": "code",
        "colab": {
          "base_uri": "https://localhost:8080/",
          "height": 122
        },
        "outputId": "b0013fd5-69c0-41d4-984e-48ab4776e989"
      },
      "source": [
        "und_templateG = templateG.to_undirected()\n",
        "reciprocity = float(nx.number_of_edges(und_templateG)/nx.number_of_edges(templateG))\n",
        "print(reciprocity)\n",
        "\n",
        "und_graph1G = graph1G.to_undirected()\n",
        "reciprocity = float(nx.number_of_edges(und_graph1G)/nx.number_of_edges(graph1G))\n",
        "print(reciprocity)\n",
        "\n",
        "und_graph2G = graph2G.to_undirected()\n",
        "reciprocity = float(nx.number_of_edges(und_graph2G)/nx.number_of_edges(graph2G))\n",
        "print(reciprocity)\n",
        "\n",
        "und_graph3G = graph3G.to_undirected()\n",
        "reciprocity = float(nx.number_of_edges(und_graph3G)/nx.number_of_edges(graph3G))\n",
        "print(reciprocity)\n",
        "\n",
        "und_graph4G = graph4G.to_undirected()\n",
        "reciprocity = float(nx.number_of_edges(und_graph4G)/nx.number_of_edges(graph4G))\n",
        "print(reciprocity)\n",
        "\n",
        "und_graph5G = graph5G.to_undirected()\n",
        "reciprocity = float(nx.number_of_edges(und_graph5G)/nx.number_of_edges(graph5G))\n",
        "print(reciprocity)"
      ],
      "execution_count": 97,
      "outputs": [
        {
          "output_type": "stream",
          "text": [
            "0.9464493597206054\n",
            "0.9693564862104188\n",
            "0.9611344537815126\n",
            "0.9735973597359736\n",
            "0.9869918699186991\n",
            "1.0\n"
          ],
          "name": "stdout"
        }
      ]
    },
    {
      "cell_type": "markdown",
      "metadata": {
        "id": "XK-wV4Hwhrbx",
        "colab_type": "text"
      },
      "source": [
        "find cores"
      ]
    },
    {
      "cell_type": "code",
      "metadata": {
        "id": "dm9FAddMhrsU",
        "colab_type": "code",
        "colab": {
          "base_uri": "https://localhost:8080/",
          "height": 125
        },
        "outputId": "a24e1bc2-fcfa-4093-8d94-40c46fafe1f0"
      },
      "source": [
        "print(nx.find_cores(templateG))\n",
        "print(nx.find_cores(graph1G))\n",
        "print(nx.find_cores(graph2G))\n",
        "print(nx.find_cores(graph3G))\n",
        "#G.remove_edges_from(nx.selfloop_edges(G))\n",
        "#print(nx.find_cores(graph4G))\n",
        "print(nx.find_cores(graph5G))"
      ],
      "execution_count": 103,
      "outputs": [
        {
          "output_type": "stream",
          "text": [
            "{0: 17, -99: 1, 41: 17, 34: 17, 37: 17, 27: 17, 40: 17, 39: 17, 65: 17, 67: 4, 47: 17, 66: 1, 657187: 2, 78: 4, 81: 4, 80: 4, 70: 4, 43: 17, 56: 17, 57: 17, 58: 17, 63: 17, 77: 4, 79: 4, 45: 17, 69: 4, 76: 4, 82: 1, 83: 1, 84: 1, 73: 3, 75: 3, 74: 3, 71: 4, 72: 4, 87: 4, 85: 4, 86: 4, 2: 17, 630626: 17, 536346: 13, 510031: 16, 520660: 10, 552988: 17, 567195: 17, 527449: 17, 459381: 17, 595298: 17, 466907: 17, 589943: 17, 577992: 17, 537281: 17, 523927: 17, 580426: 17, 595581: 17, 642329: 17, 503701: 17, 571970: 17, 644226: 13, 632961: 17, 473173: 17, 620120: 17, 621924: 17, 616315: 17, 29: 17, 575030: 17, 31: 17, 503218: 4, 33: 17, 35: 17, 36: 17, 38: 17, 42: 17, 44: 17, 46: 17, 48: 17, 49: 17, 640784: 1, 606730: 3, 52: 17, 53: 16, 54: 17, 55: 14, 59: 16, 60: 16, 61: 17, 62: 17, 64: 16}\n",
            "{616050: 18, 590502: 1, 599956: 18, 635665: 18, 490041: 18, 589639: 18, 533140: 18, 591682: 18, 568093: 18, 632150: 18, 464459: 18, 512397: 18, 550287: 3, 559657: 1, 623295: 18, 492777: 18, 570411: 18, 550361: 18, 493044: 18, 596193: 18, 640464: 18, 657187: 2, 629627: 3, 625756: 3, 657173: 3, 599441: 3, 534034: 3, 585212: 3, 509607: 3, 499467: 3, 538892: 1, 542965: 1, 572391: 1, 561157: 3, 649553: 3, 570284: 3, 643925: 3, 616453: 3, 608827: 18, 630626: 18, 552988: 18, 567195: 18, 527449: 18, 459381: 18, 595298: 18, 466907: 18, 589943: 18, 537281: 18, 580426: 18, 595581: 18, 616315: 18, 642329: 18, 503701: 18, 632961: 18, 473173: 18, 620120: 18, 575030: 18, 621924: 18, 536346: 16, 510031: 18, 520660: 15, 577992: 18, 571970: 18, 644226: 16, 530528: 18, 523927: 18, 635706: 17, 554431: 18, 566342: 18, 548513: 16, 599057: 18, 640784: 4, 474199: 16, 475130: 18, 576641: 16, 463777: 18, 654763: 18, 503218: 3, 529922: 18, 599063: 17, 606730: 4, 622296: 18, 592414: 18, 575704: 14, 654981: 17, 575859: 16, 505722: 18, 517273: 18, 492286: 18, 636961: 18, 629717: 18, 502591: 18, 569820: 18}\n",
            "{563211: 18, 564798: 1, 627390: 1, 561114: 1, 541017: 18, 601492: 1, 572413: 18, 629627: 18, 505965: 18, 515794: 18, 585212: 18, 599441: 18, 527597: 18, 582851: 18, 534034: 18, 644830: 3, 488928: 18, 602912: 18, 534449: 18, 477138: 18, 544615: 18, 639051: 18, 487668: 2, 657173: 3, 625756: 4, 509607: 4, 499467: 4, 572391: 1, 542965: 1, 635665: 2, 538892: 1, 464459: 2, 568093: 2, 604021: 18, 630626: 18, 536346: 17, 510031: 18, 520660: 16, 552988: 18, 527449: 18, 459381: 18, 595298: 18, 466907: 18, 577992: 18, 580426: 18, 595581: 18, 616315: 18, 503701: 18, 571970: 18, 644226: 17, 632961: 18, 473173: 18, 620120: 18, 575030: 18, 621924: 18, 533094: 18, 640784: 5, 567195: 18, 537281: 18, 523927: 18, 642329: 18, 606043: 18, 589943: 18, 595057: 17, 503218: 7, 634181: 18, 548320: 18, 606730: 6, 563584: 17, 536953: 18, 515799: 15, 656156: 18, 552439: 18, 546478: 18, 533024: 18, 499312: 18, 464563: 18, 546626: 16, 533141: 18, 471663: 18, 501047: 17, 472522: 18, 475811: 16, 590265: 18, 653390: 18, 573870: 18, 645210: 18}\n",
            "{614761: 16, 514306: 1, 542965: 16, 538892: 16, 572391: 16, 500813: 16, 493094: 16, 536003: 3, 521318: 3, 542649: 3, 541619: 16, 607386: 16, 544074: 16, 516236: 16, 493652: 16, 476813: 2, 629627: 3, 657173: 3, 585212: 3, 625756: 3, 534034: 3, 599441: 3, 509607: 3, 499467: 3, 635665: 3, 568093: 3, 464459: 2, 561157: 3, 570284: 3, 643925: 3, 649553: 2, 616453: 2, 598006: 2, 612711: 1, 643411: 1, 610497: 16, 640784: 6, 630626: 15, 552988: 16, 567195: 16, 527449: 16, 459381: 16, 595298: 16, 466907: 16, 589943: 16, 537281: 16, 523927: 16, 580426: 16, 616315: 16, 503701: 16, 632961: 16, 473173: 16, 620120: 16, 575030: 16, 578531: 16, 503218: 5, 510031: 14, 606730: 3, 577992: 15, 642329: 16, 621924: 16, 657076: 16, 478754: 15, 571970: 13, 575295: 15, 595581: 14, 568284: 16, 508898: 16, 536951: 16, 466976: 15, 628223: 16, 492701: 14, 536346: 5, 520660: 5, 644226: 5, 584736: 16, 520084: 16, 529433: 16, 604113: 16}\n",
            "{619322: 10, 590442: 1, 594308: 10, 549840: 10, 524153: 10, 629769: 1, 461577: 1, 547205: 1, 483784: 10, 631903: 10, 549891: 1, 632485: 1, 657173: 1, 477657: 10, 620947: 1, 492039: 2, 616453: 4, 483999: 2, 644754: 1, 525263: 1, 532852: 1, 625756: 2, 517649: 1, 509607: 3, 587437: 1, 623736: 1, 493358: 1, 561819: 10, 561157: 3, 530990: 10, 643087: 1, 569044: 1, 556592: 1, 585589: 1, 579218: 1, 573137: 10, 567281: 1, 624532: 1, 499177: 1, 605235: 1, 641131: 1, 499467: 1, 654641: 1, 620076: 1, 652996: 1, 558930: 1, 469675: 1, 657035: 1, 590595: 1, 529694: 1, 528019: 1, 472749: 1, 550251: 1, 619245: 1, 584229: 1, 544444: 1, 555931: 1, 503218: 1, 536346: 7, 520660: 2, 567195: 8, 527449: 10, 459381: 10, 595298: 10, 466907: 10, 589943: 9, 577992: 5, 537281: 8, 523927: 5, 580426: 6, 595581: 9, 616315: 8, 642329: 5, 503701: 10, 571970: 5, 644226: 7, 632961: 7, 473173: 10, 510031: 6, 552988: 10, 620120: 10, 575030: 8, 621924: 6, 640784: 7, 630626: 3, 606730: 1}\n"
          ],
          "name": "stdout"
        }
      ]
    },
    {
      "cell_type": "markdown",
      "metadata": {
        "id": "Zh5ddttHLv6l",
        "colab_type": "text"
      },
      "source": [
        "#### Network level analysis"
      ]
    },
    {
      "cell_type": "code",
      "metadata": {
        "id": "qY8qmsSNLzUQ",
        "colab_type": "code",
        "outputId": "bf845ffe-4114-4bd2-d15f-86e653cae193",
        "colab": {
          "base_uri": "https://localhost:8080/",
          "height": 122
        }
      },
      "source": [
        "print(nx.density(templateG))\n",
        "print(nx.density(graph1G))\n",
        "print(nx.density(graph2G))\n",
        "print(nx.density(graph3G))\n",
        "print(nx.density(graph4G))\n",
        "print(nx.density(graph5G))"
      ],
      "execution_count": 0,
      "outputs": [
        {
          "output_type": "stream",
          "text": [
            "2.0698529411764706\n",
            "0.8368421052631579\n",
            "1.4215686274509804\n",
            "0.8791208791208791\n",
            "0.07152496626180836\n",
            "0.34444444444444444\n"
          ],
          "name": "stdout"
        }
      ]
    },
    {
      "cell_type": "code",
      "metadata": {
        "id": "gCJgEpEJLzXn",
        "colab_type": "code",
        "outputId": "3ebfc3ec-2de4-4e0d-d910-5f57f9988845",
        "colab": {
          "base_uri": "https://localhost:8080/",
          "height": 122
        }
      },
      "source": [
        "print(nx.average_shortest_path_length(templateG))\n",
        "print(nx.average_shortest_path_length(graph1G))\n",
        "print(nx.average_shortest_path_length(graph2G))\n",
        "print(nx.average_shortest_path_length(graph3G))\n",
        "print(nx.average_shortest_path_length(graph4G))\n",
        "print(nx.average_shortest_path_length(graph5G))"
      ],
      "execution_count": 0,
      "outputs": [
        {
          "output_type": "stream",
          "text": [
            "1.411764705882353\n",
            "1.6552631578947368\n",
            "1.7026143790849673\n",
            "1.3131868131868132\n",
            "0.8407557354925776\n",
            "1.9333333333333333\n"
          ],
          "name": "stdout"
        }
      ]
    },
    {
      "cell_type": "code",
      "metadata": {
        "id": "hm8ClV2_McfP",
        "colab_type": "code",
        "outputId": "ad5607a6-9388-4f84-837c-3693f12cc9da",
        "colab": {
          "base_uri": "https://localhost:8080/",
          "height": 122
        }
      },
      "source": [
        "print(min([x for y, x in list(templateG.in_degree())]),\n",
        "      max([x for y, x in list(templateG.in_degree())]))\n",
        "print(min([x for y, x in list(graph1G.in_degree())]),\n",
        "      max([x for y, x in list(graph1G.in_degree())]))\n",
        "print(min([x for y, x in list(graph2G.in_degree())]),\n",
        "      max([x for y, x in list(graph2G.in_degree())]))\n",
        "print(min([x for y, x in list(graph3G.in_degree())]),\n",
        "      max([x for y, x in list(graph3G.in_degree())]))\n",
        "print(min([x for y, x in list(graph4G.in_degree())]),\n",
        "      max([x for y, x in list(graph4G.in_degree())]))\n",
        "print(min([x for y, x in list(graph5G.in_degree())]),\n",
        "      max([x for y, x in list(graph5G.in_degree())]))"
      ],
      "execution_count": 0,
      "outputs": [
        {
          "output_type": "stream",
          "text": [
            "0 72\n",
            "0 64\n",
            "0 96\n",
            "0 36\n",
            "0 35\n",
            "0 30\n"
          ],
          "name": "stdout"
        }
      ]
    },
    {
      "cell_type": "code",
      "metadata": {
        "id": "tcPNBQRBlkRu",
        "colab_type": "code",
        "outputId": "461bac2a-fa33-4725-a432-2579d8cc07b6",
        "colab": {
          "base_uri": "https://localhost:8080/",
          "height": 122
        }
      },
      "source": [
        ""
      ],
      "execution_count": 0,
      "outputs": [
        {
          "output_type": "stream",
          "text": [
            "0.735632183908046\n",
            "0.43862275449101795\n",
            "0.6312056737588653\n",
            "0.5602409638554217\n",
            "0.09487951807228916\n",
            "0.20833333333333334\n"
          ],
          "name": "stdout"
        }
      ]
    },
    {
      "cell_type": "code",
      "metadata": {
        "id": "pJh5ViLuaiYK",
        "colab_type": "code",
        "outputId": "7ec7ee12-37e0-4a16-c1e7-656f0902b532",
        "colab": {
          "base_uri": "https://localhost:8080/",
          "height": 122
        }
      },
      "source": [
        "print(nx.average_clustering(templateG))\n",
        "print(nx.average_clustering(graph1G))\n",
        "print(nx.average_clustering(graph2G))\n",
        "print(nx.average_clustering(graph3G))\n",
        "print(nx.average_clustering(graph4G))\n",
        "print(nx.average_clustering(graph5G))"
      ],
      "execution_count": 0,
      "outputs": [
        {
          "output_type": "stream",
          "text": [
            "0.09660577088748222\n",
            "0.07515346862229869\n",
            "0.10101392769159073\n",
            "0.08972339314191981\n",
            "0.09074576781084649\n",
            "0.10896082228804548\n"
          ],
          "name": "stdout"
        }
      ]
    },
    {
      "cell_type": "markdown",
      "metadata": {
        "id": "RT2Em7rtk7EM",
        "colab_type": "text"
      },
      "source": [
        "### Algorithms"
      ]
    },
    {
      "cell_type": "code",
      "metadata": {
        "id": "pNOfb5EOjprO",
        "colab_type": "code",
        "colab": {
          "base_uri": "https://localhost:8080/",
          "height": 54
        },
        "outputId": "652db26a-641d-4bb7-cef8-bdea2b39eb70"
      },
      "source": [
        "from networkx.algorithms import approximation as apxa\n",
        "print(apxa.k_components(und_graph1G))"
      ],
      "execution_count": 108,
      "outputs": [
        {
          "output_type": "stream",
          "text": [
            "defaultdict(<class 'list'>, {1: [{529922, 561157, 616453, 606730, 499467, 538892, 640784, 599057, 534034, 635665, 657173, 599063, 642329, 536346, 552988, 568093, 592414, 636961, 657187, 559657, 570411, 575030, 490041, 635706, 608827, 502591, 571970, 591682, 566342, 589639, 580426, 464459, 510031, 649553, 473173, 643925, 474199, 620120, 527449, 632150, 625756, 530528, 630626, 595298, 621924, 616050, 575859, 459381, 589943, 505722, 629627, 616315, 595581, 632961, 644226, 576641, 654981, 512397, 550287, 599441, 533140, 599956, 503701, 523927, 517273, 567195, 548513, 463777, 590502, 509607, 654763, 570284, 503218, 623295, 554431, 537281, 577992, 640464, 520660, 629717, 622296, 575704, 550361, 466907, 569820, 596193, 572391, 492777, 493044, 542965, 475130, 585212, 492286}], 2: [{529922, 616453, 561157, 606730, 499467, 640784, 599057, 534034, 635665, 657173, 599063, 642329, 536346, 552988, 568093, 592414, 636961, 657187, 570411, 575030, 490041, 635706, 608827, 502591, 571970, 591682, 566342, 589639, 580426, 464459, 510031, 649553, 473173, 643925, 474199, 620120, 527449, 632150, 625756, 530528, 630626, 595298, 621924, 616050, 575859, 459381, 589943, 505722, 616315, 629627, 595581, 576641, 632961, 644226, 654981, 512397, 550287, 599441, 533140, 599956, 503701, 523927, 517273, 567195, 548513, 463777, 509607, 654763, 570284, 503218, 623295, 554431, 537281, 577992, 640464, 520660, 629717, 622296, 575704, 550361, 466907, 569820, 596193, 492777, 493044, 475130, 585212, 492286}], 3: [{632961, 644226, 576641, 529922, 561157, 654981, 629717, 606730, 499467, 512397, 640784, 635665, 599441, 534034, 599956, 533140, 657173, 503701, 523927, 642329, 536346, 567195, 552988, 568093, 599063, 592414, 505722, 548513, 463777, 616315, 517273, 636961, 509607, 570411, 654763, 503218, 575030, 490041, 635706, 608827, 623295, 554431, 537281, 591682, 571970, 502591, 566342, 589639, 577992, 580426, 464459, 510031, 640464, 649553, 520660, 643925, 632150, 473173, 620120, 550361, 527449, 466907, 625756, 474199, 622296, 575704, 530528, 596193, 630626, 595298, 621924, 569820, 492777, 616050, 575859, 493044, 459381, 599057, 589943, 475130, 629627, 585212, 595581, 492286}], 4: [{632961, 644226, 576641, 529922, 654981, 606730, 512397, 640784, 635665, 599057, 599956, 533140, 503701, 523927, 599063, 642329, 536346, 567195, 552988, 568093, 592414, 505722, 517273, 548513, 463777, 636961, 570411, 654763, 575030, 490041, 635706, 608827, 623295, 554431, 537281, 591682, 571970, 502591, 566342, 589639, 577992, 580426, 464459, 510031, 640464, 520660, 473173, 632150, 474199, 620120, 550361, 527449, 466907, 622296, 575704, 629717, 569820, 530528, 596193, 630626, 595298, 621924, 492777, 616050, 575859, 493044, 459381, 589943, 475130, 616315, 595581, 492286}], 5: [{632961, 644226, 576641, 529922, 654981, 512397, 635665, 599057, 599956, 533140, 503701, 523927, 599063, 642329, 536346, 567195, 552988, 568093, 592414, 505722, 517273, 548513, 463777, 636961, 570411, 654763, 575030, 490041, 635706, 608827, 623295, 554431, 537281, 591682, 571970, 502591, 566342, 589639, 577992, 580426, 464459, 510031, 640464, 520660, 473173, 632150, 474199, 620120, 550361, 527449, 466907, 622296, 575704, 629717, 569820, 530528, 596193, 630626, 595298, 621924, 492777, 616050, 575859, 493044, 459381, 589943, 475130, 616315, 595581, 492286}], 6: [{632961, 644226, 576641, 529922, 654981, 512397, 635665, 599057, 599956, 533140, 503701, 523927, 599063, 642329, 536346, 567195, 552988, 568093, 592414, 505722, 517273, 548513, 463777, 636961, 570411, 654763, 575030, 490041, 635706, 608827, 623295, 554431, 537281, 591682, 571970, 502591, 566342, 589639, 577992, 580426, 464459, 510031, 640464, 520660, 473173, 632150, 474199, 620120, 550361, 527449, 466907, 622296, 575704, 629717, 569820, 530528, 596193, 630626, 595298, 621924, 492777, 616050, 575859, 493044, 459381, 589943, 475130, 616315, 595581, 492286}], 7: [{632961, 644226, 576641, 529922, 654981, 512397, 635665, 599057, 599956, 533140, 503701, 523927, 599063, 642329, 536346, 567195, 552988, 568093, 592414, 505722, 517273, 548513, 463777, 636961, 570411, 654763, 575030, 490041, 635706, 608827, 623295, 554431, 537281, 591682, 571970, 502591, 566342, 589639, 577992, 580426, 464459, 510031, 640464, 520660, 473173, 632150, 474199, 620120, 550361, 527449, 466907, 622296, 575704, 629717, 569820, 530528, 596193, 630626, 595298, 621924, 492777, 616050, 575859, 493044, 459381, 589943, 475130, 616315, 595581, 492286}], 8: [{632961, 644226, 576641, 529922, 654981, 512397, 635665, 599057, 599956, 533140, 503701, 523927, 599063, 642329, 536346, 567195, 552988, 568093, 592414, 505722, 517273, 548513, 463777, 636961, 570411, 654763, 575030, 490041, 635706, 608827, 623295, 554431, 537281, 591682, 571970, 502591, 566342, 589639, 577992, 580426, 464459, 510031, 640464, 520660, 473173, 632150, 474199, 620120, 550361, 527449, 466907, 622296, 575704, 629717, 569820, 530528, 596193, 630626, 595298, 621924, 492777, 616050, 575859, 493044, 459381, 589943, 475130, 616315, 595581, 492286}], 9: [{632961, 644226, 576641, 529922, 654981, 512397, 635665, 599057, 599956, 533140, 503701, 523927, 599063, 642329, 536346, 567195, 552988, 568093, 592414, 505722, 517273, 548513, 463777, 636961, 570411, 654763, 575030, 490041, 635706, 608827, 623295, 554431, 537281, 591682, 571970, 502591, 566342, 589639, 577992, 580426, 464459, 510031, 640464, 520660, 473173, 632150, 474199, 620120, 550361, 527449, 466907, 622296, 575704, 629717, 569820, 530528, 596193, 630626, 595298, 621924, 492777, 616050, 575859, 493044, 459381, 589943, 475130, 616315, 595581, 492286}], 10: [{632961, 644226, 576641, 529922, 654981, 512397, 635665, 599057, 599956, 533140, 503701, 523927, 599063, 642329, 536346, 567195, 552988, 568093, 592414, 505722, 517273, 548513, 463777, 636961, 570411, 654763, 575030, 490041, 635706, 608827, 623295, 554431, 537281, 591682, 571970, 502591, 566342, 589639, 577992, 580426, 464459, 510031, 640464, 520660, 473173, 632150, 474199, 620120, 550361, 527449, 466907, 622296, 575704, 629717, 569820, 530528, 596193, 630626, 595298, 621924, 492777, 616050, 575859, 493044, 459381, 589943, 475130, 616315, 595581, 492286}], 11: [{632961, 644226, 576641, 529922, 654981, 512397, 635665, 599057, 599956, 533140, 503701, 523927, 599063, 642329, 536346, 567195, 552988, 568093, 592414, 505722, 517273, 548513, 463777, 636961, 570411, 654763, 575030, 490041, 635706, 608827, 623295, 554431, 537281, 591682, 571970, 502591, 566342, 589639, 577992, 580426, 464459, 510031, 640464, 520660, 473173, 632150, 474199, 620120, 550361, 527449, 466907, 622296, 575704, 629717, 569820, 530528, 596193, 630626, 595298, 621924, 492777, 616050, 575859, 493044, 459381, 589943, 475130, 616315, 595581, 492286}], 12: [{632961, 644226, 576641, 529922, 654981, 512397, 635665, 599057, 599956, 533140, 503701, 523927, 599063, 642329, 536346, 567195, 552988, 568093, 592414, 505722, 517273, 548513, 463777, 636961, 570411, 654763, 575030, 490041, 635706, 608827, 623295, 554431, 537281, 591682, 571970, 502591, 566342, 589639, 577992, 580426, 464459, 510031, 640464, 520660, 473173, 632150, 474199, 620120, 550361, 527449, 466907, 622296, 575704, 629717, 569820, 530528, 596193, 630626, 595298, 621924, 492777, 616050, 575859, 493044, 459381, 589943, 475130, 616315, 595581, 492286}], 13: [{632961, 644226, 576641, 529922, 654981, 512397, 635665, 599057, 599956, 533140, 503701, 523927, 599063, 642329, 536346, 567195, 552988, 568093, 592414, 505722, 517273, 548513, 463777, 636961, 570411, 654763, 575030, 490041, 635706, 608827, 623295, 554431, 537281, 591682, 571970, 502591, 566342, 589639, 577992, 580426, 464459, 510031, 640464, 520660, 473173, 632150, 474199, 620120, 550361, 527449, 466907, 622296, 575704, 629717, 569820, 530528, 596193, 630626, 595298, 621924, 492777, 616050, 575859, 493044, 459381, 589943, 475130, 616315, 595581, 492286}], 14: [{632961, 644226, 576641, 529922, 654981, 512397, 635665, 599057, 599956, 533140, 503701, 523927, 599063, 642329, 536346, 567195, 552988, 568093, 592414, 505722, 517273, 548513, 463777, 636961, 570411, 654763, 575030, 490041, 635706, 608827, 623295, 554431, 537281, 591682, 571970, 502591, 566342, 589639, 577992, 580426, 464459, 510031, 640464, 520660, 473173, 632150, 474199, 620120, 550361, 527449, 466907, 622296, 575704, 629717, 569820, 530528, 596193, 630626, 595298, 621924, 492777, 616050, 575859, 493044, 459381, 589943, 475130, 616315, 595581, 492286}], 15: [{632961, 644226, 576641, 529922, 654981, 512397, 635665, 599057, 599956, 533140, 503701, 523927, 599063, 642329, 536346, 567195, 552988, 568093, 592414, 505722, 517273, 548513, 463777, 636961, 570411, 654763, 575030, 490041, 635706, 608827, 623295, 554431, 537281, 591682, 571970, 502591, 566342, 589639, 577992, 580426, 464459, 510031, 640464, 520660, 473173, 632150, 474199, 620120, 550361, 527449, 466907, 622296, 629717, 569820, 530528, 596193, 630626, 595298, 621924, 492777, 616050, 575859, 493044, 459381, 589943, 475130, 616315, 595581, 492286}], 16: [{632961, 644226, 576641, 529922, 654981, 512397, 635665, 599057, 599956, 533140, 503701, 523927, 599063, 642329, 536346, 567195, 552988, 568093, 592414, 505722, 517273, 548513, 463777, 636961, 570411, 654763, 575030, 490041, 635706, 608827, 623295, 554431, 537281, 591682, 571970, 502591, 566342, 589639, 577992, 580426, 464459, 510031, 640464, 473173, 632150, 474199, 620120, 550361, 527449, 466907, 622296, 629717, 569820, 530528, 596193, 630626, 595298, 621924, 492777, 616050, 575859, 493044, 459381, 589943, 475130, 616315, 595581, 492286}], 17: [{632961, 529922, 654981, 512397, 635665, 599057, 599956, 533140, 503701, 523927, 599063, 642329, 517273, 567195, 552988, 568093, 592414, 505722, 463777, 636961, 570411, 654763, 575030, 490041, 635706, 608827, 623295, 554431, 537281, 591682, 571970, 502591, 566342, 589639, 577992, 580426, 464459, 510031, 640464, 473173, 632150, 629717, 620120, 550361, 527449, 466907, 622296, 569820, 530528, 596193, 630626, 595298, 621924, 492777, 616050, 493044, 459381, 589943, 475130, 616315, 595581, 492286}], 18: [{632961, 529922, 512397, 635665, 599057, 599956, 533140, 503701, 523927, 642329, 517273, 567195, 552988, 568093, 592414, 505722, 463777, 636961, 570411, 654763, 575030, 490041, 608827, 623295, 554431, 537281, 591682, 571970, 502591, 566342, 589639, 577992, 580426, 464459, 510031, 640464, 473173, 632150, 629717, 620120, 550361, 527449, 466907, 622296, 569820, 530528, 596193, 630626, 595298, 621924, 492777, 616050, 493044, 459381, 589943, 475130, 616315, 595581, 492286}]})\n"
          ],
          "name": "stdout"
        }
      ]
    },
    {
      "cell_type": "markdown",
      "metadata": {
        "id": "fPvw9Y4ElWch",
        "colab_type": "text"
      },
      "source": [
        "Dominating Set"
      ]
    },
    {
      "cell_type": "code",
      "metadata": {
        "id": "H6aZVX4llK2-",
        "colab_type": "code",
        "colab": {
          "base_uri": "https://localhost:8080/",
          "height": 142
        },
        "outputId": "6d7cf891-62e1-4996-ac09-ee7a0fd0fa54"
      },
      "source": [
        "print(apxa.min_edge_dominating_set(templateG))\n",
        "print(apxa.min_edge_dominating_set(graph1G))\n",
        "print(apxa.min_edge_dominating_set(graph2G))\n",
        "print(apxa.min_edge_dominating_set(graph3G))\n",
        "print(apxa.min_edge_dominating_set(graph4G))\n",
        "print(apxa.min_edge_dominating_set(graph5G))"
      ],
      "execution_count": 111,
      "outputs": [
        {
          "output_type": "stream",
          "text": [
            "{(65, 630626), (80, 70), (78, 81), (31, 503218), (62, 503701), (552988, 29), (53, 537281), (87, 72), (38, 527449), (37, 27), (79, 69), (2, 536346), (67, 47), (77, 76), (52, 589943), (54, 523927), (55, 580426), (510031, 33), (620120, 36), (60, 616315), (46, 520660), (49, 640784), (0, -99), (64, 644226), (73, 71), (43, 45), (42, 459381), (48, 466907), (40, 39), (59, 577992), (35, 567195), (56, 63), (44, 595298), (61, 595581), (41, 34), (57, 58)}\n",
            "{(649553, 616453), (592414, 537281), (492777, 596193), (608827, 567195), (569820, 640784), (492286, 571970), (464459, 625756), (502591, 644226), (552988, 530528), (623295, 550361), (599956, 635665), (575859, 503701), (654981, 580426), (505722, 616315), (548513, 536346), (533140, 591682), (576641, 466907), (490041, 589639), (570284, 561157), (566342, 527449), (654763, 503218), (510031, 635706), (620120, 554431), (622296, 595581), (599063, 606730), (463777, 589943), (529922, 577992), (512397, 550287), (517273, 642329), (599057, 520660), (475130, 595298), (616050, 590502), (474199, 459381), (570411, 640464), (636961, 473173), (629627, 657173), (599441, 509607), (493044, 630626), (629717, 632961), (568093, 632150), (575704, 523927), (534034, 499467)}\n",
            "{(644830, 488928), (563584, 527449), (475811, 632961), (645210, 575030), (572391, 509607), (501047, 523927), (499312, 537281), (505965, 515794), (552439, 466907), (604021, 536346), (639051, 630626), (472522, 642329), (541017, 601492), (533024, 577992), (546478, 589943), (471663, 616315), (585212, 599441), (464459, 499467), (533141, 595581), (546626, 580426), (477138, 544615), (620120, 536953), (510031, 533094), (515799, 459381), (527597, 534034), (656156, 595298), (573870, 473173), (464563, 606730), (653390, 571970), (572413, 629627), (595057, 503218), (548320, 567195), (563211, 564798), (635665, 625756), (602912, 534449), (634181, 520660), (552988, 606043), (582851, 640784), (590265, 503701)}\n",
            "{(610497, 630626), (510031, 478754), (508898, 503218), (620120, 604113), (493094, 536003), (542649, 476813), (568284, 595298), (534034, 625756), (536951, 466907), (538892, 572391), (541619, 607386), (570284, 616453), (542965, 509607), (492701, 536346), (628223, 606730), (635665, 561157), (584736, 523927), (585212, 499467), (614761, 514306), (520084, 520660), (529433, 577992), (575295, 459381), (466976, 589943), (657076, 527449), (629627, 657173), (544074, 516236), (500813, 640784), (552988, 578531), (493652, 567195)}\n",
            "{(482012, 561157), (477374, 466907), (628320, 557269), (636721, 585417), (536906, 569329), (639642, 536346), (566580, 459381), (571369, 595298), (544636, 579305), (541907, 567195), (464579, 611572), (588172, 527449), (546593, 492850), (580798, 625756), (516873, 640784), (657526, 503218), (601496, 630626), (584457, 585606), (483005, 655963)}\n",
            "{(530990, 640784), (573137, 509607), (477657, 616453), (483784, 631903), (594308, 549840), (619322, 590442), (561819, 499177), (524153, 629769)}\n"
          ],
          "name": "stdout"
        }
      ]
    },
    {
      "cell_type": "markdown",
      "metadata": {
        "id": "loZxCnADlpXz",
        "colab_type": "text"
      },
      "source": [
        "Ramsey"
      ]
    },
    {
      "cell_type": "code",
      "metadata": {
        "id": "oVcE5okclqU8",
        "colab_type": "code",
        "colab": {
          "base_uri": "https://localhost:8080/",
          "height": 54
        },
        "outputId": "44d5b5fb-ea03-434a-d1fb-eb82178e1033"
      },
      "source": [
        "print(apxa.ramsey_R2(templateG))"
      ],
      "execution_count": 113,
      "outputs": [
        {
          "output_type": "stream",
          "text": [
            "({34, 37, 41, 43, 45, 56, 57, 58, 27, 552988, 63}, {0, 2, 29, 31, 35, 41, 42, 44, 46, 48, 52, 53, 59, 66, 67, 73, 74, 75, 77, 78, 510031, 79, 80, 82, 83, 84, 85, 86, 87})\n"
          ],
          "name": "stdout"
        }
      ]
    },
    {
      "cell_type": "markdown",
      "metadata": {
        "id": "wPVVtnwcmDIm",
        "colab_type": "text"
      },
      "source": [
        "metric closure"
      ]
    },
    {
      "cell_type": "code",
      "metadata": {
        "id": "bVqm2jI7mDiV",
        "colab_type": "code",
        "colab": {
          "base_uri": "https://localhost:8080/",
          "height": 34
        },
        "outputId": "5e8de15d-e665-4c67-d667-e1099a6e0781"
      },
      "source": [
        "apxa.metric_closure(und_templateG)"
      ],
      "execution_count": 117,
      "outputs": [
        {
          "output_type": "execute_result",
          "data": {
            "text/plain": [
              "<networkx.classes.graph.Graph at 0x7f8c44aca860>"
            ]
          },
          "metadata": {
            "tags": []
          },
          "execution_count": 117
        }
      ]
    },
    {
      "cell_type": "markdown",
      "metadata": {
        "id": "7utTGsYhmlGT",
        "colab_type": "text"
      },
      "source": [
        "Assortivity"
      ]
    },
    {
      "cell_type": "code",
      "metadata": {
        "id": "3r6rQTvrmmZG",
        "colab_type": "code",
        "colab": {
          "base_uri": "https://localhost:8080/",
          "height": 122
        },
        "outputId": "5f87888c-f09e-4422-89fd-e718aee23868"
      },
      "source": [
        "print(nx.degree_assortativity_coefficient(templateG))\n",
        "print(nx.degree_assortativity_coefficient(graph1G))\n",
        "print(nx.degree_assortativity_coefficient(graph2G))\n",
        "print(nx.degree_assortativity_coefficient(graph3G))\n",
        "print(nx.degree_assortativity_coefficient(graph4G))\n",
        "print(nx.degree_assortativity_coefficient(graph5G))"
      ],
      "execution_count": 122,
      "outputs": [
        {
          "output_type": "stream",
          "text": [
            "-0.11123313878290483\n",
            "-0.3157430208628435\n",
            "-0.33414377254376354\n",
            "0.17186138046723123\n",
            "-0.21147494177975845\n",
            "-0.29021889853414123\n"
          ],
          "name": "stdout"
        }
      ]
    },
    {
      "cell_type": "code",
      "metadata": {
        "id": "fvSugZionAV2",
        "colab_type": "code",
        "colab": {
          "base_uri": "https://localhost:8080/",
          "height": 122
        },
        "outputId": "d4caad2a-e9fe-4b5a-aad0-81bdb1ea85c6"
      },
      "source": [
        "print(nx.degree_pearson_correlation_coefficient(templateG))\n",
        "print(nx.degree_pearson_correlation_coefficient(graph1G))\n",
        "print(nx.degree_pearson_correlation_coefficient(graph2G))\n",
        "print(nx.degree_pearson_correlation_coefficient(graph3G))\n",
        "print(nx.degree_pearson_correlation_coefficient(graph4G))\n",
        "print(nx.degree_pearson_correlation_coefficient(graph5G))"
      ],
      "execution_count": 123,
      "outputs": [
        {
          "output_type": "stream",
          "text": [
            "-0.11123313878290503\n",
            "-0.31574302086284217\n",
            "-0.3341437725437621\n",
            "0.17186138046723057\n",
            "-0.21147494177975967\n",
            "-0.29021889853414057\n"
          ],
          "name": "stdout"
        }
      ]
    },
    {
      "cell_type": "code",
      "metadata": {
        "id": "Fdu0iKSZmpo8",
        "colab_type": "code",
        "colab": {
          "base_uri": "https://localhost:8080/",
          "height": 142
        },
        "outputId": "c19836f2-cec1-4a25-b546-9922f468efa7"
      },
      "source": [
        "print(nx.average_neighbor_degree(templateG))\n",
        "print(nx.average_neighbor_degree(graph1G))\n",
        "print(nx.average_neighbor_degree(graph2G))\n",
        "print(nx.average_neighbor_degree(graph3G))\n",
        "print(nx.average_neighbor_degree(graph4G))\n",
        "print(nx.average_neighbor_degree(graph5G))"
      ],
      "execution_count": 124,
      "outputs": [
        {
          "output_type": "stream",
          "text": [
            "{0: 0.47368421052631576, -99: 0.0, 41: 10.969696969696969, 34: 8.5, 37: 9.56, 27: 8.857142857142858, 40: 4.04, 39: 2.739130434782609, 65: 4.1923076923076925, 67: 16.333333333333332, 47: 9.653846153846153, 66: 0.0, 657187: 0.0, 78: 0.0, 81: 0.0, 80: 0.0, 70: 0.0, 43: 8.208333333333334, 56: 9.538461538461538, 57: 8.206896551724139, 58: 11.409090909090908, 63: 9.153846153846153, 77: 0.0, 79: 0.0, 45: 5.928571428571429, 69: 0.0, 76: 0.0, 82: 0.0, 83: 0.0, 84: 0.0, 73: 0.0, 75: 0.0, 74: 0.0, 71: 0.0, 72: 0.0, 87: 0.0, 85: 0.0, 86: 0.0, 2: 0.4090909090909091, 630626: 0.0, 536346: 0.0, 510031: 21.0, 520660: 0.0, 552988: 20.916666666666668, 567195: 0.0, 527449: 0.0, 459381: 0.0, 595298: 0.0, 466907: 0.0, 589943: 0.0, 577992: 0.0, 537281: 0.0, 523927: 0.0, 580426: 0.0, 595581: 0.0, 642329: 0.0, 503701: 0.0, 571970: 0.0, 644226: 0.0, 632961: 0.0, 473173: 0.0, 620120: 19.666666666666668, 621924: 0.0, 616315: 0.0, 29: 0.45, 575030: 0.0, 31: 0.4090909090909091, 503218: 0.0, 33: 0.47368421052631576, 35: 0.5625, 36: 0.0, 38: 0.0, 42: 0.5294117647058824, 44: 0.5625, 46: 0.45, 48: 0.5625, 49: 0.375, 640784: 0.0, 606730: 0.0, 52: 0.47368421052631576, 53: 0.0, 54: 0.5294117647058824, 55: 0.0, 59: 0.6, 60: 0.0, 61: 0.5, 62: 0.5294117647058824, 64: 0.5294117647058824}\n",
            "{616050: 4.545454545454546, 590502: 0.0, 599956: 8.517241379310345, 635665: 9.529411764705882, 490041: 7.392857142857143, 589639: 5.333333333333333, 533140: 4.0, 591682: 0.47619047619047616, 568093: 6.217391304347826, 632150: 6.578947368421052, 464459: 1.0, 512397: 1.7692307692307692, 550287: 13.0, 559657: 0.0, 623295: 10.5, 492777: 6.0, 570411: 3.1, 550361: 7.703703703703703, 493044: 0.5, 596193: 7.333333333333333, 640464: 3.0, 657187: 0.0, 629627: 0.0, 625756: 0.0, 657173: 0.0, 599441: 0.0, 534034: 0.0, 585212: 0.0, 509607: 0.0, 499467: 0.0, 538892: 0.0, 542965: 0.0, 572391: 0.0, 561157: 0.0, 649553: 0.0, 570284: 0.0, 643925: 0.0, 616453: 0.0, 608827: 0.5555555555555556, 630626: 0.0, 552988: 19.704545454545453, 567195: 0.0, 527449: 0.0, 459381: 0.0, 595298: 0.0, 466907: 0.0, 589943: 0.0, 537281: 0.0, 580426: 0.0, 595581: 0.0, 616315: 0.0, 642329: 0.0, 503701: 0.0, 632961: 0.0, 473173: 0.0, 620120: 17.5, 575030: 0.0, 621924: 0.0, 536346: 0.0, 510031: 19.107142857142858, 520660: 0.0, 577992: 0.0, 571970: 0.0, 644226: 0.0, 530528: 0.5263157894736842, 523927: 0.0, 635706: 0.6666666666666666, 554431: 0.0, 566342: 0.5882352941176471, 548513: 0.0, 599057: 0.0, 640784: 0.0, 474199: 0.0, 475130: 0.5882352941176471, 576641: 0.6666666666666666, 463777: 0.0, 654763: 0.5555555555555556, 503218: 0.0, 529922: 0.43478260869565216, 599063: 0.5263157894736842, 606730: 0.0, 622296: 0.5, 592414: 0.0, 575704: 0.7692307692307693, 654981: 0.6666666666666666, 575859: 0.7142857142857143, 505722: 0.5882352941176471, 517273: 0.5263157894736842, 492286: 0.5555555555555556, 636961: 0.0, 629717: 0.5555555555555556, 502591: 0.5, 569820: 0.47619047619047616}\n",
            "{563211: 4.481481481481482, 564798: 0.0, 627390: 0.0, 561114: 0.0, 541017: 5.866666666666666, 601492: 0.0, 572413: 6.62962962962963, 629627: 10.09375, 505965: 6.222222222222222, 515794: 6.04, 585212: 6.481481481481482, 599441: 6.555555555555555, 527597: 7.25, 582851: 5.884615384615385, 534034: 4.88, 644830: 16.333333333333332, 488928: 1.2272727272727273, 602912: 6.0, 534449: 5.6875, 477138: 8.3, 544615: 5.217391304347826, 639051: 4.473684210526316, 487668: 0.0, 657173: 0.0, 625756: 0.0, 509607: 0.0, 499467: 0.0, 572391: 0.0, 542965: 0.0, 635665: 0.0, 538892: 0.0, 464459: 0.0, 568093: 0.0, 604021: 0.47368421052631576, 630626: 0.0, 536346: 0.0, 510031: 20.0, 520660: 0.0, 552988: 20.69047619047619, 527449: 0.0, 459381: 0.0, 595298: 0.0, 466907: 0.0, 577992: 0.0, 580426: 0.0, 595581: 0.0, 616315: 0.0, 503701: 0.0, 571970: 0.0, 644226: 0.0, 632961: 0.0, 473173: 0.0, 620120: 16.88888888888889, 575030: 0.0, 621924: 0.0, 533094: 0.45, 640784: 0.0, 567195: 0.0, 537281: 0.0, 523927: 0.0, 642329: 0.0, 606043: 0.47368421052631576, 589943: 0.0, 595057: 0.5625, 503218: 0.0, 634181: 0.45, 548320: 0.391304347826087, 606730: 0.0, 563584: 0.45, 536953: 0.0, 515799: 0.6428571428571429, 656156: 0.47368421052631576, 552439: 0.5, 546478: 0.0, 533024: 0.47368421052631576, 499312: 0.45, 464563: 0.391304347826087, 546626: 0.6, 533141: 0.0, 471663: 0.5625, 501047: 0.0, 472522: 0.0, 475811: 0.0, 590265: 0.0, 653390: 0.47368421052631576, 573870: 0.5625, 645210: 0.5}\n",
            "{614761: 4.380952380952381, 514306: 0.0, 542965: 0.21052631578947367, 538892: 7.458333333333333, 572391: 1.2777777777777777, 500813: 3.185185185185185, 493094: 1.3, 536003: 19.0, 521318: 19.0, 542649: 12.666666666666666, 541619: 3.896551724137931, 607386: 4.8, 544074: 5.454545454545454, 516236: 1.4, 493652: 5.173913043478261, 476813: 0.0, 629627: 0.0, 657173: 0.0, 585212: 0.0, 625756: 0.0, 534034: 0.0, 599441: 0.0, 509607: 0.0, 499467: 0.0, 635665: 0.0, 568093: 0.0, 464459: 0.0, 561157: 0.0, 570284: 0.0, 643925: 0.0, 649553: 0.0, 616453: 0.0, 598006: 0.0, 612711: 0.0, 643411: 0.0, 610497: 0.23529411764705882, 640784: 0.0, 630626: 0.0, 552988: 20.0, 567195: 0.0, 527449: 0.0, 459381: 0.0, 595298: 0.0, 466907: 0.0, 589943: 0.0, 537281: 0.0, 523927: 0.0, 580426: 0.0, 616315: 0.0, 503701: 0.0, 632961: 0.0, 473173: 0.0, 620120: 19.0, 575030: 0.0, 578531: 0.18181818181818182, 503218: 0.0, 510031: 20.214285714285715, 606730: 0.0, 577992: 0.0, 642329: 0.0, 621924: 0.0, 657076: 0.23529411764705882, 478754: 0.26666666666666666, 571970: 0.0, 575295: 0.23529411764705882, 595581: 0.0, 568284: 0.2, 508898: 0.2222222222222222, 536951: 0.2222222222222222, 466976: 0.25, 628223: 0.2, 492701: 0.21052631578947367, 536346: 0.0, 520660: 0.0, 644226: 0.0, 584736: 0.2222222222222222, 520084: 0.18181818181818182, 529433: 0.16666666666666666, 604113: 0.0}\n",
            "{636721: 4.0606060606060606, 585417: 0.0, 628320: 1.9583333333333333, 557269: 4.5, 546593: 4.7894736842105265, 492850: 4.541666666666667, 536906: 11.5, 569329: 3.2, 483005: 2.1363636363636362, 655963: 3.3636363636363638, 601496: 1.1363636363636365, 580798: 1.9090909090909092, 625756: 0.0, 639642: 3.0434782608695654, 461577: 0.0, 629826: 0.0, 544636: 3.1739130434782608, 618398: 0.0, 579305: 4.68, 584457: 4.318181818181818, 655265: 0.0, 588802: 0.0, 516873: 1.2857142857142858, 499177: 0.0, 482012: 1.3181818181818181, 541907: 1.411764705882353, 464579: 2.2162162162162162, 611572: 0.0, 588172: 6.1, 561157: 0.0, 585606: 2.45, 509607: 0.0, 580237: 0.0, 566580: 1.8, 482579: 0.0, 657526: 1.85, 571369: 0.2777777777777778, 638734: 0.0, 596726: 0.0, 537816: 0.0, 557626: 0.0, 657173: 0.0, 558089: 0.0, 459726: 0.0, 499467: 0.0, 578749: 0.0, 492039: 0.0, 571670: 0.0, 616453: 0.0, 500336: 0.0, 605235: 0.0, 623468: 0.0, 477374: 0.25, 611238: 0.0, 590595: 0.0, 521673: 0.0, 516393: 0.0, 645371: 0.0, 536346: 0.0, 567195: 0.0, 527449: 0.0, 459381: 0.0, 595298: 0.0, 466907: 0.0, 577992: 0.0, 537281: 0.0, 523927: 0.0, 595581: 0.0, 642329: 0.0, 503701: 0.0, 571970: 0.0, 644226: 0.0, 632961: 0.0, 473173: 0.0, 620120: 22.8, 575030: 0.0, 630626: 0.0, 580426: 0.0, 616315: 0.0, 520660: 0.0, 589943: 0.0, 510031: 22.58823529411765, 606730: 0.0, 552988: 22.72, 621924: 0.0, 503218: 0.0, 640784: 0.0}\n",
            "{619322: 1.1081081081081081, 590442: 0.0, 594308: 3.3333333333333335, 549840: 4.909090909090909, 524153: 0.9791666666666666, 629769: 0.0, 461577: 0.0, 547205: 0.0, 483784: 4.0, 631903: 4.285714285714286, 549891: 0.0, 632485: 0.0, 657173: 0.0, 477657: 3.8181818181818183, 620947: 0.0, 492039: 0.0, 616453: 0.0, 483999: 0.0, 644754: 0.0, 525263: 0.0, 532852: 0.0, 625756: 0.0, 517649: 0.0, 509607: 0.0, 587437: 0.0, 623736: 0.0, 493358: 0.0, 561819: 1.5833333333333333, 561157: 0.0, 530990: 1.3157894736842106, 643087: 0.0, 569044: 0.0, 556592: 0.0, 585589: 0.0, 579218: 0.0, 573137: 2.1363636363636362, 567281: 0.0, 624532: 0.0, 499177: 0.0, 605235: 0.0, 641131: 0.0, 499467: 0.0, 654641: 0.0, 620076: 0.0, 652996: 0.0, 558930: 0.0, 469675: 0.0, 657035: 0.0, 590595: 0.0, 529694: 0.0, 528019: 0.0, 472749: 0.0, 550251: 0.0, 619245: 0.0, 584229: 0.0, 544444: 0.0, 555931: 0.0, 503218: 0.0, 536346: 0.0, 520660: 0.0, 567195: 0.0, 527449: 0.0, 459381: 0.0, 595298: 0.0, 466907: 0.0, 589943: 0.0, 577992: 0.0, 537281: 0.0, 523927: 0.0, 580426: 0.0, 595581: 0.0, 616315: 0.0, 642329: 0.0, 503701: 0.0, 571970: 0.0, 644226: 0.0, 632961: 0.0, 473173: 0.0, 510031: 27.333333333333332, 552988: 26.8, 620120: 26.0, 575030: 0.0, 621924: 0.0, 640784: 0.0, 630626: 0.0, 606730: 0.0}\n"
          ],
          "name": "stdout"
        }
      ]
    },
    {
      "cell_type": "code",
      "metadata": {
        "id": "hBJdcF9PnZy1",
        "colab_type": "code",
        "colab": {
          "base_uri": "https://localhost:8080/",
          "height": 142
        },
        "outputId": "5ece0c06-27e6-42e1-fe7e-7f57ffcc4bff"
      },
      "source": [
        "print(nx.average_degree_connectivity(templateG))\n",
        "print(nx.average_degree_connectivity(graph1G))\n",
        "print(nx.average_degree_connectivity(graph2G))\n",
        "print(nx.average_degree_connectivity(graph3G))\n",
        "print(nx.average_degree_connectivity(graph4G))\n",
        "print(nx.average_degree_connectivity(graph5G))"
      ],
      "execution_count": 125,
      "outputs": [
        {
          "output_type": "stream",
          "text": [
            "{23: 11.369565217391305, 1: 5.0, 47: 20.51063829787234, 34: 22.823529411764707, 35: 22.614285714285714, 38: 22.026315789473685, 31: 20.225806451612904, 29: 17.862068965517242, 30: 11.583333333333334, 5: 13.6, 37: 22.14864864864865, 2: 0, 4: 7.90625, 7: 0, 13: 0, 36: 9.5, 40: 20.025, 10: 0, 3: 7.25, 9: 0, 6: 0, 24: 8.027777777777779, 18: 27.055555555555557, 33: 0, 27: 0, 19: 20.16842105263158, 22: 0, 28: 0, 25: 0, 26: 7.4743589743589745, 21: 25.650793650793652, 17: 26.955882352941178, 20: 25.266666666666666, 16: 26.59375, 14: 23.857142857142858}\n",
            "{27: 17.71604938271605, 1: 4.8, 36: 8.666666666666666, 49: 19.0, 33: 9.141414141414142, 31: 8.56989247311828, 24: 27.77777777777778, 25: 17.36, 26: 18.509615384615383, 29: 8.344827586206897, 4: 4.34375, 32: 26.15625, 28: 15.761904761904763, 35: 12.8, 2: 0, 3: 3.8, 9: 0, 8: 0, 7: 0, 6: 0, 19: 31.776315789473685, 44: 4.761363636363637, 30: 0, 37: 0, 17: 17.870588235294118, 15: 14.866666666666667, 21: 29.142857142857142, 20: 30.175, 18: 31.25, 16: 31.208333333333332, 22: 29.272727272727273, 23: 29.17391304347826}\n",
            "{34: 23.705882352941178, 1: 3.0, 36: 24.52777777777778, 28: 15.053571428571429, 49: 19.306122448979593, 33: 5.090909090909091, 32: 24.953125, 37: 10.743243243243244, 35: 25.4, 31: 12.209677419354838, 4: 16.25, 26: 24.307692307692307, 23: 24.91304347826087, 29: 7.655172413793103, 27: 8.185185185185185, 2: 5.25, 3: 0, 7: 0, 21: 28.849206349206348, 25: 8.92, 17: 0, 20: 29.35, 16: 20.5, 42: 4.841269841269841, 40: 0, 22: 18.46969696969697, 5: 0, 18: 29.925925925925927, 6: 0, 15: 33.2, 19: 28.859649122807017, 24: 28.791666666666668}\n",
            "{25: 11.773333333333333, 1: 4.666666666666667, 23: 17.608695652173914, 34: 17.33823529411765, 28: 13.0, 30: 18.233333333333334, 3: 8.666666666666666, 4: 6.875, 27: 18.685185185185187, 26: 6.867521367521367, 29: 18.655172413793103, 2: 3.25, 9: 0, 6: 0, 7: 0, 18: 20.574074074074073, 17: 14.882352941176471, 20: 5.25, 22: 3.6545454545454548, 21: 10.238095238095237, 24: 17.8125, 5: 0, 14: 12.357142857142858, 16: 0, 13: 0, 19: 20.342105263157894}\n",
            "{38: 12.026315789473685, 1: 0, 28: 15.375, 27: 15.814814814814815, 22: 17.71212121212121, 30: 15.173333333333334, 37: 19.83783783783784, 26: 15.538461538461538, 5: 0, 33: 16.03030303030303, 24: 10.972222222222221, 21: 15.928571428571429, 41: 11.609756097560975, 3: 0, 18: 5.481481481481482, 2: 0, 15: 0, 20: 0, 25: 5.54, 17: 6.985294117647059, 19: 0, 16: 0, 10: 0, 13: 0, 4: 0, 9: 0}\n",
            "{42: 5.5, 1: 0, 31: 8.838709677419354, 26: 10.615384615384615, 52: 4.519230769230769, 29: 8.344827586206897, 25: 8.38, 27: 8.592592592592593, 2: 0, 4: 0, 3: 0, 24: 8.708333333333334, 7: 0, 8: 0, 10: 4.2375, 9: 0, 5: 0, 6: 10.555555555555555}\n"
          ],
          "name": "stdout"
        }
      ]
    },
    {
      "cell_type": "code",
      "metadata": {
        "colab_type": "code",
        "outputId": "06df6967-de37-4eed-8df3-8975ac87a781",
        "id": "9F5FxOdMnmsy",
        "colab": {
          "base_uri": "https://localhost:8080/",
          "height": 142
        }
      },
      "source": [
        "print(nx.k_nearest_neighbors(templateG))\n",
        "print(nx.k_nearest_neighbors(graph1G))\n",
        "print(nx.k_nearest_neighbors(graph2G))\n",
        "print(nx.k_nearest_neighbors(graph3G))\n",
        "print(nx.k_nearest_neighbors(graph4G))\n",
        "print(nx.k_nearest_neighbors(graph5G))"
      ],
      "execution_count": 127,
      "outputs": [
        {
          "output_type": "stream",
          "text": [
            "{23: 11.369565217391305, 1: 5.0, 47: 20.51063829787234, 34: 22.823529411764707, 35: 22.614285714285714, 38: 22.026315789473685, 31: 20.225806451612904, 29: 17.862068965517242, 30: 11.583333333333334, 5: 13.6, 37: 22.14864864864865, 2: 0, 4: 7.90625, 7: 0, 13: 0, 36: 9.5, 40: 20.025, 10: 0, 3: 7.25, 9: 0, 6: 0, 24: 8.027777777777779, 18: 27.055555555555557, 33: 0, 27: 0, 19: 20.16842105263158, 22: 0, 28: 0, 25: 0, 26: 7.4743589743589745, 21: 25.650793650793652, 17: 26.955882352941178, 20: 25.266666666666666, 16: 26.59375, 14: 23.857142857142858}\n",
            "{27: 17.71604938271605, 1: 4.8, 36: 8.666666666666666, 49: 19.0, 33: 9.141414141414142, 31: 8.56989247311828, 24: 27.77777777777778, 25: 17.36, 26: 18.509615384615383, 29: 8.344827586206897, 4: 4.34375, 32: 26.15625, 28: 15.761904761904763, 35: 12.8, 2: 0, 3: 3.8, 9: 0, 8: 0, 7: 0, 6: 0, 19: 31.776315789473685, 44: 4.761363636363637, 30: 0, 37: 0, 17: 17.870588235294118, 15: 14.866666666666667, 21: 29.142857142857142, 20: 30.175, 18: 31.25, 16: 31.208333333333332, 22: 29.272727272727273, 23: 29.17391304347826}\n",
            "{34: 23.705882352941178, 1: 3.0, 36: 24.52777777777778, 28: 15.053571428571429, 49: 19.306122448979593, 33: 5.090909090909091, 32: 24.953125, 37: 10.743243243243244, 35: 25.4, 31: 12.209677419354838, 4: 16.25, 26: 24.307692307692307, 23: 24.91304347826087, 29: 7.655172413793103, 27: 8.185185185185185, 2: 5.25, 3: 0, 7: 0, 21: 28.849206349206348, 25: 8.92, 17: 0, 20: 29.35, 16: 20.5, 42: 4.841269841269841, 40: 0, 22: 18.46969696969697, 5: 0, 18: 29.925925925925927, 6: 0, 15: 33.2, 19: 28.859649122807017, 24: 28.791666666666668}\n",
            "{25: 11.773333333333333, 1: 4.666666666666667, 23: 17.608695652173914, 34: 17.33823529411765, 28: 13.0, 30: 18.233333333333334, 3: 8.666666666666666, 4: 6.875, 27: 18.685185185185187, 26: 6.867521367521367, 29: 18.655172413793103, 2: 3.25, 9: 0, 6: 0, 7: 0, 18: 20.574074074074073, 17: 14.882352941176471, 20: 5.25, 22: 3.6545454545454548, 21: 10.238095238095237, 24: 17.8125, 5: 0, 14: 12.357142857142858, 16: 0, 13: 0, 19: 20.342105263157894}\n",
            "{38: 12.026315789473685, 1: 0, 28: 15.375, 27: 15.814814814814815, 22: 17.71212121212121, 30: 15.173333333333334, 37: 19.83783783783784, 26: 15.538461538461538, 5: 0, 33: 16.03030303030303, 24: 10.972222222222221, 21: 15.928571428571429, 41: 11.609756097560975, 3: 0, 18: 5.481481481481482, 2: 0, 15: 0, 20: 0, 25: 5.54, 17: 6.985294117647059, 19: 0, 16: 0, 10: 0, 13: 0, 4: 0, 9: 0}\n",
            "{42: 5.5, 1: 0, 31: 8.838709677419354, 26: 10.615384615384615, 52: 4.519230769230769, 29: 8.344827586206897, 25: 8.38, 27: 8.592592592592593, 2: 0, 4: 0, 3: 0, 24: 8.708333333333334, 7: 0, 8: 0, 10: 4.2375, 9: 0, 5: 0, 6: 10.555555555555555}\n"
          ],
          "name": "stdout"
        }
      ]
    },
    {
      "cell_type": "markdown",
      "metadata": {
        "id": "MBB-zqr9oX_y",
        "colab_type": "text"
      },
      "source": [
        "Similarity measures"
      ]
    },
    {
      "cell_type": "code",
      "metadata": {
        "id": "-7DI2t-soaB_",
        "colab_type": "code",
        "colab": {}
      },
      "source": [
        "nx.graph_edit_distance(templateG, graph1G)"
      ],
      "execution_count": 0,
      "outputs": []
    },
    {
      "cell_type": "code",
      "metadata": {
        "id": "dMg7vsDyop8H",
        "colab_type": "code",
        "colab": {}
      },
      "source": [
        "nx.optimal_edit_paths(templateG, graph1G)"
      ],
      "execution_count": 0,
      "outputs": []
    },
    {
      "cell_type": "code",
      "metadata": {
        "id": "eTofV895o97H",
        "colab_type": "code",
        "colab": {
          "base_uri": "https://localhost:8080/",
          "height": 34
        },
        "outputId": "c8228df7-caf3-48d1-b783-faf96dcbe745"
      },
      "source": [
        "nx.optimize_graph_edit_distance(templateG, graph1G)"
      ],
      "execution_count": 138,
      "outputs": [
        {
          "output_type": "execute_result",
          "data": {
            "text/plain": [
              "<generator object optimize_graph_edit_distance at 0x7f8c4558be60>"
            ]
          },
          "metadata": {
            "tags": []
          },
          "execution_count": 138
        }
      ]
    },
    {
      "cell_type": "code",
      "metadata": {
        "id": "LUdXLypSo_6R",
        "colab_type": "code",
        "colab": {
          "base_uri": "https://localhost:8080/",
          "height": 34
        },
        "outputId": "40f35175-d69f-4c42-e3b9-29a6616dd4d5"
      },
      "source": [
        "print(nx.optimize_edit_paths(templateG, graph1G))"
      ],
      "execution_count": 137,
      "outputs": [
        {
          "output_type": "stream",
          "text": [
            "<generator object optimize_edit_paths at 0x7f8c4558bfc0>\n"
          ],
          "name": "stdout"
        }
      ]
    },
    {
      "cell_type": "code",
      "metadata": {
        "id": "5mARRuQJpCJr",
        "colab_type": "code",
        "colab": {
          "base_uri": "https://localhost:8080/",
          "height": 54
        },
        "outputId": "0a748f42-eae9-4b81-d377-c41ce2f513bd"
      },
      "source": [
        "print(nx.simrank_similarity(templateG))"
      ],
      "execution_count": 135,
      "outputs": [
        {
          "output_type": "stream",
          "text": [
            "{0: {0: 1, -99: 0.0, 41: 0.018898643504213993, 34: 0.023911688979972635, 37: 0.02490298472103575, 27: 0.02392653213902491, 40: 0.024701243725344723, 39: 0.022726919445484356, 65: 0.027388156023638435, 67: 0.0003596160388991994, 47: 0.023954882796372437, 66: 0.0, 657187: 0.0, 78: 0.0, 81: 0.0, 80: 0.0, 70: 0.0, 43: 0.025866978555569017, 56: 0.023931226408674774, 57: 0.023096075317848894, 58: 0.0218259981587182, 63: 0.025768143540713447, 77: 0.0, 79: 0.0, 45: 0.027244267496619238, 69: 0.0, 76: 0.0, 82: 0.0, 83: 0.0, 84: 0.0, 73: 0.0, 75: 0.0, 74: 0.0, 71: 0.0, 72: 0.0, 87: 0.0, 85: 0.0, 86: 0.0, 2: 0.03660287081339713, 630626: 0.0, 536346: 0.0, 510031: 0.0002449544233245521, 520660: 0.0, 552988: 0.00025284709701427053, 567195: 0.0, 527449: 0.0, 459381: 0.0, 595298: 0.0, 466907: 0.0, 589943: 0.0, 577992: 0.0, 537281: 0.0, 523927: 0.0, 580426: 0.0, 595581: 0.0, 642329: 0.0, 503701: 0.0, 571970: 0.0, 644226: 0.0, 632961: 0.0, 473173: 0.0, 620120: 0.00022530847835566665, 621924: 0.0, 616315: 0.0, 29: 0.037894736842105266, 575030: 0.0, 31: 0.03444976076555024, 503218: 0.0, 33: 0.03490304709141274, 35: 0.03848684210526316, 36: 0.036222910216718265, 38: 0.035526315789473684, 42: 0.03343653250773994, 44: 0.035526315789473684, 46: 0.035526315789473684, 48: 0.035526315789473684, 49: 0.03355263157894737, 640784: 0.0, 606730: 0.0, 52: 0.03490304709141274, 53: 0.03383458646616541, 54: 0.036222910216718265, 55: 0.03875598086124402, 59: 0.037894736842105266, 60: 0.037218045112781956, 61: 0.034210526315789476, 62: 0.0390092879256966, 64: 0.041795665634674926}, -99: {0: 0.0, -99: 1, 41: 0.0, 34: 0.0, 37: 0.0, 27: 0.0, 40: 0.0, 39: 0.0, 65: 0.0, 67: 0.0, 47: 0.0, 66: 0.0, 657187: 0.0, 78: 0.0, 81: 0.0, 80: 0.0, 70: 0.0, 43: 0.0, 56: 0.0, 57: 0.0, 58: 0.0, 63: 0.0, 77: 0.0, 79: 0.0, 45: 0.0, 69: 0.0, 76: 0.0, 82: 0.0, 83: 0.0, 84: 0.0, 73: 0.0, 75: 0.0, 74: 0.0, 71: 0.0, 72: 0.0, 87: 0.0, 85: 0.0, 86: 0.0, 2: 0.0, 630626: 0.0, 536346: 0.0, 510031: 0.0, 520660: 0.0, 552988: 0.0, 567195: 0.0, 527449: 0.0, 459381: 0.0, 595298: 0.0, 466907: 0.0, 589943: 0.0, 577992: 0.0, 537281: 0.0, 523927: 0.0, 580426: 0.0, 595581: 0.0, 642329: 0.0, 503701: 0.0, 571970: 0.0, 644226: 0.0, 632961: 0.0, 473173: 0.0, 620120: 0.0, 621924: 0.0, 616315: 0.0, 29: 0.0, 575030: 0.0, 31: 0.0, 503218: 0.0, 33: 0.0, 35: 0.0, 36: 0.0, 38: 0.0, 42: 0.0, 44: 0.0, 46: 0.0, 48: 0.0, 49: 0.0, 640784: 0.0, 606730: 0.0, 52: 0.0, 53: 0.0, 54: 0.0, 55: 0.0, 59: 0.0, 60: 0.0, 61: 0.0, 62: 0.0, 64: 0.0}, 41: {0: 0.01889864350421399, -99: 0.0, 41: 1, 34: 0.024162113442076926, 37: 0.02317069788236081, 27: 0.022774130967702196, 40: 0.023158153938002864, 39: 0.018983550634062145, 65: 0.018208851595883837, 67: 0.02377224137249392, 47: 0.025678491437732556, 66: 0.0, 657187: 0.0, 78: 0.013636363636363637, 81: 0.0, 80: 0.013636363636363637, 70: 0.0, 43: 0.026875912256551452, 56: 0.02556952396836386, 57: 0.01997205458732055, 58: 0.026509311855191134, 63: 0.02436052827929056, 77: 0.013636363636363637, 79: 0.013636363636363637, 45: 0.019822646493447997, 69: 0.0, 76: 0.0, 82: 0.027272727272727275, 83: 0.027272727272727275, 84: 0.027272727272727275, 73: 0.018181818181818184, 75: 0.018181818181818184, 74: 0.018181818181818184, 71: 0.0, 72: 0.0, 87: 0.020454545454545454, 85: 0.020454545454545454, 86: 0.020454545454545454, 2: 0.016321555753639357, 630626: 0.0, 536346: 0.0, 510031: 0.019133726281633793, 520660: 0.0, 552988: 0.020624145336156818, 567195: 0.0, 527449: 0.0, 459381: 0.0, 595298: 0.0, 466907: 0.0, 589943: 0.0, 577992: 0.0, 537281: 0.0, 523927: 0.0, 580426: 0.0, 595581: 0.0, 642329: 0.0, 503701: 0.0, 571970: 0.0, 644226: 0.0, 632961: 0.0, 473173: 0.0, 620120: 0.02232943841884175, 621924: 0.0, 616315: 0.0, 29: 0.017953711329003294, 575030: 0.0, 31: 0.016321555753639357, 503218: 0.0, 33: 0.01889864350421399, 35: 0.022442139161254114, 36: 0.022459893048128343, 38: 0.020454545454545454, 42: 0.021122013328239167, 44: 0.02073759370670866, 46: 0.017953711329003294, 48: 0.022442139161254114, 49: 0.01609778974386638, 640784: 0.0, 606730: 0.0, 52: 0.017463236805649398, 53: 0.01948051948051948, 54: 0.022726291403105475, 55: 0.019834710743801654, 59: 0.02030191813564075, 60: 0.023376623376623377, 61: 0.018433416628185477, 62: 0.021122013328239167, 64: 0.016309179103640235}, 34: {0: 0.023911688979972638, -99: 0.0, 41: 0.024162113442076926, 34: 1, 37: 0.02763707007980988, 27: 0.027321180214942575, 40: 0.020399746100412102, 39: 0.019092941859164245, 65: 0.023747423170390806, 67: 0.004621919435182949, 47: 0.03079726768181274, 66: 0.0, 657187: 0.0, 78: 0.0, 81: 0.0, 80: 0.0, 70: 0.0, 43: 0.03116396237503738, 56: 0.030739516511393807, 57: 0.02736969512076782, 58: 0.031568706110254356, 63: 0.031892781759265285, 77: 0.0, 79: 0.0, 45: 0.02774606434529774, 69: 0.0, 76: 0.0, 82: 0.0, 83: 0.0, 84: 0.0, 73: 0.0, 75: 0.0, 74: 0.0, 71: 0.0, 72: 0.0, 87: 0.0, 85: 0.0, 86: 0.0, 2: 0.025371283839347, 630626: 0.0, 536346: 0.0, 510031: 0.016712225761808298, 520660: 0.0, 552988: 0.014912545434714463, 567195: 0.0, 527449: 0.0, 459381: 0.0, 595298: 0.0, 466907: 0.0, 589943: 0.0, 577992: 0.0, 537281: 0.0, 523927: 0.0, 580426: 0.0, 595581: 0.0, 642329: 0.0, 503701: 0.0, 571970: 0.0, 644226: 0.0, 632961: 0.0, 473173: 0.0, 620120: 0.01507016003139722, 621924: 0.0, 616315: 0.0, 29: 0.0279084122232817, 575030: 0.0, 31: 0.025371283839347, 503218: 0.0, 33: 0.03119913837268519, 35: 0.030558592202179047, 36: 0.030542986425339366, 38: 0.028125, 42: 0.030797227050014673, 44: 0.02839513066371751, 46: 0.0279084122232817, 48: 0.032722053740640585, 49: 0.023257010186068083, 640784: 0.0, 606730: 0.0, 52: 0.025733551328150774, 53: 0.029670329670329672, 54: 0.030797227050014673, 55: 0.03146853146853147, 59: 0.027980447066939702, 60: 0.029670329670329672, 61: 0.031009346914757444, 62: 0.028761027954992042, 64: 0.024688629764946794}, 37: {0: 0.02490298472103575, -99: 0.0, 41: 0.02317069788236081, 34: 0.02763707007980988, 37: 1, 27: 0.028549854218231457, 40: 0.016978140652420298, 39: 0.016751188659432068, 65: 0.023424059226965537, 67: 0.016807661500979048, 47: 0.02804124591060226, 66: 0.0, 657187: 0.0, 78: 0.0, 81: 0.0, 80: 0.0, 70: 0.0, 43: 0.02807356524345705, 56: 0.02797188925728763, 57: 0.029857972748386908, 58: 0.031387358637670615, 63: 0.029137823633693414, 77: 0.0, 79: 0.0, 45: 0.02894690963285036, 69: 0.0, 76: 0.0, 82: 0.0, 83: 0.0, 84: 0.0, 73: 0.0, 75: 0.0, 74: 0.0, 71: 0.0, 72: 0.0, 87: 0.0, 85: 0.0, 86: 0.0, 2: 0.024779850440894514, 630626: 0.0, 536346: 0.0, 510031: 0.018231930266585976, 520660: 0.0, 552988: 0.01731843728296347, 567195: 0.0, 527449: 0.0, 459381: 0.0, 595298: 0.0, 466907: 0.0, 589943: 0.0, 577992: 0.0, 537281: 0.0, 523927: 0.0, 580426: 0.0, 595581: 0.0, 642329: 0.0, 503701: 0.0, 571970: 0.0, 644226: 0.0, 632961: 0.0, 473173: 0.0, 620120: 0.012709957948797633, 621924: 0.0, 616315: 0.0, 29: 0.025457835484983964, 575030: 0.0, 31: 0.023143486804530874, 503218: 0.0, 33: 0.02490298472103575, 35: 0.025072294356229957, 36: 0.025411764705882356, 38: 0.02925, 42: 0.025715100570569367, 44: 0.027322294356229956, 46: 0.025457835484983964, 48: 0.025072294356229957, 49: 0.022714862904153303, 640784: 0.0, 606730: 0.0, 52: 0.02490298472103575, 53: 0.025714285714285714, 54: 0.025715100570569367, 55: 0.02618181818181818, 59: 0.026743780646645284, 60: 0.023142857142857142, 61: 0.026286483872204405, 62: 0.025715100570569367, 64: 0.0278327476293929}, 27: {0: 0.02392653213902491, -99: 0.0, 41: 0.0227741309677022, 34: 0.027321180214942575, 37: 0.028549854218231467, 27: 1, 40: 0.019050370000030507, 39: 0.016375840255475633, 65: 0.023405136752321577, 67: 0.015160488662173278, 47: 0.02522482496831979, 66: 0.0, 657187: 0.0, 78: 0.0, 81: 0.0, 80: 0.0, 70: 0.0, 43: 0.025237902297738743, 56: 0.028810111523173938, 57: 0.025717405417050504, 58: 0.02677548538079788, 63: 0.027403711543060528, 77: 0.0, 79: 0.0, 45: 0.027126852854457775, 69: 0.0, 76: 0.0, 82: 0.0, 83: 0.0, 84: 0.0, 73: 0.0, 75: 0.0, 74: 0.0, 71: 0.0, 72: 0.0, 87: 0.0, 85: 0.0, 86: 0.0, 2: 0.026507979055131903, 630626: 0.0, 536346: 0.0, 510031: 0.014615613904693023, 520660: 0.0, 552988: 0.015524484006035948, 567195: 0.0, 527449: 0.0, 459381: 0.0, 595298: 0.0, 466907: 0.0, 589943: 0.0, 577992: 0.0, 537281: 0.0, 523927: 0.0, 580426: 0.0, 595581: 0.0, 642329: 0.0, 503701: 0.0, 571970: 0.0, 644226: 0.0, 632961: 0.0, 473173: 0.0, 620120: 0.014857677220916595, 621924: 0.0, 616315: 0.0, 29: 0.029158776960645096, 575030: 0.0, 31: 0.026507979055131903, 503218: 0.0, 33: 0.02561826146233318, 35: 0.026403828343663505, 36: 0.02457983193277311, 38: 0.02611607142857143, 42: 0.02674141827302784, 44: 0.026403828343663505, 46: 0.025944491246359377, 48: 0.026403828343663505, 49: 0.02429898080053758, 640784: 0.0, 606730: 0.0, 52: 0.02730999078564145, 53: 0.025255102040816328, 54: 0.022959905667985822, 55: 0.020454545454545454, 59: 0.026021226423717264, 60: 0.02295918367346939, 61: 0.028827212495954865, 62: 0.02485066197050683, 64: 0.02674141827302784}, 40: {0: 0.024701243725344723, -99: 0.0, 41: 0.02315815393800286, 34: 0.020399746100412102, 37: 0.016978140652420294, 27: 0.019050370000030507, 40: 1, 39: 0.023929032161537262, 65: 0.022592031998382528, 67: 0.01381851099066859, 47: 0.021948825369229367, 66: 0.0, 657187: 0.0, 78: 0.018000000000000002, 81: 0.0, 80: 0.018000000000000002, 70: 0.0, 43: 0.023454048306528655, 56: 0.021899127182056225, 57: 0.01711526475370423, 58: 0.017712436031229545, 63: 0.021856668890587957, 77: 0.018000000000000002, 79: 0.018000000000000002, 45: 0.02000186964781906, 69: 0.0, 76: 0.0, 82: 0.036000000000000004, 83: 0.036000000000000004, 84: 0.036000000000000004, 73: 0.024, 75: 0.024, 74: 0.024, 71: 0.0, 72: 0.0, 87: 0.027, 85: 0.027, 86: 0.027, 2: 0.022969255944615897, 630626: 0.0, 536346: 0.0, 510031: 0.0076277194207271725, 520660: 0.0, 552988: 0.007595167665846809, 567195: 0.0, 527449: 0.0, 459381: 0.0, 595298: 0.0, 466907: 0.0, 589943: 0.0, 577992: 0.0, 537281: 0.0, 523927: 0.0, 580426: 0.0, 595581: 0.0, 642329: 0.0, 503701: 0.0, 571970: 0.0, 644226: 0.0, 632961: 0.0, 473173: 0.0, 620120: 0.003745437515348355, 621924: 0.0, 616315: 0.0, 29: 0.025266181539077486, 575030: 0.0, 31: 0.024605619580979534, 503218: 0.0, 33: 0.026595980567449988, 35: 0.02708272692384686, 36: 0.029647058823529415, 38: 0.02925, 42: 0.02760727239891469, 44: 0.02708272692384686, 46: 0.021666181539077487, 48: 0.02708272692384686, 49: 0.02255515128256457, 640784: 0.0, 606730: 0.0, 52: 0.02280650688323946, 53: 0.03085714285714286, 54: 0.02760727239891469, 55: 0.02945454545454546, 59: 0.028888242052103313, 60: 0.03342857142857143, 61: 0.02607353504341943, 62: 0.02760727239891469, 64: 0.021254331222444103}, 39: {0: 0.022726919445484356, -99: 0.0, 41: 0.018983550634062145, 34: 0.019092941859164245, 37: 0.016751188659432068, 27: 0.016375840255475633, 40: 0.023929032161537262, 39: 1, 65: 0.018504336067356773, 67: 0.02779575945053631, 47: 0.017750014858404946, 66: 0.0, 657187: 0.0, 78: 0.01956521739130435, 81: 0.0, 80: 0.01956521739130435, 70: 0.0, 43: 0.018860793669461307, 56: 0.02213843405509893, 57: 0.014467339757162637, 58: 0.020858060842197622, 63: 0.020614168907517248, 77: 0.01956521739130435, 79: 0.01956521739130435, 45: 0.018898101434283904, 69: 0.0, 76: 0.0, 82: 0.0391304347826087, 83: 0.0391304347826087, 84: 0.0391304347826087, 73: 0.026086956521739132, 75: 0.026086956521739132, 74: 0.026086956521739132, 71: 0.0, 72: 0.0, 87: 0.029347826086956522, 85: 0.029347826086956522, 86: 0.029347826086956522, 2: 0.0231851063195191, 630626: 0.0, 536346: 0.0, 510031: 0.004595913174713517, 520660: 0.0, 552988: 0.00455974933218178, 567195: 0.0, 527449: 0.0, 459381: 0.0, 595298: 0.0, 466907: 0.0, 589943: 0.0, 577992: 0.0, 537281: 0.0, 523927: 0.0, 580426: 0.0, 595581: 0.0, 642329: 0.0, 503701: 0.0, 571970: 0.0, 644226: 0.0, 632961: 0.0, 473173: 0.0, 620120: 0.006754344117883173, 621924: 0.0, 616315: 0.0, 29: 0.023547095212340576, 575030: 0.0, 31: 0.021406450193036886, 503218: 0.0, 33: 0.026845912580495797, 35: 0.026988216841512674, 36: 0.023017902813299233, 38: 0.022010869565217393, 42: 0.027702464955694794, 44: 0.02454256466759963, 46: 0.02159057347321014, 48: 0.02454256466759963, 49: 0.019622579343617146, 640784: 0.0, 606730: 0.0, 52: 0.020667422877978636, 53: 0.030745341614906836, 54: 0.025400674674364868, 55: 0.032015810276679844, 59: 0.03139612694978743, 60: 0.027950310559006212, 61: 0.02616343912482286, 62: 0.027702464955694794, 64: 0.020797094111705026}, 65: {0: 0.027388156023638435, -99: 0.0, 41: 0.018208851595883833, 34: 0.023747423170390795, 37: 0.023424059226965537, 27: 0.023405136752321577, 40: 0.02259203199838253, 39: 0.018504336067356773, 65: 1, 67: 0.013589393067305068, 47: 0.023944387316302822, 66: 0.0, 657187: 0.0, 78: 0.0, 81: 0.0, 80: 0.0, 70: 0.0, 43: 0.022671295643382466, 56: 0.02253136890801437, 57: 0.023761116674905196, 58: 0.0219320708838852, 63: 0.022509566296176755, 77: 0.0, 79: 0.0, 45: 0.026772425707390135, 69: 0.0, 76: 0.0, 82: 0.0, 83: 0.0, 84: 0.0, 73: 0.0, 75: 0.0, 74: 0.0, 71: 0.0, 72: 0.0, 87: 0.0, 85: 0.0, 86: 0.0, 2: 0.03152054034209333, 630626: 0.0, 536346: 0.0, 510031: 0.007411292548257387, 520660: 0.0, 552988: 0.007379020862057554, 567195: 0.0, 527449: 0.0, 459381: 0.0, 595298: 0.0, 466907: 0.0, 589943: 0.0, 577992: 0.0, 537281: 0.0, 523927: 0.0, 580426: 0.0, 595581: 0.0, 642329: 0.0, 503701: 0.0, 571970: 0.0, 644226: 0.0, 632961: 0.0, 473173: 0.0, 620120: 0.007458430694633677, 621924: 0.0, 616315: 0.0, 29: 0.029480286683994973, 575030: 0.0, 31: 0.028373687195240183, 503218: 0.0, 33: 0.02921001837181657, 35: 0.030359973739609098, 36: 0.030542986425339366, 38: 0.03245192307692307, 42: 0.03264649112144205, 44: 0.030359973739609098, 46: 0.031211055914764203, 48: 0.030359973739609098, 49: 0.03033613633922658, 640784: 0.0, 606730: 0.0, 52: 0.031031880719994707, 53: 0.03214285714285714, 54: 0.03264649112144205, 55: 0.03146853146853147, 59: 0.030076279681224068, 60: 0.029670329670329672, 61: 0.030832797170250822, 62: 0.0285740929313968, 64: 0.03264649112144205}, 67: {0: 0.0003596160388991993, -99: 0.0, 41: 0.023772241372493924, 34: 0.00462191943518295, 37: 0.016807661500979048, 27: 0.015160488662173278, 40: 0.013818510990668591, 39: 0.02779575945053631, 65: 0.013589393067305068, 67: 1, 47: 0.016808910237793347, 66: 0.0, 657187: 0.0, 78: 0.0, 81: 0.0, 80: 0.0, 70: 0.0, 43: 0.01646707280427944, 56: 0.016307275107441264, 57: 0.004424284946136724, 58: 0.019341667185344195, 63: 0.016098003519001744, 77: 0.0, 79: 0.0, 45: 0.013780998401648448, 69: 0.0, 76: 0.0, 82: 0.0, 83: 0.0, 84: 0.0, 73: 0.0, 75: 0.0, 74: 0.0, 71: 0.0, 72: 0.0, 87: 0.0, 85: 0.0, 86: 0.0, 2: 0.00031057748814021757, 630626: 0.0, 536346: 0.0, 510031: 0.014854612437211721, 520660: 0.0, 552988: 0.031010216227581832, 567195: 0.0, 527449: 0.0, 459381: 0.0, 595298: 0.0, 466907: 0.0, 589943: 0.0, 577992: 0.0, 537281: 0.0, 523927: 0.0, 580426: 0.0, 595581: 0.0, 642329: 0.0, 503701: 0.0, 571970: 0.0, 644226: 0.0, 632961: 0.0, 473173: 0.0, 620120: 0.015415221557434133, 621924: 0.0, 616315: 0.0, 29: 0.00034163523695423934, 575030: 0.0, 31: 0.00031057748814021757, 503218: 0.0, 33: 0.0003596160388991993, 35: 0.00042704404619279916, 36: 0.0, 38: 0.0, 42: 0.00040192380818145806, 44: 0.00042704404619279916, 46: 0.00034163523695423934, 48: 0.00042704404619279916, 49: 0.0002846960307951995, 640784: 0.0, 606730: 0.0, 52: 0.0003596160388991993, 53: 0.0, 54: 0.00040192380818145806, 55: 0.0, 59: 0.0004555136492723192, 60: 0.0, 61: 0.0003795947077269326, 62: 0.00040192380818145806, 64: 0.00040192380818145806}, 47: {0: 0.023954882796372434, -99: 0.0, 41: 0.025678491437732553, 34: 0.03079726768181274, 37: 0.02804124591060227, 27: 0.02522482496831979, 40: 0.021948825369229367, 39: 0.01775001485840494, 65: 0.023944387316302822, 67: 0.016808910237793347, 47: 1, 66: 0.0, 657187: 0.0, 78: 0.0, 81: 0.0, 80: 0.0, 70: 0.0, 43: 0.03013739406637683, 56: 0.02981391977430179, 57: 0.024176279825705214, 58: 0.028959587681132434, 63: 0.02965641909728676, 77: 0.0, 79: 0.0, 45: 0.026798647192291674, 69: 0.0, 76: 0.0, 82: 0.0, 83: 0.0, 84: 0.0, 73: 0.0, 75: 0.0, 74: 0.0, 71: 0.0, 72: 0.0, 87: 0.0, 85: 0.0, 86: 0.0, 2: 0.02226173444302095, 630626: 0.0, 536346: 0.0, 510031: 0.017662940127879685, 520660: 0.0, 552988: 0.016782697564903738, 567195: 0.0, 527449: 0.0, 459381: 0.0, 595298: 0.0, 466907: 0.0, 589943: 0.0, 577992: 0.0, 537281: 0.0, 523927: 0.0, 580426: 0.0, 595581: 0.0, 642329: 0.0, 503701: 0.0, 571970: 0.0, 644226: 0.0, 632961: 0.0, 473173: 0.0, 620120: 0.016021338345732786, 621924: 0.0, 616315: 0.0, 29: 0.022757138656553814, 575030: 0.0, 31: 0.02068830786959438, 503218: 0.0, 33: 0.02577674514455057, 35: 0.028446423320692266, 36: 0.02850678733031674, 38: 0.03028846153846154, 42: 0.026773104301828016, 44: 0.028446423320692266, 46: 0.024487907887323045, 48: 0.030609884859153804, 49: 0.02184889759841023, 640784: 0.0, 606730: 0.0, 52: 0.023954882796372434, 53: 0.0271978021978022, 54: 0.02880930339685064, 55: 0.03146853146853147, 59: 0.025727466926687138, 60: 0.029670329670329672, 61: 0.02528570961839313, 62: 0.02880930339685064, 64: 0.02473690520680539}, 66: {0: 0.0, -99: 0.0, 41: 0.0, 34: 0.0, 37: 0.0, 27: 0.0, 40: 0.0, 39: 0.0, 65: 0.0, 67: 0.0, 47: 0.0, 66: 1, 657187: 0.0, 78: 0.0, 81: 0.0, 80: 0.0, 70: 0.0, 43: 0.0, 56: 0.0, 57: 0.0, 58: 0.0, 63: 0.0, 77: 0.0, 79: 0.0, 45: 0.0, 69: 0.0, 76: 0.0, 82: 0.0, 83: 0.0, 84: 0.0, 73: 0.0, 75: 0.0, 74: 0.0, 71: 0.0, 72: 0.0, 87: 0.0, 85: 0.0, 86: 0.0, 2: 0.0, 630626: 0.0, 536346: 0.0, 510031: 0.0, 520660: 0.0, 552988: 0.0, 567195: 0.0, 527449: 0.0, 459381: 0.0, 595298: 0.0, 466907: 0.0, 589943: 0.0, 577992: 0.0, 537281: 0.0, 523927: 0.0, 580426: 0.0, 595581: 0.0, 642329: 0.0, 503701: 0.0, 571970: 0.0, 644226: 0.0, 632961: 0.0, 473173: 0.0, 620120: 0.0, 621924: 0.0, 616315: 0.0, 29: 0.0, 575030: 0.0, 31: 0.0, 503218: 0.0, 33: 0.0, 35: 0.0, 36: 0.0, 38: 0.0, 42: 0.0, 44: 0.0, 46: 0.0, 48: 0.0, 49: 0.0, 640784: 0.0, 606730: 0.0, 52: 0.0, 53: 0.0, 54: 0.0, 55: 0.0, 59: 0.0, 60: 0.0, 61: 0.0, 62: 0.0, 64: 0.0}, 657187: {0: 0.0, -99: 0.0, 41: 0.0, 34: 0.0, 37: 0.0, 27: 0.0, 40: 0.0, 39: 0.0, 65: 0.0, 67: 0.0, 47: 0.0, 66: 0.0, 657187: 1, 78: 0.0, 81: 0.0, 80: 0.0, 70: 0.0, 43: 0.0, 56: 0.0, 57: 0.0, 58: 0.0, 63: 0.0, 77: 0.0, 79: 0.0, 45: 0.0, 69: 0.0, 76: 0.0, 82: 0.0, 83: 0.0, 84: 0.0, 73: 0.0, 75: 0.0, 74: 0.0, 71: 0.0, 72: 0.0, 87: 0.0, 85: 0.0, 86: 0.0, 2: 0.0, 630626: 0.0, 536346: 0.0, 510031: 0.0, 520660: 0.0, 552988: 0.0, 567195: 0.0, 527449: 0.0, 459381: 0.0, 595298: 0.0, 466907: 0.0, 589943: 0.0, 577992: 0.0, 537281: 0.0, 523927: 0.0, 580426: 0.0, 595581: 0.0, 642329: 0.0, 503701: 0.0, 571970: 0.0, 644226: 0.0, 632961: 0.0, 473173: 0.0, 620120: 0.0, 621924: 0.0, 616315: 0.0, 29: 0.0, 575030: 0.0, 31: 0.0, 503218: 0.0, 33: 0.0, 35: 0.0, 36: 0.0, 38: 0.0, 42: 0.0, 44: 0.0, 46: 0.0, 48: 0.0, 49: 0.0, 640784: 0.0, 606730: 0.0, 52: 0.0, 53: 0.0, 54: 0.0, 55: 0.0, 59: 0.0, 60: 0.0, 61: 0.0, 62: 0.0, 64: 0.0}, 78: {0: 0.0, -99: 0.0, 41: 0.013636363636363637, 34: 0.0, 37: 0.0, 27: 0.0, 40: 0.018000000000000002, 39: 0.01956521739130435, 65: 0.0, 67: 0.0, 47: 0.0, 66: 0.0, 657187: 0.0, 78: 1, 81: 0.0, 80: 0.225, 70: 0.0, 43: 0.0, 56: 0.0, 57: 0.0, 58: 0.0, 63: 0.0, 77: 0.225, 79: 0.225, 45: 0.0, 69: 0.0, 76: 0.0, 82: 0.225, 83: 0.225, 84: 0.225, 73: 0.15, 75: 0.15, 74: 0.15, 71: 0.0, 72: 0.0, 87: 0.1125, 85: 0.1125, 86: 0.1125, 2: 0.0, 630626: 0.0, 536346: 0.0, 510031: 0.0, 520660: 0.0, 552988: 0.0, 567195: 0.0, 527449: 0.0, 459381: 0.0, 595298: 0.0, 466907: 0.0, 589943: 0.0, 577992: 0.0, 537281: 0.0, 523927: 0.0, 580426: 0.0, 595581: 0.0, 642329: 0.0, 503701: 0.0, 571970: 0.0, 644226: 0.0, 632961: 0.0, 473173: 0.0, 620120: 0.0, 621924: 0.0, 616315: 0.0, 29: 0.0, 575030: 0.0, 31: 0.0, 503218: 0.0, 33: 0.0, 35: 0.0, 36: 0.0, 38: 0.0, 42: 0.0, 44: 0.0, 46: 0.0, 48: 0.0, 49: 0.0, 640784: 0.0, 606730: 0.0, 52: 0.0, 53: 0.0, 54: 0.0, 55: 0.0, 59: 0.0, 60: 0.0, 61: 0.0, 62: 0.0, 64: 0.0}, 81: {0: 0.0, -99: 0.0, 41: 0.0, 34: 0.0, 37: 0.0, 27: 0.0, 40: 0.0, 39: 0.0, 65: 0.0, 67: 0.0, 47: 0.0, 66: 0.0, 657187: 0.0, 78: 0.0, 81: 1, 80: 0.0, 70: 0.0, 43: 0.0, 56: 0.0, 57: 0.0, 58: 0.0, 63: 0.0, 77: 0.0, 79: 0.0, 45: 0.0, 69: 0.0, 76: 0.0, 82: 0.0, 83: 0.0, 84: 0.0, 73: 0.0, 75: 0.0, 74: 0.0, 71: 0.0, 72: 0.0, 87: 0.0, 85: 0.0, 86: 0.0, 2: 0.0, 630626: 0.0, 536346: 0.0, 510031: 0.0, 520660: 0.0, 552988: 0.0, 567195: 0.0, 527449: 0.0, 459381: 0.0, 595298: 0.0, 466907: 0.0, 589943: 0.0, 577992: 0.0, 537281: 0.0, 523927: 0.0, 580426: 0.0, 595581: 0.0, 642329: 0.0, 503701: 0.0, 571970: 0.0, 644226: 0.0, 632961: 0.0, 473173: 0.0, 620120: 0.0, 621924: 0.0, 616315: 0.0, 29: 0.0, 575030: 0.0, 31: 0.0, 503218: 0.0, 33: 0.0, 35: 0.0, 36: 0.0, 38: 0.0, 42: 0.0, 44: 0.0, 46: 0.0, 48: 0.0, 49: 0.0, 640784: 0.0, 606730: 0.0, 52: 0.0, 53: 0.0, 54: 0.0, 55: 0.0, 59: 0.0, 60: 0.0, 61: 0.0, 62: 0.0, 64: 0.0}, 80: {0: 0.0, -99: 0.0, 41: 0.013636363636363637, 34: 0.0, 37: 0.0, 27: 0.0, 40: 0.018000000000000002, 39: 0.01956521739130435, 65: 0.0, 67: 0.0, 47: 0.0, 66: 0.0, 657187: 0.0, 78: 0.225, 81: 0.0, 80: 1, 70: 0.0, 43: 0.0, 56: 0.0, 57: 0.0, 58: 0.0, 63: 0.0, 77: 0.225, 79: 0.225, 45: 0.0, 69: 0.0, 76: 0.0, 82: 0.225, 83: 0.225, 84: 0.225, 73: 0.15, 75: 0.15, 74: 0.15, 71: 0.0, 72: 0.0, 87: 0.1125, 85: 0.1125, 86: 0.1125, 2: 0.0, 630626: 0.0, 536346: 0.0, 510031: 0.0, 520660: 0.0, 552988: 0.0, 567195: 0.0, 527449: 0.0, 459381: 0.0, 595298: 0.0, 466907: 0.0, 589943: 0.0, 577992: 0.0, 537281: 0.0, 523927: 0.0, 580426: 0.0, 595581: 0.0, 642329: 0.0, 503701: 0.0, 571970: 0.0, 644226: 0.0, 632961: 0.0, 473173: 0.0, 620120: 0.0, 621924: 0.0, 616315: 0.0, 29: 0.0, 575030: 0.0, 31: 0.0, 503218: 0.0, 33: 0.0, 35: 0.0, 36: 0.0, 38: 0.0, 42: 0.0, 44: 0.0, 46: 0.0, 48: 0.0, 49: 0.0, 640784: 0.0, 606730: 0.0, 52: 0.0, 53: 0.0, 54: 0.0, 55: 0.0, 59: 0.0, 60: 0.0, 61: 0.0, 62: 0.0, 64: 0.0}, 70: {0: 0.0, -99: 0.0, 41: 0.0, 34: 0.0, 37: 0.0, 27: 0.0, 40: 0.0, 39: 0.0, 65: 0.0, 67: 0.0, 47: 0.0, 66: 0.0, 657187: 0.0, 78: 0.0, 81: 0.0, 80: 0.0, 70: 1, 43: 0.0, 56: 0.0, 57: 0.0, 58: 0.0, 63: 0.0, 77: 0.0, 79: 0.0, 45: 0.0, 69: 0.0, 76: 0.0, 82: 0.0, 83: 0.0, 84: 0.0, 73: 0.0, 75: 0.0, 74: 0.0, 71: 0.0, 72: 0.0, 87: 0.0, 85: 0.0, 86: 0.0, 2: 0.0, 630626: 0.0, 536346: 0.0, 510031: 0.0, 520660: 0.0, 552988: 0.0, 567195: 0.0, 527449: 0.0, 459381: 0.0, 595298: 0.0, 466907: 0.0, 589943: 0.0, 577992: 0.0, 537281: 0.0, 523927: 0.0, 580426: 0.0, 595581: 0.0, 642329: 0.0, 503701: 0.0, 571970: 0.0, 644226: 0.0, 632961: 0.0, 473173: 0.0, 620120: 0.0, 621924: 0.0, 616315: 0.0, 29: 0.0, 575030: 0.0, 31: 0.0, 503218: 0.0, 33: 0.0, 35: 0.0, 36: 0.0, 38: 0.0, 42: 0.0, 44: 0.0, 46: 0.0, 48: 0.0, 49: 0.0, 640784: 0.0, 606730: 0.0, 52: 0.0, 53: 0.0, 54: 0.0, 55: 0.0, 59: 0.0, 60: 0.0, 61: 0.0, 62: 0.0, 64: 0.0}, 43: {0: 0.025866978555569017, -99: 0.0, 41: 0.026875912256551452, 34: 0.031163962375037386, 37: 0.02807356524345705, 27: 0.025237902297738736, 40: 0.023454048306528655, 39: 0.018860793669461307, 65: 0.02267129564338247, 67: 0.016467072804279437, 47: 0.03013739406637683, 66: 0.0, 657187: 0.0, 78: 0.0, 81: 0.0, 80: 0.0, 70: 0.0, 43: 1, 56: 0.03144589965270515, 57: 0.025496474295951473, 58: 0.032060766380818194, 63: 0.029877487153264447, 77: 0.0, 79: 0.0, 45: 0.025802442036774648, 69: 0.0, 76: 0.0, 82: 0.0, 83: 0.0, 84: 0.0, 73: 0.0, 75: 0.0, 74: 0.0, 71: 0.0, 72: 0.0, 87: 0.0, 85: 0.0, 86: 0.0, 2: 0.024044208752536874, 630626: 0.0, 536346: 0.0, 510031: 0.015008361985728207, 520660: 0.0, 552988: 0.014049799607768238, 567195: 0.0, 527449: 0.0, 459381: 0.0, 595298: 0.0, 466907: 0.0, 589943: 0.0, 577992: 0.0, 537281: 0.0, 523927: 0.0, 580426: 0.0, 595581: 0.0, 642329: 0.0, 503701: 0.0, 571970: 0.0, 644226: 0.0, 632961: 0.0, 473173: 0.0, 620120: 0.015186990743112416, 621924: 0.0, 616315: 0.0, 29: 0.024573629627790562, 575030: 0.0, 31: 0.024044208752536874, 503218: 0.0, 33: 0.02784066276609533, 35: 0.03306078703473821, 36: 0.03308823529411765, 38: 0.03046875, 42: 0.031116034856224193, 44: 0.0307170370347382, 46: 0.026448629627790564, 48: 0.03306078703473821, 49: 0.02204052468982547, 640784: 0.0, 606730: 0.0, 52: 0.025866978555569017, 53: 0.029464285714285717, 54: 0.033321917209165365, 55: 0.03068181818181818, 59: 0.027764839503720752, 60: 0.03482142857142857, 61: 0.027304032919767292, 62: 0.031116034856224193, 64: 0.024498387797400663}, 56: {0: 0.023931226408674774, -99: 0.0, 41: 0.025569523968363865, 34: 0.030739516511393807, 37: 0.027971889257287642, 27: 0.028810111523173944, 40: 0.021899127182056225, 39: 0.02213843405509893, 65: 0.02253136890801437, 67: 0.016307275107441264, 47: 0.029813919774301798, 66: 0.0, 657187: 0.0, 78: 0.0, 81: 0.0, 80: 0.0, 70: 0.0, 43: 0.03144589965270515, 56: 1, 57: 0.024112141053936376, 58: 0.033540023863475724, 63: 0.032214162951802364, 77: 0.0, 79: 0.0, 45: 0.02672763388164997, 69: 0.0, 76: 0.0, 82: 0.0, 83: 0.0, 84: 0.0, 73: 0.0, 75: 0.0, 74: 0.0, 71: 0.0, 72: 0.0, 87: 0.0, 85: 0.0, 86: 0.0, 2: 0.02381473049979954, 630626: 0.0, 536346: 0.0, 510031: 0.015748655802067104, 520660: 0.0, 552988: 0.016716581684382774, 567195: 0.0, 527449: 0.0, 459381: 0.0, 595298: 0.0, 466907: 0.0, 589943: 0.0, 577992: 0.0, 537281: 0.0, 523927: 0.0, 580426: 0.0, 595581: 0.0, 642329: 0.0, 503701: 0.0, 571970: 0.0, 644226: 0.0, 632961: 0.0, 473173: 0.0, 620120: 0.0197589417881889, 621924: 0.0, 616315: 0.0, 29: 0.026196203549779494, 575030: 0.0, 31: 0.02224130392637297, 503218: 0.0, 33: 0.02757495110503105, 35: 0.03058179289876283, 36: 0.02850678733031674, 38: 0.025961538461538463, 42: 0.03285526209476321, 44: 0.028418331360301294, 46: 0.024465434319010264, 48: 0.028418331360301294, 49: 0.021830169624816247, 640784: 0.0, 606730: 0.0, 52: 0.022109364060496635, 53: 0.03461538461538462, 54: 0.030819062999740583, 55: 0.03146853146853147, 59: 0.030312886784321376, 60: 0.03214285714285714, 61: 0.029106892833088326, 62: 0.026746664809695335, 64: 0.022674266619650083}, 57: {0: 0.023096075317848894, -99: 0.0, 41: 0.019972054587320542, 34: 0.027369695120767815, 37: 0.029857972748386915, 27: 0.025717405417050497, 40: 0.01711526475370423, 39: 0.014467339757162637, 65: 0.023761116674905193, 67: 0.004424284946136723, 47: 0.024176279825705218, 66: 0.0, 657187: 0.0, 78: 0.0, 81: 0.0, 80: 0.0, 70: 0.0, 43: 0.02549647429595147, 56: 0.02411214105393637, 57: 1, 58: 0.028457538823696258, 63: 0.027504084685458154, 77: 0.0, 79: 0.0, 45: 0.026085024128442644, 69: 0.0, 76: 0.0, 82: 0.0, 83: 0.0, 84: 0.0, 73: 0.0, 75: 0.0, 74: 0.0, 71: 0.0, 72: 0.0, 87: 0.0, 85: 0.0, 86: 0.0, 2: 0.025589243730618712, 630626: 0.0, 536346: 0.0, 510031: 0.015686680039107604, 520660: 0.0, 552988: 0.014910663420498025, 567195: 0.0, 527449: 0.0, 459381: 0.0, 595298: 0.0, 466907: 0.0, 589943: 0.0, 577992: 0.0, 537281: 0.0, 523927: 0.0, 580426: 0.0, 595581: 0.0, 642329: 0.0, 503701: 0.0, 571970: 0.0, 644226: 0.0, 632961: 0.0, 473173: 0.0, 620120: 0.01424899816403616, 621924: 0.0, 616315: 0.0, 29: 0.021941271551956448, 575030: 0.0, 31: 0.02276792711619865, 503218: 0.0, 33: 0.021462681488447804, 35: 0.023547279095117973, 36: 0.023732251521298174, 38: 0.025215517241379312, 42: 0.02216214503069927, 44: 0.023547279095117973, 46: 0.021941271551956448, 48: 0.01966796875029039, 49: 0.023456806753067154, 640784: 0.0, 606730: 0.0, 52: 0.024729469147249983, 53: 0.022167487684729065, 54: 0.0239877028400299, 55: 0.0225705329153605, 59: 0.023048132184217793, 60: 0.022167487684729065, 61: 0.02265505268225046, 62: 0.02216214503069927, 64: 0.027638818458691157}, 58: {0: 0.0218259981587182, -99: 0.0, 41: 0.026509311855191134, 34: 0.03156870611025436, 37: 0.03138735863767063, 27: 0.02677548538079788, 40: 0.017712436031229545, 39: 0.020858060842197622, 65: 0.021932070883885203, 67: 0.019341667185344195, 47: 0.02895958768113244, 66: 0.0, 657187: 0.0, 78: 0.0, 81: 0.0, 80: 0.0, 70: 0.0, 43: 0.032060766380818194, 56: 0.033540023863475724, 57: 0.028457538823696258, 58: 1, 63: 0.03331279942033326, 77: 0.0, 79: 0.0, 45: 0.02867402048908544, 69: 0.0, 76: 0.0, 82: 0.0, 83: 0.0, 84: 0.0, 73: 0.0, 75: 0.0, 74: 0.0, 71: 0.0, 72: 0.0, 87: 0.0, 85: 0.0, 86: 0.0, 2: 0.022568733946992166, 630626: 0.0, 536346: 0.0, 510031: 0.01872466325189914, 520660: 0.0, 552988: 0.019873667291210362, 567195: 0.0, 527449: 0.0, 459381: 0.0, 595298: 0.0, 466907: 0.0, 589943: 0.0, 577992: 0.0, 537281: 0.0, 523927: 0.0, 580426: 0.0, 595581: 0.0, 642329: 0.0, 503701: 0.0, 571970: 0.0, 644226: 0.0, 632961: 0.0, 473173: 0.0, 620120: 0.018988304779656726, 621924: 0.0, 616315: 0.0, 29: 0.02278015279623684, 575030: 0.0, 31: 0.018849725682529357, 503218: 0.0, 33: 0.02397910820656509, 35: 0.03103200917711423, 36: 0.026470588235294117, 38: 0.02301136363636364, 42: 0.0292065968725781, 44: 0.03103200917711423, 46: 0.020734698250782294, 48: 0.023361554631659683, 49: 0.02068800611807615, 640784: 0.0, 606730: 0.0, 52: 0.02397910820656509, 53: 0.02922077922077922, 54: 0.031613013984877564, 55: 0.02975206611570248, 59: 0.03037353706164912, 60: 0.02922077922077922, 61: 0.025311280884707597, 62: 0.024393762647979166, 64: 0.0219873455356797}, 63: {0: 0.02576814354071345, -99: 0.0, 41: 0.02436052827929055, 34: 0.03189278175926528, 37: 0.029137823633693414, 27: 0.027403711543060528, 40: 0.021856668890587957, 39: 0.02061416890751725, 65: 0.022509566296176755, 67: 0.01609800351900174, 47: 0.02965641909728675, 66: 0.0, 657187: 0.0, 78: 0.0, 81: 0.0, 80: 0.0, 70: 0.0, 43: 0.02987748715326444, 56: 0.03221416295180236, 57: 0.027504084685458154, 58: 0.03331279942033326, 63: 1, 77: 0.0, 79: 0.0, 45: 0.026620751339165524, 69: 0.0, 76: 0.0, 82: 0.0, 83: 0.0, 84: 0.0, 73: 0.0, 75: 0.0, 74: 0.0, 71: 0.0, 72: 0.0, 87: 0.0, 85: 0.0, 86: 0.0, 2: 0.025401158932014764, 630626: 0.0, 536346: 0.0, 510031: 0.01746673445616347, 520660: 0.0, 552988: 0.01659584155273891, 567195: 0.0, 527449: 0.0, 459381: 0.0, 595298: 0.0, 466907: 0.0, 589943: 0.0, 577992: 0.0, 537281: 0.0, 523927: 0.0, 580426: 0.0, 595581: 0.0, 642329: 0.0, 503701: 0.0, 571970: 0.0, 644226: 0.0, 632961: 0.0, 473173: 0.0, 620120: 0.012104217259394512, 621924: 0.0, 616315: 0.0, 29: 0.02447973636367778, 575030: 0.0, 31: 0.02225430578516162, 503218: 0.0, 33: 0.02759000588889159, 35: 0.030599670454597223, 36: 0.030542986425339366, 38: 0.028125, 42: 0.028799689839620914, 44: 0.026272747377674148, 46: 0.02447973636367778, 48: 0.028436208916135686, 49: 0.021842087995372506, 640784: 0.0, 606730: 0.0, 52: 0.022124418844357174, 53: 0.03214285714285714, 54: 0.028799689839620914, 55: 0.03461538461538462, 59: 0.02802426386951909, 60: 0.03214285714285714, 61: 0.027199707070753087, 62: 0.028799689839620914, 64: 0.02472729164957567}, 77: {0: 0.0, -99: 0.0, 41: 0.013636363636363637, 34: 0.0, 37: 0.0, 27: 0.0, 40: 0.018000000000000002, 39: 0.01956521739130435, 65: 0.0, 67: 0.0, 47: 0.0, 66: 0.0, 657187: 0.0, 78: 0.225, 81: 0.0, 80: 0.225, 70: 0.0, 43: 0.0, 56: 0.0, 57: 0.0, 58: 0.0, 63: 0.0, 77: 1, 79: 0.225, 45: 0.0, 69: 0.0, 76: 0.0, 82: 0.225, 83: 0.225, 84: 0.225, 73: 0.15, 75: 0.15, 74: 0.15, 71: 0.0, 72: 0.0, 87: 0.1125, 85: 0.1125, 86: 0.1125, 2: 0.0, 630626: 0.0, 536346: 0.0, 510031: 0.0, 520660: 0.0, 552988: 0.0, 567195: 0.0, 527449: 0.0, 459381: 0.0, 595298: 0.0, 466907: 0.0, 589943: 0.0, 577992: 0.0, 537281: 0.0, 523927: 0.0, 580426: 0.0, 595581: 0.0, 642329: 0.0, 503701: 0.0, 571970: 0.0, 644226: 0.0, 632961: 0.0, 473173: 0.0, 620120: 0.0, 621924: 0.0, 616315: 0.0, 29: 0.0, 575030: 0.0, 31: 0.0, 503218: 0.0, 33: 0.0, 35: 0.0, 36: 0.0, 38: 0.0, 42: 0.0, 44: 0.0, 46: 0.0, 48: 0.0, 49: 0.0, 640784: 0.0, 606730: 0.0, 52: 0.0, 53: 0.0, 54: 0.0, 55: 0.0, 59: 0.0, 60: 0.0, 61: 0.0, 62: 0.0, 64: 0.0}, 79: {0: 0.0, -99: 0.0, 41: 0.013636363636363637, 34: 0.0, 37: 0.0, 27: 0.0, 40: 0.018000000000000002, 39: 0.01956521739130435, 65: 0.0, 67: 0.0, 47: 0.0, 66: 0.0, 657187: 0.0, 78: 0.225, 81: 0.0, 80: 0.225, 70: 0.0, 43: 0.0, 56: 0.0, 57: 0.0, 58: 0.0, 63: 0.0, 77: 0.225, 79: 1, 45: 0.0, 69: 0.0, 76: 0.0, 82: 0.225, 83: 0.225, 84: 0.225, 73: 0.15, 75: 0.15, 74: 0.15, 71: 0.0, 72: 0.0, 87: 0.1125, 85: 0.1125, 86: 0.1125, 2: 0.0, 630626: 0.0, 536346: 0.0, 510031: 0.0, 520660: 0.0, 552988: 0.0, 567195: 0.0, 527449: 0.0, 459381: 0.0, 595298: 0.0, 466907: 0.0, 589943: 0.0, 577992: 0.0, 537281: 0.0, 523927: 0.0, 580426: 0.0, 595581: 0.0, 642329: 0.0, 503701: 0.0, 571970: 0.0, 644226: 0.0, 632961: 0.0, 473173: 0.0, 620120: 0.0, 621924: 0.0, 616315: 0.0, 29: 0.0, 575030: 0.0, 31: 0.0, 503218: 0.0, 33: 0.0, 35: 0.0, 36: 0.0, 38: 0.0, 42: 0.0, 44: 0.0, 46: 0.0, 48: 0.0, 49: 0.0, 640784: 0.0, 606730: 0.0, 52: 0.0, 53: 0.0, 54: 0.0, 55: 0.0, 59: 0.0, 60: 0.0, 61: 0.0, 62: 0.0, 64: 0.0}, 45: {0: 0.027244267496619238, -99: 0.0, 41: 0.019822646493447994, 34: 0.02774606434529774, 37: 0.02894690963285037, 27: 0.027126852854457772, 40: 0.020001869647819064, 39: 0.018898101434283904, 65: 0.02677242570739013, 67: 0.013780998401648448, 47: 0.02679864719229167, 66: 0.0, 657187: 0.0, 78: 0.0, 81: 0.0, 80: 0.0, 70: 0.0, 43: 0.025802442036774644, 56: 0.026727633881649962, 57: 0.02608502412844265, 58: 0.02867402048908543, 63: 0.026620751339165527, 77: 0.0, 79: 0.0, 45: 1, 69: 0.0, 76: 0.0, 82: 0.0, 83: 0.0, 84: 0.0, 73: 0.0, 75: 0.0, 74: 0.0, 71: 0.0, 72: 0.0, 87: 0.0, 85: 0.0, 86: 0.0, 2: 0.02937329595487246, 630626: 0.0, 536346: 0.0, 510031: 0.010395548640378598, 520660: 0.0, 552988: 0.010423159542295092, 567195: 0.0, 527449: 0.0, 459381: 0.0, 595298: 0.0, 466907: 0.0, 589943: 0.0, 577992: 0.0, 537281: 0.0, 523927: 0.0, 580426: 0.0, 595581: 0.0, 642329: 0.0, 503701: 0.0, 571970: 0.0, 644226: 0.0, 632961: 0.0, 473173: 0.0, 620120: 0.008924867514960796, 621924: 0.0, 616315: 0.0, 29: 0.029096339836073994, 575030: 0.0, 31: 0.027912256993833498, 503218: 0.0, 33: 0.028935996819927513, 35: 0.028334710509378202, 36: 0.028361344537815126, 38: 0.030133928571428572, 42: 0.028558719134876964, 44: 0.03235256765223535, 46: 0.029096339836073994, 48: 0.028334710509378202, 49: 0.028264807006252137, 640784: 0.0, 606730: 0.0, 52: 0.030627726143235782, 53: 0.027551020408163266, 54: 0.03044947543739797, 55: 0.02922077922077922, 59: 0.030223691210003414, 60: 0.027551020408163266, 61: 0.028757837913098088, 62: 0.028558719134876964, 64: 0.03044947543739797}, 69: {0: 0.0, -99: 0.0, 41: 0.0, 34: 0.0, 37: 0.0, 27: 0.0, 40: 0.0, 39: 0.0, 65: 0.0, 67: 0.0, 47: 0.0, 66: 0.0, 657187: 0.0, 78: 0.0, 81: 0.0, 80: 0.0, 70: 0.0, 43: 0.0, 56: 0.0, 57: 0.0, 58: 0.0, 63: 0.0, 77: 0.0, 79: 0.0, 45: 0.0, 69: 1, 76: 0.0, 82: 0.0, 83: 0.0, 84: 0.0, 73: 0.0, 75: 0.0, 74: 0.0, 71: 0.0, 72: 0.0, 87: 0.0, 85: 0.0, 86: 0.0, 2: 0.0, 630626: 0.0, 536346: 0.0, 510031: 0.0, 520660: 0.0, 552988: 0.0, 567195: 0.0, 527449: 0.0, 459381: 0.0, 595298: 0.0, 466907: 0.0, 589943: 0.0, 577992: 0.0, 537281: 0.0, 523927: 0.0, 580426: 0.0, 595581: 0.0, 642329: 0.0, 503701: 0.0, 571970: 0.0, 644226: 0.0, 632961: 0.0, 473173: 0.0, 620120: 0.0, 621924: 0.0, 616315: 0.0, 29: 0.0, 575030: 0.0, 31: 0.0, 503218: 0.0, 33: 0.0, 35: 0.0, 36: 0.0, 38: 0.0, 42: 0.0, 44: 0.0, 46: 0.0, 48: 0.0, 49: 0.0, 640784: 0.0, 606730: 0.0, 52: 0.0, 53: 0.0, 54: 0.0, 55: 0.0, 59: 0.0, 60: 0.0, 61: 0.0, 62: 0.0, 64: 0.0}, 76: {0: 0.0, -99: 0.0, 41: 0.0, 34: 0.0, 37: 0.0, 27: 0.0, 40: 0.0, 39: 0.0, 65: 0.0, 67: 0.0, 47: 0.0, 66: 0.0, 657187: 0.0, 78: 0.0, 81: 0.0, 80: 0.0, 70: 0.0, 43: 0.0, 56: 0.0, 57: 0.0, 58: 0.0, 63: 0.0, 77: 0.0, 79: 0.0, 45: 0.0, 69: 0.0, 76: 1, 82: 0.0, 83: 0.0, 84: 0.0, 73: 0.0, 75: 0.0, 74: 0.0, 71: 0.0, 72: 0.0, 87: 0.0, 85: 0.0, 86: 0.0, 2: 0.0, 630626: 0.0, 536346: 0.0, 510031: 0.0, 520660: 0.0, 552988: 0.0, 567195: 0.0, 527449: 0.0, 459381: 0.0, 595298: 0.0, 466907: 0.0, 589943: 0.0, 577992: 0.0, 537281: 0.0, 523927: 0.0, 580426: 0.0, 595581: 0.0, 642329: 0.0, 503701: 0.0, 571970: 0.0, 644226: 0.0, 632961: 0.0, 473173: 0.0, 620120: 0.0, 621924: 0.0, 616315: 0.0, 29: 0.0, 575030: 0.0, 31: 0.0, 503218: 0.0, 33: 0.0, 35: 0.0, 36: 0.0, 38: 0.0, 42: 0.0, 44: 0.0, 46: 0.0, 48: 0.0, 49: 0.0, 640784: 0.0, 606730: 0.0, 52: 0.0, 53: 0.0, 54: 0.0, 55: 0.0, 59: 0.0, 60: 0.0, 61: 0.0, 62: 0.0, 64: 0.0}, 82: {0: 0.0, -99: 0.0, 41: 0.027272727272727275, 34: 0.0, 37: 0.0, 27: 0.0, 40: 0.036000000000000004, 39: 0.0391304347826087, 65: 0.0, 67: 0.0, 47: 0.0, 66: 0.0, 657187: 0.0, 78: 0.225, 81: 0.0, 80: 0.225, 70: 0.0, 43: 0.0, 56: 0.0, 57: 0.0, 58: 0.0, 63: 0.0, 77: 0.225, 79: 0.225, 45: 0.0, 69: 0.0, 76: 0.0, 82: 1, 83: 0.9, 84: 0.9, 73: 0.0, 75: 0.0, 74: 0.0, 71: 0.0, 72: 0.0, 87: 0.0, 85: 0.0, 86: 0.0, 2: 0.0, 630626: 0.0, 536346: 0.0, 510031: 0.0, 520660: 0.0, 552988: 0.0, 567195: 0.0, 527449: 0.0, 459381: 0.0, 595298: 0.0, 466907: 0.0, 589943: 0.0, 577992: 0.0, 537281: 0.0, 523927: 0.0, 580426: 0.0, 595581: 0.0, 642329: 0.0, 503701: 0.0, 571970: 0.0, 644226: 0.0, 632961: 0.0, 473173: 0.0, 620120: 0.0, 621924: 0.0, 616315: 0.0, 29: 0.0, 575030: 0.0, 31: 0.0, 503218: 0.0, 33: 0.0, 35: 0.0, 36: 0.0, 38: 0.0, 42: 0.0, 44: 0.0, 46: 0.0, 48: 0.0, 49: 0.0, 640784: 0.0, 606730: 0.0, 52: 0.0, 53: 0.0, 54: 0.0, 55: 0.0, 59: 0.0, 60: 0.0, 61: 0.0, 62: 0.0, 64: 0.0}, 83: {0: 0.0, -99: 0.0, 41: 0.027272727272727275, 34: 0.0, 37: 0.0, 27: 0.0, 40: 0.036000000000000004, 39: 0.0391304347826087, 65: 0.0, 67: 0.0, 47: 0.0, 66: 0.0, 657187: 0.0, 78: 0.225, 81: 0.0, 80: 0.225, 70: 0.0, 43: 0.0, 56: 0.0, 57: 0.0, 58: 0.0, 63: 0.0, 77: 0.225, 79: 0.225, 45: 0.0, 69: 0.0, 76: 0.0, 82: 0.9, 83: 1, 84: 0.9, 73: 0.0, 75: 0.0, 74: 0.0, 71: 0.0, 72: 0.0, 87: 0.0, 85: 0.0, 86: 0.0, 2: 0.0, 630626: 0.0, 536346: 0.0, 510031: 0.0, 520660: 0.0, 552988: 0.0, 567195: 0.0, 527449: 0.0, 459381: 0.0, 595298: 0.0, 466907: 0.0, 589943: 0.0, 577992: 0.0, 537281: 0.0, 523927: 0.0, 580426: 0.0, 595581: 0.0, 642329: 0.0, 503701: 0.0, 571970: 0.0, 644226: 0.0, 632961: 0.0, 473173: 0.0, 620120: 0.0, 621924: 0.0, 616315: 0.0, 29: 0.0, 575030: 0.0, 31: 0.0, 503218: 0.0, 33: 0.0, 35: 0.0, 36: 0.0, 38: 0.0, 42: 0.0, 44: 0.0, 46: 0.0, 48: 0.0, 49: 0.0, 640784: 0.0, 606730: 0.0, 52: 0.0, 53: 0.0, 54: 0.0, 55: 0.0, 59: 0.0, 60: 0.0, 61: 0.0, 62: 0.0, 64: 0.0}, 84: {0: 0.0, -99: 0.0, 41: 0.027272727272727275, 34: 0.0, 37: 0.0, 27: 0.0, 40: 0.036000000000000004, 39: 0.0391304347826087, 65: 0.0, 67: 0.0, 47: 0.0, 66: 0.0, 657187: 0.0, 78: 0.225, 81: 0.0, 80: 0.225, 70: 0.0, 43: 0.0, 56: 0.0, 57: 0.0, 58: 0.0, 63: 0.0, 77: 0.225, 79: 0.225, 45: 0.0, 69: 0.0, 76: 0.0, 82: 0.9, 83: 0.9, 84: 1, 73: 0.0, 75: 0.0, 74: 0.0, 71: 0.0, 72: 0.0, 87: 0.0, 85: 0.0, 86: 0.0, 2: 0.0, 630626: 0.0, 536346: 0.0, 510031: 0.0, 520660: 0.0, 552988: 0.0, 567195: 0.0, 527449: 0.0, 459381: 0.0, 595298: 0.0, 466907: 0.0, 589943: 0.0, 577992: 0.0, 537281: 0.0, 523927: 0.0, 580426: 0.0, 595581: 0.0, 642329: 0.0, 503701: 0.0, 571970: 0.0, 644226: 0.0, 632961: 0.0, 473173: 0.0, 620120: 0.0, 621924: 0.0, 616315: 0.0, 29: 0.0, 575030: 0.0, 31: 0.0, 503218: 0.0, 33: 0.0, 35: 0.0, 36: 0.0, 38: 0.0, 42: 0.0, 44: 0.0, 46: 0.0, 48: 0.0, 49: 0.0, 640784: 0.0, 606730: 0.0, 52: 0.0, 53: 0.0, 54: 0.0, 55: 0.0, 59: 0.0, 60: 0.0, 61: 0.0, 62: 0.0, 64: 0.0}, 73: {0: 0.0, -99: 0.0, 41: 0.018181818181818184, 34: 0.0, 37: 0.0, 27: 0.0, 40: 0.024, 39: 0.026086956521739132, 65: 0.0, 67: 0.0, 47: 0.0, 66: 0.0, 657187: 0.0, 78: 0.15, 81: 0.0, 80: 0.15, 70: 0.0, 43: 0.0, 56: 0.0, 57: 0.0, 58: 0.0, 63: 0.0, 77: 0.15, 79: 0.15, 45: 0.0, 69: 0.0, 76: 0.0, 82: 0.0, 83: 0.0, 84: 0.0, 73: 1, 75: 0.3, 74: 0.3, 71: 0.0, 72: 0.0, 87: 0.15, 85: 0.15, 86: 0.15, 2: 0.0, 630626: 0.0, 536346: 0.0, 510031: 0.0, 520660: 0.0, 552988: 0.0, 567195: 0.0, 527449: 0.0, 459381: 0.0, 595298: 0.0, 466907: 0.0, 589943: 0.0, 577992: 0.0, 537281: 0.0, 523927: 0.0, 580426: 0.0, 595581: 0.0, 642329: 0.0, 503701: 0.0, 571970: 0.0, 644226: 0.0, 632961: 0.0, 473173: 0.0, 620120: 0.0, 621924: 0.0, 616315: 0.0, 29: 0.0, 575030: 0.0, 31: 0.0, 503218: 0.0, 33: 0.0, 35: 0.0, 36: 0.0, 38: 0.0, 42: 0.0, 44: 0.0, 46: 0.0, 48: 0.0, 49: 0.0, 640784: 0.0, 606730: 0.0, 52: 0.0, 53: 0.0, 54: 0.0, 55: 0.0, 59: 0.0, 60: 0.0, 61: 0.0, 62: 0.0, 64: 0.0}, 75: {0: 0.0, -99: 0.0, 41: 0.018181818181818184, 34: 0.0, 37: 0.0, 27: 0.0, 40: 0.024, 39: 0.026086956521739132, 65: 0.0, 67: 0.0, 47: 0.0, 66: 0.0, 657187: 0.0, 78: 0.15, 81: 0.0, 80: 0.15, 70: 0.0, 43: 0.0, 56: 0.0, 57: 0.0, 58: 0.0, 63: 0.0, 77: 0.15, 79: 0.15, 45: 0.0, 69: 0.0, 76: 0.0, 82: 0.0, 83: 0.0, 84: 0.0, 73: 0.3, 75: 1, 74: 0.3, 71: 0.0, 72: 0.0, 87: 0.15, 85: 0.15, 86: 0.15, 2: 0.0, 630626: 0.0, 536346: 0.0, 510031: 0.0, 520660: 0.0, 552988: 0.0, 567195: 0.0, 527449: 0.0, 459381: 0.0, 595298: 0.0, 466907: 0.0, 589943: 0.0, 577992: 0.0, 537281: 0.0, 523927: 0.0, 580426: 0.0, 595581: 0.0, 642329: 0.0, 503701: 0.0, 571970: 0.0, 644226: 0.0, 632961: 0.0, 473173: 0.0, 620120: 0.0, 621924: 0.0, 616315: 0.0, 29: 0.0, 575030: 0.0, 31: 0.0, 503218: 0.0, 33: 0.0, 35: 0.0, 36: 0.0, 38: 0.0, 42: 0.0, 44: 0.0, 46: 0.0, 48: 0.0, 49: 0.0, 640784: 0.0, 606730: 0.0, 52: 0.0, 53: 0.0, 54: 0.0, 55: 0.0, 59: 0.0, 60: 0.0, 61: 0.0, 62: 0.0, 64: 0.0}, 74: {0: 0.0, -99: 0.0, 41: 0.018181818181818184, 34: 0.0, 37: 0.0, 27: 0.0, 40: 0.024, 39: 0.026086956521739132, 65: 0.0, 67: 0.0, 47: 0.0, 66: 0.0, 657187: 0.0, 78: 0.15, 81: 0.0, 80: 0.15, 70: 0.0, 43: 0.0, 56: 0.0, 57: 0.0, 58: 0.0, 63: 0.0, 77: 0.15, 79: 0.15, 45: 0.0, 69: 0.0, 76: 0.0, 82: 0.0, 83: 0.0, 84: 0.0, 73: 0.3, 75: 0.3, 74: 1, 71: 0.0, 72: 0.0, 87: 0.15, 85: 0.15, 86: 0.15, 2: 0.0, 630626: 0.0, 536346: 0.0, 510031: 0.0, 520660: 0.0, 552988: 0.0, 567195: 0.0, 527449: 0.0, 459381: 0.0, 595298: 0.0, 466907: 0.0, 589943: 0.0, 577992: 0.0, 537281: 0.0, 523927: 0.0, 580426: 0.0, 595581: 0.0, 642329: 0.0, 503701: 0.0, 571970: 0.0, 644226: 0.0, 632961: 0.0, 473173: 0.0, 620120: 0.0, 621924: 0.0, 616315: 0.0, 29: 0.0, 575030: 0.0, 31: 0.0, 503218: 0.0, 33: 0.0, 35: 0.0, 36: 0.0, 38: 0.0, 42: 0.0, 44: 0.0, 46: 0.0, 48: 0.0, 49: 0.0, 640784: 0.0, 606730: 0.0, 52: 0.0, 53: 0.0, 54: 0.0, 55: 0.0, 59: 0.0, 60: 0.0, 61: 0.0, 62: 0.0, 64: 0.0}, 71: {0: 0.0, -99: 0.0, 41: 0.0, 34: 0.0, 37: 0.0, 27: 0.0, 40: 0.0, 39: 0.0, 65: 0.0, 67: 0.0, 47: 0.0, 66: 0.0, 657187: 0.0, 78: 0.0, 81: 0.0, 80: 0.0, 70: 0.0, 43: 0.0, 56: 0.0, 57: 0.0, 58: 0.0, 63: 0.0, 77: 0.0, 79: 0.0, 45: 0.0, 69: 0.0, 76: 0.0, 82: 0.0, 83: 0.0, 84: 0.0, 73: 0.0, 75: 0.0, 74: 0.0, 71: 1, 72: 0.0, 87: 0.0, 85: 0.0, 86: 0.0, 2: 0.0, 630626: 0.0, 536346: 0.0, 510031: 0.0, 520660: 0.0, 552988: 0.0, 567195: 0.0, 527449: 0.0, 459381: 0.0, 595298: 0.0, 466907: 0.0, 589943: 0.0, 577992: 0.0, 537281: 0.0, 523927: 0.0, 580426: 0.0, 595581: 0.0, 642329: 0.0, 503701: 0.0, 571970: 0.0, 644226: 0.0, 632961: 0.0, 473173: 0.0, 620120: 0.0, 621924: 0.0, 616315: 0.0, 29: 0.0, 575030: 0.0, 31: 0.0, 503218: 0.0, 33: 0.0, 35: 0.0, 36: 0.0, 38: 0.0, 42: 0.0, 44: 0.0, 46: 0.0, 48: 0.0, 49: 0.0, 640784: 0.0, 606730: 0.0, 52: 0.0, 53: 0.0, 54: 0.0, 55: 0.0, 59: 0.0, 60: 0.0, 61: 0.0, 62: 0.0, 64: 0.0}, 72: {0: 0.0, -99: 0.0, 41: 0.0, 34: 0.0, 37: 0.0, 27: 0.0, 40: 0.0, 39: 0.0, 65: 0.0, 67: 0.0, 47: 0.0, 66: 0.0, 657187: 0.0, 78: 0.0, 81: 0.0, 80: 0.0, 70: 0.0, 43: 0.0, 56: 0.0, 57: 0.0, 58: 0.0, 63: 0.0, 77: 0.0, 79: 0.0, 45: 0.0, 69: 0.0, 76: 0.0, 82: 0.0, 83: 0.0, 84: 0.0, 73: 0.0, 75: 0.0, 74: 0.0, 71: 0.0, 72: 1, 87: 0.0, 85: 0.0, 86: 0.0, 2: 0.0, 630626: 0.0, 536346: 0.0, 510031: 0.0, 520660: 0.0, 552988: 0.0, 567195: 0.0, 527449: 0.0, 459381: 0.0, 595298: 0.0, 466907: 0.0, 589943: 0.0, 577992: 0.0, 537281: 0.0, 523927: 0.0, 580426: 0.0, 595581: 0.0, 642329: 0.0, 503701: 0.0, 571970: 0.0, 644226: 0.0, 632961: 0.0, 473173: 0.0, 620120: 0.0, 621924: 0.0, 616315: 0.0, 29: 0.0, 575030: 0.0, 31: 0.0, 503218: 0.0, 33: 0.0, 35: 0.0, 36: 0.0, 38: 0.0, 42: 0.0, 44: 0.0, 46: 0.0, 48: 0.0, 49: 0.0, 640784: 0.0, 606730: 0.0, 52: 0.0, 53: 0.0, 54: 0.0, 55: 0.0, 59: 0.0, 60: 0.0, 61: 0.0, 62: 0.0, 64: 0.0}, 87: {0: 0.0, -99: 0.0, 41: 0.020454545454545454, 34: 0.0, 37: 0.0, 27: 0.0, 40: 0.027, 39: 0.029347826086956522, 65: 0.0, 67: 0.0, 47: 0.0, 66: 0.0, 657187: 0.0, 78: 0.1125, 81: 0.0, 80: 0.1125, 70: 0.0, 43: 0.0, 56: 0.0, 57: 0.0, 58: 0.0, 63: 0.0, 77: 0.1125, 79: 0.1125, 45: 0.0, 69: 0.0, 76: 0.0, 82: 0.0, 83: 0.0, 84: 0.0, 73: 0.15, 75: 0.15, 74: 0.15, 71: 0.0, 72: 0.0, 87: 1, 85: 0.225, 86: 0.225, 2: 0.0, 630626: 0.0, 536346: 0.0, 510031: 0.0, 520660: 0.0, 552988: 0.0, 567195: 0.0, 527449: 0.0, 459381: 0.0, 595298: 0.0, 466907: 0.0, 589943: 0.0, 577992: 0.0, 537281: 0.0, 523927: 0.0, 580426: 0.0, 595581: 0.0, 642329: 0.0, 503701: 0.0, 571970: 0.0, 644226: 0.0, 632961: 0.0, 473173: 0.0, 620120: 0.0, 621924: 0.0, 616315: 0.0, 29: 0.0, 575030: 0.0, 31: 0.0, 503218: 0.0, 33: 0.0, 35: 0.0, 36: 0.0, 38: 0.0, 42: 0.0, 44: 0.0, 46: 0.0, 48: 0.0, 49: 0.0, 640784: 0.0, 606730: 0.0, 52: 0.0, 53: 0.0, 54: 0.0, 55: 0.0, 59: 0.0, 60: 0.0, 61: 0.0, 62: 0.0, 64: 0.0}, 85: {0: 0.0, -99: 0.0, 41: 0.020454545454545454, 34: 0.0, 37: 0.0, 27: 0.0, 40: 0.027, 39: 0.029347826086956522, 65: 0.0, 67: 0.0, 47: 0.0, 66: 0.0, 657187: 0.0, 78: 0.1125, 81: 0.0, 80: 0.1125, 70: 0.0, 43: 0.0, 56: 0.0, 57: 0.0, 58: 0.0, 63: 0.0, 77: 0.1125, 79: 0.1125, 45: 0.0, 69: 0.0, 76: 0.0, 82: 0.0, 83: 0.0, 84: 0.0, 73: 0.15, 75: 0.15, 74: 0.15, 71: 0.0, 72: 0.0, 87: 0.225, 85: 1, 86: 0.225, 2: 0.0, 630626: 0.0, 536346: 0.0, 510031: 0.0, 520660: 0.0, 552988: 0.0, 567195: 0.0, 527449: 0.0, 459381: 0.0, 595298: 0.0, 466907: 0.0, 589943: 0.0, 577992: 0.0, 537281: 0.0, 523927: 0.0, 580426: 0.0, 595581: 0.0, 642329: 0.0, 503701: 0.0, 571970: 0.0, 644226: 0.0, 632961: 0.0, 473173: 0.0, 620120: 0.0, 621924: 0.0, 616315: 0.0, 29: 0.0, 575030: 0.0, 31: 0.0, 503218: 0.0, 33: 0.0, 35: 0.0, 36: 0.0, 38: 0.0, 42: 0.0, 44: 0.0, 46: 0.0, 48: 0.0, 49: 0.0, 640784: 0.0, 606730: 0.0, 52: 0.0, 53: 0.0, 54: 0.0, 55: 0.0, 59: 0.0, 60: 0.0, 61: 0.0, 62: 0.0, 64: 0.0}, 86: {0: 0.0, -99: 0.0, 41: 0.020454545454545454, 34: 0.0, 37: 0.0, 27: 0.0, 40: 0.027, 39: 0.029347826086956522, 65: 0.0, 67: 0.0, 47: 0.0, 66: 0.0, 657187: 0.0, 78: 0.1125, 81: 0.0, 80: 0.1125, 70: 0.0, 43: 0.0, 56: 0.0, 57: 0.0, 58: 0.0, 63: 0.0, 77: 0.1125, 79: 0.1125, 45: 0.0, 69: 0.0, 76: 0.0, 82: 0.0, 83: 0.0, 84: 0.0, 73: 0.15, 75: 0.15, 74: 0.15, 71: 0.0, 72: 0.0, 87: 0.225, 85: 0.225, 86: 1, 2: 0.0, 630626: 0.0, 536346: 0.0, 510031: 0.0, 520660: 0.0, 552988: 0.0, 567195: 0.0, 527449: 0.0, 459381: 0.0, 595298: 0.0, 466907: 0.0, 589943: 0.0, 577992: 0.0, 537281: 0.0, 523927: 0.0, 580426: 0.0, 595581: 0.0, 642329: 0.0, 503701: 0.0, 571970: 0.0, 644226: 0.0, 632961: 0.0, 473173: 0.0, 620120: 0.0, 621924: 0.0, 616315: 0.0, 29: 0.0, 575030: 0.0, 31: 0.0, 503218: 0.0, 33: 0.0, 35: 0.0, 36: 0.0, 38: 0.0, 42: 0.0, 44: 0.0, 46: 0.0, 48: 0.0, 49: 0.0, 640784: 0.0, 606730: 0.0, 52: 0.0, 53: 0.0, 54: 0.0, 55: 0.0, 59: 0.0, 60: 0.0, 61: 0.0, 62: 0.0, 64: 0.0}, 2: {0: 0.03660287081339713, -99: 0.0, 41: 0.016321555753639357, 34: 0.025371283839347, 37: 0.024779850440894514, 27: 0.026507979055131907, 40: 0.022969255944615897, 39: 0.0231851063195191, 65: 0.03152054034209333, 67: 0.0003105774881402176, 47: 0.022261734443020955, 66: 0.0, 657187: 0.0, 78: 0.0, 81: 0.0, 80: 0.0, 70: 0.0, 43: 0.024044208752536874, 56: 0.02381473049979954, 57: 0.02558924373061872, 58: 0.022568733946992166, 63: 0.025401158932014757, 77: 0.0, 79: 0.0, 45: 0.029373295954872466, 69: 0.0, 76: 0.0, 82: 0.0, 83: 0.0, 84: 0.0, 73: 0.0, 75: 0.0, 74: 0.0, 71: 0.0, 72: 0.0, 87: 0.0, 85: 0.0, 86: 0.0, 2: 1, 630626: 0.0, 536346: 0.0, 510031: 0.00021155154741665864, 520660: 0.0, 552988: 0.00021836794742141548, 567195: 0.0, 527449: 0.0, 459381: 0.0, 595298: 0.0, 466907: 0.0, 589943: 0.0, 577992: 0.0, 537281: 0.0, 523927: 0.0, 580426: 0.0, 595581: 0.0, 642329: 0.0, 503701: 0.0, 571970: 0.0, 644226: 0.0, 632961: 0.0, 473173: 0.0, 620120: 0.0001945845949435303, 621924: 0.0, 616315: 0.0, 29: 0.03681818181818182, 575030: 0.0, 31: 0.035330578512396696, 503218: 0.0, 33: 0.03660287081339713, 35: 0.03835227272727273, 36: 0.03609625668449198, 38: 0.03835227272727273, 42: 0.03850267379679144, 44: 0.03579545454545455, 46: 0.03681818181818182, 48: 0.03579545454545455, 49: 0.034090909090909095, 640784: 0.0, 606730: 0.0, 52: 0.03660287081339713, 53: 0.037987012987012986, 54: 0.03609625668449198, 55: 0.0371900826446281, 59: 0.038181818181818185, 60: 0.03506493506493506, 61: 0.038636363636363635, 62: 0.03850267379679144, 64: 0.04090909090909091}, 630626: {0: 0.0, -99: 0.0, 41: 0.0, 34: 0.0, 37: 0.0, 27: 0.0, 40: 0.0, 39: 0.0, 65: 0.0, 67: 0.0, 47: 0.0, 66: 0.0, 657187: 0.0, 78: 0.0, 81: 0.0, 80: 0.0, 70: 0.0, 43: 0.0, 56: 0.0, 57: 0.0, 58: 0.0, 63: 0.0, 77: 0.0, 79: 0.0, 45: 0.0, 69: 0.0, 76: 0.0, 82: 0.0, 83: 0.0, 84: 0.0, 73: 0.0, 75: 0.0, 74: 0.0, 71: 0.0, 72: 0.0, 87: 0.0, 85: 0.0, 86: 0.0, 2: 0.0, 630626: 1, 536346: 0.0, 510031: 0.0, 520660: 0.0, 552988: 0.0, 567195: 0.0, 527449: 0.0, 459381: 0.0, 595298: 0.0, 466907: 0.0, 589943: 0.0, 577992: 0.0, 537281: 0.0, 523927: 0.0, 580426: 0.0, 595581: 0.0, 642329: 0.0, 503701: 0.0, 571970: 0.0, 644226: 0.0, 632961: 0.0, 473173: 0.0, 620120: 0.0, 621924: 0.0, 616315: 0.0, 29: 0.0, 575030: 0.0, 31: 0.0, 503218: 0.0, 33: 0.0, 35: 0.0, 36: 0.0, 38: 0.0, 42: 0.0, 44: 0.0, 46: 0.0, 48: 0.0, 49: 0.0, 640784: 0.0, 606730: 0.0, 52: 0.0, 53: 0.0, 54: 0.0, 55: 0.0, 59: 0.0, 60: 0.0, 61: 0.0, 62: 0.0, 64: 0.0}, 536346: {0: 0.0, -99: 0.0, 41: 0.0, 34: 0.0, 37: 0.0, 27: 0.0, 40: 0.0, 39: 0.0, 65: 0.0, 67: 0.0, 47: 0.0, 66: 0.0, 657187: 0.0, 78: 0.0, 81: 0.0, 80: 0.0, 70: 0.0, 43: 0.0, 56: 0.0, 57: 0.0, 58: 0.0, 63: 0.0, 77: 0.0, 79: 0.0, 45: 0.0, 69: 0.0, 76: 0.0, 82: 0.0, 83: 0.0, 84: 0.0, 73: 0.0, 75: 0.0, 74: 0.0, 71: 0.0, 72: 0.0, 87: 0.0, 85: 0.0, 86: 0.0, 2: 0.0, 630626: 0.0, 536346: 1, 510031: 0.0, 520660: 0.0, 552988: 0.0, 567195: 0.0, 527449: 0.0, 459381: 0.0, 595298: 0.0, 466907: 0.0, 589943: 0.0, 577992: 0.0, 537281: 0.0, 523927: 0.0, 580426: 0.0, 595581: 0.0, 642329: 0.0, 503701: 0.0, 571970: 0.0, 644226: 0.0, 632961: 0.0, 473173: 0.0, 620120: 0.0, 621924: 0.0, 616315: 0.0, 29: 0.0, 575030: 0.0, 31: 0.0, 503218: 0.0, 33: 0.0, 35: 0.0, 36: 0.0, 38: 0.0, 42: 0.0, 44: 0.0, 46: 0.0, 48: 0.0, 49: 0.0, 640784: 0.0, 606730: 0.0, 52: 0.0, 53: 0.0, 54: 0.0, 55: 0.0, 59: 0.0, 60: 0.0, 61: 0.0, 62: 0.0, 64: 0.0}, 510031: {0: 0.0002449544233245521, -99: 0.0, 41: 0.019133726281633782, 34: 0.016712225761808287, 37: 0.01823193026658597, 27: 0.014615613904693025, 40: 0.0076277194207271725, 39: 0.0045959131747135154, 65: 0.007411292548257387, 67: 0.014854612437211728, 47: 0.017662940127879685, 66: 0.0, 657187: 0.0, 78: 0.0, 81: 0.0, 80: 0.0, 70: 0.0, 43: 0.015008361985728214, 56: 0.015748655802067107, 57: 0.015686680039107607, 58: 0.018724663251899143, 63: 0.017466734456163476, 77: 0.0, 79: 0.0, 45: 0.010395548640378604, 69: 0.0, 76: 0.0, 82: 0.0, 83: 0.0, 84: 0.0, 73: 0.0, 75: 0.0, 74: 0.0, 71: 0.0, 72: 0.0, 87: 0.0, 85: 0.0, 86: 0.0, 2: 0.00021155154741665864, 630626: 0.0, 536346: 0.0, 510031: 1, 520660: 0.0, 552988: 0.05231014116084634, 567195: 0.0, 527449: 0.0, 459381: 0.0, 595298: 0.0, 466907: 0.0, 589943: 0.0, 577992: 0.0, 537281: 0.0, 523927: 0.0, 580426: 0.0, 595581: 0.0, 642329: 0.0, 503701: 0.0, 571970: 0.0, 644226: 0.0, 632961: 0.0, 473173: 0.0, 620120: 0.05532607683263005, 621924: 0.0, 616315: 0.0, 29: 0.00023270670215832452, 575030: 0.0, 31: 0.00021155154741665864, 503218: 0.0, 33: 0.0002449544233245521, 35: 0.0002908833776979056, 36: 0.0, 38: 0.0, 42: 0.0002737725907744994, 44: 0.0002908833776979056, 46: 0.00023270670215832452, 48: 0.0002908833776979056, 49: 0.00019392225179860374, 640784: 0.0, 606730: 0.0, 52: 0.0002449544233245521, 53: 0.0, 54: 0.0002737725907744994, 55: 0.0, 59: 0.000310275602877766, 60: 0.0, 61: 0.00025856300239813834, 62: 0.0002737725907744994, 64: 0.0002737725907744994}, 520660: {0: 0.0, -99: 0.0, 41: 0.0, 34: 0.0, 37: 0.0, 27: 0.0, 40: 0.0, 39: 0.0, 65: 0.0, 67: 0.0, 47: 0.0, 66: 0.0, 657187: 0.0, 78: 0.0, 81: 0.0, 80: 0.0, 70: 0.0, 43: 0.0, 56: 0.0, 57: 0.0, 58: 0.0, 63: 0.0, 77: 0.0, 79: 0.0, 45: 0.0, 69: 0.0, 76: 0.0, 82: 0.0, 83: 0.0, 84: 0.0, 73: 0.0, 75: 0.0, 74: 0.0, 71: 0.0, 72: 0.0, 87: 0.0, 85: 0.0, 86: 0.0, 2: 0.0, 630626: 0.0, 536346: 0.0, 510031: 0.0, 520660: 1, 552988: 0.0, 567195: 0.0, 527449: 0.0, 459381: 0.0, 595298: 0.0, 466907: 0.0, 589943: 0.0, 577992: 0.0, 537281: 0.0, 523927: 0.0, 580426: 0.0, 595581: 0.0, 642329: 0.0, 503701: 0.0, 571970: 0.0, 644226: 0.0, 632961: 0.0, 473173: 0.0, 620120: 0.0, 621924: 0.0, 616315: 0.0, 29: 0.0, 575030: 0.0, 31: 0.0, 503218: 0.0, 33: 0.0, 35: 0.0, 36: 0.0, 38: 0.0, 42: 0.0, 44: 0.0, 46: 0.0, 48: 0.0, 49: 0.0, 640784: 0.0, 606730: 0.0, 52: 0.0, 53: 0.0, 54: 0.0, 55: 0.0, 59: 0.0, 60: 0.0, 61: 0.0, 62: 0.0, 64: 0.0}, 552988: {0: 0.0002528470970142706, -99: 0.0, 41: 0.020624145336156828, 34: 0.014912545434714467, 37: 0.017318437282963464, 27: 0.015524484006035935, 40: 0.007595167665846811, 39: 0.00455974933218178, 65: 0.00737902086205755, 67: 0.031010216227581832, 47: 0.016782697564903727, 66: 0.0, 657187: 0.0, 78: 0.0, 81: 0.0, 80: 0.0, 70: 0.0, 43: 0.014049799607768245, 56: 0.016716581684382767, 57: 0.014910663420498004, 58: 0.01987366729121036, 63: 0.016595841552738903, 77: 0.0, 79: 0.0, 45: 0.010423159542295082, 69: 0.0, 76: 0.0, 82: 0.0, 83: 0.0, 84: 0.0, 73: 0.0, 75: 0.0, 74: 0.0, 71: 0.0, 72: 0.0, 87: 0.0, 85: 0.0, 86: 0.0, 2: 0.00021836794742141548, 630626: 0.0, 536346: 0.0, 510031: 0.05231014116084637, 520660: 0.0, 552988: 1, 567195: 0.0, 527449: 0.0, 459381: 0.0, 595298: 0.0, 466907: 0.0, 589943: 0.0, 577992: 0.0, 537281: 0.0, 523927: 0.0, 580426: 0.0, 595581: 0.0, 642329: 0.0, 503701: 0.0, 571970: 0.0, 644226: 0.0, 632961: 0.0, 473173: 0.0, 620120: 0.05248162805225905, 621924: 0.0, 616315: 0.0, 29: 0.00024020474216355706, 575030: 0.0, 31: 0.00021836794742141548, 503218: 0.0, 33: 0.0002528470970142706, 35: 0.00030025592770444633, 36: 0.0, 38: 0.0, 42: 0.0002825938143100671, 44: 0.00030025592770444633, 46: 0.00024020474216355706, 48: 0.00030025592770444633, 49: 0.00020017061846963087, 640784: 0.0, 606730: 0.0, 52: 0.0002528470970142706, 53: 0.0, 54: 0.0002825938143100671, 55: 0.0, 59: 0.0003202729895514094, 60: 0.0, 61: 0.00026689415795950783, 62: 0.0002825938143100671, 64: 0.0002825938143100671}, 567195: {0: 0.0, -99: 0.0, 41: 0.0, 34: 0.0, 37: 0.0, 27: 0.0, 40: 0.0, 39: 0.0, 65: 0.0, 67: 0.0, 47: 0.0, 66: 0.0, 657187: 0.0, 78: 0.0, 81: 0.0, 80: 0.0, 70: 0.0, 43: 0.0, 56: 0.0, 57: 0.0, 58: 0.0, 63: 0.0, 77: 0.0, 79: 0.0, 45: 0.0, 69: 0.0, 76: 0.0, 82: 0.0, 83: 0.0, 84: 0.0, 73: 0.0, 75: 0.0, 74: 0.0, 71: 0.0, 72: 0.0, 87: 0.0, 85: 0.0, 86: 0.0, 2: 0.0, 630626: 0.0, 536346: 0.0, 510031: 0.0, 520660: 0.0, 552988: 0.0, 567195: 1, 527449: 0.0, 459381: 0.0, 595298: 0.0, 466907: 0.0, 589943: 0.0, 577992: 0.0, 537281: 0.0, 523927: 0.0, 580426: 0.0, 595581: 0.0, 642329: 0.0, 503701: 0.0, 571970: 0.0, 644226: 0.0, 632961: 0.0, 473173: 0.0, 620120: 0.0, 621924: 0.0, 616315: 0.0, 29: 0.0, 575030: 0.0, 31: 0.0, 503218: 0.0, 33: 0.0, 35: 0.0, 36: 0.0, 38: 0.0, 42: 0.0, 44: 0.0, 46: 0.0, 48: 0.0, 49: 0.0, 640784: 0.0, 606730: 0.0, 52: 0.0, 53: 0.0, 54: 0.0, 55: 0.0, 59: 0.0, 60: 0.0, 61: 0.0, 62: 0.0, 64: 0.0}, 527449: {0: 0.0, -99: 0.0, 41: 0.0, 34: 0.0, 37: 0.0, 27: 0.0, 40: 0.0, 39: 0.0, 65: 0.0, 67: 0.0, 47: 0.0, 66: 0.0, 657187: 0.0, 78: 0.0, 81: 0.0, 80: 0.0, 70: 0.0, 43: 0.0, 56: 0.0, 57: 0.0, 58: 0.0, 63: 0.0, 77: 0.0, 79: 0.0, 45: 0.0, 69: 0.0, 76: 0.0, 82: 0.0, 83: 0.0, 84: 0.0, 73: 0.0, 75: 0.0, 74: 0.0, 71: 0.0, 72: 0.0, 87: 0.0, 85: 0.0, 86: 0.0, 2: 0.0, 630626: 0.0, 536346: 0.0, 510031: 0.0, 520660: 0.0, 552988: 0.0, 567195: 0.0, 527449: 1, 459381: 0.0, 595298: 0.0, 466907: 0.0, 589943: 0.0, 577992: 0.0, 537281: 0.0, 523927: 0.0, 580426: 0.0, 595581: 0.0, 642329: 0.0, 503701: 0.0, 571970: 0.0, 644226: 0.0, 632961: 0.0, 473173: 0.0, 620120: 0.0, 621924: 0.0, 616315: 0.0, 29: 0.0, 575030: 0.0, 31: 0.0, 503218: 0.0, 33: 0.0, 35: 0.0, 36: 0.0, 38: 0.0, 42: 0.0, 44: 0.0, 46: 0.0, 48: 0.0, 49: 0.0, 640784: 0.0, 606730: 0.0, 52: 0.0, 53: 0.0, 54: 0.0, 55: 0.0, 59: 0.0, 60: 0.0, 61: 0.0, 62: 0.0, 64: 0.0}, 459381: {0: 0.0, -99: 0.0, 41: 0.0, 34: 0.0, 37: 0.0, 27: 0.0, 40: 0.0, 39: 0.0, 65: 0.0, 67: 0.0, 47: 0.0, 66: 0.0, 657187: 0.0, 78: 0.0, 81: 0.0, 80: 0.0, 70: 0.0, 43: 0.0, 56: 0.0, 57: 0.0, 58: 0.0, 63: 0.0, 77: 0.0, 79: 0.0, 45: 0.0, 69: 0.0, 76: 0.0, 82: 0.0, 83: 0.0, 84: 0.0, 73: 0.0, 75: 0.0, 74: 0.0, 71: 0.0, 72: 0.0, 87: 0.0, 85: 0.0, 86: 0.0, 2: 0.0, 630626: 0.0, 536346: 0.0, 510031: 0.0, 520660: 0.0, 552988: 0.0, 567195: 0.0, 527449: 0.0, 459381: 1, 595298: 0.0, 466907: 0.0, 589943: 0.0, 577992: 0.0, 537281: 0.0, 523927: 0.0, 580426: 0.0, 595581: 0.0, 642329: 0.0, 503701: 0.0, 571970: 0.0, 644226: 0.0, 632961: 0.0, 473173: 0.0, 620120: 0.0, 621924: 0.0, 616315: 0.0, 29: 0.0, 575030: 0.0, 31: 0.0, 503218: 0.0, 33: 0.0, 35: 0.0, 36: 0.0, 38: 0.0, 42: 0.0, 44: 0.0, 46: 0.0, 48: 0.0, 49: 0.0, 640784: 0.0, 606730: 0.0, 52: 0.0, 53: 0.0, 54: 0.0, 55: 0.0, 59: 0.0, 60: 0.0, 61: 0.0, 62: 0.0, 64: 0.0}, 595298: {0: 0.0, -99: 0.0, 41: 0.0, 34: 0.0, 37: 0.0, 27: 0.0, 40: 0.0, 39: 0.0, 65: 0.0, 67: 0.0, 47: 0.0, 66: 0.0, 657187: 0.0, 78: 0.0, 81: 0.0, 80: 0.0, 70: 0.0, 43: 0.0, 56: 0.0, 57: 0.0, 58: 0.0, 63: 0.0, 77: 0.0, 79: 0.0, 45: 0.0, 69: 0.0, 76: 0.0, 82: 0.0, 83: 0.0, 84: 0.0, 73: 0.0, 75: 0.0, 74: 0.0, 71: 0.0, 72: 0.0, 87: 0.0, 85: 0.0, 86: 0.0, 2: 0.0, 630626: 0.0, 536346: 0.0, 510031: 0.0, 520660: 0.0, 552988: 0.0, 567195: 0.0, 527449: 0.0, 459381: 0.0, 595298: 1, 466907: 0.0, 589943: 0.0, 577992: 0.0, 537281: 0.0, 523927: 0.0, 580426: 0.0, 595581: 0.0, 642329: 0.0, 503701: 0.0, 571970: 0.0, 644226: 0.0, 632961: 0.0, 473173: 0.0, 620120: 0.0, 621924: 0.0, 616315: 0.0, 29: 0.0, 575030: 0.0, 31: 0.0, 503218: 0.0, 33: 0.0, 35: 0.0, 36: 0.0, 38: 0.0, 42: 0.0, 44: 0.0, 46: 0.0, 48: 0.0, 49: 0.0, 640784: 0.0, 606730: 0.0, 52: 0.0, 53: 0.0, 54: 0.0, 55: 0.0, 59: 0.0, 60: 0.0, 61: 0.0, 62: 0.0, 64: 0.0}, 466907: {0: 0.0, -99: 0.0, 41: 0.0, 34: 0.0, 37: 0.0, 27: 0.0, 40: 0.0, 39: 0.0, 65: 0.0, 67: 0.0, 47: 0.0, 66: 0.0, 657187: 0.0, 78: 0.0, 81: 0.0, 80: 0.0, 70: 0.0, 43: 0.0, 56: 0.0, 57: 0.0, 58: 0.0, 63: 0.0, 77: 0.0, 79: 0.0, 45: 0.0, 69: 0.0, 76: 0.0, 82: 0.0, 83: 0.0, 84: 0.0, 73: 0.0, 75: 0.0, 74: 0.0, 71: 0.0, 72: 0.0, 87: 0.0, 85: 0.0, 86: 0.0, 2: 0.0, 630626: 0.0, 536346: 0.0, 510031: 0.0, 520660: 0.0, 552988: 0.0, 567195: 0.0, 527449: 0.0, 459381: 0.0, 595298: 0.0, 466907: 1, 589943: 0.0, 577992: 0.0, 537281: 0.0, 523927: 0.0, 580426: 0.0, 595581: 0.0, 642329: 0.0, 503701: 0.0, 571970: 0.0, 644226: 0.0, 632961: 0.0, 473173: 0.0, 620120: 0.0, 621924: 0.0, 616315: 0.0, 29: 0.0, 575030: 0.0, 31: 0.0, 503218: 0.0, 33: 0.0, 35: 0.0, 36: 0.0, 38: 0.0, 42: 0.0, 44: 0.0, 46: 0.0, 48: 0.0, 49: 0.0, 640784: 0.0, 606730: 0.0, 52: 0.0, 53: 0.0, 54: 0.0, 55: 0.0, 59: 0.0, 60: 0.0, 61: 0.0, 62: 0.0, 64: 0.0}, 589943: {0: 0.0, -99: 0.0, 41: 0.0, 34: 0.0, 37: 0.0, 27: 0.0, 40: 0.0, 39: 0.0, 65: 0.0, 67: 0.0, 47: 0.0, 66: 0.0, 657187: 0.0, 78: 0.0, 81: 0.0, 80: 0.0, 70: 0.0, 43: 0.0, 56: 0.0, 57: 0.0, 58: 0.0, 63: 0.0, 77: 0.0, 79: 0.0, 45: 0.0, 69: 0.0, 76: 0.0, 82: 0.0, 83: 0.0, 84: 0.0, 73: 0.0, 75: 0.0, 74: 0.0, 71: 0.0, 72: 0.0, 87: 0.0, 85: 0.0, 86: 0.0, 2: 0.0, 630626: 0.0, 536346: 0.0, 510031: 0.0, 520660: 0.0, 552988: 0.0, 567195: 0.0, 527449: 0.0, 459381: 0.0, 595298: 0.0, 466907: 0.0, 589943: 1, 577992: 0.0, 537281: 0.0, 523927: 0.0, 580426: 0.0, 595581: 0.0, 642329: 0.0, 503701: 0.0, 571970: 0.0, 644226: 0.0, 632961: 0.0, 473173: 0.0, 620120: 0.0, 621924: 0.0, 616315: 0.0, 29: 0.0, 575030: 0.0, 31: 0.0, 503218: 0.0, 33: 0.0, 35: 0.0, 36: 0.0, 38: 0.0, 42: 0.0, 44: 0.0, 46: 0.0, 48: 0.0, 49: 0.0, 640784: 0.0, 606730: 0.0, 52: 0.0, 53: 0.0, 54: 0.0, 55: 0.0, 59: 0.0, 60: 0.0, 61: 0.0, 62: 0.0, 64: 0.0}, 577992: {0: 0.0, -99: 0.0, 41: 0.0, 34: 0.0, 37: 0.0, 27: 0.0, 40: 0.0, 39: 0.0, 65: 0.0, 67: 0.0, 47: 0.0, 66: 0.0, 657187: 0.0, 78: 0.0, 81: 0.0, 80: 0.0, 70: 0.0, 43: 0.0, 56: 0.0, 57: 0.0, 58: 0.0, 63: 0.0, 77: 0.0, 79: 0.0, 45: 0.0, 69: 0.0, 76: 0.0, 82: 0.0, 83: 0.0, 84: 0.0, 73: 0.0, 75: 0.0, 74: 0.0, 71: 0.0, 72: 0.0, 87: 0.0, 85: 0.0, 86: 0.0, 2: 0.0, 630626: 0.0, 536346: 0.0, 510031: 0.0, 520660: 0.0, 552988: 0.0, 567195: 0.0, 527449: 0.0, 459381: 0.0, 595298: 0.0, 466907: 0.0, 589943: 0.0, 577992: 1, 537281: 0.0, 523927: 0.0, 580426: 0.0, 595581: 0.0, 642329: 0.0, 503701: 0.0, 571970: 0.0, 644226: 0.0, 632961: 0.0, 473173: 0.0, 620120: 0.0, 621924: 0.0, 616315: 0.0, 29: 0.0, 575030: 0.0, 31: 0.0, 503218: 0.0, 33: 0.0, 35: 0.0, 36: 0.0, 38: 0.0, 42: 0.0, 44: 0.0, 46: 0.0, 48: 0.0, 49: 0.0, 640784: 0.0, 606730: 0.0, 52: 0.0, 53: 0.0, 54: 0.0, 55: 0.0, 59: 0.0, 60: 0.0, 61: 0.0, 62: 0.0, 64: 0.0}, 537281: {0: 0.0, -99: 0.0, 41: 0.0, 34: 0.0, 37: 0.0, 27: 0.0, 40: 0.0, 39: 0.0, 65: 0.0, 67: 0.0, 47: 0.0, 66: 0.0, 657187: 0.0, 78: 0.0, 81: 0.0, 80: 0.0, 70: 0.0, 43: 0.0, 56: 0.0, 57: 0.0, 58: 0.0, 63: 0.0, 77: 0.0, 79: 0.0, 45: 0.0, 69: 0.0, 76: 0.0, 82: 0.0, 83: 0.0, 84: 0.0, 73: 0.0, 75: 0.0, 74: 0.0, 71: 0.0, 72: 0.0, 87: 0.0, 85: 0.0, 86: 0.0, 2: 0.0, 630626: 0.0, 536346: 0.0, 510031: 0.0, 520660: 0.0, 552988: 0.0, 567195: 0.0, 527449: 0.0, 459381: 0.0, 595298: 0.0, 466907: 0.0, 589943: 0.0, 577992: 0.0, 537281: 1, 523927: 0.0, 580426: 0.0, 595581: 0.0, 642329: 0.0, 503701: 0.0, 571970: 0.0, 644226: 0.0, 632961: 0.0, 473173: 0.0, 620120: 0.0, 621924: 0.0, 616315: 0.0, 29: 0.0, 575030: 0.0, 31: 0.0, 503218: 0.0, 33: 0.0, 35: 0.0, 36: 0.0, 38: 0.0, 42: 0.0, 44: 0.0, 46: 0.0, 48: 0.0, 49: 0.0, 640784: 0.0, 606730: 0.0, 52: 0.0, 53: 0.0, 54: 0.0, 55: 0.0, 59: 0.0, 60: 0.0, 61: 0.0, 62: 0.0, 64: 0.0}, 523927: {0: 0.0, -99: 0.0, 41: 0.0, 34: 0.0, 37: 0.0, 27: 0.0, 40: 0.0, 39: 0.0, 65: 0.0, 67: 0.0, 47: 0.0, 66: 0.0, 657187: 0.0, 78: 0.0, 81: 0.0, 80: 0.0, 70: 0.0, 43: 0.0, 56: 0.0, 57: 0.0, 58: 0.0, 63: 0.0, 77: 0.0, 79: 0.0, 45: 0.0, 69: 0.0, 76: 0.0, 82: 0.0, 83: 0.0, 84: 0.0, 73: 0.0, 75: 0.0, 74: 0.0, 71: 0.0, 72: 0.0, 87: 0.0, 85: 0.0, 86: 0.0, 2: 0.0, 630626: 0.0, 536346: 0.0, 510031: 0.0, 520660: 0.0, 552988: 0.0, 567195: 0.0, 527449: 0.0, 459381: 0.0, 595298: 0.0, 466907: 0.0, 589943: 0.0, 577992: 0.0, 537281: 0.0, 523927: 1, 580426: 0.0, 595581: 0.0, 642329: 0.0, 503701: 0.0, 571970: 0.0, 644226: 0.0, 632961: 0.0, 473173: 0.0, 620120: 0.0, 621924: 0.0, 616315: 0.0, 29: 0.0, 575030: 0.0, 31: 0.0, 503218: 0.0, 33: 0.0, 35: 0.0, 36: 0.0, 38: 0.0, 42: 0.0, 44: 0.0, 46: 0.0, 48: 0.0, 49: 0.0, 640784: 0.0, 606730: 0.0, 52: 0.0, 53: 0.0, 54: 0.0, 55: 0.0, 59: 0.0, 60: 0.0, 61: 0.0, 62: 0.0, 64: 0.0}, 580426: {0: 0.0, -99: 0.0, 41: 0.0, 34: 0.0, 37: 0.0, 27: 0.0, 40: 0.0, 39: 0.0, 65: 0.0, 67: 0.0, 47: 0.0, 66: 0.0, 657187: 0.0, 78: 0.0, 81: 0.0, 80: 0.0, 70: 0.0, 43: 0.0, 56: 0.0, 57: 0.0, 58: 0.0, 63: 0.0, 77: 0.0, 79: 0.0, 45: 0.0, 69: 0.0, 76: 0.0, 82: 0.0, 83: 0.0, 84: 0.0, 73: 0.0, 75: 0.0, 74: 0.0, 71: 0.0, 72: 0.0, 87: 0.0, 85: 0.0, 86: 0.0, 2: 0.0, 630626: 0.0, 536346: 0.0, 510031: 0.0, 520660: 0.0, 552988: 0.0, 567195: 0.0, 527449: 0.0, 459381: 0.0, 595298: 0.0, 466907: 0.0, 589943: 0.0, 577992: 0.0, 537281: 0.0, 523927: 0.0, 580426: 1, 595581: 0.0, 642329: 0.0, 503701: 0.0, 571970: 0.0, 644226: 0.0, 632961: 0.0, 473173: 0.0, 620120: 0.0, 621924: 0.0, 616315: 0.0, 29: 0.0, 575030: 0.0, 31: 0.0, 503218: 0.0, 33: 0.0, 35: 0.0, 36: 0.0, 38: 0.0, 42: 0.0, 44: 0.0, 46: 0.0, 48: 0.0, 49: 0.0, 640784: 0.0, 606730: 0.0, 52: 0.0, 53: 0.0, 54: 0.0, 55: 0.0, 59: 0.0, 60: 0.0, 61: 0.0, 62: 0.0, 64: 0.0}, 595581: {0: 0.0, -99: 0.0, 41: 0.0, 34: 0.0, 37: 0.0, 27: 0.0, 40: 0.0, 39: 0.0, 65: 0.0, 67: 0.0, 47: 0.0, 66: 0.0, 657187: 0.0, 78: 0.0, 81: 0.0, 80: 0.0, 70: 0.0, 43: 0.0, 56: 0.0, 57: 0.0, 58: 0.0, 63: 0.0, 77: 0.0, 79: 0.0, 45: 0.0, 69: 0.0, 76: 0.0, 82: 0.0, 83: 0.0, 84: 0.0, 73: 0.0, 75: 0.0, 74: 0.0, 71: 0.0, 72: 0.0, 87: 0.0, 85: 0.0, 86: 0.0, 2: 0.0, 630626: 0.0, 536346: 0.0, 510031: 0.0, 520660: 0.0, 552988: 0.0, 567195: 0.0, 527449: 0.0, 459381: 0.0, 595298: 0.0, 466907: 0.0, 589943: 0.0, 577992: 0.0, 537281: 0.0, 523927: 0.0, 580426: 0.0, 595581: 1, 642329: 0.0, 503701: 0.0, 571970: 0.0, 644226: 0.0, 632961: 0.0, 473173: 0.0, 620120: 0.0, 621924: 0.0, 616315: 0.0, 29: 0.0, 575030: 0.0, 31: 0.0, 503218: 0.0, 33: 0.0, 35: 0.0, 36: 0.0, 38: 0.0, 42: 0.0, 44: 0.0, 46: 0.0, 48: 0.0, 49: 0.0, 640784: 0.0, 606730: 0.0, 52: 0.0, 53: 0.0, 54: 0.0, 55: 0.0, 59: 0.0, 60: 0.0, 61: 0.0, 62: 0.0, 64: 0.0}, 642329: {0: 0.0, -99: 0.0, 41: 0.0, 34: 0.0, 37: 0.0, 27: 0.0, 40: 0.0, 39: 0.0, 65: 0.0, 67: 0.0, 47: 0.0, 66: 0.0, 657187: 0.0, 78: 0.0, 81: 0.0, 80: 0.0, 70: 0.0, 43: 0.0, 56: 0.0, 57: 0.0, 58: 0.0, 63: 0.0, 77: 0.0, 79: 0.0, 45: 0.0, 69: 0.0, 76: 0.0, 82: 0.0, 83: 0.0, 84: 0.0, 73: 0.0, 75: 0.0, 74: 0.0, 71: 0.0, 72: 0.0, 87: 0.0, 85: 0.0, 86: 0.0, 2: 0.0, 630626: 0.0, 536346: 0.0, 510031: 0.0, 520660: 0.0, 552988: 0.0, 567195: 0.0, 527449: 0.0, 459381: 0.0, 595298: 0.0, 466907: 0.0, 589943: 0.0, 577992: 0.0, 537281: 0.0, 523927: 0.0, 580426: 0.0, 595581: 0.0, 642329: 1, 503701: 0.0, 571970: 0.0, 644226: 0.0, 632961: 0.0, 473173: 0.0, 620120: 0.0, 621924: 0.0, 616315: 0.0, 29: 0.0, 575030: 0.0, 31: 0.0, 503218: 0.0, 33: 0.0, 35: 0.0, 36: 0.0, 38: 0.0, 42: 0.0, 44: 0.0, 46: 0.0, 48: 0.0, 49: 0.0, 640784: 0.0, 606730: 0.0, 52: 0.0, 53: 0.0, 54: 0.0, 55: 0.0, 59: 0.0, 60: 0.0, 61: 0.0, 62: 0.0, 64: 0.0}, 503701: {0: 0.0, -99: 0.0, 41: 0.0, 34: 0.0, 37: 0.0, 27: 0.0, 40: 0.0, 39: 0.0, 65: 0.0, 67: 0.0, 47: 0.0, 66: 0.0, 657187: 0.0, 78: 0.0, 81: 0.0, 80: 0.0, 70: 0.0, 43: 0.0, 56: 0.0, 57: 0.0, 58: 0.0, 63: 0.0, 77: 0.0, 79: 0.0, 45: 0.0, 69: 0.0, 76: 0.0, 82: 0.0, 83: 0.0, 84: 0.0, 73: 0.0, 75: 0.0, 74: 0.0, 71: 0.0, 72: 0.0, 87: 0.0, 85: 0.0, 86: 0.0, 2: 0.0, 630626: 0.0, 536346: 0.0, 510031: 0.0, 520660: 0.0, 552988: 0.0, 567195: 0.0, 527449: 0.0, 459381: 0.0, 595298: 0.0, 466907: 0.0, 589943: 0.0, 577992: 0.0, 537281: 0.0, 523927: 0.0, 580426: 0.0, 595581: 0.0, 642329: 0.0, 503701: 1, 571970: 0.0, 644226: 0.0, 632961: 0.0, 473173: 0.0, 620120: 0.0, 621924: 0.0, 616315: 0.0, 29: 0.0, 575030: 0.0, 31: 0.0, 503218: 0.0, 33: 0.0, 35: 0.0, 36: 0.0, 38: 0.0, 42: 0.0, 44: 0.0, 46: 0.0, 48: 0.0, 49: 0.0, 640784: 0.0, 606730: 0.0, 52: 0.0, 53: 0.0, 54: 0.0, 55: 0.0, 59: 0.0, 60: 0.0, 61: 0.0, 62: 0.0, 64: 0.0}, 571970: {0: 0.0, -99: 0.0, 41: 0.0, 34: 0.0, 37: 0.0, 27: 0.0, 40: 0.0, 39: 0.0, 65: 0.0, 67: 0.0, 47: 0.0, 66: 0.0, 657187: 0.0, 78: 0.0, 81: 0.0, 80: 0.0, 70: 0.0, 43: 0.0, 56: 0.0, 57: 0.0, 58: 0.0, 63: 0.0, 77: 0.0, 79: 0.0, 45: 0.0, 69: 0.0, 76: 0.0, 82: 0.0, 83: 0.0, 84: 0.0, 73: 0.0, 75: 0.0, 74: 0.0, 71: 0.0, 72: 0.0, 87: 0.0, 85: 0.0, 86: 0.0, 2: 0.0, 630626: 0.0, 536346: 0.0, 510031: 0.0, 520660: 0.0, 552988: 0.0, 567195: 0.0, 527449: 0.0, 459381: 0.0, 595298: 0.0, 466907: 0.0, 589943: 0.0, 577992: 0.0, 537281: 0.0, 523927: 0.0, 580426: 0.0, 595581: 0.0, 642329: 0.0, 503701: 0.0, 571970: 1, 644226: 0.0, 632961: 0.0, 473173: 0.0, 620120: 0.0, 621924: 0.0, 616315: 0.0, 29: 0.0, 575030: 0.0, 31: 0.0, 503218: 0.0, 33: 0.0, 35: 0.0, 36: 0.0, 38: 0.0, 42: 0.0, 44: 0.0, 46: 0.0, 48: 0.0, 49: 0.0, 640784: 0.0, 606730: 0.0, 52: 0.0, 53: 0.0, 54: 0.0, 55: 0.0, 59: 0.0, 60: 0.0, 61: 0.0, 62: 0.0, 64: 0.0}, 644226: {0: 0.0, -99: 0.0, 41: 0.0, 34: 0.0, 37: 0.0, 27: 0.0, 40: 0.0, 39: 0.0, 65: 0.0, 67: 0.0, 47: 0.0, 66: 0.0, 657187: 0.0, 78: 0.0, 81: 0.0, 80: 0.0, 70: 0.0, 43: 0.0, 56: 0.0, 57: 0.0, 58: 0.0, 63: 0.0, 77: 0.0, 79: 0.0, 45: 0.0, 69: 0.0, 76: 0.0, 82: 0.0, 83: 0.0, 84: 0.0, 73: 0.0, 75: 0.0, 74: 0.0, 71: 0.0, 72: 0.0, 87: 0.0, 85: 0.0, 86: 0.0, 2: 0.0, 630626: 0.0, 536346: 0.0, 510031: 0.0, 520660: 0.0, 552988: 0.0, 567195: 0.0, 527449: 0.0, 459381: 0.0, 595298: 0.0, 466907: 0.0, 589943: 0.0, 577992: 0.0, 537281: 0.0, 523927: 0.0, 580426: 0.0, 595581: 0.0, 642329: 0.0, 503701: 0.0, 571970: 0.0, 644226: 1, 632961: 0.0, 473173: 0.0, 620120: 0.0, 621924: 0.0, 616315: 0.0, 29: 0.0, 575030: 0.0, 31: 0.0, 503218: 0.0, 33: 0.0, 35: 0.0, 36: 0.0, 38: 0.0, 42: 0.0, 44: 0.0, 46: 0.0, 48: 0.0, 49: 0.0, 640784: 0.0, 606730: 0.0, 52: 0.0, 53: 0.0, 54: 0.0, 55: 0.0, 59: 0.0, 60: 0.0, 61: 0.0, 62: 0.0, 64: 0.0}, 632961: {0: 0.0, -99: 0.0, 41: 0.0, 34: 0.0, 37: 0.0, 27: 0.0, 40: 0.0, 39: 0.0, 65: 0.0, 67: 0.0, 47: 0.0, 66: 0.0, 657187: 0.0, 78: 0.0, 81: 0.0, 80: 0.0, 70: 0.0, 43: 0.0, 56: 0.0, 57: 0.0, 58: 0.0, 63: 0.0, 77: 0.0, 79: 0.0, 45: 0.0, 69: 0.0, 76: 0.0, 82: 0.0, 83: 0.0, 84: 0.0, 73: 0.0, 75: 0.0, 74: 0.0, 71: 0.0, 72: 0.0, 87: 0.0, 85: 0.0, 86: 0.0, 2: 0.0, 630626: 0.0, 536346: 0.0, 510031: 0.0, 520660: 0.0, 552988: 0.0, 567195: 0.0, 527449: 0.0, 459381: 0.0, 595298: 0.0, 466907: 0.0, 589943: 0.0, 577992: 0.0, 537281: 0.0, 523927: 0.0, 580426: 0.0, 595581: 0.0, 642329: 0.0, 503701: 0.0, 571970: 0.0, 644226: 0.0, 632961: 1, 473173: 0.0, 620120: 0.0, 621924: 0.0, 616315: 0.0, 29: 0.0, 575030: 0.0, 31: 0.0, 503218: 0.0, 33: 0.0, 35: 0.0, 36: 0.0, 38: 0.0, 42: 0.0, 44: 0.0, 46: 0.0, 48: 0.0, 49: 0.0, 640784: 0.0, 606730: 0.0, 52: 0.0, 53: 0.0, 54: 0.0, 55: 0.0, 59: 0.0, 60: 0.0, 61: 0.0, 62: 0.0, 64: 0.0}, 473173: {0: 0.0, -99: 0.0, 41: 0.0, 34: 0.0, 37: 0.0, 27: 0.0, 40: 0.0, 39: 0.0, 65: 0.0, 67: 0.0, 47: 0.0, 66: 0.0, 657187: 0.0, 78: 0.0, 81: 0.0, 80: 0.0, 70: 0.0, 43: 0.0, 56: 0.0, 57: 0.0, 58: 0.0, 63: 0.0, 77: 0.0, 79: 0.0, 45: 0.0, 69: 0.0, 76: 0.0, 82: 0.0, 83: 0.0, 84: 0.0, 73: 0.0, 75: 0.0, 74: 0.0, 71: 0.0, 72: 0.0, 87: 0.0, 85: 0.0, 86: 0.0, 2: 0.0, 630626: 0.0, 536346: 0.0, 510031: 0.0, 520660: 0.0, 552988: 0.0, 567195: 0.0, 527449: 0.0, 459381: 0.0, 595298: 0.0, 466907: 0.0, 589943: 0.0, 577992: 0.0, 537281: 0.0, 523927: 0.0, 580426: 0.0, 595581: 0.0, 642329: 0.0, 503701: 0.0, 571970: 0.0, 644226: 0.0, 632961: 0.0, 473173: 1, 620120: 0.0, 621924: 0.0, 616315: 0.0, 29: 0.0, 575030: 0.0, 31: 0.0, 503218: 0.0, 33: 0.0, 35: 0.0, 36: 0.0, 38: 0.0, 42: 0.0, 44: 0.0, 46: 0.0, 48: 0.0, 49: 0.0, 640784: 0.0, 606730: 0.0, 52: 0.0, 53: 0.0, 54: 0.0, 55: 0.0, 59: 0.0, 60: 0.0, 61: 0.0, 62: 0.0, 64: 0.0}, 620120: {0: 0.00022530847835566665, -99: 0.0, 41: 0.022329438418841753, 34: 0.01507016003139722, 37: 0.012709957948797635, 27: 0.014857677220916595, 40: 0.0037454375153483546, 39: 0.00675434411788317, 65: 0.007458430694633677, 67: 0.01541522155743413, 47: 0.01602133834573279, 66: 0.0, 657187: 0.0, 78: 0.0, 81: 0.0, 80: 0.0, 70: 0.0, 43: 0.015186990743112413, 56: 0.019758941788188898, 57: 0.014248998164036158, 58: 0.018988304779656722, 63: 0.012104217259394512, 77: 0.0, 79: 0.0, 45: 0.008924867514960797, 69: 0.0, 76: 0.0, 82: 0.0, 83: 0.0, 84: 0.0, 73: 0.0, 75: 0.0, 74: 0.0, 71: 0.0, 72: 0.0, 87: 0.0, 85: 0.0, 86: 0.0, 2: 0.0001945845949435303, 630626: 0.0, 536346: 0.0, 510031: 0.05532607683263005, 520660: 0.0, 552988: 0.05248162805225905, 567195: 0.0, 527449: 0.0, 459381: 0.0, 595298: 0.0, 466907: 0.0, 589943: 0.0, 577992: 0.0, 537281: 0.0, 523927: 0.0, 580426: 0.0, 595581: 0.0, 642329: 0.0, 503701: 0.0, 571970: 0.0, 644226: 0.0, 632961: 0.0, 473173: 0.0, 620120: 1, 621924: 0.0, 616315: 0.0, 29: 0.00021404305443788332, 575030: 0.0, 31: 0.0001945845949435303, 503218: 0.0, 33: 0.00022530847835566665, 35: 0.00026755381804735416, 36: 0.0, 38: 0.0, 42: 0.00025181535816221567, 44: 0.00026755381804735416, 46: 0.00021404305443788332, 48: 0.00026755381804735416, 49: 0.00017836921203156944, 640784: 0.0, 606730: 0.0, 52: 0.00022530847835566665, 53: 0.0, 54: 0.00025181535816221567, 55: 0.0, 59: 0.00028539073925051107, 60: 0.0, 61: 0.00023782561604209258, 62: 0.00025181535816221567, 64: 0.00025181535816221567}, 621924: {0: 0.0, -99: 0.0, 41: 0.0, 34: 0.0, 37: 0.0, 27: 0.0, 40: 0.0, 39: 0.0, 65: 0.0, 67: 0.0, 47: 0.0, 66: 0.0, 657187: 0.0, 78: 0.0, 81: 0.0, 80: 0.0, 70: 0.0, 43: 0.0, 56: 0.0, 57: 0.0, 58: 0.0, 63: 0.0, 77: 0.0, 79: 0.0, 45: 0.0, 69: 0.0, 76: 0.0, 82: 0.0, 83: 0.0, 84: 0.0, 73: 0.0, 75: 0.0, 74: 0.0, 71: 0.0, 72: 0.0, 87: 0.0, 85: 0.0, 86: 0.0, 2: 0.0, 630626: 0.0, 536346: 0.0, 510031: 0.0, 520660: 0.0, 552988: 0.0, 567195: 0.0, 527449: 0.0, 459381: 0.0, 595298: 0.0, 466907: 0.0, 589943: 0.0, 577992: 0.0, 537281: 0.0, 523927: 0.0, 580426: 0.0, 595581: 0.0, 642329: 0.0, 503701: 0.0, 571970: 0.0, 644226: 0.0, 632961: 0.0, 473173: 0.0, 620120: 0.0, 621924: 1, 616315: 0.0, 29: 0.0, 575030: 0.0, 31: 0.0, 503218: 0.0, 33: 0.0, 35: 0.0, 36: 0.0, 38: 0.0, 42: 0.0, 44: 0.0, 46: 0.0, 48: 0.0, 49: 0.0, 640784: 0.0, 606730: 0.0, 52: 0.0, 53: 0.0, 54: 0.0, 55: 0.0, 59: 0.0, 60: 0.0, 61: 0.0, 62: 0.0, 64: 0.0}, 616315: {0: 0.0, -99: 0.0, 41: 0.0, 34: 0.0, 37: 0.0, 27: 0.0, 40: 0.0, 39: 0.0, 65: 0.0, 67: 0.0, 47: 0.0, 66: 0.0, 657187: 0.0, 78: 0.0, 81: 0.0, 80: 0.0, 70: 0.0, 43: 0.0, 56: 0.0, 57: 0.0, 58: 0.0, 63: 0.0, 77: 0.0, 79: 0.0, 45: 0.0, 69: 0.0, 76: 0.0, 82: 0.0, 83: 0.0, 84: 0.0, 73: 0.0, 75: 0.0, 74: 0.0, 71: 0.0, 72: 0.0, 87: 0.0, 85: 0.0, 86: 0.0, 2: 0.0, 630626: 0.0, 536346: 0.0, 510031: 0.0, 520660: 0.0, 552988: 0.0, 567195: 0.0, 527449: 0.0, 459381: 0.0, 595298: 0.0, 466907: 0.0, 589943: 0.0, 577992: 0.0, 537281: 0.0, 523927: 0.0, 580426: 0.0, 595581: 0.0, 642329: 0.0, 503701: 0.0, 571970: 0.0, 644226: 0.0, 632961: 0.0, 473173: 0.0, 620120: 0.0, 621924: 0.0, 616315: 1, 29: 0.0, 575030: 0.0, 31: 0.0, 503218: 0.0, 33: 0.0, 35: 0.0, 36: 0.0, 38: 0.0, 42: 0.0, 44: 0.0, 46: 0.0, 48: 0.0, 49: 0.0, 640784: 0.0, 606730: 0.0, 52: 0.0, 53: 0.0, 54: 0.0, 55: 0.0, 59: 0.0, 60: 0.0, 61: 0.0, 62: 0.0, 64: 0.0}, 29: {0: 0.037894736842105266, -99: 0.0, 41: 0.017953711329003297, 34: 0.0279084122232817, 37: 0.025457835484983964, 27: 0.029158776960645096, 40: 0.025266181539077486, 39: 0.023547095212340576, 65: 0.029480286683994973, 67: 0.00034163523695423945, 47: 0.022757138656553814, 66: 0.0, 657187: 0.0, 78: 0.0, 81: 0.0, 80: 0.0, 70: 0.0, 43: 0.024573629627790562, 56: 0.026196203549779494, 57: 0.021941271551956448, 58: 0.02278015279623684, 63: 0.024479736363677777, 77: 0.0, 79: 0.0, 45: 0.029096339836073994, 69: 0.0, 76: 0.0, 82: 0.0, 83: 0.0, 84: 0.0, 73: 0.0, 75: 0.0, 74: 0.0, 71: 0.0, 72: 0.0, 87: 0.0, 85: 0.0, 86: 0.0, 2: 0.03681818181818182, 630626: 0.0, 536346: 0.0, 510031: 0.00023270670215832452, 520660: 0.0, 552988: 0.000240204742163557, 567195: 0.0, 527449: 0.0, 459381: 0.0, 595298: 0.0, 466907: 0.0, 589943: 0.0, 577992: 0.0, 537281: 0.0, 523927: 0.0, 580426: 0.0, 595581: 0.0, 642329: 0.0, 503701: 0.0, 571970: 0.0, 644226: 0.0, 632961: 0.0, 473173: 0.0, 620120: 0.00021404305443788332, 621924: 0.0, 616315: 0.0, 29: 1, 575030: 0.0, 31: 0.038863636363636364, 503218: 0.0, 33: 0.04026315789473684, 35: 0.039375, 36: 0.03705882352941176, 38: 0.036562500000000005, 42: 0.03970588235294118, 44: 0.039375, 46: 0.038250000000000006, 48: 0.039375, 49: 0.035625, 640784: 0.0, 606730: 0.0, 52: 0.037894736842105266, 53: 0.038571428571428576, 54: 0.03705882352941176, 55: 0.03681818181818182, 59: 0.042, 60: 0.03535714285714286, 61: 0.0425, 62: 0.03705882352941176, 64: 0.03705882352941176}, 575030: {0: 0.0, -99: 0.0, 41: 0.0, 34: 0.0, 37: 0.0, 27: 0.0, 40: 0.0, 39: 0.0, 65: 0.0, 67: 0.0, 47: 0.0, 66: 0.0, 657187: 0.0, 78: 0.0, 81: 0.0, 80: 0.0, 70: 0.0, 43: 0.0, 56: 0.0, 57: 0.0, 58: 0.0, 63: 0.0, 77: 0.0, 79: 0.0, 45: 0.0, 69: 0.0, 76: 0.0, 82: 0.0, 83: 0.0, 84: 0.0, 73: 0.0, 75: 0.0, 74: 0.0, 71: 0.0, 72: 0.0, 87: 0.0, 85: 0.0, 86: 0.0, 2: 0.0, 630626: 0.0, 536346: 0.0, 510031: 0.0, 520660: 0.0, 552988: 0.0, 567195: 0.0, 527449: 0.0, 459381: 0.0, 595298: 0.0, 466907: 0.0, 589943: 0.0, 577992: 0.0, 537281: 0.0, 523927: 0.0, 580426: 0.0, 595581: 0.0, 642329: 0.0, 503701: 0.0, 571970: 0.0, 644226: 0.0, 632961: 0.0, 473173: 0.0, 620120: 0.0, 621924: 0.0, 616315: 0.0, 29: 0.0, 575030: 1, 31: 0.0, 503218: 0.0, 33: 0.0, 35: 0.0, 36: 0.0, 38: 0.0, 42: 0.0, 44: 0.0, 46: 0.0, 48: 0.0, 49: 0.0, 640784: 0.0, 606730: 0.0, 52: 0.0, 53: 0.0, 54: 0.0, 55: 0.0, 59: 0.0, 60: 0.0, 61: 0.0, 62: 0.0, 64: 0.0}, 31: {0: 0.03444976076555024, -99: 0.0, 41: 0.016321555753639357, 34: 0.025371283839347, 37: 0.023143486804530874, 27: 0.026507979055131907, 40: 0.024605619580979534, 39: 0.021406450193036886, 65: 0.02837368719524019, 67: 0.0003105774881402176, 47: 0.02068830786959438, 66: 0.0, 657187: 0.0, 78: 0.0, 81: 0.0, 80: 0.0, 70: 0.0, 43: 0.024044208752536874, 56: 0.02224130392637297, 57: 0.02276792711619865, 58: 0.018849725682529357, 63: 0.022254305785161615, 77: 0.0, 79: 0.0, 45: 0.02791225699383351, 69: 0.0, 76: 0.0, 82: 0.0, 83: 0.0, 84: 0.0, 73: 0.0, 75: 0.0, 74: 0.0, 71: 0.0, 72: 0.0, 87: 0.0, 85: 0.0, 86: 0.0, 2: 0.035330578512396696, 630626: 0.0, 536346: 0.0, 510031: 0.00021155154741665864, 520660: 0.0, 552988: 0.00021836794742141548, 567195: 0.0, 527449: 0.0, 459381: 0.0, 595298: 0.0, 466907: 0.0, 589943: 0.0, 577992: 0.0, 537281: 0.0, 523927: 0.0, 580426: 0.0, 595581: 0.0, 642329: 0.0, 503701: 0.0, 571970: 0.0, 644226: 0.0, 632961: 0.0, 473173: 0.0, 620120: 0.0001945845949435303, 621924: 0.0, 616315: 0.0, 29: 0.038863636363636364, 575030: 0.0, 31: 1, 503218: 0.0, 33: 0.03875598086124402, 35: 0.033238636363636366, 36: 0.033689839572192515, 38: 0.033238636363636366, 42: 0.033689839572192515, 44: 0.033238636363636366, 46: 0.038863636363636364, 48: 0.03835227272727273, 49: 0.034090909090909095, 640784: 0.0, 606730: 0.0, 52: 0.03660287081339713, 53: 0.03214285714285714, 54: 0.033689839572192515, 55: 0.0371900826446281, 59: 0.038181818181818185, 60: 0.03214285714285714, 61: 0.03636363636363637, 62: 0.03609625668449198, 64: 0.03609625668449198}, 503218: {0: 0.0, -99: 0.0, 41: 0.0, 34: 0.0, 37: 0.0, 27: 0.0, 40: 0.0, 39: 0.0, 65: 0.0, 67: 0.0, 47: 0.0, 66: 0.0, 657187: 0.0, 78: 0.0, 81: 0.0, 80: 0.0, 70: 0.0, 43: 0.0, 56: 0.0, 57: 0.0, 58: 0.0, 63: 0.0, 77: 0.0, 79: 0.0, 45: 0.0, 69: 0.0, 76: 0.0, 82: 0.0, 83: 0.0, 84: 0.0, 73: 0.0, 75: 0.0, 74: 0.0, 71: 0.0, 72: 0.0, 87: 0.0, 85: 0.0, 86: 0.0, 2: 0.0, 630626: 0.0, 536346: 0.0, 510031: 0.0, 520660: 0.0, 552988: 0.0, 567195: 0.0, 527449: 0.0, 459381: 0.0, 595298: 0.0, 466907: 0.0, 589943: 0.0, 577992: 0.0, 537281: 0.0, 523927: 0.0, 580426: 0.0, 595581: 0.0, 642329: 0.0, 503701: 0.0, 571970: 0.0, 644226: 0.0, 632961: 0.0, 473173: 0.0, 620120: 0.0, 621924: 0.0, 616315: 0.0, 29: 0.0, 575030: 0.0, 31: 0.0, 503218: 1, 33: 0.0, 35: 0.0, 36: 0.0, 38: 0.0, 42: 0.0, 44: 0.0, 46: 0.0, 48: 0.0, 49: 0.0, 640784: 0.0, 606730: 0.0, 52: 0.0, 53: 0.0, 54: 0.0, 55: 0.0, 59: 0.0, 60: 0.0, 61: 0.0, 62: 0.0, 64: 0.0}, 33: {0: 0.03490304709141274, -99: 0.0, 41: 0.018898643504213993, 34: 0.03119913837268519, 37: 0.02490298472103575, 27: 0.02561826146233318, 40: 0.026595980567449988, 39: 0.026845912580495797, 65: 0.02921001837181657, 67: 0.0003596160388991994, 47: 0.025776745144550577, 66: 0.0, 657187: 0.0, 78: 0.0, 81: 0.0, 80: 0.0, 70: 0.0, 43: 0.02784066276609533, 56: 0.02757495110503105, 57: 0.021462681488447804, 58: 0.02397910820656509, 63: 0.027590005888891586, 77: 0.0, 79: 0.0, 45: 0.028935996819927513, 69: 0.0, 76: 0.0, 82: 0.0, 83: 0.0, 84: 0.0, 73: 0.0, 75: 0.0, 74: 0.0, 71: 0.0, 72: 0.0, 87: 0.0, 85: 0.0, 86: 0.0, 2: 0.03660287081339713, 630626: 0.0, 536346: 0.0, 510031: 0.0002449544233245521, 520660: 0.0, 552988: 0.00025284709701427053, 567195: 0.0, 527449: 0.0, 459381: 0.0, 595298: 0.0, 466907: 0.0, 589943: 0.0, 577992: 0.0, 537281: 0.0, 523927: 0.0, 580426: 0.0, 595581: 0.0, 642329: 0.0, 503701: 0.0, 571970: 0.0, 644226: 0.0, 632961: 0.0, 473173: 0.0, 620120: 0.00022530847835566665, 621924: 0.0, 616315: 0.0, 29: 0.04026315789473684, 575030: 0.0, 31: 0.03875598086124402, 503218: 0.0, 33: 1, 35: 0.04144736842105263, 36: 0.041795665634674926, 38: 0.04144736842105263, 42: 0.041795665634674926, 44: 0.04144736842105263, 46: 0.04026315789473684, 48: 0.04736842105263158, 49: 0.03355263157894737, 640784: 0.0, 606730: 0.0, 52: 0.037396121883656507, 53: 0.04060150375939849, 54: 0.041795665634674926, 55: 0.04736842105263158, 59: 0.04421052631578948, 60: 0.04060150375939849, 61: 0.04473684210526316, 62: 0.04458204334365325, 64: 0.036222910216718265}, 35: {0: 0.03848684210526316, -99: 0.0, 41: 0.022442139161254118, 34: 0.03055859220217904, 37: 0.025072294356229957, 27: 0.026403828343663505, 40: 0.02708272692384686, 39: 0.026988216841512674, 65: 0.030359973739609105, 67: 0.0004270440461927993, 47: 0.028446423320692266, 66: 0.0, 657187: 0.0, 78: 0.0, 81: 0.0, 80: 0.0, 70: 0.0, 43: 0.03306078703473821, 56: 0.03058179289876283, 57: 0.023547279095117973, 58: 0.03103200917711423, 63: 0.030599670454597216, 77: 0.0, 79: 0.0, 45: 0.0283347105093782, 69: 0.0, 76: 0.0, 82: 0.0, 83: 0.0, 84: 0.0, 73: 0.0, 75: 0.0, 74: 0.0, 71: 0.0, 72: 0.0, 87: 0.0, 85: 0.0, 86: 0.0, 2: 0.03835227272727273, 630626: 0.0, 536346: 0.0, 510031: 0.0002908833776979056, 520660: 0.0, 552988: 0.0003002559277044463, 567195: 0.0, 527449: 0.0, 459381: 0.0, 595298: 0.0, 466907: 0.0, 589943: 0.0, 577992: 0.0, 537281: 0.0, 523927: 0.0, 580426: 0.0, 595581: 0.0, 642329: 0.0, 503701: 0.0, 571970: 0.0, 644226: 0.0, 632961: 0.0, 473173: 0.0, 620120: 0.00026755381804735416, 621924: 0.0, 616315: 0.0, 29: 0.039375, 575030: 0.0, 31: 0.033238636363636366, 503218: 0.0, 33: 0.04144736842105263, 35: 1, 36: 0.04963235294117647, 38: 0.0421875, 42: 0.04632352941176471, 44: 0.04921875, 46: 0.036562500000000005, 48: 0.045703125000000004, 49: 0.0328125, 640784: 0.0, 606730: 0.0, 52: 0.03848684210526316, 53: 0.044196428571428574, 54: 0.04632352941176471, 55: 0.04090909090909091, 59: 0.045000000000000005, 60: 0.04821428571428571, 61: 0.043750000000000004, 62: 0.04632352941176471, 64: 0.036397058823529414}, 36: {0: 0.036222910216718265, -99: 0.0, 41: 0.022459893048128343, 34: 0.030542986425339366, 37: 0.025411764705882356, 27: 0.02457983193277311, 40: 0.029647058823529415, 39: 0.023017902813299233, 65: 0.030542986425339366, 67: 0.0, 47: 0.02850678733031674, 66: 0.0, 657187: 0.0, 78: 0.0, 81: 0.0, 80: 0.0, 70: 0.0, 43: 0.03308823529411765, 56: 0.02850678733031674, 57: 0.023732251521298174, 58: 0.026470588235294117, 63: 0.030542986425339366, 77: 0.0, 79: 0.0, 45: 0.028361344537815126, 69: 0.0, 76: 0.0, 82: 0.0, 83: 0.0, 84: 0.0, 73: 0.0, 75: 0.0, 74: 0.0, 71: 0.0, 72: 0.0, 87: 0.0, 85: 0.0, 86: 0.0, 2: 0.03609625668449198, 630626: 0.0, 536346: 0.0, 510031: 0.0, 520660: 0.0, 552988: 0.0, 567195: 0.0, 527449: 0.0, 459381: 0.0, 595298: 0.0, 466907: 0.0, 589943: 0.0, 577992: 0.0, 537281: 0.0, 523927: 0.0, 580426: 0.0, 595581: 0.0, 642329: 0.0, 503701: 0.0, 571970: 0.0, 644226: 0.0, 632961: 0.0, 473173: 0.0, 620120: 0.0, 621924: 0.0, 616315: 0.0, 29: 0.03705882352941176, 575030: 0.0, 31: 0.033689839572192515, 503218: 0.0, 33: 0.041795665634674926, 35: 0.04963235294117647, 36: 1, 38: 0.04632352941176471, 42: 0.04359861591695502, 44: 0.04632352941176471, 46: 0.03705882352941176, 48: 0.04632352941176471, 49: 0.03308823529411765, 640784: 0.0, 606730: 0.0, 52: 0.0390092879256966, 53: 0.04537815126050421, 54: 0.04671280276816609, 55: 0.04331550802139037, 59: 0.03882352941176471, 60: 0.052941176470588235, 61: 0.041176470588235294, 62: 0.04359861591695502, 64: 0.034256055363321804}, 38: {0: 0.035526315789473684, -99: 0.0, 41: 0.020454545454545454, 34: 0.028125, 37: 0.02925, 27: 0.02611607142857143, 40: 0.02925, 39: 0.022010869565217393, 65: 0.03245192307692307, 67: 0.0, 47: 0.03028846153846154, 66: 0.0, 657187: 0.0, 78: 0.0, 81: 0.0, 80: 0.0, 70: 0.0, 43: 0.03046875, 56: 0.025961538461538463, 57: 0.025215517241379312, 58: 0.02301136363636364, 63: 0.028125, 77: 0.0, 79: 0.0, 45: 0.030133928571428572, 69: 0.0, 76: 0.0, 82: 0.0, 83: 0.0, 84: 0.0, 73: 0.0, 75: 0.0, 74: 0.0, 71: 0.0, 72: 0.0, 87: 0.0, 85: 0.0, 86: 0.0, 2: 0.03835227272727273, 630626: 0.0, 536346: 0.0, 510031: 0.0, 520660: 0.0, 552988: 0.0, 567195: 0.0, 527449: 0.0, 459381: 0.0, 595298: 0.0, 466907: 0.0, 589943: 0.0, 577992: 0.0, 537281: 0.0, 523927: 0.0, 580426: 0.0, 595581: 0.0, 642329: 0.0, 503701: 0.0, 571970: 0.0, 644226: 0.0, 632961: 0.0, 473173: 0.0, 620120: 0.0, 621924: 0.0, 616315: 0.0, 29: 0.036562500000000005, 575030: 0.0, 31: 0.033238636363636366, 503218: 0.0, 33: 0.04144736842105263, 35: 0.0421875, 36: 0.04632352941176471, 38: 1, 42: 0.04301470588235294, 44: 0.045703125000000004, 46: 0.036562500000000005, 48: 0.045703125000000004, 49: 0.03515625, 640784: 0.0, 606730: 0.0, 52: 0.03848684210526316, 53: 0.044196428571428574, 54: 0.04301470588235294, 55: 0.04602272727272728, 59: 0.041249999999999995, 60: 0.044196428571428574, 61: 0.043750000000000004, 62: 0.04632352941176471, 64: 0.03970588235294118}, 42: {0: 0.03343653250773994, -99: 0.0, 41: 0.02112201332823917, 34: 0.030797227050014666, 37: 0.025715100570569367, 27: 0.02674141827302784, 40: 0.02760727239891469, 39: 0.027702464955694794, 65: 0.03264649112144205, 67: 0.0004019238081814581, 47: 0.02677310430182802, 66: 0.0, 657187: 0.0, 78: 0.0, 81: 0.0, 80: 0.0, 70: 0.0, 43: 0.031116034856224193, 56: 0.03285526209476321, 57: 0.02216214503069927, 58: 0.0292065968725781, 63: 0.028799689839620914, 77: 0.0, 79: 0.0, 45: 0.028558719134876964, 69: 0.0, 76: 0.0, 82: 0.0, 83: 0.0, 84: 0.0, 73: 0.0, 75: 0.0, 74: 0.0, 71: 0.0, 72: 0.0, 87: 0.0, 85: 0.0, 86: 0.0, 2: 0.03850267379679144, 630626: 0.0, 536346: 0.0, 510031: 0.0002737725907744994, 520660: 0.0, 552988: 0.00028259381431006706, 567195: 0.0, 527449: 0.0, 459381: 0.0, 595298: 0.0, 466907: 0.0, 589943: 0.0, 577992: 0.0, 537281: 0.0, 523927: 0.0, 580426: 0.0, 595581: 0.0, 642329: 0.0, 503701: 0.0, 571970: 0.0, 644226: 0.0, 632961: 0.0, 473173: 0.0, 620120: 0.00025181535816221567, 621924: 0.0, 616315: 0.0, 29: 0.03970588235294118, 575030: 0.0, 31: 0.033689839572192515, 503218: 0.0, 33: 0.041795665634674926, 35: 0.04632352941176471, 36: 0.04359861591695502, 38: 0.04301470588235294, 42: 1, 44: 0.04301470588235294, 46: 0.03705882352941176, 48: 0.04301470588235294, 49: 0.03308823529411765, 640784: 0.0, 606730: 0.0, 52: 0.03343653250773994, 53: 0.052941176470588235, 54: 0.04671280276816609, 55: 0.04331550802139037, 59: 0.04588235294117647, 60: 0.04537815126050421, 61: 0.047058823529411764, 62: 0.04048442906574395, 64: 0.034256055363321804}, 44: {0: 0.035526315789473684, -99: 0.0, 41: 0.020737593706708662, 34: 0.028395130663717506, 37: 0.027322294356229956, 27: 0.026403828343663505, 40: 0.02708272692384686, 39: 0.02454256466759963, 65: 0.030359973739609105, 67: 0.0004270440461927993, 47: 0.028446423320692266, 66: 0.0, 657187: 0.0, 78: 0.0, 81: 0.0, 80: 0.0, 70: 0.0, 43: 0.0307170370347382, 56: 0.028418331360301294, 57: 0.023547279095117973, 58: 0.03103200917711423, 63: 0.026272747377674145, 77: 0.0, 79: 0.0, 45: 0.03235256765223535, 69: 0.0, 76: 0.0, 82: 0.0, 83: 0.0, 84: 0.0, 73: 0.0, 75: 0.0, 74: 0.0, 71: 0.0, 72: 0.0, 87: 0.0, 85: 0.0, 86: 0.0, 2: 0.03579545454545455, 630626: 0.0, 536346: 0.0, 510031: 0.0002908833776979056, 520660: 0.0, 552988: 0.0003002559277044463, 567195: 0.0, 527449: 0.0, 459381: 0.0, 595298: 0.0, 466907: 0.0, 589943: 0.0, 577992: 0.0, 537281: 0.0, 523927: 0.0, 580426: 0.0, 595581: 0.0, 642329: 0.0, 503701: 0.0, 571970: 0.0, 644226: 0.0, 632961: 0.0, 473173: 0.0, 620120: 0.00026755381804735416, 621924: 0.0, 616315: 0.0, 29: 0.039375, 575030: 0.0, 31: 0.033238636363636366, 503218: 0.0, 33: 0.04144736842105263, 35: 0.04921875, 36: 0.04632352941176471, 38: 0.045703125000000004, 42: 0.04301470588235294, 44: 1, 46: 0.03375, 48: 0.0421875, 49: 0.03515625, 640784: 0.0, 606730: 0.0, 52: 0.04144736842105263, 53: 0.04017857142857143, 54: 0.04632352941176471, 55: 0.03579545454545455, 59: 0.045000000000000005, 60: 0.044196428571428574, 61: 0.043750000000000004, 62: 0.04301470588235294, 64: 0.036397058823529414}, 46: {0: 0.035526315789473684, -99: 0.0, 41: 0.017953711329003297, 34: 0.0279084122232817, 37: 0.025457835484983964, 27: 0.025944491246359377, 40: 0.021666181539077487, 39: 0.02159057347321014, 65: 0.03121105591476421, 67: 0.00034163523695423945, 47: 0.024487907887323048, 66: 0.0, 657187: 0.0, 78: 0.0, 81: 0.0, 80: 0.0, 70: 0.0, 43: 0.026448629627790564, 56: 0.024465434319010264, 57: 0.021941271551956448, 58: 0.020734698250782294, 63: 0.024479736363677777, 77: 0.0, 79: 0.0, 45: 0.029096339836073994, 69: 0.0, 76: 0.0, 82: 0.0, 83: 0.0, 84: 0.0, 73: 0.0, 75: 0.0, 74: 0.0, 71: 0.0, 72: 0.0, 87: 0.0, 85: 0.0, 86: 0.0, 2: 0.03681818181818182, 630626: 0.0, 536346: 0.0, 510031: 0.00023270670215832452, 520660: 0.0, 552988: 0.000240204742163557, 567195: 0.0, 527449: 0.0, 459381: 0.0, 595298: 0.0, 466907: 0.0, 589943: 0.0, 577992: 0.0, 537281: 0.0, 523927: 0.0, 580426: 0.0, 595581: 0.0, 642329: 0.0, 503701: 0.0, 571970: 0.0, 644226: 0.0, 632961: 0.0, 473173: 0.0, 620120: 0.00021404305443788332, 621924: 0.0, 616315: 0.0, 29: 0.038250000000000006, 575030: 0.0, 31: 0.038863636363636364, 503218: 0.0, 33: 0.04026315789473684, 35: 0.036562500000000005, 36: 0.03705882352941176, 38: 0.036562500000000005, 42: 0.03705882352941176, 44: 0.03375, 46: 1, 48: 0.045000000000000005, 49: 0.03375, 640784: 0.0, 606730: 0.0, 52: 0.037894736842105266, 53: 0.03535714285714286, 54: 0.03705882352941176, 55: 0.045000000000000005, 59: 0.036000000000000004, 60: 0.03535714285714286, 61: 0.0375, 62: 0.03970588235294118, 64: 0.03970588235294118}, 48: {0: 0.035526315789473684, -99: 0.0, 41: 0.022442139161254118, 34: 0.032722053740640585, 37: 0.025072294356229957, 27: 0.026403828343663505, 40: 0.02708272692384686, 39: 0.02454256466759963, 65: 0.030359973739609105, 67: 0.0004270440461927993, 47: 0.03060988485915381, 66: 0.0, 657187: 0.0, 78: 0.0, 81: 0.0, 80: 0.0, 70: 0.0, 43: 0.03306078703473821, 56: 0.028418331360301294, 57: 0.01966796875029039, 58: 0.023361554631659683, 63: 0.028436208916135682, 77: 0.0, 79: 0.0, 45: 0.0283347105093782, 69: 0.0, 76: 0.0, 82: 0.0, 83: 0.0, 84: 0.0, 73: 0.0, 75: 0.0, 74: 0.0, 71: 0.0, 72: 0.0, 87: 0.0, 85: 0.0, 86: 0.0, 2: 0.03579545454545455, 630626: 0.0, 536346: 0.0, 510031: 0.0002908833776979056, 520660: 0.0, 552988: 0.0003002559277044463, 567195: 0.0, 527449: 0.0, 459381: 0.0, 595298: 0.0, 466907: 0.0, 589943: 0.0, 577992: 0.0, 537281: 0.0, 523927: 0.0, 580426: 0.0, 595581: 0.0, 642329: 0.0, 503701: 0.0, 571970: 0.0, 644226: 0.0, 632961: 0.0, 473173: 0.0, 620120: 0.00026755381804735416, 621924: 0.0, 616315: 0.0, 29: 0.039375, 575030: 0.0, 31: 0.03835227272727273, 503218: 0.0, 33: 0.04736842105263158, 35: 0.045703125000000004, 36: 0.04632352941176471, 38: 0.045703125000000004, 42: 0.04301470588235294, 44: 0.0421875, 46: 0.045000000000000005, 48: 1, 49: 0.0328125, 640784: 0.0, 606730: 0.0, 52: 0.03848684210526316, 53: 0.04017857142857143, 54: 0.04301470588235294, 55: 0.05113636363636363, 59: 0.041249999999999995, 60: 0.044196428571428574, 61: 0.043750000000000004, 62: 0.04963235294117647, 64: 0.036397058823529414}, 49: {0: 0.03355263157894737, -99: 0.0, 41: 0.016097789743866383, 34: 0.023257010186068083, 37: 0.022714862904153303, 27: 0.02429898080053758, 40: 0.02255515128256457, 39: 0.019622579343617146, 65: 0.030336136339226587, 67: 0.0002846960307951995, 47: 0.021848897598410234, 66: 0.0, 657187: 0.0, 78: 0.0, 81: 0.0, 80: 0.0, 70: 0.0, 43: 0.02204052468982547, 56: 0.021830169624816247, 57: 0.02345680675306716, 58: 0.02068800611807615, 63: 0.021842087995372503, 77: 0.0, 79: 0.0, 45: 0.028264807006252148, 69: 0.0, 76: 0.0, 82: 0.0, 83: 0.0, 84: 0.0, 73: 0.0, 75: 0.0, 74: 0.0, 71: 0.0, 72: 0.0, 87: 0.0, 85: 0.0, 86: 0.0, 2: 0.034090909090909095, 630626: 0.0, 536346: 0.0, 510031: 0.00019392225179860374, 520660: 0.0, 552988: 0.00020017061846963084, 567195: 0.0, 527449: 0.0, 459381: 0.0, 595298: 0.0, 466907: 0.0, 589943: 0.0, 577992: 0.0, 537281: 0.0, 523927: 0.0, 580426: 0.0, 595581: 0.0, 642329: 0.0, 503701: 0.0, 571970: 0.0, 644226: 0.0, 632961: 0.0, 473173: 0.0, 620120: 0.00017836921203156944, 621924: 0.0, 616315: 0.0, 29: 0.035625, 575030: 0.0, 31: 0.034090909090909095, 503218: 0.0, 33: 0.03355263157894737, 35: 0.0328125, 36: 0.03308823529411765, 38: 0.03515625, 42: 0.03308823529411765, 44: 0.03515625, 46: 0.03375, 48: 0.0328125, 49: 1, 640784: 0.0, 606730: 0.0, 52: 0.035526315789473684, 53: 0.03214285714285714, 54: 0.03529411764705882, 55: 0.034090909090909095, 59: 0.0375, 60: 0.03214285714285714, 61: 0.03333333333333333, 62: 0.03308823529411765, 64: 0.03529411764705882}, 640784: {0: 0.0, -99: 0.0, 41: 0.0, 34: 0.0, 37: 0.0, 27: 0.0, 40: 0.0, 39: 0.0, 65: 0.0, 67: 0.0, 47: 0.0, 66: 0.0, 657187: 0.0, 78: 0.0, 81: 0.0, 80: 0.0, 70: 0.0, 43: 0.0, 56: 0.0, 57: 0.0, 58: 0.0, 63: 0.0, 77: 0.0, 79: 0.0, 45: 0.0, 69: 0.0, 76: 0.0, 82: 0.0, 83: 0.0, 84: 0.0, 73: 0.0, 75: 0.0, 74: 0.0, 71: 0.0, 72: 0.0, 87: 0.0, 85: 0.0, 86: 0.0, 2: 0.0, 630626: 0.0, 536346: 0.0, 510031: 0.0, 520660: 0.0, 552988: 0.0, 567195: 0.0, 527449: 0.0, 459381: 0.0, 595298: 0.0, 466907: 0.0, 589943: 0.0, 577992: 0.0, 537281: 0.0, 523927: 0.0, 580426: 0.0, 595581: 0.0, 642329: 0.0, 503701: 0.0, 571970: 0.0, 644226: 0.0, 632961: 0.0, 473173: 0.0, 620120: 0.0, 621924: 0.0, 616315: 0.0, 29: 0.0, 575030: 0.0, 31: 0.0, 503218: 0.0, 33: 0.0, 35: 0.0, 36: 0.0, 38: 0.0, 42: 0.0, 44: 0.0, 46: 0.0, 48: 0.0, 49: 0.0, 640784: 1, 606730: 0.0, 52: 0.0, 53: 0.0, 54: 0.0, 55: 0.0, 59: 0.0, 60: 0.0, 61: 0.0, 62: 0.0, 64: 0.0}, 606730: {0: 0.0, -99: 0.0, 41: 0.0, 34: 0.0, 37: 0.0, 27: 0.0, 40: 0.0, 39: 0.0, 65: 0.0, 67: 0.0, 47: 0.0, 66: 0.0, 657187: 0.0, 78: 0.0, 81: 0.0, 80: 0.0, 70: 0.0, 43: 0.0, 56: 0.0, 57: 0.0, 58: 0.0, 63: 0.0, 77: 0.0, 79: 0.0, 45: 0.0, 69: 0.0, 76: 0.0, 82: 0.0, 83: 0.0, 84: 0.0, 73: 0.0, 75: 0.0, 74: 0.0, 71: 0.0, 72: 0.0, 87: 0.0, 85: 0.0, 86: 0.0, 2: 0.0, 630626: 0.0, 536346: 0.0, 510031: 0.0, 520660: 0.0, 552988: 0.0, 567195: 0.0, 527449: 0.0, 459381: 0.0, 595298: 0.0, 466907: 0.0, 589943: 0.0, 577992: 0.0, 537281: 0.0, 523927: 0.0, 580426: 0.0, 595581: 0.0, 642329: 0.0, 503701: 0.0, 571970: 0.0, 644226: 0.0, 632961: 0.0, 473173: 0.0, 620120: 0.0, 621924: 0.0, 616315: 0.0, 29: 0.0, 575030: 0.0, 31: 0.0, 503218: 0.0, 33: 0.0, 35: 0.0, 36: 0.0, 38: 0.0, 42: 0.0, 44: 0.0, 46: 0.0, 48: 0.0, 49: 0.0, 640784: 0.0, 606730: 1, 52: 0.0, 53: 0.0, 54: 0.0, 55: 0.0, 59: 0.0, 60: 0.0, 61: 0.0, 62: 0.0, 64: 0.0}, 52: {0: 0.03490304709141274, -99: 0.0, 41: 0.0174632368056494, 34: 0.02573355132815077, 37: 0.02490298472103575, 27: 0.02730999078564145, 40: 0.02280650688323946, 39: 0.020667422877978636, 65: 0.03103188071999471, 67: 0.0003596160388991994, 47: 0.023954882796372437, 66: 0.0, 657187: 0.0, 78: 0.0, 81: 0.0, 80: 0.0, 70: 0.0, 43: 0.025866978555569017, 56: 0.022109364060496635, 57: 0.024729469147249983, 58: 0.02397910820656509, 63: 0.02212441884435717, 77: 0.0, 79: 0.0, 45: 0.03062772614323579, 69: 0.0, 76: 0.0, 82: 0.0, 83: 0.0, 84: 0.0, 73: 0.0, 75: 0.0, 74: 0.0, 71: 0.0, 72: 0.0, 87: 0.0, 85: 0.0, 86: 0.0, 2: 0.03660287081339713, 630626: 0.0, 536346: 0.0, 510031: 0.0002449544233245521, 520660: 0.0, 552988: 0.00025284709701427053, 567195: 0.0, 527449: 0.0, 459381: 0.0, 595298: 0.0, 466907: 0.0, 589943: 0.0, 577992: 0.0, 537281: 0.0, 523927: 0.0, 580426: 0.0, 595581: 0.0, 642329: 0.0, 503701: 0.0, 571970: 0.0, 644226: 0.0, 632961: 0.0, 473173: 0.0, 620120: 0.00022530847835566665, 621924: 0.0, 616315: 0.0, 29: 0.037894736842105266, 575030: 0.0, 31: 0.03660287081339713, 503218: 0.0, 33: 0.037396121883656507, 35: 0.03848684210526316, 36: 0.0390092879256966, 38: 0.03848684210526316, 42: 0.03343653250773994, 44: 0.04144736842105263, 46: 0.037894736842105266, 48: 0.03848684210526316, 49: 0.035526315789473684, 640784: 0.0, 606730: 0.0, 52: 1, 53: 0.03383458646616541, 54: 0.0390092879256966, 55: 0.03875598086124402, 59: 0.03473684210526316, 60: 0.04060150375939849, 61: 0.03684210526315789, 62: 0.036222910216718265, 64: 0.041795665634674926}, 53: {0: 0.03383458646616541, -99: 0.0, 41: 0.01948051948051948, 34: 0.029670329670329672, 37: 0.025714285714285714, 27: 0.025255102040816328, 40: 0.03085714285714286, 39: 0.030745341614906836, 65: 0.03214285714285714, 67: 0.0, 47: 0.0271978021978022, 66: 0.0, 657187: 0.0, 78: 0.0, 81: 0.0, 80: 0.0, 70: 0.0, 43: 0.029464285714285717, 56: 0.03461538461538462, 57: 0.022167487684729065, 58: 0.02922077922077922, 63: 0.03214285714285714, 77: 0.0, 79: 0.0, 45: 0.027551020408163266, 69: 0.0, 76: 0.0, 82: 0.0, 83: 0.0, 84: 0.0, 73: 0.0, 75: 0.0, 74: 0.0, 71: 0.0, 72: 0.0, 87: 0.0, 85: 0.0, 86: 0.0, 2: 0.037987012987012986, 630626: 0.0, 536346: 0.0, 510031: 0.0, 520660: 0.0, 552988: 0.0, 567195: 0.0, 527449: 0.0, 459381: 0.0, 595298: 0.0, 466907: 0.0, 589943: 0.0, 577992: 0.0, 537281: 0.0, 523927: 0.0, 580426: 0.0, 595581: 0.0, 642329: 0.0, 503701: 0.0, 571970: 0.0, 644226: 0.0, 632961: 0.0, 473173: 0.0, 620120: 0.0, 621924: 0.0, 616315: 0.0, 29: 0.038571428571428576, 575030: 0.0, 31: 0.03214285714285714, 503218: 0.0, 33: 0.04060150375939849, 35: 0.044196428571428574, 36: 0.04537815126050421, 38: 0.044196428571428574, 42: 0.052941176470588235, 44: 0.04017857142857143, 46: 0.03535714285714286, 48: 0.04017857142857143, 49: 0.03214285714285714, 640784: 0.0, 606730: 0.0, 52: 0.03383458646616541, 53: 1, 54: 0.04537815126050421, 55: 0.052597402597402594, 59: 0.04285714285714286, 60: 0.05510204081632653, 61: 0.04642857142857143, 62: 0.03781512605042017, 64: 0.03403361344537815}, 54: {0: 0.036222910216718265, -99: 0.0, 41: 0.02272629140310548, 34: 0.030797227050014666, 37: 0.025715100570569367, 27: 0.022959905667985822, 40: 0.02760727239891469, 39: 0.025400674674364868, 65: 0.03264649112144205, 67: 0.0004019238081814581, 47: 0.028809303396850647, 66: 0.0, 657187: 0.0, 78: 0.0, 81: 0.0, 80: 0.0, 70: 0.0, 43: 0.033321917209165365, 56: 0.030819062999740583, 57: 0.0239877028400299, 58: 0.031613013984877564, 63: 0.028799689839620914, 77: 0.0, 79: 0.0, 45: 0.03044947543739797, 69: 0.0, 76: 0.0, 82: 0.0, 83: 0.0, 84: 0.0, 73: 0.0, 75: 0.0, 74: 0.0, 71: 0.0, 72: 0.0, 87: 0.0, 85: 0.0, 86: 0.0, 2: 0.03609625668449198, 630626: 0.0, 536346: 0.0, 510031: 0.0002737725907744994, 520660: 0.0, 552988: 0.00028259381431006706, 567195: 0.0, 527449: 0.0, 459381: 0.0, 595298: 0.0, 466907: 0.0, 589943: 0.0, 577992: 0.0, 537281: 0.0, 523927: 0.0, 580426: 0.0, 595581: 0.0, 642329: 0.0, 503701: 0.0, 571970: 0.0, 644226: 0.0, 632961: 0.0, 473173: 0.0, 620120: 0.00025181535816221567, 621924: 0.0, 616315: 0.0, 29: 0.03705882352941176, 575030: 0.0, 31: 0.033689839572192515, 503218: 0.0, 33: 0.041795665634674926, 35: 0.04632352941176471, 36: 0.04671280276816609, 38: 0.04301470588235294, 42: 0.04671280276816609, 44: 0.04632352941176471, 46: 0.03705882352941176, 48: 0.04301470588235294, 49: 0.03529411764705882, 640784: 0.0, 606730: 0.0, 52: 0.0390092879256966, 53: 0.04537815126050421, 54: 1, 55: 0.0481283422459893, 59: 0.04588235294117647, 60: 0.04915966386554622, 61: 0.041176470588235294, 62: 0.04048442906574395, 64: 0.03737024221453287}, 55: {0: 0.03875598086124402, -99: 0.0, 41: 0.019834710743801654, 34: 0.03146853146853147, 37: 0.02618181818181818, 27: 0.020454545454545454, 40: 0.02945454545454546, 39: 0.032015810276679844, 65: 0.03146853146853147, 67: 0.0, 47: 0.03146853146853147, 66: 0.0, 657187: 0.0, 78: 0.0, 81: 0.0, 80: 0.0, 70: 0.0, 43: 0.03068181818181818, 56: 0.03146853146853147, 57: 0.0225705329153605, 58: 0.02975206611570248, 63: 0.03461538461538462, 77: 0.0, 79: 0.0, 45: 0.02922077922077922, 69: 0.0, 76: 0.0, 82: 0.0, 83: 0.0, 84: 0.0, 73: 0.0, 75: 0.0, 74: 0.0, 71: 0.0, 72: 0.0, 87: 0.0, 85: 0.0, 86: 0.0, 2: 0.0371900826446281, 630626: 0.0, 536346: 0.0, 510031: 0.0, 520660: 0.0, 552988: 0.0, 567195: 0.0, 527449: 0.0, 459381: 0.0, 595298: 0.0, 466907: 0.0, 589943: 0.0, 577992: 0.0, 537281: 0.0, 523927: 0.0, 580426: 0.0, 595581: 0.0, 642329: 0.0, 503701: 0.0, 571970: 0.0, 644226: 0.0, 632961: 0.0, 473173: 0.0, 620120: 0.0, 621924: 0.0, 616315: 0.0, 29: 0.03681818181818182, 575030: 0.0, 31: 0.0371900826446281, 503218: 0.0, 33: 0.04736842105263158, 35: 0.04090909090909091, 36: 0.04331550802139037, 38: 0.04602272727272728, 42: 0.04331550802139037, 44: 0.03579545454545455, 46: 0.045000000000000005, 48: 0.05113636363636363, 49: 0.034090909090909095, 640784: 0.0, 606730: 0.0, 52: 0.03875598086124402, 53: 0.052597402597402594, 54: 0.0481283422459893, 55: 1, 59: 0.04909090909090909, 60: 0.052597402597402594, 61: 0.04090909090909091, 62: 0.0481283422459893, 64: 0.04331550802139037}, 59: {0: 0.037894736842105266, -99: 0.0, 41: 0.020301918135640754, 34: 0.027980447066939695, 37: 0.026743780646645284, 27: 0.026021226423717264, 40: 0.028888242052103313, 39: 0.03139612694978743, 65: 0.03007627968122407, 67: 0.0004555136492723192, 47: 0.02572746692668714, 66: 0.0, 657187: 0.0, 78: 0.0, 81: 0.0, 80: 0.0, 70: 0.0, 43: 0.027764839503720752, 56: 0.030312886784321376, 57: 0.023048132184217793, 58: 0.03037353706164912, 63: 0.028024263869519086, 77: 0.0, 79: 0.0, 45: 0.030223691210003414, 69: 0.0, 76: 0.0, 82: 0.0, 83: 0.0, 84: 0.0, 73: 0.0, 75: 0.0, 74: 0.0, 71: 0.0, 72: 0.0, 87: 0.0, 85: 0.0, 86: 0.0, 2: 0.038181818181818185, 630626: 0.0, 536346: 0.0, 510031: 0.000310275602877766, 520660: 0.0, 552988: 0.0003202729895514093, 567195: 0.0, 527449: 0.0, 459381: 0.0, 595298: 0.0, 466907: 0.0, 589943: 0.0, 577992: 0.0, 537281: 0.0, 523927: 0.0, 580426: 0.0, 595581: 0.0, 642329: 0.0, 503701: 0.0, 571970: 0.0, 644226: 0.0, 632961: 0.0, 473173: 0.0, 620120: 0.00028539073925051107, 621924: 0.0, 616315: 0.0, 29: 0.042, 575030: 0.0, 31: 0.038181818181818185, 503218: 0.0, 33: 0.04421052631578948, 35: 0.045000000000000005, 36: 0.03882352941176471, 38: 0.041249999999999995, 42: 0.04588235294117647, 44: 0.045000000000000005, 46: 0.036000000000000004, 48: 0.041249999999999995, 49: 0.0375, 640784: 0.0, 606730: 0.0, 52: 0.03473684210526316, 53: 0.04285714285714286, 54: 0.04588235294117647, 55: 0.04909090909090909, 59: 1, 60: 0.038571428571428576, 61: 0.043333333333333335, 62: 0.04588235294117647, 64: 0.03529411764705882}, 60: {0: 0.037218045112781956, -99: 0.0, 41: 0.023376623376623377, 34: 0.029670329670329672, 37: 0.023142857142857142, 27: 0.02295918367346939, 40: 0.03342857142857143, 39: 0.027950310559006212, 65: 0.029670329670329672, 67: 0.0, 47: 0.029670329670329672, 66: 0.0, 657187: 0.0, 78: 0.0, 81: 0.0, 80: 0.0, 70: 0.0, 43: 0.03482142857142857, 56: 0.03214285714285714, 57: 0.022167487684729065, 58: 0.02922077922077922, 63: 0.03214285714285714, 77: 0.0, 79: 0.0, 45: 0.027551020408163266, 69: 0.0, 76: 0.0, 82: 0.0, 83: 0.0, 84: 0.0, 73: 0.0, 75: 0.0, 74: 0.0, 71: 0.0, 72: 0.0, 87: 0.0, 85: 0.0, 86: 0.0, 2: 0.03506493506493506, 630626: 0.0, 536346: 0.0, 510031: 0.0, 520660: 0.0, 552988: 0.0, 567195: 0.0, 527449: 0.0, 459381: 0.0, 595298: 0.0, 466907: 0.0, 589943: 0.0, 577992: 0.0, 537281: 0.0, 523927: 0.0, 580426: 0.0, 595581: 0.0, 642329: 0.0, 503701: 0.0, 571970: 0.0, 644226: 0.0, 632961: 0.0, 473173: 0.0, 620120: 0.0, 621924: 0.0, 616315: 0.0, 29: 0.03535714285714286, 575030: 0.0, 31: 0.03214285714285714, 503218: 0.0, 33: 0.04060150375939849, 35: 0.04821428571428571, 36: 0.052941176470588235, 38: 0.044196428571428574, 42: 0.04537815126050421, 44: 0.044196428571428574, 46: 0.03535714285714286, 48: 0.044196428571428574, 49: 0.03214285714285714, 640784: 0.0, 606730: 0.0, 52: 0.04060150375939849, 53: 0.05510204081632653, 54: 0.04915966386554622, 55: 0.052597402597402594, 59: 0.038571428571428576, 60: 1, 61: 0.039285714285714285, 62: 0.04159663865546219, 64: 0.03403361344537815}, 61: {0: 0.034210526315789476, -99: 0.0, 41: 0.018433416628185477, 34: 0.031009346914757444, 37: 0.026286483872204405, 27: 0.028827212495954865, 40: 0.02607353504341943, 39: 0.02616343912482286, 65: 0.030832797170250822, 67: 0.0003795947077269327, 47: 0.02528570961839313, 66: 0.0, 657187: 0.0, 78: 0.0, 81: 0.0, 80: 0.0, 70: 0.0, 43: 0.027304032919767292, 56: 0.029106892833088326, 57: 0.02265505268225046, 58: 0.025311280884707597, 63: 0.027199707070753084, 77: 0.0, 79: 0.0, 45: 0.028757837913098088, 69: 0.0, 76: 0.0, 82: 0.0, 83: 0.0, 84: 0.0, 73: 0.0, 75: 0.0, 74: 0.0, 71: 0.0, 72: 0.0, 87: 0.0, 85: 0.0, 86: 0.0, 2: 0.038636363636363635, 630626: 0.0, 536346: 0.0, 510031: 0.00025856300239813834, 520660: 0.0, 552988: 0.00026689415795950783, 567195: 0.0, 527449: 0.0, 459381: 0.0, 595298: 0.0, 466907: 0.0, 589943: 0.0, 577992: 0.0, 537281: 0.0, 523927: 0.0, 580426: 0.0, 595581: 0.0, 642329: 0.0, 503701: 0.0, 571970: 0.0, 644226: 0.0, 632961: 0.0, 473173: 0.0, 620120: 0.00023782561604209258, 621924: 0.0, 616315: 0.0, 29: 0.0425, 575030: 0.0, 31: 0.03636363636363637, 503218: 0.0, 33: 0.04473684210526316, 35: 0.043750000000000004, 36: 0.041176470588235294, 38: 0.043750000000000004, 42: 0.047058823529411764, 44: 0.043750000000000004, 46: 0.0375, 48: 0.043750000000000004, 49: 0.03333333333333333, 640784: 0.0, 606730: 0.0, 52: 0.03684210526315789, 53: 0.04642857142857143, 54: 0.041176470588235294, 55: 0.04090909090909091, 59: 0.043333333333333335, 60: 0.039285714285714285, 61: 1, 62: 0.041176470588235294, 64: 0.03823529411764706}, 62: {0: 0.0390092879256966, -99: 0.0, 41: 0.02112201332823917, 34: 0.028761027954992042, 37: 0.025715100570569367, 27: 0.02485066197050683, 40: 0.02760727239891469, 39: 0.027702464955694794, 65: 0.028574092931396802, 67: 0.0004019238081814581, 47: 0.028809303396850647, 66: 0.0, 657187: 0.0, 78: 0.0, 81: 0.0, 80: 0.0, 70: 0.0, 43: 0.031116034856224193, 56: 0.026746664809695335, 57: 0.02216214503069927, 58: 0.024393762647979166, 63: 0.028799689839620914, 77: 0.0, 79: 0.0, 45: 0.028558719134876964, 69: 0.0, 76: 0.0, 82: 0.0, 83: 0.0, 84: 0.0, 73: 0.0, 75: 0.0, 74: 0.0, 71: 0.0, 72: 0.0, 87: 0.0, 85: 0.0, 86: 0.0, 2: 0.03850267379679144, 630626: 0.0, 536346: 0.0, 510031: 0.0002737725907744994, 520660: 0.0, 552988: 0.00028259381431006706, 567195: 0.0, 527449: 0.0, 459381: 0.0, 595298: 0.0, 466907: 0.0, 589943: 0.0, 577992: 0.0, 537281: 0.0, 523927: 0.0, 580426: 0.0, 595581: 0.0, 642329: 0.0, 503701: 0.0, 571970: 0.0, 644226: 0.0, 632961: 0.0, 473173: 0.0, 620120: 0.00025181535816221567, 621924: 0.0, 616315: 0.0, 29: 0.03705882352941176, 575030: 0.0, 31: 0.03609625668449198, 503218: 0.0, 33: 0.04458204334365325, 35: 0.04632352941176471, 36: 0.04359861591695502, 38: 0.04632352941176471, 42: 0.04048442906574395, 44: 0.04301470588235294, 46: 0.03970588235294118, 48: 0.04963235294117647, 49: 0.03308823529411765, 640784: 0.0, 606730: 0.0, 52: 0.036222910216718265, 53: 0.03781512605042017, 54: 0.04048442906574395, 55: 0.0481283422459893, 59: 0.04588235294117647, 60: 0.04159663865546219, 61: 0.041176470588235294, 62: 1, 64: 0.03737024221453287}, 64: {0: 0.041795665634674926, -99: 0.0, 41: 0.01630917910364024, 34: 0.02468862976494679, 37: 0.0278327476293929, 27: 0.02674141827302784, 40: 0.021254331222444103, 39: 0.020797094111705026, 65: 0.03264649112144205, 67: 0.0004019238081814581, 47: 0.024736905206805392, 66: 0.0, 657187: 0.0, 78: 0.0, 81: 0.0, 80: 0.0, 70: 0.0, 43: 0.024498387797400663, 56: 0.022674266619650083, 57: 0.027638818458691157, 58: 0.0219873455356797, 63: 0.024727291649575666, 77: 0.0, 79: 0.0, 45: 0.03044947543739797, 69: 0.0, 76: 0.0, 82: 0.0, 83: 0.0, 84: 0.0, 73: 0.0, 75: 0.0, 74: 0.0, 71: 0.0, 72: 0.0, 87: 0.0, 85: 0.0, 86: 0.0, 2: 0.04090909090909091, 630626: 0.0, 536346: 0.0, 510031: 0.0002737725907744994, 520660: 0.0, 552988: 0.00028259381431006706, 567195: 0.0, 527449: 0.0, 459381: 0.0, 595298: 0.0, 466907: 0.0, 589943: 0.0, 577992: 0.0, 537281: 0.0, 523927: 0.0, 580426: 0.0, 595581: 0.0, 642329: 0.0, 503701: 0.0, 571970: 0.0, 644226: 0.0, 632961: 0.0, 473173: 0.0, 620120: 0.00025181535816221567, 621924: 0.0, 616315: 0.0, 29: 0.03705882352941176, 575030: 0.0, 31: 0.03609625668449198, 503218: 0.0, 33: 0.036222910216718265, 35: 0.036397058823529414, 36: 0.034256055363321804, 38: 0.03970588235294118, 42: 0.034256055363321804, 44: 0.036397058823529414, 46: 0.03970588235294118, 48: 0.036397058823529414, 49: 0.03529411764705882, 640784: 0.0, 606730: 0.0, 52: 0.041795665634674926, 53: 0.03403361344537815, 54: 0.03737024221453287, 55: 0.04331550802139037, 59: 0.03529411764705882, 60: 0.03403361344537815, 61: 0.03823529411764706, 62: 0.03737024221453287, 64: 1}}\n"
          ],
          "name": "stdout"
        }
      ]
    },
    {
      "cell_type": "code",
      "metadata": {
        "id": "FdVeXoNxpEg6",
        "colab_type": "code",
        "colab": {}
      },
      "source": [
        "#nx.simrank_similarity_numpy(templateG)"
      ],
      "execution_count": 0,
      "outputs": []
    }
  ]
}